{
 "cells": [
  {
   "cell_type": "code",
   "execution_count": 1,
   "metadata": {},
   "outputs": [
    {
     "name": "stderr",
     "output_type": "stream",
     "text": [
      "/dshome/WoongLab/.local/lib/python3.8/site-packages/tqdm/auto.py:22: TqdmWarning: IProgress not found. Please update jupyter and ipywidgets. See https://ipywidgets.readthedocs.io/en/stable/user_install.html\n",
      "  from .autonotebook import tqdm as notebook_tqdm\n"
     ]
    }
   ],
   "source": [
    "import pandas as pd \n",
    "import numpy as np \n",
    "import matplotlib.pyplot as plt \n",
    "import optuna \n",
    "import lightgbm as lgb \n",
    "from sklearn.metrics import accuracy_score, roc_auc_score,precision_score, confusion_matrix,recall_score \n",
    "from sklearn.model_selection import cross_val_score, train_test_split\n",
    "import os "
   ]
  },
  {
   "cell_type": "code",
   "execution_count": 2,
   "metadata": {},
   "outputs": [],
   "source": [
    "train_data=pd.read_csv('/dshome/WoongLab/heo/construction_oil/preprocessed_data/heart_train_data.csv')\n",
    "test_data=pd.read_csv('/dshome/WoongLab/heo/construction_oil/preprocessed_data/heart_test_data.csv')"
   ]
  },
  {
   "cell_type": "code",
   "execution_count": 3,
   "metadata": {},
   "outputs": [],
   "source": [
    "train_stage_features=['HighBP', 'HighChol', 'CholCheck', 'BMI', 'Smoker', 'Stroke',\n",
    "       'Diabetes', 'PhysActivity', 'Fruits', 'Veggies', 'HvyAlcoholConsump',\n",
    "       'AnyHealthcare', 'NoDocbcCost', 'GenHlth', 'MentHlth', 'PhysHlth',\n",
    "       'DiffWalk', 'Sex', 'Age', 'Education', 'Income']"
   ]
  },
  {
   "cell_type": "code",
   "execution_count": 5,
   "metadata": {},
   "outputs": [],
   "source": [
    "train_X=train_data[train_stage_features]\n",
    "train_y=train_data['HeartDiseaseorAttack']\n",
    "\n",
    "new_test_data_X=test_data[train_stage_features]\n",
    "new_test_data_y=test_data['HeartDiseaseorAttack']"
   ]
  },
  {
   "cell_type": "code",
   "execution_count": 6,
   "metadata": {},
   "outputs": [
    {
     "data": {
      "text/plain": [
       "0.0    183830\n",
       "1.0     19114\n",
       "Name: HeartDiseaseorAttack, dtype: int64"
      ]
     },
     "execution_count": 6,
     "metadata": {},
     "output_type": "execute_result"
    }
   ],
   "source": [
    "train_y.value_counts()"
   ]
  },
  {
   "cell_type": "code",
   "execution_count": 8,
   "metadata": {},
   "outputs": [],
   "source": [
    "ratio=train_y.value_counts()[0]/train_y.value_counts()[1]"
   ]
  },
  {
   "cell_type": "code",
   "execution_count": 9,
   "metadata": {},
   "outputs": [
    {
     "name": "stderr",
     "output_type": "stream",
     "text": [
      "\u001b[32m[I 2023-04-25 22:39:36,104]\u001b[0m A new study created in memory with name: lgb_boost_opt\u001b[0m\n",
      "/tmp/ipykernel_621389/2141867322.py:7: FutureWarning: suggest_loguniform has been deprecated in v3.0.0. This feature will be removed in v6.0.0. See https://github.com/optuna/optuna/releases/tag/v3.0.0. Use :func:`~optuna.trial.Trial.suggest_float` instead.\n",
      "  'learning_rate':trial.suggest_loguniform('learning_rate',0.01,0.1),\n",
      "\u001b[32m[I 2023-04-25 22:39:45,980]\u001b[0m Trial 0 finished with value: 0.8496225102740216 and parameters: {'learning_rate': 0.019055153721328537, 'max_depth': 4, 'n_estimators': 767}. Best is trial 0 with value: 0.8496225102740216.\u001b[0m\n",
      "/tmp/ipykernel_621389/2141867322.py:7: FutureWarning: suggest_loguniform has been deprecated in v3.0.0. This feature will be removed in v6.0.0. See https://github.com/optuna/optuna/releases/tag/v3.0.0. Use :func:`~optuna.trial.Trial.suggest_float` instead.\n",
      "  'learning_rate':trial.suggest_loguniform('learning_rate',0.01,0.1),\n",
      "\u001b[32m[I 2023-04-25 22:39:54,631]\u001b[0m Trial 1 finished with value: 0.8494903802899717 and parameters: {'learning_rate': 0.025486182163871787, 'max_depth': 4, 'n_estimators': 671}. Best is trial 0 with value: 0.8496225102740216.\u001b[0m\n",
      "/tmp/ipykernel_621389/2141867322.py:7: FutureWarning: suggest_loguniform has been deprecated in v3.0.0. This feature will be removed in v6.0.0. See https://github.com/optuna/optuna/releases/tag/v3.0.0. Use :func:`~optuna.trial.Trial.suggest_float` instead.\n",
      "  'learning_rate':trial.suggest_loguniform('learning_rate',0.01,0.1),\n",
      "\u001b[32m[I 2023-04-25 22:40:06,410]\u001b[0m Trial 2 finished with value: 0.8477252330735029 and parameters: {'learning_rate': 0.03035816073314448, 'max_depth': 7, 'n_estimators': 645}. Best is trial 0 with value: 0.8496225102740216.\u001b[0m\n",
      "/tmp/ipykernel_621389/2141867322.py:7: FutureWarning: suggest_loguniform has been deprecated in v3.0.0. This feature will be removed in v6.0.0. See https://github.com/optuna/optuna/releases/tag/v3.0.0. Use :func:`~optuna.trial.Trial.suggest_float` instead.\n",
      "  'learning_rate':trial.suggest_loguniform('learning_rate',0.01,0.1),\n",
      "\u001b[32m[I 2023-04-25 22:40:12,199]\u001b[0m Trial 3 finished with value: 0.8482980489706773 and parameters: {'learning_rate': 0.06159387331979167, 'max_depth': 9, 'n_estimators': 252}. Best is trial 0 with value: 0.8496225102740216.\u001b[0m\n",
      "/tmp/ipykernel_621389/2141867322.py:7: FutureWarning: suggest_loguniform has been deprecated in v3.0.0. This feature will be removed in v6.0.0. See https://github.com/optuna/optuna/releases/tag/v3.0.0. Use :func:`~optuna.trial.Trial.suggest_float` instead.\n",
      "  'learning_rate':trial.suggest_loguniform('learning_rate',0.01,0.1),\n",
      "\u001b[32m[I 2023-04-25 22:40:15,570]\u001b[0m Trial 4 finished with value: 0.8492859033394868 and parameters: {'learning_rate': 0.028196955897893616, 'max_depth': 7, 'n_estimators': 116}. Best is trial 0 with value: 0.8496225102740216.\u001b[0m\n",
      "/tmp/ipykernel_621389/2141867322.py:7: FutureWarning: suggest_loguniform has been deprecated in v3.0.0. This feature will be removed in v6.0.0. See https://github.com/optuna/optuna/releases/tag/v3.0.0. Use :func:`~optuna.trial.Trial.suggest_float` instead.\n",
      "  'learning_rate':trial.suggest_loguniform('learning_rate',0.01,0.1),\n",
      "\u001b[32m[I 2023-04-25 22:40:25,681]\u001b[0m Trial 5 finished with value: 0.849094098708227 and parameters: {'learning_rate': 0.023413218074168192, 'max_depth': 8, 'n_estimators': 499}. Best is trial 0 with value: 0.8496225102740216.\u001b[0m\n",
      "/tmp/ipykernel_621389/2141867322.py:7: FutureWarning: suggest_loguniform has been deprecated in v3.0.0. This feature will be removed in v6.0.0. See https://github.com/optuna/optuna/releases/tag/v3.0.0. Use :func:`~optuna.trial.Trial.suggest_float` instead.\n",
      "  'learning_rate':trial.suggest_loguniform('learning_rate',0.01,0.1),\n",
      "\u001b[32m[I 2023-04-25 22:40:36,146]\u001b[0m Trial 6 finished with value: 0.8425394929267458 and parameters: {'learning_rate': 0.07438277601232444, 'max_depth': 6, 'n_estimators': 601}. Best is trial 0 with value: 0.8496225102740216.\u001b[0m\n",
      "/tmp/ipykernel_621389/2141867322.py:7: FutureWarning: suggest_loguniform has been deprecated in v3.0.0. This feature will be removed in v6.0.0. See https://github.com/optuna/optuna/releases/tag/v3.0.0. Use :func:`~optuna.trial.Trial.suggest_float` instead.\n",
      "  'learning_rate':trial.suggest_loguniform('learning_rate',0.01,0.1),\n",
      "\u001b[32m[I 2023-04-25 22:40:39,028]\u001b[0m Trial 7 finished with value: 0.8493537179958836 and parameters: {'learning_rate': 0.029289945377145826, 'max_depth': 4, 'n_estimators': 152}. Best is trial 0 with value: 0.8496225102740216.\u001b[0m\n",
      "/tmp/ipykernel_621389/2141867322.py:7: FutureWarning: suggest_loguniform has been deprecated in v3.0.0. This feature will be removed in v6.0.0. See https://github.com/optuna/optuna/releases/tag/v3.0.0. Use :func:`~optuna.trial.Trial.suggest_float` instead.\n",
      "  'learning_rate':trial.suggest_loguniform('learning_rate',0.01,0.1),\n",
      "\u001b[32m[I 2023-04-25 22:40:45,594]\u001b[0m Trial 8 finished with value: 0.8492696806709272 and parameters: {'learning_rate': 0.01052702475817485, 'max_depth': 3, 'n_estimators': 608}. Best is trial 0 with value: 0.8496225102740216.\u001b[0m\n",
      "/tmp/ipykernel_621389/2141867322.py:7: FutureWarning: suggest_loguniform has been deprecated in v3.0.0. This feature will be removed in v6.0.0. See https://github.com/optuna/optuna/releases/tag/v3.0.0. Use :func:`~optuna.trial.Trial.suggest_float` instead.\n",
      "  'learning_rate':trial.suggest_loguniform('learning_rate',0.01,0.1),\n",
      "\u001b[32m[I 2023-04-25 22:40:55,055]\u001b[0m Trial 9 finished with value: 0.8498826076587189 and parameters: {'learning_rate': 0.010442639386839486, 'max_depth': 4, 'n_estimators': 690}. Best is trial 9 with value: 0.8498826076587189.\u001b[0m\n",
      "/tmp/ipykernel_621389/2141867322.py:7: FutureWarning: suggest_loguniform has been deprecated in v3.0.0. This feature will be removed in v6.0.0. See https://github.com/optuna/optuna/releases/tag/v3.0.0. Use :func:`~optuna.trial.Trial.suggest_float` instead.\n",
      "  'learning_rate':trial.suggest_loguniform('learning_rate',0.01,0.1),\n",
      "\u001b[32m[I 2023-04-25 22:41:10,019]\u001b[0m Trial 10 finished with value: 0.8496078321213971 and parameters: {'learning_rate': 0.010157496435349312, 'max_depth': 5, 'n_estimators': 867}. Best is trial 9 with value: 0.8498826076587189.\u001b[0m\n",
      "/tmp/ipykernel_621389/2141867322.py:7: FutureWarning: suggest_loguniform has been deprecated in v3.0.0. This feature will be removed in v6.0.0. See https://github.com/optuna/optuna/releases/tag/v3.0.0. Use :func:`~optuna.trial.Trial.suggest_float` instead.\n",
      "  'learning_rate':trial.suggest_loguniform('learning_rate',0.01,0.1),\n",
      "\u001b[32m[I 2023-04-25 22:41:19,634]\u001b[0m Trial 11 finished with value: 0.8499994596583809 and parameters: {'learning_rate': 0.015334010132707451, 'max_depth': 3, 'n_estimators': 964}. Best is trial 11 with value: 0.8499994596583809.\u001b[0m\n",
      "/tmp/ipykernel_621389/2141867322.py:7: FutureWarning: suggest_loguniform has been deprecated in v3.0.0. This feature will be removed in v6.0.0. See https://github.com/optuna/optuna/releases/tag/v3.0.0. Use :func:`~optuna.trial.Trial.suggest_float` instead.\n",
      "  'learning_rate':trial.suggest_loguniform('learning_rate',0.01,0.1),\n",
      "\u001b[32m[I 2023-04-25 22:41:29,236]\u001b[0m Trial 12 finished with value: 0.8499522913518038 and parameters: {'learning_rate': 0.01561066409160752, 'max_depth': 3, 'n_estimators': 993}. Best is trial 11 with value: 0.8499994596583809.\u001b[0m\n",
      "/tmp/ipykernel_621389/2141867322.py:7: FutureWarning: suggest_loguniform has been deprecated in v3.0.0. This feature will be removed in v6.0.0. See https://github.com/optuna/optuna/releases/tag/v3.0.0. Use :func:`~optuna.trial.Trial.suggest_float` instead.\n",
      "  'learning_rate':trial.suggest_loguniform('learning_rate',0.01,0.1),\n",
      "\u001b[32m[I 2023-04-25 22:41:39,065]\u001b[0m Trial 13 finished with value: 0.8500016937398941 and parameters: {'learning_rate': 0.015766751069270397, 'max_depth': 3, 'n_estimators': 968}. Best is trial 13 with value: 0.8500016937398941.\u001b[0m\n",
      "/tmp/ipykernel_621389/2141867322.py:7: FutureWarning: suggest_loguniform has been deprecated in v3.0.0. This feature will be removed in v6.0.0. See https://github.com/optuna/optuna/releases/tag/v3.0.0. Use :func:`~optuna.trial.Trial.suggest_float` instead.\n",
      "  'learning_rate':trial.suggest_loguniform('learning_rate',0.01,0.1),\n",
      "\u001b[32m[I 2023-04-25 22:41:48,638]\u001b[0m Trial 14 finished with value: 0.8499968343672503 and parameters: {'learning_rate': 0.015615876324301423, 'max_depth': 3, 'n_estimators': 981}. Best is trial 13 with value: 0.8500016937398941.\u001b[0m\n",
      "/tmp/ipykernel_621389/2141867322.py:7: FutureWarning: suggest_loguniform has been deprecated in v3.0.0. This feature will be removed in v6.0.0. See https://github.com/optuna/optuna/releases/tag/v3.0.0. Use :func:`~optuna.trial.Trial.suggest_float` instead.\n",
      "  'learning_rate':trial.suggest_loguniform('learning_rate',0.01,0.1),\n",
      "\u001b[32m[I 2023-04-25 22:41:56,815]\u001b[0m Trial 15 finished with value: 0.8478522779136816 and parameters: {'learning_rate': 0.043891071281284166, 'max_depth': 5, 'n_estimators': 431}. Best is trial 13 with value: 0.8500016937398941.\u001b[0m\n",
      "/tmp/ipykernel_621389/2141867322.py:7: FutureWarning: suggest_loguniform has been deprecated in v3.0.0. This feature will be removed in v6.0.0. See https://github.com/optuna/optuna/releases/tag/v3.0.0. Use :func:`~optuna.trial.Trial.suggest_float` instead.\n",
      "  'learning_rate':trial.suggest_loguniform('learning_rate',0.01,0.1),\n",
      "\u001b[32m[I 2023-04-25 22:42:12,446]\u001b[0m Trial 16 finished with value: 0.8491088377368685 and parameters: {'learning_rate': 0.01406527382365949, 'max_depth': 5, 'n_estimators': 872}. Best is trial 13 with value: 0.8500016937398941.\u001b[0m\n",
      "/tmp/ipykernel_621389/2141867322.py:7: FutureWarning: suggest_loguniform has been deprecated in v3.0.0. This feature will be removed in v6.0.0. See https://github.com/optuna/optuna/releases/tag/v3.0.0. Use :func:`~optuna.trial.Trial.suggest_float` instead.\n",
      "  'learning_rate':trial.suggest_loguniform('learning_rate',0.01,0.1),\n",
      "\u001b[32m[I 2023-04-25 22:42:20,839]\u001b[0m Trial 17 finished with value: 0.8499543367649457 and parameters: {'learning_rate': 0.0202788900049058, 'max_depth': 3, 'n_estimators': 846}. Best is trial 13 with value: 0.8500016937398941.\u001b[0m\n",
      "/tmp/ipykernel_621389/2141867322.py:7: FutureWarning: suggest_loguniform has been deprecated in v3.0.0. This feature will be removed in v6.0.0. See https://github.com/optuna/optuna/releases/tag/v3.0.0. Use :func:`~optuna.trial.Trial.suggest_float` instead.\n",
      "  'learning_rate':trial.suggest_loguniform('learning_rate',0.01,0.1),\n",
      "\u001b[32m[I 2023-04-25 22:42:28,756]\u001b[0m Trial 18 finished with value: 0.8484640565262188 and parameters: {'learning_rate': 0.039087880784522536, 'max_depth': 6, 'n_estimators': 398}. Best is trial 13 with value: 0.8500016937398941.\u001b[0m\n",
      "/tmp/ipykernel_621389/2141867322.py:7: FutureWarning: suggest_loguniform has been deprecated in v3.0.0. This feature will be removed in v6.0.0. See https://github.com/optuna/optuna/releases/tag/v3.0.0. Use :func:`~optuna.trial.Trial.suggest_float` instead.\n",
      "  'learning_rate':trial.suggest_loguniform('learning_rate',0.01,0.1),\n",
      "\u001b[32m[I 2023-04-25 22:42:42,348]\u001b[0m Trial 19 finished with value: 0.849354342512562 and parameters: {'learning_rate': 0.013409530040221058, 'max_depth': 5, 'n_estimators': 774}. Best is trial 13 with value: 0.8500016937398941.\u001b[0m\n",
      "/tmp/ipykernel_621389/2141867322.py:7: FutureWarning: suggest_loguniform has been deprecated in v3.0.0. This feature will be removed in v6.0.0. See https://github.com/optuna/optuna/releases/tag/v3.0.0. Use :func:`~optuna.trial.Trial.suggest_float` instead.\n",
      "  'learning_rate':trial.suggest_loguniform('learning_rate',0.01,0.1),\n",
      "\u001b[32m[I 2023-04-25 22:42:51,462]\u001b[0m Trial 20 finished with value: 0.8499172837533047 and parameters: {'learning_rate': 0.021991699109912693, 'max_depth': 3, 'n_estimators': 931}. Best is trial 13 with value: 0.8500016937398941.\u001b[0m\n",
      "/tmp/ipykernel_621389/2141867322.py:7: FutureWarning: suggest_loguniform has been deprecated in v3.0.0. This feature will be removed in v6.0.0. See https://github.com/optuna/optuna/releases/tag/v3.0.0. Use :func:`~optuna.trial.Trial.suggest_float` instead.\n",
      "  'learning_rate':trial.suggest_loguniform('learning_rate',0.01,0.1),\n",
      "\u001b[32m[I 2023-04-25 22:43:01,365]\u001b[0m Trial 21 finished with value: 0.8500293703947992 and parameters: {'learning_rate': 0.01499120607382034, 'max_depth': 3, 'n_estimators': 997}. Best is trial 21 with value: 0.8500293703947992.\u001b[0m\n",
      "/tmp/ipykernel_621389/2141867322.py:7: FutureWarning: suggest_loguniform has been deprecated in v3.0.0. This feature will be removed in v6.0.0. See https://github.com/optuna/optuna/releases/tag/v3.0.0. Use :func:`~optuna.trial.Trial.suggest_float` instead.\n",
      "  'learning_rate':trial.suggest_loguniform('learning_rate',0.01,0.1),\n",
      "\u001b[32m[I 2023-04-25 22:43:12,815]\u001b[0m Trial 22 finished with value: 0.8495350812561865 and parameters: {'learning_rate': 0.01724551321561755, 'max_depth': 4, 'n_estimators': 899}. Best is trial 21 with value: 0.8500293703947992.\u001b[0m\n",
      "/tmp/ipykernel_621389/2141867322.py:7: FutureWarning: suggest_loguniform has been deprecated in v3.0.0. This feature will be removed in v6.0.0. See https://github.com/optuna/optuna/releases/tag/v3.0.0. Use :func:`~optuna.trial.Trial.suggest_float` instead.\n",
      "  'learning_rate':trial.suggest_loguniform('learning_rate',0.01,0.1),\n",
      "\u001b[32m[I 2023-04-25 22:43:20,603]\u001b[0m Trial 23 finished with value: 0.8498012120943474 and parameters: {'learning_rate': 0.012752502433037464, 'max_depth': 3, 'n_estimators': 759}. Best is trial 21 with value: 0.8500293703947992.\u001b[0m\n",
      "/tmp/ipykernel_621389/2141867322.py:7: FutureWarning: suggest_loguniform has been deprecated in v3.0.0. This feature will be removed in v6.0.0. See https://github.com/optuna/optuna/releases/tag/v3.0.0. Use :func:`~optuna.trial.Trial.suggest_float` instead.\n",
      "  'learning_rate':trial.suggest_loguniform('learning_rate',0.01,0.1),\n",
      "\u001b[32m[I 2023-04-25 22:43:32,813]\u001b[0m Trial 24 finished with value: 0.8493542420780233 and parameters: {'learning_rate': 0.01874814143907879, 'max_depth': 4, 'n_estimators': 993}. Best is trial 21 with value: 0.8500293703947992.\u001b[0m\n",
      "/tmp/ipykernel_621389/2141867322.py:7: FutureWarning: suggest_loguniform has been deprecated in v3.0.0. This feature will be removed in v6.0.0. See https://github.com/optuna/optuna/releases/tag/v3.0.0. Use :func:`~optuna.trial.Trial.suggest_float` instead.\n",
      "  'learning_rate':trial.suggest_loguniform('learning_rate',0.01,0.1),\n",
      "\u001b[32m[I 2023-04-25 22:43:41,091]\u001b[0m Trial 25 finished with value: 0.8498057613732757 and parameters: {'learning_rate': 0.012143689701327455, 'max_depth': 3, 'n_estimators': 808}. Best is trial 21 with value: 0.8500293703947992.\u001b[0m\n",
      "/tmp/ipykernel_621389/2141867322.py:7: FutureWarning: suggest_loguniform has been deprecated in v3.0.0. This feature will be removed in v6.0.0. See https://github.com/optuna/optuna/releases/tag/v3.0.0. Use :func:`~optuna.trial.Trial.suggest_float` instead.\n",
      "  'learning_rate':trial.suggest_loguniform('learning_rate',0.01,0.1),\n",
      "\u001b[32m[I 2023-04-25 22:43:52,988]\u001b[0m Trial 26 finished with value: 0.8495315348481659 and parameters: {'learning_rate': 0.016632731760769896, 'max_depth': 4, 'n_estimators': 934}. Best is trial 21 with value: 0.8500293703947992.\u001b[0m\n",
      "/tmp/ipykernel_621389/2141867322.py:7: FutureWarning: suggest_loguniform has been deprecated in v3.0.0. This feature will be removed in v6.0.0. See https://github.com/optuna/optuna/releases/tag/v3.0.0. Use :func:`~optuna.trial.Trial.suggest_float` instead.\n",
      "  'learning_rate':trial.suggest_loguniform('learning_rate',0.01,0.1),\n",
      "\u001b[32m[I 2023-04-25 22:44:02,045]\u001b[0m Trial 27 finished with value: 0.8498942526151572 and parameters: {'learning_rate': 0.02180612467431843, 'max_depth': 3, 'n_estimators': 925}. Best is trial 21 with value: 0.8500293703947992.\u001b[0m\n",
      "/tmp/ipykernel_621389/2141867322.py:7: FutureWarning: suggest_loguniform has been deprecated in v3.0.0. This feature will be removed in v6.0.0. See https://github.com/optuna/optuna/releases/tag/v3.0.0. Use :func:`~optuna.trial.Trial.suggest_float` instead.\n",
      "  'learning_rate':trial.suggest_loguniform('learning_rate',0.01,0.1),\n",
      "\u001b[32m[I 2023-04-25 22:44:18,611]\u001b[0m Trial 28 finished with value: 0.8487497373541256 and parameters: {'learning_rate': 0.014860230225500516, 'max_depth': 5, 'n_estimators': 1000}. Best is trial 21 with value: 0.8500293703947992.\u001b[0m\n",
      "/tmp/ipykernel_621389/2141867322.py:7: FutureWarning: suggest_loguniform has been deprecated in v3.0.0. This feature will be removed in v6.0.0. See https://github.com/optuna/optuna/releases/tag/v3.0.0. Use :func:`~optuna.trial.Trial.suggest_float` instead.\n",
      "  'learning_rate':trial.suggest_loguniform('learning_rate',0.01,0.1),\n",
      "\u001b[32m[I 2023-04-25 22:44:28,078]\u001b[0m Trial 29 finished with value: 0.8496249028453882 and parameters: {'learning_rate': 0.018726296074999805, 'max_depth': 4, 'n_estimators': 748}. Best is trial 21 with value: 0.8500293703947992.\u001b[0m\n",
      "/tmp/ipykernel_621389/2141867322.py:7: FutureWarning: suggest_loguniform has been deprecated in v3.0.0. This feature will be removed in v6.0.0. See https://github.com/optuna/optuna/releases/tag/v3.0.0. Use :func:`~optuna.trial.Trial.suggest_float` instead.\n",
      "  'learning_rate':trial.suggest_loguniform('learning_rate',0.01,0.1),\n",
      "\u001b[32m[I 2023-04-25 22:44:43,556]\u001b[0m Trial 30 finished with value: 0.8494390024752179 and parameters: {'learning_rate': 0.012100460880353107, 'max_depth': 7, 'n_estimators': 805}. Best is trial 21 with value: 0.8500293703947992.\u001b[0m\n",
      "/tmp/ipykernel_621389/2141867322.py:7: FutureWarning: suggest_loguniform has been deprecated in v3.0.0. This feature will be removed in v6.0.0. See https://github.com/optuna/optuna/releases/tag/v3.0.0. Use :func:`~optuna.trial.Trial.suggest_float` instead.\n",
      "  'learning_rate':trial.suggest_loguniform('learning_rate',0.01,0.1),\n",
      "\u001b[32m[I 2023-04-25 22:44:52,798]\u001b[0m Trial 31 finished with value: 0.8499777654484475 and parameters: {'learning_rate': 0.016112289562356972, 'max_depth': 3, 'n_estimators': 950}. Best is trial 21 with value: 0.8500293703947992.\u001b[0m\n",
      "/tmp/ipykernel_621389/2141867322.py:7: FutureWarning: suggest_loguniform has been deprecated in v3.0.0. This feature will be removed in v6.0.0. See https://github.com/optuna/optuna/releases/tag/v3.0.0. Use :func:`~optuna.trial.Trial.suggest_float` instead.\n",
      "  'learning_rate':trial.suggest_loguniform('learning_rate',0.01,0.1),\n",
      "\u001b[32m[I 2023-04-25 22:45:01,370]\u001b[0m Trial 32 finished with value: 0.849985310266357 and parameters: {'learning_rate': 0.0186604847574804, 'max_depth': 3, 'n_estimators': 845}. Best is trial 21 with value: 0.8500293703947992.\u001b[0m\n",
      "/tmp/ipykernel_621389/2141867322.py:7: FutureWarning: suggest_loguniform has been deprecated in v3.0.0. This feature will be removed in v6.0.0. See https://github.com/optuna/optuna/releases/tag/v3.0.0. Use :func:`~optuna.trial.Trial.suggest_float` instead.\n",
      "  'learning_rate':trial.suggest_loguniform('learning_rate',0.01,0.1),\n",
      "\u001b[32m[I 2023-04-25 22:45:13,271]\u001b[0m Trial 33 finished with value: 0.8496768734906892 and parameters: {'learning_rate': 0.015052650346797071, 'max_depth': 4, 'n_estimators': 956}. Best is trial 21 with value: 0.8500293703947992.\u001b[0m\n",
      "/tmp/ipykernel_621389/2141867322.py:7: FutureWarning: suggest_loguniform has been deprecated in v3.0.0. This feature will be removed in v6.0.0. See https://github.com/optuna/optuna/releases/tag/v3.0.0. Use :func:`~optuna.trial.Trial.suggest_float` instead.\n",
      "  'learning_rate':trial.suggest_loguniform('learning_rate',0.01,0.1),\n",
      "\u001b[32m[I 2023-04-25 22:45:20,574]\u001b[0m Trial 34 finished with value: 0.8499594236584229 and parameters: {'learning_rate': 0.023293516795931637, 'max_depth': 3, 'n_estimators': 721}. Best is trial 21 with value: 0.8500293703947992.\u001b[0m\n",
      "/tmp/ipykernel_621389/2141867322.py:7: FutureWarning: suggest_loguniform has been deprecated in v3.0.0. This feature will be removed in v6.0.0. See https://github.com/optuna/optuna/releases/tag/v3.0.0. Use :func:`~optuna.trial.Trial.suggest_float` instead.\n",
      "  'learning_rate':trial.suggest_loguniform('learning_rate',0.01,0.1),\n",
      "\u001b[32m[I 2023-04-25 22:45:29,298]\u001b[0m Trial 35 finished with value: 0.8498366747583402 and parameters: {'learning_rate': 0.02643021214319401, 'max_depth': 3, 'n_estimators': 892}. Best is trial 21 with value: 0.8500293703947992.\u001b[0m\n",
      "/tmp/ipykernel_621389/2141867322.py:7: FutureWarning: suggest_loguniform has been deprecated in v3.0.0. This feature will be removed in v6.0.0. See https://github.com/optuna/optuna/releases/tag/v3.0.0. Use :func:`~optuna.trial.Trial.suggest_float` instead.\n",
      "  'learning_rate':trial.suggest_loguniform('learning_rate',0.01,0.1),\n",
      "\u001b[32m[I 2023-04-25 22:45:45,250]\u001b[0m Trial 36 finished with value: 0.8491058420068992 and parameters: {'learning_rate': 0.013804794447781267, 'max_depth': 8, 'n_estimators': 818}. Best is trial 21 with value: 0.8500293703947992.\u001b[0m\n",
      "/tmp/ipykernel_621389/2141867322.py:7: FutureWarning: suggest_loguniform has been deprecated in v3.0.0. This feature will be removed in v6.0.0. See https://github.com/optuna/optuna/releases/tag/v3.0.0. Use :func:`~optuna.trial.Trial.suggest_float` instead.\n",
      "  'learning_rate':trial.suggest_loguniform('learning_rate',0.01,0.1),\n",
      "\u001b[32m[I 2023-04-25 22:45:57,572]\u001b[0m Trial 37 finished with value: 0.8494683164730956 and parameters: {'learning_rate': 0.017607135256423767, 'max_depth': 4, 'n_estimators': 999}. Best is trial 21 with value: 0.8500293703947992.\u001b[0m\n",
      "/tmp/ipykernel_621389/2141867322.py:7: FutureWarning: suggest_loguniform has been deprecated in v3.0.0. This feature will be removed in v6.0.0. See https://github.com/optuna/optuna/releases/tag/v3.0.0. Use :func:`~optuna.trial.Trial.suggest_float` instead.\n",
      "  'learning_rate':trial.suggest_loguniform('learning_rate',0.01,0.1),\n",
      "\u001b[32m[I 2023-04-25 22:46:04,161]\u001b[0m Trial 38 finished with value: 0.8498772168218593 and parameters: {'learning_rate': 0.020053060281986067, 'max_depth': 6, 'n_estimators': 300}. Best is trial 21 with value: 0.8500293703947992.\u001b[0m\n",
      "/tmp/ipykernel_621389/2141867322.py:7: FutureWarning: suggest_loguniform has been deprecated in v3.0.0. This feature will be removed in v6.0.0. See https://github.com/optuna/optuna/releases/tag/v3.0.0. Use :func:`~optuna.trial.Trial.suggest_float` instead.\n",
      "  'learning_rate':trial.suggest_loguniform('learning_rate',0.01,0.1),\n",
      "\u001b[32m[I 2023-04-25 22:46:33,168]\u001b[0m Trial 39 finished with value: 0.8469933136301488 and parameters: {'learning_rate': 0.025037923245983182, 'max_depth': 9, 'n_estimators': 950}. Best is trial 21 with value: 0.8500293703947992.\u001b[0m\n",
      "/tmp/ipykernel_621389/2141867322.py:7: FutureWarning: suggest_loguniform has been deprecated in v3.0.0. This feature will be removed in v6.0.0. See https://github.com/optuna/optuna/releases/tag/v3.0.0. Use :func:`~optuna.trial.Trial.suggest_float` instead.\n",
      "  'learning_rate':trial.suggest_loguniform('learning_rate',0.01,0.1),\n",
      "\u001b[32m[I 2023-04-25 22:46:41,044]\u001b[0m Trial 40 finished with value: 0.8498038161335068 and parameters: {'learning_rate': 0.011622679972752608, 'max_depth': 4, 'n_estimators': 548}. Best is trial 21 with value: 0.8500293703947992.\u001b[0m\n",
      "/tmp/ipykernel_621389/2141867322.py:7: FutureWarning: suggest_loguniform has been deprecated in v3.0.0. This feature will be removed in v6.0.0. See https://github.com/optuna/optuna/releases/tag/v3.0.0. Use :func:`~optuna.trial.Trial.suggest_float` instead.\n",
      "  'learning_rate':trial.suggest_loguniform('learning_rate',0.01,0.1),\n",
      "\u001b[32m[I 2023-04-25 22:46:49,855]\u001b[0m Trial 41 finished with value: 0.8499775712728841 and parameters: {'learning_rate': 0.01766582031360782, 'max_depth': 3, 'n_estimators': 855}. Best is trial 21 with value: 0.8500293703947992.\u001b[0m\n",
      "/tmp/ipykernel_621389/2141867322.py:7: FutureWarning: suggest_loguniform has been deprecated in v3.0.0. This feature will be removed in v6.0.0. See https://github.com/optuna/optuna/releases/tag/v3.0.0. Use :func:`~optuna.trial.Trial.suggest_float` instead.\n",
      "  'learning_rate':trial.suggest_loguniform('learning_rate',0.01,0.1),\n",
      "\u001b[32m[I 2023-04-25 22:46:58,817]\u001b[0m Trial 42 finished with value: 0.8500029703017649 and parameters: {'learning_rate': 0.014783827694836382, 'max_depth': 3, 'n_estimators': 900}. Best is trial 21 with value: 0.8500293703947992.\u001b[0m\n",
      "/tmp/ipykernel_621389/2141867322.py:7: FutureWarning: suggest_loguniform has been deprecated in v3.0.0. This feature will be removed in v6.0.0. See https://github.com/optuna/optuna/releases/tag/v3.0.0. Use :func:`~optuna.trial.Trial.suggest_float` instead.\n",
      "  'learning_rate':trial.suggest_loguniform('learning_rate',0.01,0.1),\n",
      "\u001b[32m[I 2023-04-25 22:47:07,792]\u001b[0m Trial 43 finished with value: 0.8499985985429841 and parameters: {'learning_rate': 0.015097813941872087, 'max_depth': 3, 'n_estimators': 906}. Best is trial 21 with value: 0.8500293703947992.\u001b[0m\n",
      "/tmp/ipykernel_621389/2141867322.py:7: FutureWarning: suggest_loguniform has been deprecated in v3.0.0. This feature will be removed in v6.0.0. See https://github.com/optuna/optuna/releases/tag/v3.0.0. Use :func:`~optuna.trial.Trial.suggest_float` instead.\n",
      "  'learning_rate':trial.suggest_loguniform('learning_rate',0.01,0.1),\n",
      "\u001b[32m[I 2023-04-25 22:47:19,304]\u001b[0m Trial 44 finished with value: 0.8499036325174563 and parameters: {'learning_rate': 0.011225685590147149, 'max_depth': 4, 'n_estimators': 903}. Best is trial 21 with value: 0.8500293703947992.\u001b[0m\n",
      "/tmp/ipykernel_621389/2141867322.py:7: FutureWarning: suggest_loguniform has been deprecated in v3.0.0. This feature will be removed in v6.0.0. See https://github.com/optuna/optuna/releases/tag/v3.0.0. Use :func:`~optuna.trial.Trial.suggest_float` instead.\n",
      "  'learning_rate':trial.suggest_loguniform('learning_rate',0.01,0.1),\n",
      "\u001b[32m[I 2023-04-25 22:47:28,295]\u001b[0m Trial 45 finished with value: 0.8499986070106755 and parameters: {'learning_rate': 0.01350514557161688, 'max_depth': 3, 'n_estimators': 901}. Best is trial 21 with value: 0.8500293703947992.\u001b[0m\n",
      "/tmp/ipykernel_621389/2141867322.py:7: FutureWarning: suggest_loguniform has been deprecated in v3.0.0. This feature will be removed in v6.0.0. See https://github.com/optuna/optuna/releases/tag/v3.0.0. Use :func:`~optuna.trial.Trial.suggest_float` instead.\n",
      "  'learning_rate':trial.suggest_loguniform('learning_rate',0.01,0.1),\n",
      "\u001b[32m[I 2023-04-25 22:47:36,926]\u001b[0m Trial 46 finished with value: 0.8498954160510971 and parameters: {'learning_rate': 0.013235573728207937, 'max_depth': 4, 'n_estimators': 632}. Best is trial 21 with value: 0.8500293703947992.\u001b[0m\n",
      "/tmp/ipykernel_621389/2141867322.py:7: FutureWarning: suggest_loguniform has been deprecated in v3.0.0. This feature will be removed in v6.0.0. See https://github.com/optuna/optuna/releases/tag/v3.0.0. Use :func:`~optuna.trial.Trial.suggest_float` instead.\n",
      "  'learning_rate':trial.suggest_loguniform('learning_rate',0.01,0.1),\n",
      "\u001b[32m[I 2023-04-25 22:47:46,532]\u001b[0m Trial 47 finished with value: 0.8498132789698156 and parameters: {'learning_rate': 0.01004526911704373, 'max_depth': 3, 'n_estimators': 960}. Best is trial 21 with value: 0.8500293703947992.\u001b[0m\n",
      "/tmp/ipykernel_621389/2141867322.py:7: FutureWarning: suggest_loguniform has been deprecated in v3.0.0. This feature will be removed in v6.0.0. See https://github.com/optuna/optuna/releases/tag/v3.0.0. Use :func:`~optuna.trial.Trial.suggest_float` instead.\n",
      "  'learning_rate':trial.suggest_loguniform('learning_rate',0.01,0.1),\n",
      "\u001b[32m[I 2023-04-25 22:47:55,331]\u001b[0m Trial 48 finished with value: 0.8498006340718831 and parameters: {'learning_rate': 0.011209315055085873, 'max_depth': 3, 'n_estimators': 874}. Best is trial 21 with value: 0.8500293703947992.\u001b[0m\n",
      "/tmp/ipykernel_621389/2141867322.py:7: FutureWarning: suggest_loguniform has been deprecated in v3.0.0. This feature will be removed in v6.0.0. See https://github.com/optuna/optuna/releases/tag/v3.0.0. Use :func:`~optuna.trial.Trial.suggest_float` instead.\n",
      "  'learning_rate':trial.suggest_loguniform('learning_rate',0.01,0.1),\n",
      "\u001b[32m[I 2023-04-25 22:48:07,872]\u001b[0m Trial 49 finished with value: 0.8494174096582995 and parameters: {'learning_rate': 0.013650400538881098, 'max_depth': 5, 'n_estimators': 714}. Best is trial 21 with value: 0.8500293703947992.\u001b[0m\n"
     ]
    },
    {
     "name": "stdout",
     "output_type": "stream",
     "text": [
      "Best hyperparameters: {'learning_rate': 0.01499120607382034, 'max_depth': 3, 'n_estimators': 997}\n",
      "Best AUC: 0.8500\n"
     ]
    }
   ],
   "source": [
    "def objective(trial):\n",
    "    # Define hyperparameters to optimize \n",
    "    params={\n",
    "        'boosting_type':'gbdt',\n",
    "        'objective':'binary',\n",
    "        'metric':'binary_logloss',\n",
    "        'learning_rate':trial.suggest_loguniform('learning_rate',0.01,0.1),\n",
    "        'max_depth':trial.suggest_int('max_depth',3,9),\n",
    "        'n_estimators':trial.suggest_int(\"n_estimators\",100,1000)\n",
    "    }\n",
    "    # Train and evaluate model \n",
    "    lgb_cv=lgb.LGBMClassifier(**params, random_state=42,scale_pos_weight=ratio)\n",
    "    scores=cross_val_score(lgb_cv,train_X,train_y,cv=5,scoring='roc_auc')\n",
    "    auc=scores.mean()\n",
    "    return auc \n",
    "\n",
    "# Define study object and optimize \n",
    "\n",
    "study=optuna.create_study(direction='maximize',study_name='lgb_boost_opt',load_if_exists=True)\n",
    "study.optimize(objective, n_trials=50)\n",
    "\n",
    "# Print best hyperparameters and auc\n",
    "print(f'Best hyperparameters: {study.best_params}')\n",
    "print(f'Best AUC: {study.best_value:.4f}')"
   ]
  },
  {
   "cell_type": "code",
   "execution_count": 10,
   "metadata": {},
   "outputs": [],
   "source": [
    "lgb=lgb.LGBMClassifier(learning_rate=0.01499120607382034,max_depth=3,n_estimators=997,scale_pos_weight=ratio,random_state=42)"
   ]
  },
  {
   "cell_type": "code",
   "execution_count": 11,
   "metadata": {},
   "outputs": [
    {
     "data": {
      "text/html": [
       "<style>#sk-container-id-1 {color: black;background-color: white;}#sk-container-id-1 pre{padding: 0;}#sk-container-id-1 div.sk-toggleable {background-color: white;}#sk-container-id-1 label.sk-toggleable__label {cursor: pointer;display: block;width: 100%;margin-bottom: 0;padding: 0.3em;box-sizing: border-box;text-align: center;}#sk-container-id-1 label.sk-toggleable__label-arrow:before {content: \"▸\";float: left;margin-right: 0.25em;color: #696969;}#sk-container-id-1 label.sk-toggleable__label-arrow:hover:before {color: black;}#sk-container-id-1 div.sk-estimator:hover label.sk-toggleable__label-arrow:before {color: black;}#sk-container-id-1 div.sk-toggleable__content {max-height: 0;max-width: 0;overflow: hidden;text-align: left;background-color: #f0f8ff;}#sk-container-id-1 div.sk-toggleable__content pre {margin: 0.2em;color: black;border-radius: 0.25em;background-color: #f0f8ff;}#sk-container-id-1 input.sk-toggleable__control:checked~div.sk-toggleable__content {max-height: 200px;max-width: 100%;overflow: auto;}#sk-container-id-1 input.sk-toggleable__control:checked~label.sk-toggleable__label-arrow:before {content: \"▾\";}#sk-container-id-1 div.sk-estimator input.sk-toggleable__control:checked~label.sk-toggleable__label {background-color: #d4ebff;}#sk-container-id-1 div.sk-label input.sk-toggleable__control:checked~label.sk-toggleable__label {background-color: #d4ebff;}#sk-container-id-1 input.sk-hidden--visually {border: 0;clip: rect(1px 1px 1px 1px);clip: rect(1px, 1px, 1px, 1px);height: 1px;margin: -1px;overflow: hidden;padding: 0;position: absolute;width: 1px;}#sk-container-id-1 div.sk-estimator {font-family: monospace;background-color: #f0f8ff;border: 1px dotted black;border-radius: 0.25em;box-sizing: border-box;margin-bottom: 0.5em;}#sk-container-id-1 div.sk-estimator:hover {background-color: #d4ebff;}#sk-container-id-1 div.sk-parallel-item::after {content: \"\";width: 100%;border-bottom: 1px solid gray;flex-grow: 1;}#sk-container-id-1 div.sk-label:hover label.sk-toggleable__label {background-color: #d4ebff;}#sk-container-id-1 div.sk-serial::before {content: \"\";position: absolute;border-left: 1px solid gray;box-sizing: border-box;top: 0;bottom: 0;left: 50%;z-index: 0;}#sk-container-id-1 div.sk-serial {display: flex;flex-direction: column;align-items: center;background-color: white;padding-right: 0.2em;padding-left: 0.2em;position: relative;}#sk-container-id-1 div.sk-item {position: relative;z-index: 1;}#sk-container-id-1 div.sk-parallel {display: flex;align-items: stretch;justify-content: center;background-color: white;position: relative;}#sk-container-id-1 div.sk-item::before, #sk-container-id-1 div.sk-parallel-item::before {content: \"\";position: absolute;border-left: 1px solid gray;box-sizing: border-box;top: 0;bottom: 0;left: 50%;z-index: -1;}#sk-container-id-1 div.sk-parallel-item {display: flex;flex-direction: column;z-index: 1;position: relative;background-color: white;}#sk-container-id-1 div.sk-parallel-item:first-child::after {align-self: flex-end;width: 50%;}#sk-container-id-1 div.sk-parallel-item:last-child::after {align-self: flex-start;width: 50%;}#sk-container-id-1 div.sk-parallel-item:only-child::after {width: 0;}#sk-container-id-1 div.sk-dashed-wrapped {border: 1px dashed gray;margin: 0 0.4em 0.5em 0.4em;box-sizing: border-box;padding-bottom: 0.4em;background-color: white;}#sk-container-id-1 div.sk-label label {font-family: monospace;font-weight: bold;display: inline-block;line-height: 1.2em;}#sk-container-id-1 div.sk-label-container {text-align: center;}#sk-container-id-1 div.sk-container {/* jupyter's `normalize.less` sets `[hidden] { display: none; }` but bootstrap.min.css set `[hidden] { display: none !important; }` so we also need the `!important` here to be able to override the default hidden behavior on the sphinx rendered scikit-learn.org. See: https://github.com/scikit-learn/scikit-learn/issues/21755 */display: inline-block !important;position: relative;}#sk-container-id-1 div.sk-text-repr-fallback {display: none;}</style><div id=\"sk-container-id-1\" class=\"sk-top-container\"><div class=\"sk-text-repr-fallback\"><pre>LGBMClassifier(learning_rate=0.01499120607382034, max_depth=3, n_estimators=997,\n",
       "               random_state=42, scale_pos_weight=9.617557811028565)</pre><b>In a Jupyter environment, please rerun this cell to show the HTML representation or trust the notebook. <br />On GitHub, the HTML representation is unable to render, please try loading this page with nbviewer.org.</b></div><div class=\"sk-container\" hidden><div class=\"sk-item\"><div class=\"sk-estimator sk-toggleable\"><input class=\"sk-toggleable__control sk-hidden--visually\" id=\"sk-estimator-id-1\" type=\"checkbox\" checked><label for=\"sk-estimator-id-1\" class=\"sk-toggleable__label sk-toggleable__label-arrow\">LGBMClassifier</label><div class=\"sk-toggleable__content\"><pre>LGBMClassifier(learning_rate=0.01499120607382034, max_depth=3, n_estimators=997,\n",
       "               random_state=42, scale_pos_weight=9.617557811028565)</pre></div></div></div></div></div>"
      ],
      "text/plain": [
       "LGBMClassifier(learning_rate=0.01499120607382034, max_depth=3, n_estimators=997,\n",
       "               random_state=42, scale_pos_weight=9.617557811028565)"
      ]
     },
     "execution_count": 11,
     "metadata": {},
     "output_type": "execute_result"
    }
   ],
   "source": [
    "lgb.fit(train_X,train_y)"
   ]
  },
  {
   "cell_type": "code",
   "execution_count": 12,
   "metadata": {},
   "outputs": [],
   "source": [
    "prob=lgb.predict_proba(new_test_data_X)[:,1]"
   ]
  },
  {
   "cell_type": "code",
   "execution_count": 13,
   "metadata": {},
   "outputs": [],
   "source": [
    "from sklearn.metrics import accuracy_score, precision_score, recall_score, confusion_matrix, f1_score\n",
    "\n",
    "def get_clf_prob(y_test, probability):\n",
    "  pred=np.where(probability > 0.5,1,0)\n",
    "  confusion=confusion_matrix(y_test, pred)\n",
    "  accuracy=accuracy_score(y_test,pred)\n",
    "  precision=precision_score(y_test,pred) \n",
    "  recall=recall_score(y_test,pred) \n",
    "  # F1 스코어 추가 \n",
    "  f1=f1_score(y_test,pred,average='macro')\n",
    "  Roc_score=roc_auc_score(y_test,probability)\n",
    "  print('임계값: ', 0.5) \n",
    "  print('오차행렬')\n",
    "  print(confusion) \n",
    "  # f1 score print 추가 \n",
    "  print('정확도: {0:.4f}, 정밀도: {1:.4f}, 재현율: {2:.4f}, F1:{3:.4f}, AUC:{4: .4f}'.format(accuracy,precision,recall,f1,Roc_score))"
   ]
  },
  {
   "cell_type": "code",
   "execution_count": 14,
   "metadata": {},
   "outputs": [
    {
     "name": "stdout",
     "output_type": "stream",
     "text": [
      "임계값:  0.5\n",
      "오차행렬\n",
      "[[33553 12404]\n",
      " [  862  3917]]\n",
      "정확도: 0.7385, 정밀도: 0.2400, 재현율: 0.8196, F1:0.6031, AUC: 0.8504\n"
     ]
    }
   ],
   "source": [
    "get_clf_prob(new_test_data_y,prob)"
   ]
  },
  {
   "cell_type": "code",
   "execution_count": null,
   "metadata": {},
   "outputs": [],
   "source": []
  }
 ],
 "metadata": {
  "kernelspec": {
   "display_name": "Python 3",
   "language": "python",
   "name": "python3"
  },
  "language_info": {
   "codemirror_mode": {
    "name": "ipython",
    "version": 3
   },
   "file_extension": ".py",
   "mimetype": "text/x-python",
   "name": "python",
   "nbconvert_exporter": "python",
   "pygments_lexer": "ipython3",
   "version": "3.8.10"
  },
  "orig_nbformat": 4
 },
 "nbformat": 4,
 "nbformat_minor": 2
}
