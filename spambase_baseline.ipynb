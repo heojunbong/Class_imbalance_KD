{
 "cells": [
  {
   "cell_type": "code",
   "execution_count": 1,
   "metadata": {},
   "outputs": [],
   "source": [
    "import pandas as pd \n",
    "import numpy as np \n",
    "import matplotlib.pyplot as plt \n",
    "import optuna \n",
    "import lightgbm as lgb \n",
    "from sklearn.metrics import accuracy_score, roc_auc_score,precision_score, confusion_matrix,recall_score \n",
    "from sklearn.model_selection import cross_val_score, train_test_split\n",
    "import os "
   ]
  },
  {
   "cell_type": "code",
   "execution_count": 3,
   "metadata": {},
   "outputs": [],
   "source": [
    "train_data=pd.read_csv('/home/iai/son/lastcheck/spambase_train_data.csv')\n",
    "test_data=pd.read_csv('/home/iai/son/lastcheck/spambase_test_data.csv')\n"
   ]
  },
  {
   "cell_type": "code",
   "execution_count": 4,
   "metadata": {},
   "outputs": [],
   "source": [
    "test_stage_features=['0.7', '278', '61', '0', '0.34', '0.30', '0.5', '0.44', '0.40', '0.778',\n",
    "                        '0.24', '1.93', '0.39', '1.29', '0.43', '0.2', '0.36', '0.17', '0.20']"
   ]
  },
  {
   "cell_type": "code",
   "execution_count": 5,
   "metadata": {},
   "outputs": [],
   "source": [
    "train_X=train_data[test_stage_features]\n",
    "train_y=train_data['1']\n",
    "\n",
    "new_test_data_X=test_data[test_stage_features]\n",
    "new_test_data_y=test_data['1']"
   ]
  },
  {
   "cell_type": "code",
   "execution_count": 6,
   "metadata": {},
   "outputs": [
    {
     "data": {
      "text/plain": [
       "0    2258\n",
       "1    1422\n",
       "Name: 1, dtype: int64"
      ]
     },
     "execution_count": 6,
     "metadata": {},
     "output_type": "execute_result"
    }
   ],
   "source": [
    "train_y.value_counts()"
   ]
  },
  {
   "cell_type": "code",
   "execution_count": 7,
   "metadata": {},
   "outputs": [],
   "source": [
    "ratio=train_y.value_counts()[0]/train_y.value_counts()[1]"
   ]
  },
  {
   "cell_type": "code",
   "execution_count": 8,
   "metadata": {},
   "outputs": [
    {
     "name": "stderr",
     "output_type": "stream",
     "text": [
      "\u001b[32m[I 2023-04-25 20:26:33,966]\u001b[0m A new study created in memory with name: lgb_boost_opt\u001b[0m\n",
      "/tmp/ipykernel_1040697/2141867322.py:7: FutureWarning: suggest_loguniform has been deprecated in v3.0.0. This feature will be removed in v6.0.0. See https://github.com/optuna/optuna/releases/tag/v3.0.0. Use :func:`~optuna.trial.Trial.suggest_float` instead.\n",
      "  'learning_rate':trial.suggest_loguniform('learning_rate',0.01,0.1),\n",
      "\u001b[32m[I 2023-04-25 20:26:34,648]\u001b[0m Trial 0 finished with value: 0.9564963685748049 and parameters: {'learning_rate': 0.013254535414338622, 'max_depth': 4, 'n_estimators': 243}. Best is trial 0 with value: 0.9564963685748049.\u001b[0m\n",
      "/tmp/ipykernel_1040697/2141867322.py:7: FutureWarning: suggest_loguniform has been deprecated in v3.0.0. This feature will be removed in v6.0.0. See https://github.com/optuna/optuna/releases/tag/v3.0.0. Use :func:`~optuna.trial.Trial.suggest_float` instead.\n",
      "  'learning_rate':trial.suggest_loguniform('learning_rate',0.01,0.1),\n",
      "\u001b[32m[I 2023-04-25 20:26:35,049]\u001b[0m Trial 1 finished with value: 0.9676236356418814 and parameters: {'learning_rate': 0.0503003264702796, 'max_depth': 9, 'n_estimators': 144}. Best is trial 1 with value: 0.9676236356418814.\u001b[0m\n",
      "/tmp/ipykernel_1040697/2141867322.py:7: FutureWarning: suggest_loguniform has been deprecated in v3.0.0. This feature will be removed in v6.0.0. See https://github.com/optuna/optuna/releases/tag/v3.0.0. Use :func:`~optuna.trial.Trial.suggest_float` instead.\n",
      "  'learning_rate':trial.suggest_loguniform('learning_rate',0.01,0.1),\n",
      "\u001b[32m[I 2023-04-25 20:26:35,870]\u001b[0m Trial 2 finished with value: 0.9649758290608282 and parameters: {'learning_rate': 0.08707886514274926, 'max_depth': 5, 'n_estimators': 581}. Best is trial 1 with value: 0.9676236356418814.\u001b[0m\n",
      "/tmp/ipykernel_1040697/2141867322.py:7: FutureWarning: suggest_loguniform has been deprecated in v3.0.0. This feature will be removed in v6.0.0. See https://github.com/optuna/optuna/releases/tag/v3.0.0. Use :func:`~optuna.trial.Trial.suggest_float` instead.\n",
      "  'learning_rate':trial.suggest_loguniform('learning_rate',0.01,0.1),\n",
      "\u001b[32m[I 2023-04-25 20:26:36,165]\u001b[0m Trial 3 finished with value: 0.9655814780614225 and parameters: {'learning_rate': 0.0775722028674547, 'max_depth': 3, 'n_estimators': 389}. Best is trial 1 with value: 0.9676236356418814.\u001b[0m\n",
      "/tmp/ipykernel_1040697/2141867322.py:7: FutureWarning: suggest_loguniform has been deprecated in v3.0.0. This feature will be removed in v6.0.0. See https://github.com/optuna/optuna/releases/tag/v3.0.0. Use :func:`~optuna.trial.Trial.suggest_float` instead.\n",
      "  'learning_rate':trial.suggest_loguniform('learning_rate',0.01,0.1),\n",
      "\u001b[32m[I 2023-04-25 20:26:36,823]\u001b[0m Trial 4 finished with value: 0.9656941235028086 and parameters: {'learning_rate': 0.02084094912110843, 'max_depth': 9, 'n_estimators': 235}. Best is trial 1 with value: 0.9676236356418814.\u001b[0m\n",
      "/tmp/ipykernel_1040697/2141867322.py:7: FutureWarning: suggest_loguniform has been deprecated in v3.0.0. This feature will be removed in v6.0.0. See https://github.com/optuna/optuna/releases/tag/v3.0.0. Use :func:`~optuna.trial.Trial.suggest_float` instead.\n",
      "  'learning_rate':trial.suggest_loguniform('learning_rate',0.01,0.1),\n",
      "\u001b[32m[I 2023-04-25 20:26:37,153]\u001b[0m Trial 5 finished with value: 0.9604206640652067 and parameters: {'learning_rate': 0.017534076271825197, 'max_depth': 3, 'n_estimators': 422}. Best is trial 1 with value: 0.9676236356418814.\u001b[0m\n",
      "/tmp/ipykernel_1040697/2141867322.py:7: FutureWarning: suggest_loguniform has been deprecated in v3.0.0. This feature will be removed in v6.0.0. See https://github.com/optuna/optuna/releases/tag/v3.0.0. Use :func:`~optuna.trial.Trial.suggest_float` instead.\n",
      "  'learning_rate':trial.suggest_loguniform('learning_rate',0.01,0.1),\n",
      "\u001b[32m[I 2023-04-25 20:26:37,796]\u001b[0m Trial 6 finished with value: 0.9665709683048833 and parameters: {'learning_rate': 0.06935988809538321, 'max_depth': 7, 'n_estimators': 293}. Best is trial 1 with value: 0.9676236356418814.\u001b[0m\n",
      "/tmp/ipykernel_1040697/2141867322.py:7: FutureWarning: suggest_loguniform has been deprecated in v3.0.0. This feature will be removed in v6.0.0. See https://github.com/optuna/optuna/releases/tag/v3.0.0. Use :func:`~optuna.trial.Trial.suggest_float` instead.\n",
      "  'learning_rate':trial.suggest_loguniform('learning_rate',0.01,0.1),\n",
      "\u001b[32m[I 2023-04-25 20:26:39,875]\u001b[0m Trial 7 finished with value: 0.9669005564818143 and parameters: {'learning_rate': 0.011142371253027852, 'max_depth': 7, 'n_estimators': 920}. Best is trial 1 with value: 0.9676236356418814.\u001b[0m\n",
      "/tmp/ipykernel_1040697/2141867322.py:7: FutureWarning: suggest_loguniform has been deprecated in v3.0.0. This feature will be removed in v6.0.0. See https://github.com/optuna/optuna/releases/tag/v3.0.0. Use :func:`~optuna.trial.Trial.suggest_float` instead.\n",
      "  'learning_rate':trial.suggest_loguniform('learning_rate',0.01,0.1),\n",
      "\u001b[32m[I 2023-04-25 20:26:41,465]\u001b[0m Trial 8 finished with value: 0.9660757518617423 and parameters: {'learning_rate': 0.041621648847444785, 'max_depth': 7, 'n_estimators': 743}. Best is trial 1 with value: 0.9676236356418814.\u001b[0m\n",
      "/tmp/ipykernel_1040697/2141867322.py:7: FutureWarning: suggest_loguniform has been deprecated in v3.0.0. This feature will be removed in v6.0.0. See https://github.com/optuna/optuna/releases/tag/v3.0.0. Use :func:`~optuna.trial.Trial.suggest_float` instead.\n",
      "  'learning_rate':trial.suggest_loguniform('learning_rate',0.01,0.1),\n",
      "\u001b[32m[I 2023-04-25 20:26:42,014]\u001b[0m Trial 9 finished with value: 0.9655217017524418 and parameters: {'learning_rate': 0.03522619842720678, 'max_depth': 3, 'n_estimators': 759}. Best is trial 1 with value: 0.9676236356418814.\u001b[0m\n",
      "/tmp/ipykernel_1040697/2141867322.py:7: FutureWarning: suggest_loguniform has been deprecated in v3.0.0. This feature will be removed in v6.0.0. See https://github.com/optuna/optuna/releases/tag/v3.0.0. Use :func:`~optuna.trial.Trial.suggest_float` instead.\n",
      "  'learning_rate':trial.suggest_loguniform('learning_rate',0.01,0.1),\n",
      "\u001b[32m[I 2023-04-25 20:26:42,407]\u001b[0m Trial 10 finished with value: 0.9668520230251687 and parameters: {'learning_rate': 0.0485774887002095, 'max_depth': 9, 'n_estimators': 138}. Best is trial 1 with value: 0.9676236356418814.\u001b[0m\n",
      "/tmp/ipykernel_1040697/2141867322.py:7: FutureWarning: suggest_loguniform has been deprecated in v3.0.0. This feature will be removed in v6.0.0. See https://github.com/optuna/optuna/releases/tag/v3.0.0. Use :func:`~optuna.trial.Trial.suggest_float` instead.\n",
      "  'learning_rate':trial.suggest_loguniform('learning_rate',0.01,0.1),\n",
      "\u001b[32m[I 2023-04-25 20:26:44,623]\u001b[0m Trial 11 finished with value: 0.9674261070914294 and parameters: {'learning_rate': 0.010143408879166435, 'max_depth': 7, 'n_estimators': 974}. Best is trial 1 with value: 0.9676236356418814.\u001b[0m\n",
      "/tmp/ipykernel_1040697/2141867322.py:7: FutureWarning: suggest_loguniform has been deprecated in v3.0.0. This feature will be removed in v6.0.0. See https://github.com/optuna/optuna/releases/tag/v3.0.0. Use :func:`~optuna.trial.Trial.suggest_float` instead.\n",
      "  'learning_rate':trial.suggest_loguniform('learning_rate',0.01,0.1),\n",
      "\u001b[32m[I 2023-04-25 20:26:46,888]\u001b[0m Trial 12 finished with value: 0.9667161030928794 and parameters: {'learning_rate': 0.02546375873273414, 'max_depth': 8, 'n_estimators': 957}. Best is trial 1 with value: 0.9676236356418814.\u001b[0m\n",
      "/tmp/ipykernel_1040697/2141867322.py:7: FutureWarning: suggest_loguniform has been deprecated in v3.0.0. This feature will be removed in v6.0.0. See https://github.com/optuna/optuna/releases/tag/v3.0.0. Use :func:`~optuna.trial.Trial.suggest_float` instead.\n",
      "  'learning_rate':trial.suggest_loguniform('learning_rate',0.01,0.1),\n",
      "\u001b[32m[I 2023-04-25 20:26:48,143]\u001b[0m Trial 13 finished with value: 0.9649314301984839 and parameters: {'learning_rate': 0.010029161278819287, 'max_depth': 6, 'n_estimators': 586}. Best is trial 1 with value: 0.9676236356418814.\u001b[0m\n",
      "/tmp/ipykernel_1040697/2141867322.py:7: FutureWarning: suggest_loguniform has been deprecated in v3.0.0. This feature will be removed in v6.0.0. See https://github.com/optuna/optuna/releases/tag/v3.0.0. Use :func:`~optuna.trial.Trial.suggest_float` instead.\n",
      "  'learning_rate':trial.suggest_loguniform('learning_rate',0.01,0.1),\n",
      "\u001b[32m[I 2023-04-25 20:26:48,475]\u001b[0m Trial 14 finished with value: 0.9623152621042564 and parameters: {'learning_rate': 0.03080283170256954, 'max_depth': 8, 'n_estimators': 112}. Best is trial 1 with value: 0.9676236356418814.\u001b[0m\n",
      "/tmp/ipykernel_1040697/2141867322.py:7: FutureWarning: suggest_loguniform has been deprecated in v3.0.0. This feature will be removed in v6.0.0. See https://github.com/optuna/optuna/releases/tag/v3.0.0. Use :func:`~optuna.trial.Trial.suggest_float` instead.\n",
      "  'learning_rate':trial.suggest_loguniform('learning_rate',0.01,0.1),\n",
      "\u001b[32m[I 2023-04-25 20:26:50,331]\u001b[0m Trial 15 finished with value: 0.9676474330730628 and parameters: {'learning_rate': 0.015876245342641156, 'max_depth': 8, 'n_estimators': 763}. Best is trial 15 with value: 0.9676474330730628.\u001b[0m\n",
      "/tmp/ipykernel_1040697/2141867322.py:7: FutureWarning: suggest_loguniform has been deprecated in v3.0.0. This feature will be removed in v6.0.0. See https://github.com/optuna/optuna/releases/tag/v3.0.0. Use :func:`~optuna.trial.Trial.suggest_float` instead.\n",
      "  'learning_rate':trial.suggest_loguniform('learning_rate',0.01,0.1),\n",
      "\u001b[32m[I 2023-04-25 20:26:52,235]\u001b[0m Trial 16 finished with value: 0.9645580818161749 and parameters: {'learning_rate': 0.05416068986849896, 'max_depth': 9, 'n_estimators': 749}. Best is trial 15 with value: 0.9676474330730628.\u001b[0m\n",
      "/tmp/ipykernel_1040697/2141867322.py:7: FutureWarning: suggest_loguniform has been deprecated in v3.0.0. This feature will be removed in v6.0.0. See https://github.com/optuna/optuna/releases/tag/v3.0.0. Use :func:`~optuna.trial.Trial.suggest_float` instead.\n",
      "  'learning_rate':trial.suggest_loguniform('learning_rate',0.01,0.1),\n",
      "\u001b[32m[I 2023-04-25 20:26:53,449]\u001b[0m Trial 17 finished with value: 0.9671564348980615 and parameters: {'learning_rate': 0.016260770097011296, 'max_depth': 8, 'n_estimators': 475}. Best is trial 15 with value: 0.9676474330730628.\u001b[0m\n",
      "/tmp/ipykernel_1040697/2141867322.py:7: FutureWarning: suggest_loguniform has been deprecated in v3.0.0. This feature will be removed in v6.0.0. See https://github.com/optuna/optuna/releases/tag/v3.0.0. Use :func:`~optuna.trial.Trial.suggest_float` instead.\n",
      "  'learning_rate':trial.suggest_loguniform('learning_rate',0.01,0.1),\n",
      "\u001b[32m[I 2023-04-25 20:26:54,704]\u001b[0m Trial 18 finished with value: 0.9676234062206529 and parameters: {'learning_rate': 0.028096622467291124, 'max_depth': 6, 'n_estimators': 670}. Best is trial 15 with value: 0.9676474330730628.\u001b[0m\n",
      "/tmp/ipykernel_1040697/2141867322.py:7: FutureWarning: suggest_loguniform has been deprecated in v3.0.0. This feature will be removed in v6.0.0. See https://github.com/optuna/optuna/releases/tag/v3.0.0. Use :func:`~optuna.trial.Trial.suggest_float` instead.\n",
      "  'learning_rate':trial.suggest_loguniform('learning_rate',0.01,0.1),\n",
      "\u001b[32m[I 2023-04-25 20:26:56,740]\u001b[0m Trial 19 finished with value: 0.9613697884817001 and parameters: {'learning_rate': 0.09864914846134175, 'max_depth': 8, 'n_estimators': 837}. Best is trial 15 with value: 0.9676474330730628.\u001b[0m\n",
      "/tmp/ipykernel_1040697/2141867322.py:7: FutureWarning: suggest_loguniform has been deprecated in v3.0.0. This feature will be removed in v6.0.0. See https://github.com/optuna/optuna/releases/tag/v3.0.0. Use :func:`~optuna.trial.Trial.suggest_float` instead.\n",
      "  'learning_rate':trial.suggest_loguniform('learning_rate',0.01,0.1),\n",
      "\u001b[32m[I 2023-04-25 20:26:58,413]\u001b[0m Trial 20 finished with value: 0.9674509868400143 and parameters: {'learning_rate': 0.021642919055358367, 'max_depth': 9, 'n_estimators': 641}. Best is trial 15 with value: 0.9676474330730628.\u001b[0m\n",
      "/tmp/ipykernel_1040697/2141867322.py:7: FutureWarning: suggest_loguniform has been deprecated in v3.0.0. This feature will be removed in v6.0.0. See https://github.com/optuna/optuna/releases/tag/v3.0.0. Use :func:`~optuna.trial.Trial.suggest_float` instead.\n",
      "  'learning_rate':trial.suggest_loguniform('learning_rate',0.01,0.1),\n",
      "\u001b[32m[I 2023-04-25 20:26:59,644]\u001b[0m Trial 21 finished with value: 0.9678546295822082 and parameters: {'learning_rate': 0.027761504132796603, 'max_depth': 6, 'n_estimators': 669}. Best is trial 21 with value: 0.9678546295822082.\u001b[0m\n",
      "/tmp/ipykernel_1040697/2141867322.py:7: FutureWarning: suggest_loguniform has been deprecated in v3.0.0. This feature will be removed in v6.0.0. See https://github.com/optuna/optuna/releases/tag/v3.0.0. Use :func:`~optuna.trial.Trial.suggest_float` instead.\n",
      "  'learning_rate':trial.suggest_loguniform('learning_rate',0.01,0.1),\n",
      "\u001b[32m[I 2023-04-25 20:27:00,882]\u001b[0m Trial 22 finished with value: 0.9665514488456649 and parameters: {'learning_rate': 0.037439964377588626, 'max_depth': 5, 'n_estimators': 861}. Best is trial 21 with value: 0.9678546295822082.\u001b[0m\n",
      "/tmp/ipykernel_1040697/2141867322.py:7: FutureWarning: suggest_loguniform has been deprecated in v3.0.0. This feature will be removed in v6.0.0. See https://github.com/optuna/optuna/releases/tag/v3.0.0. Use :func:`~optuna.trial.Trial.suggest_float` instead.\n",
      "  'learning_rate':trial.suggest_loguniform('learning_rate',0.01,0.1),\n",
      "\u001b[32m[I 2023-04-25 20:27:01,865]\u001b[0m Trial 23 finished with value: 0.9674957041914365 and parameters: {'learning_rate': 0.02583324855392975, 'max_depth': 5, 'n_estimators': 686}. Best is trial 21 with value: 0.9678546295822082.\u001b[0m\n",
      "/tmp/ipykernel_1040697/2141867322.py:7: FutureWarning: suggest_loguniform has been deprecated in v3.0.0. This feature will be removed in v6.0.0. See https://github.com/optuna/optuna/releases/tag/v3.0.0. Use :func:`~optuna.trial.Trial.suggest_float` instead.\n",
      "  'learning_rate':trial.suggest_loguniform('learning_rate',0.01,0.1),\n",
      "\u001b[32m[I 2023-04-25 20:27:02,820]\u001b[0m Trial 24 finished with value: 0.9679417633575266 and parameters: {'learning_rate': 0.03308751406621786, 'max_depth': 6, 'n_estimators': 512}. Best is trial 24 with value: 0.9679417633575266.\u001b[0m\n",
      "/tmp/ipykernel_1040697/2141867322.py:7: FutureWarning: suggest_loguniform has been deprecated in v3.0.0. This feature will be removed in v6.0.0. See https://github.com/optuna/optuna/releases/tag/v3.0.0. Use :func:`~optuna.trial.Trial.suggest_float` instead.\n",
      "  'learning_rate':trial.suggest_loguniform('learning_rate',0.01,0.1),\n",
      "\u001b[32m[I 2023-04-25 20:27:03,800]\u001b[0m Trial 25 finished with value: 0.9676676751964235 and parameters: {'learning_rate': 0.029598970522242838, 'max_depth': 6, 'n_estimators': 521}. Best is trial 24 with value: 0.9679417633575266.\u001b[0m\n",
      "/tmp/ipykernel_1040697/2141867322.py:7: FutureWarning: suggest_loguniform has been deprecated in v3.0.0. This feature will be removed in v6.0.0. See https://github.com/optuna/optuna/releases/tag/v3.0.0. Use :func:`~optuna.trial.Trial.suggest_float` instead.\n",
      "  'learning_rate':trial.suggest_loguniform('learning_rate',0.01,0.1),\n",
      "\u001b[32m[I 2023-04-25 20:27:04,763]\u001b[0m Trial 26 finished with value: 0.9678949417660387 and parameters: {'learning_rate': 0.032351028512614045, 'max_depth': 6, 'n_estimators': 514}. Best is trial 24 with value: 0.9679417633575266.\u001b[0m\n",
      "/tmp/ipykernel_1040697/2141867322.py:7: FutureWarning: suggest_loguniform has been deprecated in v3.0.0. This feature will be removed in v6.0.0. See https://github.com/optuna/optuna/releases/tag/v3.0.0. Use :func:`~optuna.trial.Trial.suggest_float` instead.\n",
      "  'learning_rate':trial.suggest_loguniform('learning_rate',0.01,0.1),\n",
      "\u001b[32m[I 2023-04-25 20:27:05,340]\u001b[0m Trial 27 finished with value: 0.9671627499758652 and parameters: {'learning_rate': 0.03522349173241804, 'max_depth': 5, 'n_estimators': 358}. Best is trial 24 with value: 0.9679417633575266.\u001b[0m\n",
      "/tmp/ipykernel_1040697/2141867322.py:7: FutureWarning: suggest_loguniform has been deprecated in v3.0.0. This feature will be removed in v6.0.0. See https://github.com/optuna/optuna/releases/tag/v3.0.0. Use :func:`~optuna.trial.Trial.suggest_float` instead.\n",
      "  'learning_rate':trial.suggest_loguniform('learning_rate',0.01,0.1),\n",
      "\u001b[32m[I 2023-04-25 20:27:05,870]\u001b[0m Trial 28 finished with value: 0.9656711307186765 and parameters: {'learning_rate': 0.041303596487201784, 'max_depth': 4, 'n_estimators': 495}. Best is trial 24 with value: 0.9679417633575266.\u001b[0m\n",
      "/tmp/ipykernel_1040697/2141867322.py:7: FutureWarning: suggest_loguniform has been deprecated in v3.0.0. This feature will be removed in v6.0.0. See https://github.com/optuna/optuna/releases/tag/v3.0.0. Use :func:`~optuna.trial.Trial.suggest_float` instead.\n",
      "  'learning_rate':trial.suggest_loguniform('learning_rate',0.01,0.1),\n",
      "\u001b[32m[I 2023-04-25 20:27:06,871]\u001b[0m Trial 29 finished with value: 0.9657202812441229 and parameters: {'learning_rate': 0.023460093738346975, 'max_depth': 4, 'n_estimators': 602}. Best is trial 24 with value: 0.9679417633575266.\u001b[0m\n",
      "/tmp/ipykernel_1040697/2141867322.py:7: FutureWarning: suggest_loguniform has been deprecated in v3.0.0. This feature will be removed in v6.0.0. See https://github.com/optuna/optuna/releases/tag/v3.0.0. Use :func:`~optuna.trial.Trial.suggest_float` instead.\n",
      "  'learning_rate':trial.suggest_loguniform('learning_rate',0.01,0.1),\n",
      "\u001b[32m[I 2023-04-25 20:27:07,758]\u001b[0m Trial 30 finished with value: 0.9679432343346367 and parameters: {'learning_rate': 0.031596367123510216, 'max_depth': 6, 'n_estimators': 450}. Best is trial 30 with value: 0.9679432343346367.\u001b[0m\n",
      "/tmp/ipykernel_1040697/2141867322.py:7: FutureWarning: suggest_loguniform has been deprecated in v3.0.0. This feature will be removed in v6.0.0. See https://github.com/optuna/optuna/releases/tag/v3.0.0. Use :func:`~optuna.trial.Trial.suggest_float` instead.\n",
      "  'learning_rate':trial.suggest_loguniform('learning_rate',0.01,0.1),\n",
      "\u001b[32m[I 2023-04-25 20:27:08,640]\u001b[0m Trial 31 finished with value: 0.9679308612612314 and parameters: {'learning_rate': 0.03175440555887754, 'max_depth': 6, 'n_estimators': 453}. Best is trial 30 with value: 0.9679432343346367.\u001b[0m\n",
      "/tmp/ipykernel_1040697/2141867322.py:7: FutureWarning: suggest_loguniform has been deprecated in v3.0.0. This feature will be removed in v6.0.0. See https://github.com/optuna/optuna/releases/tag/v3.0.0. Use :func:`~optuna.trial.Trial.suggest_float` instead.\n",
      "  'learning_rate':trial.suggest_loguniform('learning_rate',0.01,0.1),\n",
      "\u001b[32m[I 2023-04-25 20:27:09,452]\u001b[0m Trial 32 finished with value: 0.9679331375641882 and parameters: {'learning_rate': 0.031466586089587543, 'max_depth': 6, 'n_estimators': 418}. Best is trial 30 with value: 0.9679432343346367.\u001b[0m\n",
      "/tmp/ipykernel_1040697/2141867322.py:7: FutureWarning: suggest_loguniform has been deprecated in v3.0.0. This feature will be removed in v6.0.0. See https://github.com/optuna/optuna/releases/tag/v3.0.0. Use :func:`~optuna.trial.Trial.suggest_float` instead.\n",
      "  'learning_rate':trial.suggest_loguniform('learning_rate',0.01,0.1),\n",
      "\u001b[32m[I 2023-04-25 20:27:10,079]\u001b[0m Trial 33 finished with value: 0.9673109248951433 and parameters: {'learning_rate': 0.03240686691299582, 'max_depth': 6, 'n_estimators': 311}. Best is trial 30 with value: 0.9679432343346367.\u001b[0m\n",
      "/tmp/ipykernel_1040697/2141867322.py:7: FutureWarning: suggest_loguniform has been deprecated in v3.0.0. This feature will be removed in v6.0.0. See https://github.com/optuna/optuna/releases/tag/v3.0.0. Use :func:`~optuna.trial.Trial.suggest_float` instead.\n",
      "  'learning_rate':trial.suggest_loguniform('learning_rate',0.01,0.1),\n",
      "\u001b[32m[I 2023-04-25 20:27:10,753]\u001b[0m Trial 34 finished with value: 0.9665258444086684 and parameters: {'learning_rate': 0.02438262530842926, 'max_depth': 5, 'n_estimators': 446}. Best is trial 30 with value: 0.9679432343346367.\u001b[0m\n",
      "/tmp/ipykernel_1040697/2141867322.py:7: FutureWarning: suggest_loguniform has been deprecated in v3.0.0. This feature will be removed in v6.0.0. See https://github.com/optuna/optuna/releases/tag/v3.0.0. Use :func:`~optuna.trial.Trial.suggest_float` instead.\n",
      "  'learning_rate':trial.suggest_loguniform('learning_rate',0.01,0.1),\n",
      "\u001b[32m[I 2023-04-25 20:27:11,319]\u001b[0m Trial 35 finished with value: 0.9669065527372022 and parameters: {'learning_rate': 0.03759511825058307, 'max_depth': 7, 'n_estimators': 236}. Best is trial 30 with value: 0.9679432343346367.\u001b[0m\n",
      "/tmp/ipykernel_1040697/2141867322.py:7: FutureWarning: suggest_loguniform has been deprecated in v3.0.0. This feature will be removed in v6.0.0. See https://github.com/optuna/optuna/releases/tag/v3.0.0. Use :func:`~optuna.trial.Trial.suggest_float` instead.\n",
      "  'learning_rate':trial.suggest_loguniform('learning_rate',0.01,0.1),\n",
      "\u001b[32m[I 2023-04-25 20:27:11,929]\u001b[0m Trial 36 finished with value: 0.9652036981960211 and parameters: {'learning_rate': 0.02019434232221403, 'max_depth': 5, 'n_estimators': 384}. Best is trial 30 with value: 0.9679432343346367.\u001b[0m\n",
      "/tmp/ipykernel_1040697/2141867322.py:7: FutureWarning: suggest_loguniform has been deprecated in v3.0.0. This feature will be removed in v6.0.0. See https://github.com/optuna/optuna/releases/tag/v3.0.0. Use :func:`~optuna.trial.Trial.suggest_float` instead.\n",
      "  'learning_rate':trial.suggest_loguniform('learning_rate',0.01,0.1),\n",
      "\u001b[32m[I 2023-04-25 20:27:12,585]\u001b[0m Trial 37 finished with value: 0.9667797936841451 and parameters: {'learning_rate': 0.028668302506431247, 'max_depth': 6, 'n_estimators': 324}. Best is trial 30 with value: 0.9679432343346367.\u001b[0m\n",
      "/tmp/ipykernel_1040697/2141867322.py:7: FutureWarning: suggest_loguniform has been deprecated in v3.0.0. This feature will be removed in v6.0.0. See https://github.com/optuna/optuna/releases/tag/v3.0.0. Use :func:`~optuna.trial.Trial.suggest_float` instead.\n",
      "  'learning_rate':trial.suggest_loguniform('learning_rate',0.01,0.1),\n",
      "\u001b[32m[I 2023-04-25 20:27:13,694]\u001b[0m Trial 38 finished with value: 0.967274790827404 and parameters: {'learning_rate': 0.04370509473435929, 'max_depth': 7, 'n_estimators': 421}. Best is trial 30 with value: 0.9679432343346367.\u001b[0m\n",
      "/tmp/ipykernel_1040697/2141867322.py:7: FutureWarning: suggest_loguniform has been deprecated in v3.0.0. This feature will be removed in v6.0.0. See https://github.com/optuna/optuna/releases/tag/v3.0.0. Use :func:`~optuna.trial.Trial.suggest_float` instead.\n",
      "  'learning_rate':trial.suggest_loguniform('learning_rate',0.01,0.1),\n",
      "\u001b[32m[I 2023-04-25 20:27:14,519]\u001b[0m Trial 39 finished with value: 0.9672233582595311 and parameters: {'learning_rate': 0.03183775484071576, 'max_depth': 5, 'n_estimators': 567}. Best is trial 30 with value: 0.9679432343346367.\u001b[0m\n",
      "/tmp/ipykernel_1040697/2141867322.py:7: FutureWarning: suggest_loguniform has been deprecated in v3.0.0. This feature will be removed in v6.0.0. See https://github.com/optuna/optuna/releases/tag/v3.0.0. Use :func:`~optuna.trial.Trial.suggest_float` instead.\n",
      "  'learning_rate':trial.suggest_loguniform('learning_rate',0.01,0.1),\n",
      "\u001b[32m[I 2023-04-25 20:27:15,311]\u001b[0m Trial 40 finished with value: 0.9668561124067485 and parameters: {'learning_rate': 0.055134245831895495, 'max_depth': 6, 'n_estimators': 430}. Best is trial 30 with value: 0.9679432343346367.\u001b[0m\n",
      "/tmp/ipykernel_1040697/2141867322.py:7: FutureWarning: suggest_loguniform has been deprecated in v3.0.0. This feature will be removed in v6.0.0. See https://github.com/optuna/optuna/releases/tag/v3.0.0. Use :func:`~optuna.trial.Trial.suggest_float` instead.\n",
      "  'learning_rate':trial.suggest_loguniform('learning_rate',0.01,0.1),\n",
      "\u001b[32m[I 2023-04-25 20:27:16,269]\u001b[0m Trial 41 finished with value: 0.9675671889346933 and parameters: {'learning_rate': 0.03330815770282193, 'max_depth': 6, 'n_estimators': 514}. Best is trial 30 with value: 0.9679432343346367.\u001b[0m\n",
      "/tmp/ipykernel_1040697/2141867322.py:7: FutureWarning: suggest_loguniform has been deprecated in v3.0.0. This feature will be removed in v6.0.0. See https://github.com/optuna/optuna/releases/tag/v3.0.0. Use :func:`~optuna.trial.Trial.suggest_float` instead.\n",
      "  'learning_rate':trial.suggest_loguniform('learning_rate',0.01,0.1),\n",
      "\u001b[32m[I 2023-04-25 20:27:17,416]\u001b[0m Trial 42 finished with value: 0.9669637737274 and parameters: {'learning_rate': 0.038551934875208894, 'max_depth': 7, 'n_estimators': 532}. Best is trial 30 with value: 0.9679432343346367.\u001b[0m\n",
      "/tmp/ipykernel_1040697/2141867322.py:7: FutureWarning: suggest_loguniform has been deprecated in v3.0.0. This feature will be removed in v6.0.0. See https://github.com/optuna/optuna/releases/tag/v3.0.0. Use :func:`~optuna.trial.Trial.suggest_float` instead.\n",
      "  'learning_rate':trial.suggest_loguniform('learning_rate',0.01,0.1),\n",
      "\u001b[32m[I 2023-04-25 20:27:18,315]\u001b[0m Trial 43 finished with value: 0.9679998490561772 and parameters: {'learning_rate': 0.033884676814068496, 'max_depth': 6, 'n_estimators': 474}. Best is trial 43 with value: 0.9679998490561772.\u001b[0m\n",
      "/tmp/ipykernel_1040697/2141867322.py:7: FutureWarning: suggest_loguniform has been deprecated in v3.0.0. This feature will be removed in v6.0.0. See https://github.com/optuna/optuna/releases/tag/v3.0.0. Use :func:`~optuna.trial.Trial.suggest_float` instead.\n",
      "  'learning_rate':trial.suggest_loguniform('learning_rate',0.01,0.1),\n",
      "\u001b[32m[I 2023-04-25 20:27:19,429]\u001b[0m Trial 44 finished with value: 0.9679265886832795 and parameters: {'learning_rate': 0.03496016717962535, 'max_depth': 7, 'n_estimators': 468}. Best is trial 43 with value: 0.9679998490561772.\u001b[0m\n",
      "/tmp/ipykernel_1040697/2141867322.py:7: FutureWarning: suggest_loguniform has been deprecated in v3.0.0. This feature will be removed in v6.0.0. See https://github.com/optuna/optuna/releases/tag/v3.0.0. Use :func:`~optuna.trial.Trial.suggest_float` instead.\n",
      "  'learning_rate':trial.suggest_loguniform('learning_rate',0.01,0.1),\n",
      "\u001b[32m[I 2023-04-25 20:27:20,166]\u001b[0m Trial 45 finished with value: 0.9676876420191587 and parameters: {'learning_rate': 0.045953577859377474, 'max_depth': 6, 'n_estimators': 275}. Best is trial 43 with value: 0.9679998490561772.\u001b[0m\n",
      "/tmp/ipykernel_1040697/2141867322.py:7: FutureWarning: suggest_loguniform has been deprecated in v3.0.0. This feature will be removed in v6.0.0. See https://github.com/optuna/optuna/releases/tag/v3.0.0. Use :func:`~optuna.trial.Trial.suggest_float` instead.\n",
      "  'learning_rate':trial.suggest_loguniform('learning_rate',0.01,0.1),\n",
      "\u001b[32m[I 2023-04-25 20:27:20,794]\u001b[0m Trial 46 finished with value: 0.9665336314757169 and parameters: {'learning_rate': 0.026054139363197188, 'max_depth': 5, 'n_estimators': 397}. Best is trial 43 with value: 0.9679998490561772.\u001b[0m\n",
      "/tmp/ipykernel_1040697/2141867322.py:7: FutureWarning: suggest_loguniform has been deprecated in v3.0.0. This feature will be removed in v6.0.0. See https://github.com/optuna/optuna/releases/tag/v3.0.0. Use :func:`~optuna.trial.Trial.suggest_float` instead.\n",
      "  'learning_rate':trial.suggest_loguniform('learning_rate',0.01,0.1),\n",
      "\u001b[32m[I 2023-04-25 20:27:21,423]\u001b[0m Trial 47 finished with value: 0.9663692916690418 and parameters: {'learning_rate': 0.04038445638258617, 'max_depth': 7, 'n_estimators': 200}. Best is trial 43 with value: 0.9679998490561772.\u001b[0m\n",
      "/tmp/ipykernel_1040697/2141867322.py:7: FutureWarning: suggest_loguniform has been deprecated in v3.0.0. This feature will be removed in v6.0.0. See https://github.com/optuna/optuna/releases/tag/v3.0.0. Use :func:`~optuna.trial.Trial.suggest_float` instead.\n",
      "  'learning_rate':trial.suggest_loguniform('learning_rate',0.01,0.1),\n",
      "\u001b[32m[I 2023-04-25 20:27:22,151]\u001b[0m Trial 48 finished with value: 0.9676727436576723 and parameters: {'learning_rate': 0.029891853323305382, 'max_depth': 6, 'n_estimators': 349}. Best is trial 43 with value: 0.9679998490561772.\u001b[0m\n",
      "/tmp/ipykernel_1040697/2141867322.py:7: FutureWarning: suggest_loguniform has been deprecated in v3.0.0. This feature will be removed in v6.0.0. See https://github.com/optuna/optuna/releases/tag/v3.0.0. Use :func:`~optuna.trial.Trial.suggest_float` instead.\n",
      "  'learning_rate':trial.suggest_loguniform('learning_rate',0.01,0.1),\n",
      "\u001b[32m[I 2023-04-25 20:27:22,794]\u001b[0m Trial 49 finished with value: 0.9659392954980867 and parameters: {'learning_rate': 0.03656701429205898, 'max_depth': 4, 'n_estimators': 605}. Best is trial 43 with value: 0.9679998490561772.\u001b[0m\n"
     ]
    },
    {
     "name": "stdout",
     "output_type": "stream",
     "text": [
      "Best hyperparameters: {'learning_rate': 0.033884676814068496, 'max_depth': 6, 'n_estimators': 474}\n",
      "Best AUC: 0.9680\n"
     ]
    }
   ],
   "source": [
    "def objective(trial):\n",
    "    # Define hyperparameters to optimize \n",
    "    params={\n",
    "        'boosting_type':'gbdt',\n",
    "        'objective':'binary',\n",
    "        'metric':'binary_logloss',\n",
    "        'learning_rate':trial.suggest_loguniform('learning_rate',0.01,0.1),\n",
    "        'max_depth':trial.suggest_int('max_depth',3,9),\n",
    "        'n_estimators':trial.suggest_int(\"n_estimators\",100,1000)\n",
    "    }\n",
    "    # Train and evaluate model \n",
    "    lgb_cv=lgb.LGBMClassifier(**params, random_state=42,scale_pos_weight=ratio)\n",
    "    scores=cross_val_score(lgb_cv,train_X,train_y,cv=5,scoring='roc_auc')\n",
    "    auc=scores.mean()\n",
    "    return auc \n",
    "\n",
    "# Define study object and optimize \n",
    "\n",
    "study=optuna.create_study(direction='maximize',study_name='lgb_boost_opt',load_if_exists=True)\n",
    "study.optimize(objective, n_trials=50)\n",
    "\n",
    "# Print best hyperparameters and auc\n",
    "print(f'Best hyperparameters: {study.best_params}')\n",
    "print(f'Best AUC: {study.best_value:.4f}')"
   ]
  },
  {
   "cell_type": "code",
   "execution_count": 9,
   "metadata": {},
   "outputs": [],
   "source": [
    "lgb=lgb.LGBMClassifier(learning_rate=0.033884676814068496,max_depth=6,n_estimators=474,scale_pos_weight=ratio,random_state=42)"
   ]
  },
  {
   "cell_type": "code",
   "execution_count": 10,
   "metadata": {},
   "outputs": [
    {
     "data": {
      "text/html": [
       "<style>#sk-container-id-1 {color: black;background-color: white;}#sk-container-id-1 pre{padding: 0;}#sk-container-id-1 div.sk-toggleable {background-color: white;}#sk-container-id-1 label.sk-toggleable__label {cursor: pointer;display: block;width: 100%;margin-bottom: 0;padding: 0.3em;box-sizing: border-box;text-align: center;}#sk-container-id-1 label.sk-toggleable__label-arrow:before {content: \"▸\";float: left;margin-right: 0.25em;color: #696969;}#sk-container-id-1 label.sk-toggleable__label-arrow:hover:before {color: black;}#sk-container-id-1 div.sk-estimator:hover label.sk-toggleable__label-arrow:before {color: black;}#sk-container-id-1 div.sk-toggleable__content {max-height: 0;max-width: 0;overflow: hidden;text-align: left;background-color: #f0f8ff;}#sk-container-id-1 div.sk-toggleable__content pre {margin: 0.2em;color: black;border-radius: 0.25em;background-color: #f0f8ff;}#sk-container-id-1 input.sk-toggleable__control:checked~div.sk-toggleable__content {max-height: 200px;max-width: 100%;overflow: auto;}#sk-container-id-1 input.sk-toggleable__control:checked~label.sk-toggleable__label-arrow:before {content: \"▾\";}#sk-container-id-1 div.sk-estimator input.sk-toggleable__control:checked~label.sk-toggleable__label {background-color: #d4ebff;}#sk-container-id-1 div.sk-label input.sk-toggleable__control:checked~label.sk-toggleable__label {background-color: #d4ebff;}#sk-container-id-1 input.sk-hidden--visually {border: 0;clip: rect(1px 1px 1px 1px);clip: rect(1px, 1px, 1px, 1px);height: 1px;margin: -1px;overflow: hidden;padding: 0;position: absolute;width: 1px;}#sk-container-id-1 div.sk-estimator {font-family: monospace;background-color: #f0f8ff;border: 1px dotted black;border-radius: 0.25em;box-sizing: border-box;margin-bottom: 0.5em;}#sk-container-id-1 div.sk-estimator:hover {background-color: #d4ebff;}#sk-container-id-1 div.sk-parallel-item::after {content: \"\";width: 100%;border-bottom: 1px solid gray;flex-grow: 1;}#sk-container-id-1 div.sk-label:hover label.sk-toggleable__label {background-color: #d4ebff;}#sk-container-id-1 div.sk-serial::before {content: \"\";position: absolute;border-left: 1px solid gray;box-sizing: border-box;top: 0;bottom: 0;left: 50%;z-index: 0;}#sk-container-id-1 div.sk-serial {display: flex;flex-direction: column;align-items: center;background-color: white;padding-right: 0.2em;padding-left: 0.2em;position: relative;}#sk-container-id-1 div.sk-item {position: relative;z-index: 1;}#sk-container-id-1 div.sk-parallel {display: flex;align-items: stretch;justify-content: center;background-color: white;position: relative;}#sk-container-id-1 div.sk-item::before, #sk-container-id-1 div.sk-parallel-item::before {content: \"\";position: absolute;border-left: 1px solid gray;box-sizing: border-box;top: 0;bottom: 0;left: 50%;z-index: -1;}#sk-container-id-1 div.sk-parallel-item {display: flex;flex-direction: column;z-index: 1;position: relative;background-color: white;}#sk-container-id-1 div.sk-parallel-item:first-child::after {align-self: flex-end;width: 50%;}#sk-container-id-1 div.sk-parallel-item:last-child::after {align-self: flex-start;width: 50%;}#sk-container-id-1 div.sk-parallel-item:only-child::after {width: 0;}#sk-container-id-1 div.sk-dashed-wrapped {border: 1px dashed gray;margin: 0 0.4em 0.5em 0.4em;box-sizing: border-box;padding-bottom: 0.4em;background-color: white;}#sk-container-id-1 div.sk-label label {font-family: monospace;font-weight: bold;display: inline-block;line-height: 1.2em;}#sk-container-id-1 div.sk-label-container {text-align: center;}#sk-container-id-1 div.sk-container {/* jupyter's `normalize.less` sets `[hidden] { display: none; }` but bootstrap.min.css set `[hidden] { display: none !important; }` so we also need the `!important` here to be able to override the default hidden behavior on the sphinx rendered scikit-learn.org. See: https://github.com/scikit-learn/scikit-learn/issues/21755 */display: inline-block !important;position: relative;}#sk-container-id-1 div.sk-text-repr-fallback {display: none;}</style><div id=\"sk-container-id-1\" class=\"sk-top-container\"><div class=\"sk-text-repr-fallback\"><pre>LGBMClassifier(learning_rate=0.033884676814068496, max_depth=6,\n",
       "               n_estimators=474, random_state=42,\n",
       "               scale_pos_weight=1.5879043600562588)</pre><b>In a Jupyter environment, please rerun this cell to show the HTML representation or trust the notebook. <br />On GitHub, the HTML representation is unable to render, please try loading this page with nbviewer.org.</b></div><div class=\"sk-container\" hidden><div class=\"sk-item\"><div class=\"sk-estimator sk-toggleable\"><input class=\"sk-toggleable__control sk-hidden--visually\" id=\"sk-estimator-id-1\" type=\"checkbox\" checked><label for=\"sk-estimator-id-1\" class=\"sk-toggleable__label sk-toggleable__label-arrow\">LGBMClassifier</label><div class=\"sk-toggleable__content\"><pre>LGBMClassifier(learning_rate=0.033884676814068496, max_depth=6,\n",
       "               n_estimators=474, random_state=42,\n",
       "               scale_pos_weight=1.5879043600562588)</pre></div></div></div></div></div>"
      ],
      "text/plain": [
       "LGBMClassifier(learning_rate=0.033884676814068496, max_depth=6,\n",
       "               n_estimators=474, random_state=42,\n",
       "               scale_pos_weight=1.5879043600562588)"
      ]
     },
     "execution_count": 10,
     "metadata": {},
     "output_type": "execute_result"
    }
   ],
   "source": [
    "lgb.fit(train_X,train_y)"
   ]
  },
  {
   "cell_type": "code",
   "execution_count": 11,
   "metadata": {},
   "outputs": [],
   "source": [
    "prob=lgb.predict_proba(new_test_data_X)[:,1]"
   ]
  },
  {
   "cell_type": "code",
   "execution_count": 12,
   "metadata": {},
   "outputs": [],
   "source": [
    "from sklearn.metrics import accuracy_score, precision_score, recall_score, confusion_matrix, f1_score\n",
    "\n",
    "def get_clf_prob(y_test, probability):\n",
    "  pred=np.where(probability > 0.63,1,0)\n",
    "  confusion=confusion_matrix(y_test, pred)\n",
    "  accuracy=accuracy_score(y_test,pred)\n",
    "  precision=precision_score(y_test,pred) \n",
    "  recall=recall_score(y_test,pred) \n",
    "  # F1 스코어 추가 \n",
    "  f1=f1_score(y_test,pred,average='macro')\n",
    "  Roc_score=roc_auc_score(y_test,probability)\n",
    "  print('임계값: ', 0.5) \n",
    "  print('오차행렬')\n",
    "  print(confusion) \n",
    "  # f1 score print 추가 \n",
    "  print('정확도: {0:.4f}, 정밀도: {1:.4f}, 재현율: {2:.4f}, F1:{3:.4f}, AUC:{4: .4f}'.format(accuracy,precision,recall,f1,Roc_score))"
   ]
  },
  {
   "cell_type": "code",
   "execution_count": 13,
   "metadata": {},
   "outputs": [
    {
     "name": "stdout",
     "output_type": "stream",
     "text": [
      "임계값:  0.5\n",
      "오차행렬\n",
      "[[510  20]\n",
      " [ 74 316]]\n",
      "정확도: 0.8978, 정밀도: 0.9405, 재현율: 0.8103, F1:0.8931, AUC: 0.9537\n"
     ]
    }
   ],
   "source": [
    "get_clf_prob(new_test_data_y,prob)"
   ]
  },
  {
   "cell_type": "code",
   "execution_count": null,
   "metadata": {},
   "outputs": [],
   "source": []
  }
 ],
 "metadata": {
  "kernelspec": {
   "display_name": "Python 3",
   "language": "python",
   "name": "python3"
  },
  "language_info": {
   "codemirror_mode": {
    "name": "ipython",
    "version": 3
   },
   "file_extension": ".py",
   "mimetype": "text/x-python",
   "name": "python",
   "nbconvert_exporter": "python",
   "pygments_lexer": "ipython3",
   "version": "3.9.0"
  },
  "orig_nbformat": 4
 },
 "nbformat": 4,
 "nbformat_minor": 2
}
