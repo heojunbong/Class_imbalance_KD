{
 "cells": [
  {
   "cell_type": "code",
   "execution_count": 1,
   "metadata": {},
   "outputs": [
    {
     "name": "stderr",
     "output_type": "stream",
     "text": [
      "/dshome/WoongLab/.local/lib/python3.8/site-packages/tqdm/auto.py:22: TqdmWarning: IProgress not found. Please update jupyter and ipywidgets. See https://ipywidgets.readthedocs.io/en/stable/user_install.html\n",
      "  from .autonotebook import tqdm as notebook_tqdm\n"
     ]
    }
   ],
   "source": [
    "# 필요한 라이브러리 import하기\n",
    "\n",
    "import pandas as pd \n",
    "import numpy as np \n",
    "import matplotlib.pyplot as plt \n",
    "import optuna \n",
    "import lightgbm as lgb \n",
    "from sklearn.metrics import accuracy_score, roc_auc_score,precision_score, confusion_matrix,recall_score \n",
    "from sklearn.model_selection import cross_val_score, train_test_split\n",
    "import os "
   ]
  },
  {
   "cell_type": "code",
   "execution_count": 2,
   "metadata": {},
   "outputs": [],
   "source": [
    "# train data와 test data 로드하기\n",
    "\n",
    "train_data=pd.read_csv('/dshome/WoongLab/heo/construction_oil/preprocessed_data/breastcancer_train_data.csv')\n",
    "test_data=pd.read_csv('/dshome/WoongLab/heo/construction_oil/preprocessed_data/breastcancer_test_data.csv')\n"
   ]
  },
  {
   "cell_type": "code",
   "execution_count": 3,
   "metadata": {},
   "outputs": [],
   "source": [
    "test_stage_features=['A Stage','differentiate','Race','T Stage ','Grade','Estrogen Status','Progesterone Status','Marital Status','N Stage']"
   ]
  },
  {
   "cell_type": "code",
   "execution_count": 4,
   "metadata": {},
   "outputs": [],
   "source": [
    "train_X=train_data[test_stage_features]\n",
    "train_y=train_data['Status']\n",
    "\n",
    "new_test_data_X=test_data[test_stage_features]\n",
    "new_test_data_y=test_data['Status']"
   ]
  },
  {
   "cell_type": "code",
   "execution_count": 5,
   "metadata": {},
   "outputs": [
    {
     "data": {
      "text/plain": [
       "0    2726\n",
       "1     493\n",
       "Name: Status, dtype: int64"
      ]
     },
     "execution_count": 5,
     "metadata": {},
     "output_type": "execute_result"
    }
   ],
   "source": [
    "train_y.value_counts()"
   ]
  },
  {
   "cell_type": "code",
   "execution_count": 6,
   "metadata": {},
   "outputs": [],
   "source": [
    "# class weight 적용하기 위해 y label의 비율을 구하기\n",
    "\n",
    "ratio=train_y.value_counts()[0]/train_y.value_counts()[1]"
   ]
  },
  {
   "attachments": {},
   "cell_type": "markdown",
   "metadata": {},
   "source": [
    "## 베이지안 최적화해주기 - LightgbmClassifier\n",
    "\n",
    "**1. 5-fold 교차검증 이용해서 Train data로 Validation set을 Auc가 최고였을 때의 하이퍼파라미터 구하기**\n",
    "\n",
    "**2. Learning rate 0.01~0.1, max_depth 3~9, n_estimators 100~1000이었을 때에서 가장 최적의 하이퍼파라미터 구하기**"
   ]
  },
  {
   "cell_type": "code",
   "execution_count": 7,
   "metadata": {},
   "outputs": [
    {
     "name": "stderr",
     "output_type": "stream",
     "text": [
      "\u001b[32m[I 2023-04-17 22:00:14,196]\u001b[0m A new study created in memory with name: lgb_boost_opt\u001b[0m\n",
      "/tmp/ipykernel_226056/2141867322.py:7: FutureWarning: suggest_loguniform has been deprecated in v3.0.0. This feature will be removed in v6.0.0. See https://github.com/optuna/optuna/releases/tag/v3.0.0. Use :func:`~optuna.trial.Trial.suggest_float` instead.\n",
      "  'learning_rate':trial.suggest_loguniform('learning_rate',0.01,0.1),\n",
      "\u001b[32m[I 2023-04-17 22:00:16,091]\u001b[0m Trial 0 finished with value: 0.7148276007834142 and parameters: {'learning_rate': 0.02467545991702151, 'max_depth': 3, 'n_estimators': 727}. Best is trial 0 with value: 0.7148276007834142.\u001b[0m\n",
      "/tmp/ipykernel_226056/2141867322.py:7: FutureWarning: suggest_loguniform has been deprecated in v3.0.0. This feature will be removed in v6.0.0. See https://github.com/optuna/optuna/releases/tag/v3.0.0. Use :func:`~optuna.trial.Trial.suggest_float` instead.\n",
      "  'learning_rate':trial.suggest_loguniform('learning_rate',0.01,0.1),\n",
      "\u001b[32m[I 2023-04-17 22:00:18,485]\u001b[0m Trial 1 finished with value: 0.6875115822204383 and parameters: {'learning_rate': 0.07886490330680132, 'max_depth': 4, 'n_estimators': 698}. Best is trial 0 with value: 0.7148276007834142.\u001b[0m\n",
      "/tmp/ipykernel_226056/2141867322.py:7: FutureWarning: suggest_loguniform has been deprecated in v3.0.0. This feature will be removed in v6.0.0. See https://github.com/optuna/optuna/releases/tag/v3.0.0. Use :func:`~optuna.trial.Trial.suggest_float` instead.\n",
      "  'learning_rate':trial.suggest_loguniform('learning_rate',0.01,0.1),\n",
      "\u001b[32m[I 2023-04-17 22:00:19,991]\u001b[0m Trial 2 finished with value: 0.6931370023805897 and parameters: {'learning_rate': 0.09944570706161535, 'max_depth': 4, 'n_estimators': 460}. Best is trial 0 with value: 0.7148276007834142.\u001b[0m\n",
      "/tmp/ipykernel_226056/2141867322.py:7: FutureWarning: suggest_loguniform has been deprecated in v3.0.0. This feature will be removed in v6.0.0. See https://github.com/optuna/optuna/releases/tag/v3.0.0. Use :func:`~optuna.trial.Trial.suggest_float` instead.\n",
      "  'learning_rate':trial.suggest_loguniform('learning_rate',0.01,0.1),\n",
      "\u001b[32m[I 2023-04-17 22:00:26,690]\u001b[0m Trial 3 finished with value: 0.6694296234045345 and parameters: {'learning_rate': 0.06529100855749484, 'max_depth': 8, 'n_estimators': 769}. Best is trial 0 with value: 0.7148276007834142.\u001b[0m\n",
      "/tmp/ipykernel_226056/2141867322.py:7: FutureWarning: suggest_loguniform has been deprecated in v3.0.0. This feature will be removed in v6.0.0. See https://github.com/optuna/optuna/releases/tag/v3.0.0. Use :func:`~optuna.trial.Trial.suggest_float` instead.\n",
      "  'learning_rate':trial.suggest_loguniform('learning_rate',0.01,0.1),\n",
      "\u001b[32m[I 2023-04-17 22:00:31,789]\u001b[0m Trial 4 finished with value: 0.6826305814678779 and parameters: {'learning_rate': 0.0429501748524576, 'max_depth': 6, 'n_estimators': 871}. Best is trial 0 with value: 0.7148276007834142.\u001b[0m\n",
      "/tmp/ipykernel_226056/2141867322.py:7: FutureWarning: suggest_loguniform has been deprecated in v3.0.0. This feature will be removed in v6.0.0. See https://github.com/optuna/optuna/releases/tag/v3.0.0. Use :func:`~optuna.trial.Trial.suggest_float` instead.\n",
      "  'learning_rate':trial.suggest_loguniform('learning_rate',0.01,0.1),\n",
      "\u001b[32m[I 2023-04-17 22:00:34,685]\u001b[0m Trial 5 finished with value: 0.6987737260139432 and parameters: {'learning_rate': 0.03404879436833045, 'max_depth': 8, 'n_estimators': 327}. Best is trial 0 with value: 0.7148276007834142.\u001b[0m\n",
      "/tmp/ipykernel_226056/2141867322.py:7: FutureWarning: suggest_loguniform has been deprecated in v3.0.0. This feature will be removed in v6.0.0. See https://github.com/optuna/optuna/releases/tag/v3.0.0. Use :func:`~optuna.trial.Trial.suggest_float` instead.\n",
      "  'learning_rate':trial.suggest_loguniform('learning_rate',0.01,0.1),\n",
      "\u001b[32m[I 2023-04-17 22:00:39,056]\u001b[0m Trial 6 finished with value: 0.6868038736939692 and parameters: {'learning_rate': 0.03808535586782915, 'max_depth': 6, 'n_estimators': 719}. Best is trial 0 with value: 0.7148276007834142.\u001b[0m\n",
      "/tmp/ipykernel_226056/2141867322.py:7: FutureWarning: suggest_loguniform has been deprecated in v3.0.0. This feature will be removed in v6.0.0. See https://github.com/optuna/optuna/releases/tag/v3.0.0. Use :func:`~optuna.trial.Trial.suggest_float` instead.\n",
      "  'learning_rate':trial.suggest_loguniform('learning_rate',0.01,0.1),\n",
      "\u001b[32m[I 2023-04-17 22:00:41,556]\u001b[0m Trial 7 finished with value: 0.7144405668183988 and parameters: {'learning_rate': 0.013011125417542738, 'max_depth': 6, 'n_estimators': 354}. Best is trial 0 with value: 0.7148276007834142.\u001b[0m\n",
      "/tmp/ipykernel_226056/2141867322.py:7: FutureWarning: suggest_loguniform has been deprecated in v3.0.0. This feature will be removed in v6.0.0. See https://github.com/optuna/optuna/releases/tag/v3.0.0. Use :func:`~optuna.trial.Trial.suggest_float` instead.\n",
      "  'learning_rate':trial.suggest_loguniform('learning_rate',0.01,0.1),\n",
      "\u001b[32m[I 2023-04-17 22:00:43,481]\u001b[0m Trial 8 finished with value: 0.7062331072160692 and parameters: {'learning_rate': 0.02918948993165168, 'max_depth': 8, 'n_estimators': 206}. Best is trial 0 with value: 0.7148276007834142.\u001b[0m\n",
      "/tmp/ipykernel_226056/2141867322.py:7: FutureWarning: suggest_loguniform has been deprecated in v3.0.0. This feature will be removed in v6.0.0. See https://github.com/optuna/optuna/releases/tag/v3.0.0. Use :func:`~optuna.trial.Trial.suggest_float` instead.\n",
      "  'learning_rate':trial.suggest_loguniform('learning_rate',0.01,0.1),\n",
      "\u001b[32m[I 2023-04-17 22:00:47,009]\u001b[0m Trial 9 finished with value: 0.7042855207992824 and parameters: {'learning_rate': 0.016436509243772476, 'max_depth': 5, 'n_estimators': 735}. Best is trial 0 with value: 0.7148276007834142.\u001b[0m\n",
      "/tmp/ipykernel_226056/2141867322.py:7: FutureWarning: suggest_loguniform has been deprecated in v3.0.0. This feature will be removed in v6.0.0. See https://github.com/optuna/optuna/releases/tag/v3.0.0. Use :func:`~optuna.trial.Trial.suggest_float` instead.\n",
      "  'learning_rate':trial.suggest_loguniform('learning_rate',0.01,0.1),\n",
      "\u001b[32m[I 2023-04-17 22:00:49,161]\u001b[0m Trial 10 finished with value: 0.7139300986932516 and parameters: {'learning_rate': 0.02030822819275724, 'max_depth': 3, 'n_estimators': 953}. Best is trial 0 with value: 0.7148276007834142.\u001b[0m\n",
      "/tmp/ipykernel_226056/2141867322.py:7: FutureWarning: suggest_loguniform has been deprecated in v3.0.0. This feature will be removed in v6.0.0. See https://github.com/optuna/optuna/releases/tag/v3.0.0. Use :func:`~optuna.trial.Trial.suggest_float` instead.\n",
      "  'learning_rate':trial.suggest_loguniform('learning_rate',0.01,0.1),\n",
      "\u001b[32m[I 2023-04-17 22:00:50,423]\u001b[0m Trial 11 finished with value: 0.7250167882212444 and parameters: {'learning_rate': 0.010268488989574661, 'max_depth': 3, 'n_estimators': 509}. Best is trial 11 with value: 0.7250167882212444.\u001b[0m\n",
      "/tmp/ipykernel_226056/2141867322.py:7: FutureWarning: suggest_loguniform has been deprecated in v3.0.0. This feature will be removed in v6.0.0. See https://github.com/optuna/optuna/releases/tag/v3.0.0. Use :func:`~optuna.trial.Trial.suggest_float` instead.\n",
      "  'learning_rate':trial.suggest_loguniform('learning_rate',0.01,0.1),\n",
      "\u001b[32m[I 2023-04-17 22:00:51,816]\u001b[0m Trial 12 finished with value: 0.7240092466978818 and parameters: {'learning_rate': 0.01089823712195973, 'max_depth': 3, 'n_estimators': 591}. Best is trial 11 with value: 0.7250167882212444.\u001b[0m\n",
      "/tmp/ipykernel_226056/2141867322.py:7: FutureWarning: suggest_loguniform has been deprecated in v3.0.0. This feature will be removed in v6.0.0. See https://github.com/optuna/optuna/releases/tag/v3.0.0. Use :func:`~optuna.trial.Trial.suggest_float` instead.\n",
      "  'learning_rate':trial.suggest_loguniform('learning_rate',0.01,0.1),\n",
      "\u001b[32m[I 2023-04-17 22:00:53,815]\u001b[0m Trial 13 finished with value: 0.7195007380852729 and parameters: {'learning_rate': 0.010166614940517845, 'max_depth': 4, 'n_estimators': 543}. Best is trial 11 with value: 0.7250167882212444.\u001b[0m\n",
      "/tmp/ipykernel_226056/2141867322.py:7: FutureWarning: suggest_loguniform has been deprecated in v3.0.0. This feature will be removed in v6.0.0. See https://github.com/optuna/optuna/releases/tag/v3.0.0. Use :func:`~optuna.trial.Trial.suggest_float` instead.\n",
      "  'learning_rate':trial.suggest_loguniform('learning_rate',0.01,0.1),\n",
      "\u001b[32m[I 2023-04-17 22:00:55,198]\u001b[0m Trial 14 finished with value: 0.7241845174526321 and parameters: {'learning_rate': 0.01014593026324957, 'max_depth': 3, 'n_estimators': 553}. Best is trial 11 with value: 0.7250167882212444.\u001b[0m\n",
      "/tmp/ipykernel_226056/2141867322.py:7: FutureWarning: suggest_loguniform has been deprecated in v3.0.0. This feature will be removed in v6.0.0. See https://github.com/optuna/optuna/releases/tag/v3.0.0. Use :func:`~optuna.trial.Trial.suggest_float` instead.\n",
      "  'learning_rate':trial.suggest_loguniform('learning_rate',0.01,0.1),\n",
      "\u001b[32m[I 2023-04-17 22:00:57,479]\u001b[0m Trial 15 finished with value: 0.7126580083254863 and parameters: {'learning_rate': 0.014386550532442375, 'max_depth': 5, 'n_estimators': 441}. Best is trial 11 with value: 0.7250167882212444.\u001b[0m\n",
      "/tmp/ipykernel_226056/2141867322.py:7: FutureWarning: suggest_loguniform has been deprecated in v3.0.0. This feature will be removed in v6.0.0. See https://github.com/optuna/optuna/releases/tag/v3.0.0. Use :func:`~optuna.trial.Trial.suggest_float` instead.\n",
      "  'learning_rate':trial.suggest_loguniform('learning_rate',0.01,0.1),\n",
      "\u001b[32m[I 2023-04-17 22:00:58,128]\u001b[0m Trial 16 finished with value: 0.7156412593418773 and parameters: {'learning_rate': 0.017769222172776378, 'max_depth': 5, 'n_estimators': 102}. Best is trial 11 with value: 0.7250167882212444.\u001b[0m\n",
      "/tmp/ipykernel_226056/2141867322.py:7: FutureWarning: suggest_loguniform has been deprecated in v3.0.0. This feature will be removed in v6.0.0. See https://github.com/optuna/optuna/releases/tag/v3.0.0. Use :func:`~optuna.trial.Trial.suggest_float` instead.\n",
      "  'learning_rate':trial.suggest_loguniform('learning_rate',0.01,0.1),\n",
      "\u001b[32m[I 2023-04-17 22:00:59,503]\u001b[0m Trial 17 finished with value: 0.7225095984129873 and parameters: {'learning_rate': 0.012143996033678535, 'max_depth': 3, 'n_estimators': 592}. Best is trial 11 with value: 0.7250167882212444.\u001b[0m\n",
      "/tmp/ipykernel_226056/2141867322.py:7: FutureWarning: suggest_loguniform has been deprecated in v3.0.0. This feature will be removed in v6.0.0. See https://github.com/optuna/optuna/releases/tag/v3.0.0. Use :func:`~optuna.trial.Trial.suggest_float` instead.\n",
      "  'learning_rate':trial.suggest_loguniform('learning_rate',0.01,0.1),\n",
      "\u001b[32m[I 2023-04-17 22:01:04,043]\u001b[0m Trial 18 finished with value: 0.7053927293451727 and parameters: {'learning_rate': 0.014335833335477936, 'max_depth': 9, 'n_estimators': 486}. Best is trial 11 with value: 0.7250167882212444.\u001b[0m\n",
      "/tmp/ipykernel_226056/2141867322.py:7: FutureWarning: suggest_loguniform has been deprecated in v3.0.0. This feature will be removed in v6.0.0. See https://github.com/optuna/optuna/releases/tag/v3.0.0. Use :func:`~optuna.trial.Trial.suggest_float` instead.\n",
      "  'learning_rate':trial.suggest_loguniform('learning_rate',0.01,0.1),\n",
      "\u001b[32m[I 2023-04-17 22:01:05,209]\u001b[0m Trial 19 finished with value: 0.721831510975866 and parameters: {'learning_rate': 0.01055829370877685, 'max_depth': 4, 'n_estimators': 302}. Best is trial 11 with value: 0.7250167882212444.\u001b[0m\n",
      "/tmp/ipykernel_226056/2141867322.py:7: FutureWarning: suggest_loguniform has been deprecated in v3.0.0. This feature will be removed in v6.0.0. See https://github.com/optuna/optuna/releases/tag/v3.0.0. Use :func:`~optuna.trial.Trial.suggest_float` instead.\n",
      "  'learning_rate':trial.suggest_loguniform('learning_rate',0.01,0.1),\n",
      "\u001b[32m[I 2023-04-17 22:01:10,077]\u001b[0m Trial 20 finished with value: 0.7015553241615777 and parameters: {'learning_rate': 0.01992000266410147, 'max_depth': 7, 'n_estimators': 633}. Best is trial 11 with value: 0.7250167882212444.\u001b[0m\n",
      "/tmp/ipykernel_226056/2141867322.py:7: FutureWarning: suggest_loguniform has been deprecated in v3.0.0. This feature will be removed in v6.0.0. See https://github.com/optuna/optuna/releases/tag/v3.0.0. Use :func:`~optuna.trial.Trial.suggest_float` instead.\n",
      "  'learning_rate':trial.suggest_loguniform('learning_rate',0.01,0.1),\n",
      "\u001b[32m[I 2023-04-17 22:01:11,315]\u001b[0m Trial 21 finished with value: 0.7247199840871439 and parameters: {'learning_rate': 0.011239122791391408, 'max_depth': 3, 'n_estimators': 534}. Best is trial 11 with value: 0.7250167882212444.\u001b[0m\n",
      "/tmp/ipykernel_226056/2141867322.py:7: FutureWarning: suggest_loguniform has been deprecated in v3.0.0. This feature will be removed in v6.0.0. See https://github.com/optuna/optuna/releases/tag/v3.0.0. Use :func:`~optuna.trial.Trial.suggest_float` instead.\n",
      "  'learning_rate':trial.suggest_loguniform('learning_rate',0.01,0.1),\n",
      "\u001b[32m[I 2023-04-17 22:01:12,302]\u001b[0m Trial 22 finished with value: 0.724360469358597 and parameters: {'learning_rate': 0.012954588818320794, 'max_depth': 3, 'n_estimators': 421}. Best is trial 11 with value: 0.7250167882212444.\u001b[0m\n",
      "/tmp/ipykernel_226056/2141867322.py:7: FutureWarning: suggest_loguniform has been deprecated in v3.0.0. This feature will be removed in v6.0.0. See https://github.com/optuna/optuna/releases/tag/v3.0.0. Use :func:`~optuna.trial.Trial.suggest_float` instead.\n",
      "  'learning_rate':trial.suggest_loguniform('learning_rate',0.01,0.1),\n",
      "\u001b[32m[I 2023-04-17 22:01:13,775]\u001b[0m Trial 23 finished with value: 0.7203645521301392 and parameters: {'learning_rate': 0.013057888314121573, 'max_depth': 4, 'n_estimators': 400}. Best is trial 11 with value: 0.7250167882212444.\u001b[0m\n",
      "/tmp/ipykernel_226056/2141867322.py:7: FutureWarning: suggest_loguniform has been deprecated in v3.0.0. This feature will be removed in v6.0.0. See https://github.com/optuna/optuna/releases/tag/v3.0.0. Use :func:`~optuna.trial.Trial.suggest_float` instead.\n",
      "  'learning_rate':trial.suggest_loguniform('learning_rate',0.01,0.1),\n",
      "\u001b[32m[I 2023-04-17 22:01:14,402]\u001b[0m Trial 24 finished with value: 0.72558451710764 and parameters: {'learning_rate': 0.015559063012095286, 'max_depth': 3, 'n_estimators': 253}. Best is trial 24 with value: 0.72558451710764.\u001b[0m\n",
      "/tmp/ipykernel_226056/2141867322.py:7: FutureWarning: suggest_loguniform has been deprecated in v3.0.0. This feature will be removed in v6.0.0. See https://github.com/optuna/optuna/releases/tag/v3.0.0. Use :func:`~optuna.trial.Trial.suggest_float` instead.\n",
      "  'learning_rate':trial.suggest_loguniform('learning_rate',0.01,0.1),\n",
      "\u001b[32m[I 2023-04-17 22:01:15,762]\u001b[0m Trial 25 finished with value: 0.717686829179059 and parameters: {'learning_rate': 0.016057605827065967, 'max_depth': 5, 'n_estimators': 243}. Best is trial 24 with value: 0.72558451710764.\u001b[0m\n",
      "/tmp/ipykernel_226056/2141867322.py:7: FutureWarning: suggest_loguniform has been deprecated in v3.0.0. This feature will be removed in v6.0.0. See https://github.com/optuna/optuna/releases/tag/v3.0.0. Use :func:`~optuna.trial.Trial.suggest_float` instead.\n",
      "  'learning_rate':trial.suggest_loguniform('learning_rate',0.01,0.1),\n",
      "\u001b[32m[I 2023-04-17 22:01:16,330]\u001b[0m Trial 26 finished with value: 0.7191008521321197 and parameters: {'learning_rate': 0.01189855239963845, 'max_depth': 4, 'n_estimators': 130}. Best is trial 24 with value: 0.72558451710764.\u001b[0m\n",
      "/tmp/ipykernel_226056/2141867322.py:7: FutureWarning: suggest_loguniform has been deprecated in v3.0.0. This feature will be removed in v6.0.0. See https://github.com/optuna/optuna/releases/tag/v3.0.0. Use :func:`~optuna.trial.Trial.suggest_float` instead.\n",
      "  'learning_rate':trial.suggest_loguniform('learning_rate',0.01,0.1),\n",
      "\u001b[32m[I 2023-04-17 22:01:16,901]\u001b[0m Trial 27 finished with value: 0.7254767365402077 and parameters: {'learning_rate': 0.015046665210148068, 'max_depth': 3, 'n_estimators': 230}. Best is trial 24 with value: 0.72558451710764.\u001b[0m\n",
      "/tmp/ipykernel_226056/2141867322.py:7: FutureWarning: suggest_loguniform has been deprecated in v3.0.0. This feature will be removed in v6.0.0. See https://github.com/optuna/optuna/releases/tag/v3.0.0. Use :func:`~optuna.trial.Trial.suggest_float` instead.\n",
      "  'learning_rate':trial.suggest_loguniform('learning_rate',0.01,0.1),\n",
      "\u001b[32m[I 2023-04-17 22:01:17,664]\u001b[0m Trial 28 finished with value: 0.7200990538305647 and parameters: {'learning_rate': 0.021365233720110514, 'max_depth': 4, 'n_estimators': 200}. Best is trial 24 with value: 0.72558451710764.\u001b[0m\n",
      "/tmp/ipykernel_226056/2141867322.py:7: FutureWarning: suggest_loguniform has been deprecated in v3.0.0. This feature will be removed in v6.0.0. See https://github.com/optuna/optuna/releases/tag/v3.0.0. Use :func:`~optuna.trial.Trial.suggest_float` instead.\n",
      "  'learning_rate':trial.suggest_loguniform('learning_rate',0.01,0.1),\n",
      "\u001b[32m[I 2023-04-17 22:01:18,292]\u001b[0m Trial 29 finished with value: 0.7234879479047238 and parameters: {'learning_rate': 0.024474234048168238, 'max_depth': 3, 'n_estimators': 260}. Best is trial 24 with value: 0.72558451710764.\u001b[0m\n",
      "/tmp/ipykernel_226056/2141867322.py:7: FutureWarning: suggest_loguniform has been deprecated in v3.0.0. This feature will be removed in v6.0.0. See https://github.com/optuna/optuna/releases/tag/v3.0.0. Use :func:`~optuna.trial.Trial.suggest_float` instead.\n",
      "  'learning_rate':trial.suggest_loguniform('learning_rate',0.01,0.1),\n",
      "\u001b[32m[I 2023-04-17 22:01:19,331]\u001b[0m Trial 30 finished with value: 0.7157522390858844 and parameters: {'learning_rate': 0.014587381051710284, 'max_depth': 5, 'n_estimators': 173}. Best is trial 24 with value: 0.72558451710764.\u001b[0m\n",
      "/tmp/ipykernel_226056/2141867322.py:7: FutureWarning: suggest_loguniform has been deprecated in v3.0.0. This feature will be removed in v6.0.0. See https://github.com/optuna/optuna/releases/tag/v3.0.0. Use :func:`~optuna.trial.Trial.suggest_float` instead.\n",
      "  'learning_rate':trial.suggest_loguniform('learning_rate',0.01,0.1),\n",
      "\u001b[32m[I 2023-04-17 22:01:20,166]\u001b[0m Trial 31 finished with value: 0.7250552358041592 and parameters: {'learning_rate': 0.016301322995634086, 'max_depth': 3, 'n_estimators': 356}. Best is trial 24 with value: 0.72558451710764.\u001b[0m\n",
      "/tmp/ipykernel_226056/2141867322.py:7: FutureWarning: suggest_loguniform has been deprecated in v3.0.0. This feature will be removed in v6.0.0. See https://github.com/optuna/optuna/releases/tag/v3.0.0. Use :func:`~optuna.trial.Trial.suggest_float` instead.\n",
      "  'learning_rate':trial.suggest_loguniform('learning_rate',0.01,0.1),\n",
      "\u001b[32m[I 2023-04-17 22:01:21,033]\u001b[0m Trial 32 finished with value: 0.7237514127263238 and parameters: {'learning_rate': 0.01739453721648895, 'max_depth': 3, 'n_estimators': 376}. Best is trial 24 with value: 0.72558451710764.\u001b[0m\n",
      "/tmp/ipykernel_226056/2141867322.py:7: FutureWarning: suggest_loguniform has been deprecated in v3.0.0. This feature will be removed in v6.0.0. See https://github.com/optuna/optuna/releases/tag/v3.0.0. Use :func:`~optuna.trial.Trial.suggest_float` instead.\n",
      "  'learning_rate':trial.suggest_loguniform('learning_rate',0.01,0.1),\n",
      "\u001b[32m[I 2023-04-17 22:01:22,049]\u001b[0m Trial 33 finished with value: 0.720687503638262 and parameters: {'learning_rate': 0.015026486502435923, 'max_depth': 4, 'n_estimators': 273}. Best is trial 24 with value: 0.72558451710764.\u001b[0m\n",
      "/tmp/ipykernel_226056/2141867322.py:7: FutureWarning: suggest_loguniform has been deprecated in v3.0.0. This feature will be removed in v6.0.0. See https://github.com/optuna/optuna/releases/tag/v3.0.0. Use :func:`~optuna.trial.Trial.suggest_float` instead.\n",
      "  'learning_rate':trial.suggest_loguniform('learning_rate',0.01,0.1),\n",
      "\u001b[32m[I 2023-04-17 22:01:22,833]\u001b[0m Trial 34 finished with value: 0.7236967577971136 and parameters: {'learning_rate': 0.019523691403952208, 'max_depth': 3, 'n_estimators': 338}. Best is trial 24 with value: 0.72558451710764.\u001b[0m\n",
      "/tmp/ipykernel_226056/2141867322.py:7: FutureWarning: suggest_loguniform has been deprecated in v3.0.0. This feature will be removed in v6.0.0. See https://github.com/optuna/optuna/releases/tag/v3.0.0. Use :func:`~optuna.trial.Trial.suggest_float` instead.\n",
      "  'learning_rate':trial.suggest_loguniform('learning_rate',0.01,0.1),\n",
      "\u001b[32m[I 2023-04-17 22:01:24,455]\u001b[0m Trial 35 finished with value: 0.7169462784609761 and parameters: {'learning_rate': 0.017932267836183537, 'max_depth': 4, 'n_estimators': 471}. Best is trial 24 with value: 0.72558451710764.\u001b[0m\n",
      "/tmp/ipykernel_226056/2141867322.py:7: FutureWarning: suggest_loguniform has been deprecated in v3.0.0. This feature will be removed in v6.0.0. See https://github.com/optuna/optuna/releases/tag/v3.0.0. Use :func:`~optuna.trial.Trial.suggest_float` instead.\n",
      "  'learning_rate':trial.suggest_loguniform('learning_rate',0.01,0.1),\n",
      "\u001b[32m[I 2023-04-17 22:01:24,882]\u001b[0m Trial 36 finished with value: 0.7196340873339562 and parameters: {'learning_rate': 0.012435389544930247, 'max_depth': 3, 'n_estimators': 166}. Best is trial 24 with value: 0.72558451710764.\u001b[0m\n",
      "/tmp/ipykernel_226056/2141867322.py:7: FutureWarning: suggest_loguniform has been deprecated in v3.0.0. This feature will be removed in v6.0.0. See https://github.com/optuna/optuna/releases/tag/v3.0.0. Use :func:`~optuna.trial.Trial.suggest_float` instead.\n",
      "  'learning_rate':trial.suggest_loguniform('learning_rate',0.01,0.1),\n",
      "\u001b[32m[I 2023-04-17 22:01:27,268]\u001b[0m Trial 37 finished with value: 0.7042646419298733 and parameters: {'learning_rate': 0.02232509766147348, 'max_depth': 7, 'n_estimators': 300}. Best is trial 24 with value: 0.72558451710764.\u001b[0m\n",
      "/tmp/ipykernel_226056/2141867322.py:7: FutureWarning: suggest_loguniform has been deprecated in v3.0.0. This feature will be removed in v6.0.0. See https://github.com/optuna/optuna/releases/tag/v3.0.0. Use :func:`~optuna.trial.Trial.suggest_float` instead.\n",
      "  'learning_rate':trial.suggest_loguniform('learning_rate',0.01,0.1),\n",
      "\u001b[32m[I 2023-04-17 22:01:28,119]\u001b[0m Trial 38 finished with value: 0.7175936466537478 and parameters: {'learning_rate': 0.028104562391665745, 'max_depth': 4, 'n_estimators': 227}. Best is trial 24 with value: 0.72558451710764.\u001b[0m\n",
      "/tmp/ipykernel_226056/2141867322.py:7: FutureWarning: suggest_loguniform has been deprecated in v3.0.0. This feature will be removed in v6.0.0. See https://github.com/optuna/optuna/releases/tag/v3.0.0. Use :func:`~optuna.trial.Trial.suggest_float` instead.\n",
      "  'learning_rate':trial.suggest_loguniform('learning_rate',0.01,0.1),\n",
      "\u001b[32m[I 2023-04-17 22:01:29,021]\u001b[0m Trial 39 finished with value: 0.7250694450029782 and parameters: {'learning_rate': 0.015154514642379062, 'max_depth': 3, 'n_estimators': 383}. Best is trial 24 with value: 0.72558451710764.\u001b[0m\n",
      "/tmp/ipykernel_226056/2141867322.py:7: FutureWarning: suggest_loguniform has been deprecated in v3.0.0. This feature will be removed in v6.0.0. See https://github.com/optuna/optuna/releases/tag/v3.0.0. Use :func:`~optuna.trial.Trial.suggest_float` instead.\n",
      "  'learning_rate':trial.suggest_loguniform('learning_rate',0.01,0.1),\n",
      "\u001b[32m[I 2023-04-17 22:01:30,213]\u001b[0m Trial 40 finished with value: 0.7173572559043445 and parameters: {'learning_rate': 0.02382028714724952, 'max_depth': 4, 'n_estimators': 333}. Best is trial 24 with value: 0.72558451710764.\u001b[0m\n",
      "/tmp/ipykernel_226056/2141867322.py:7: FutureWarning: suggest_loguniform has been deprecated in v3.0.0. This feature will be removed in v6.0.0. See https://github.com/optuna/optuna/releases/tag/v3.0.0. Use :func:`~optuna.trial.Trial.suggest_float` instead.\n",
      "  'learning_rate':trial.suggest_loguniform('learning_rate',0.01,0.1),\n",
      "\u001b[32m[I 2023-04-17 22:01:31,099]\u001b[0m Trial 41 finished with value: 0.7247510713921498 and parameters: {'learning_rate': 0.015893955108152932, 'max_depth': 3, 'n_estimators': 369}. Best is trial 24 with value: 0.72558451710764.\u001b[0m\n",
      "/tmp/ipykernel_226056/2141867322.py:7: FutureWarning: suggest_loguniform has been deprecated in v3.0.0. This feature will be removed in v6.0.0. See https://github.com/optuna/optuna/releases/tag/v3.0.0. Use :func:`~optuna.trial.Trial.suggest_float` instead.\n",
      "  'learning_rate':trial.suggest_loguniform('learning_rate',0.01,0.1),\n",
      "\u001b[32m[I 2023-04-17 22:01:32,263]\u001b[0m Trial 42 finished with value: 0.7237492387576641 and parameters: {'learning_rate': 0.013745330268225655, 'max_depth': 3, 'n_estimators': 493}. Best is trial 24 with value: 0.72558451710764.\u001b[0m\n",
      "/tmp/ipykernel_226056/2141867322.py:7: FutureWarning: suggest_loguniform has been deprecated in v3.0.0. This feature will be removed in v6.0.0. See https://github.com/optuna/optuna/releases/tag/v3.0.0. Use :func:`~optuna.trial.Trial.suggest_float` instead.\n",
      "  'learning_rate':trial.suggest_loguniform('learning_rate',0.01,0.1),\n",
      "\u001b[32m[I 2023-04-17 22:01:33,230]\u001b[0m Trial 43 finished with value: 0.7258091900817982 and parameters: {'learning_rate': 0.01188869141183796, 'max_depth': 3, 'n_estimators': 398}. Best is trial 43 with value: 0.7258091900817982.\u001b[0m\n",
      "/tmp/ipykernel_226056/2141867322.py:7: FutureWarning: suggest_loguniform has been deprecated in v3.0.0. This feature will be removed in v6.0.0. See https://github.com/optuna/optuna/releases/tag/v3.0.0. Use :func:`~optuna.trial.Trial.suggest_float` instead.\n",
      "  'learning_rate':trial.suggest_loguniform('learning_rate',0.01,0.1),\n",
      "\u001b[32m[I 2023-04-17 22:01:33,942]\u001b[0m Trial 44 finished with value: 0.7257179264181698 and parameters: {'learning_rate': 0.01659227322188159, 'max_depth': 3, 'n_estimators': 284}. Best is trial 43 with value: 0.7258091900817982.\u001b[0m\n",
      "/tmp/ipykernel_226056/2141867322.py:7: FutureWarning: suggest_loguniform has been deprecated in v3.0.0. This feature will be removed in v6.0.0. See https://github.com/optuna/optuna/releases/tag/v3.0.0. Use :func:`~optuna.trial.Trial.suggest_float` instead.\n",
      "  'learning_rate':trial.suggest_loguniform('learning_rate',0.01,0.1),\n",
      "\u001b[32m[I 2023-04-17 22:01:35,023]\u001b[0m Trial 45 finished with value: 0.7194145345802339 and parameters: {'learning_rate': 0.019046422950064593, 'max_depth': 4, 'n_estimators': 287}. Best is trial 43 with value: 0.7258091900817982.\u001b[0m\n",
      "/tmp/ipykernel_226056/2141867322.py:7: FutureWarning: suggest_loguniform has been deprecated in v3.0.0. This feature will be removed in v6.0.0. See https://github.com/optuna/optuna/releases/tag/v3.0.0. Use :func:`~optuna.trial.Trial.suggest_float` instead.\n",
      "  'learning_rate':trial.suggest_loguniform('learning_rate',0.01,0.1),\n",
      "\u001b[32m[I 2023-04-17 22:01:35,485]\u001b[0m Trial 46 finished with value: 0.7194294065376259 and parameters: {'learning_rate': 0.011503605323059836, 'max_depth': 3, 'n_estimators': 173}. Best is trial 43 with value: 0.7258091900817982.\u001b[0m\n",
      "/tmp/ipykernel_226056/2141867322.py:7: FutureWarning: suggest_loguniform has been deprecated in v3.0.0. This feature will be removed in v6.0.0. See https://github.com/optuna/optuna/releases/tag/v3.0.0. Use :func:`~optuna.trial.Trial.suggest_float` instead.\n",
      "  'learning_rate':trial.suggest_loguniform('learning_rate',0.01,0.1),\n",
      "\u001b[32m[I 2023-04-17 22:01:36,487]\u001b[0m Trial 47 finished with value: 0.7210784362197955 and parameters: {'learning_rate': 0.01509208773126547, 'max_depth': 4, 'n_estimators': 259}. Best is trial 43 with value: 0.7258091900817982.\u001b[0m\n",
      "/tmp/ipykernel_226056/2141867322.py:7: FutureWarning: suggest_loguniform has been deprecated in v3.0.0. This feature will be removed in v6.0.0. See https://github.com/optuna/optuna/releases/tag/v3.0.0. Use :func:`~optuna.trial.Trial.suggest_float` instead.\n",
      "  'learning_rate':trial.suggest_loguniform('learning_rate',0.01,0.1),\n",
      "\u001b[32m[I 2023-04-17 22:01:37,480]\u001b[0m Trial 48 finished with value: 0.7249886857198222 and parameters: {'learning_rate': 0.013462012662418692, 'max_depth': 3, 'n_estimators': 416}. Best is trial 43 with value: 0.7258091900817982.\u001b[0m\n",
      "/tmp/ipykernel_226056/2141867322.py:7: FutureWarning: suggest_loguniform has been deprecated in v3.0.0. This feature will be removed in v6.0.0. See https://github.com/optuna/optuna/releases/tag/v3.0.0. Use :func:`~optuna.trial.Trial.suggest_float` instead.\n",
      "  'learning_rate':trial.suggest_loguniform('learning_rate',0.01,0.1),\n",
      "\u001b[32m[I 2023-04-17 22:01:37,855]\u001b[0m Trial 49 finished with value: 0.7218203662820776 and parameters: {'learning_rate': 0.01733310357085721, 'max_depth': 3, 'n_estimators': 136}. Best is trial 43 with value: 0.7258091900817982.\u001b[0m\n"
     ]
    },
    {
     "name": "stdout",
     "output_type": "stream",
     "text": [
      "Best hyperparameters: {'learning_rate': 0.01188869141183796, 'max_depth': 3, 'n_estimators': 398}\n",
      "Best AUC: 0.7258\n"
     ]
    }
   ],
   "source": [
    "def objective(trial):\n",
    "    # Define hyperparameters to optimize \n",
    "    params={\n",
    "        'boosting_type':'gbdt',\n",
    "        'objective':'binary',\n",
    "        'metric':'binary_logloss',\n",
    "        'learning_rate':trial.suggest_loguniform('learning_rate',0.01,0.1),\n",
    "        'max_depth':trial.suggest_int('max_depth',3,9),\n",
    "        'n_estimators':trial.suggest_int(\"n_estimators\",100,1000)\n",
    "    }\n",
    "    # Train and evaluate model \n",
    "    lgb_cv=lgb.LGBMClassifier(**params, random_state=42,scale_pos_weight=ratio)\n",
    "    scores=cross_val_score(lgb_cv,train_X,train_y,cv=5,scoring='roc_auc')\n",
    "    auc=scores.mean()\n",
    "    return auc \n",
    "\n",
    "# Define study object and optimize \n",
    "\n",
    "study=optuna.create_study(direction='maximize',study_name='lgb_boost_opt',load_if_exists=True)\n",
    "study.optimize(objective, n_trials=50)\n",
    "\n",
    "# Print best hyperparameters and auc\n",
    "print(f'Best hyperparameters: {study.best_params}')\n",
    "print(f'Best AUC: {study.best_value:.4f}')"
   ]
  },
  {
   "cell_type": "code",
   "execution_count": 8,
   "metadata": {},
   "outputs": [],
   "source": [
    "lgb=lgb.LGBMClassifier(learning_rate=0.01188869141183796,max_depth=3,n_estimators=398,scale_pos_weight=ratio,random_state=42)"
   ]
  },
  {
   "cell_type": "code",
   "execution_count": 9,
   "metadata": {},
   "outputs": [
    {
     "data": {
      "text/html": [
       "<style>#sk-container-id-1 {color: black;background-color: white;}#sk-container-id-1 pre{padding: 0;}#sk-container-id-1 div.sk-toggleable {background-color: white;}#sk-container-id-1 label.sk-toggleable__label {cursor: pointer;display: block;width: 100%;margin-bottom: 0;padding: 0.3em;box-sizing: border-box;text-align: center;}#sk-container-id-1 label.sk-toggleable__label-arrow:before {content: \"▸\";float: left;margin-right: 0.25em;color: #696969;}#sk-container-id-1 label.sk-toggleable__label-arrow:hover:before {color: black;}#sk-container-id-1 div.sk-estimator:hover label.sk-toggleable__label-arrow:before {color: black;}#sk-container-id-1 div.sk-toggleable__content {max-height: 0;max-width: 0;overflow: hidden;text-align: left;background-color: #f0f8ff;}#sk-container-id-1 div.sk-toggleable__content pre {margin: 0.2em;color: black;border-radius: 0.25em;background-color: #f0f8ff;}#sk-container-id-1 input.sk-toggleable__control:checked~div.sk-toggleable__content {max-height: 200px;max-width: 100%;overflow: auto;}#sk-container-id-1 input.sk-toggleable__control:checked~label.sk-toggleable__label-arrow:before {content: \"▾\";}#sk-container-id-1 div.sk-estimator input.sk-toggleable__control:checked~label.sk-toggleable__label {background-color: #d4ebff;}#sk-container-id-1 div.sk-label input.sk-toggleable__control:checked~label.sk-toggleable__label {background-color: #d4ebff;}#sk-container-id-1 input.sk-hidden--visually {border: 0;clip: rect(1px 1px 1px 1px);clip: rect(1px, 1px, 1px, 1px);height: 1px;margin: -1px;overflow: hidden;padding: 0;position: absolute;width: 1px;}#sk-container-id-1 div.sk-estimator {font-family: monospace;background-color: #f0f8ff;border: 1px dotted black;border-radius: 0.25em;box-sizing: border-box;margin-bottom: 0.5em;}#sk-container-id-1 div.sk-estimator:hover {background-color: #d4ebff;}#sk-container-id-1 div.sk-parallel-item::after {content: \"\";width: 100%;border-bottom: 1px solid gray;flex-grow: 1;}#sk-container-id-1 div.sk-label:hover label.sk-toggleable__label {background-color: #d4ebff;}#sk-container-id-1 div.sk-serial::before {content: \"\";position: absolute;border-left: 1px solid gray;box-sizing: border-box;top: 0;bottom: 0;left: 50%;z-index: 0;}#sk-container-id-1 div.sk-serial {display: flex;flex-direction: column;align-items: center;background-color: white;padding-right: 0.2em;padding-left: 0.2em;position: relative;}#sk-container-id-1 div.sk-item {position: relative;z-index: 1;}#sk-container-id-1 div.sk-parallel {display: flex;align-items: stretch;justify-content: center;background-color: white;position: relative;}#sk-container-id-1 div.sk-item::before, #sk-container-id-1 div.sk-parallel-item::before {content: \"\";position: absolute;border-left: 1px solid gray;box-sizing: border-box;top: 0;bottom: 0;left: 50%;z-index: -1;}#sk-container-id-1 div.sk-parallel-item {display: flex;flex-direction: column;z-index: 1;position: relative;background-color: white;}#sk-container-id-1 div.sk-parallel-item:first-child::after {align-self: flex-end;width: 50%;}#sk-container-id-1 div.sk-parallel-item:last-child::after {align-self: flex-start;width: 50%;}#sk-container-id-1 div.sk-parallel-item:only-child::after {width: 0;}#sk-container-id-1 div.sk-dashed-wrapped {border: 1px dashed gray;margin: 0 0.4em 0.5em 0.4em;box-sizing: border-box;padding-bottom: 0.4em;background-color: white;}#sk-container-id-1 div.sk-label label {font-family: monospace;font-weight: bold;display: inline-block;line-height: 1.2em;}#sk-container-id-1 div.sk-label-container {text-align: center;}#sk-container-id-1 div.sk-container {/* jupyter's `normalize.less` sets `[hidden] { display: none; }` but bootstrap.min.css set `[hidden] { display: none !important; }` so we also need the `!important` here to be able to override the default hidden behavior on the sphinx rendered scikit-learn.org. See: https://github.com/scikit-learn/scikit-learn/issues/21755 */display: inline-block !important;position: relative;}#sk-container-id-1 div.sk-text-repr-fallback {display: none;}</style><div id=\"sk-container-id-1\" class=\"sk-top-container\"><div class=\"sk-text-repr-fallback\"><pre>LGBMClassifier(learning_rate=0.01188869141183796, max_depth=3, n_estimators=398,\n",
       "               random_state=42, scale_pos_weight=5.529411764705882)</pre><b>In a Jupyter environment, please rerun this cell to show the HTML representation or trust the notebook. <br />On GitHub, the HTML representation is unable to render, please try loading this page with nbviewer.org.</b></div><div class=\"sk-container\" hidden><div class=\"sk-item\"><div class=\"sk-estimator sk-toggleable\"><input class=\"sk-toggleable__control sk-hidden--visually\" id=\"sk-estimator-id-1\" type=\"checkbox\" checked><label for=\"sk-estimator-id-1\" class=\"sk-toggleable__label sk-toggleable__label-arrow\">LGBMClassifier</label><div class=\"sk-toggleable__content\"><pre>LGBMClassifier(learning_rate=0.01188869141183796, max_depth=3, n_estimators=398,\n",
       "               random_state=42, scale_pos_weight=5.529411764705882)</pre></div></div></div></div></div>"
      ],
      "text/plain": [
       "LGBMClassifier(learning_rate=0.01188869141183796, max_depth=3, n_estimators=398,\n",
       "               random_state=42, scale_pos_weight=5.529411764705882)"
      ]
     },
     "execution_count": 9,
     "metadata": {},
     "output_type": "execute_result"
    }
   ],
   "source": [
    "# 모델 학습하기\n",
    "\n",
    "lgb.fit(train_X,train_y)"
   ]
  },
  {
   "cell_type": "code",
   "execution_count": 10,
   "metadata": {},
   "outputs": [],
   "source": [
    "# 모델의 성능(AUC)을 평가하기 위해 예측된 클래스가 불량일 확률 구하기\n",
    "\n",
    "prob=lgb.predict_proba(new_test_data_X)[:,1]"
   ]
  },
  {
   "cell_type": "code",
   "execution_count": 37,
   "metadata": {},
   "outputs": [],
   "source": [
    "# 모델 성능 평가함수 만들기\n",
    "\n",
    "from sklearn.metrics import accuracy_score, precision_score, recall_score, confusion_matrix, f1_score\n",
    "\n",
    "def get_clf_prob(y_test, probability):\n",
    "  pred=np.where(probability > 0.63,1,0)\n",
    "  confusion=confusion_matrix(y_test, pred)\n",
    "  accuracy=accuracy_score(y_test,pred)\n",
    "  precision=precision_score(y_test,pred) \n",
    "  recall=recall_score(y_test,pred) \n",
    "  # F1 스코어 추가 \n",
    "  f1=f1_score(y_test,pred,average='macro')\n",
    "  Roc_score=roc_auc_score(y_test,probability)\n",
    "  print('임계값: ', 0.5) \n",
    "  print('오차행렬')\n",
    "  print(confusion) \n",
    "  # f1 score print 추가 \n",
    "  print('정확도: {0:.4f}, 정밀도: {1:.4f}, 재현율: {2:.4f}, F1:{3:.4f}, AUC:{4: .4f}'.format(accuracy,precision,recall,f1,Roc_score))"
   ]
  },
  {
   "cell_type": "code",
   "execution_count": 38,
   "metadata": {},
   "outputs": [
    {
     "name": "stdout",
     "output_type": "stream",
     "text": [
      "임계값:  0.5\n",
      "오차행렬\n",
      "[[595  87]\n",
      " [ 78  45]]\n",
      "정확도: 0.7950, 정밀도: 0.3409, 재현율: 0.3659, F1:0.6156, AUC: 0.7001\n"
     ]
    }
   ],
   "source": [
    "# 모델 평가하기\n",
    "\n",
    "get_clf_prob(new_test_data_y,prob)"
   ]
  },
  {
   "cell_type": "code",
   "execution_count": null,
   "metadata": {},
   "outputs": [],
   "source": []
  }
 ],
 "metadata": {
  "kernelspec": {
   "display_name": "Python 3",
   "language": "python",
   "name": "python3"
  },
  "language_info": {
   "codemirror_mode": {
    "name": "ipython",
    "version": 3
   },
   "file_extension": ".py",
   "mimetype": "text/x-python",
   "name": "python",
   "nbconvert_exporter": "python",
   "pygments_lexer": "ipython3",
   "version": "3.8.10"
  },
  "orig_nbformat": 4
 },
 "nbformat": 4,
 "nbformat_minor": 2
}
