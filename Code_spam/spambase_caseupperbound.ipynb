{
 "cells": [
  {
   "cell_type": "code",
   "execution_count": 1,
   "metadata": {},
   "outputs": [],
   "source": [
    "import pandas as pd \n",
    "import numpy as np \n",
    "import matplotlib.pyplot as plt \n",
    "import optuna \n",
    "import lightgbm as lgb \n",
    "from sklearn.metrics import accuracy_score, roc_auc_score,precision_score, confusion_matrix,recall_score \n",
    "from sklearn.model_selection import cross_val_score, train_test_split\n",
    "import os "
   ]
  },
  {
   "cell_type": "code",
   "execution_count": 2,
   "metadata": {},
   "outputs": [],
   "source": [
    "train_data=pd.read_csv('/home/iai/son/lastcheck/spambase_train_data.csv')\n",
    "test_data=pd.read_csv('/home/iai/son/lastcheck/spambase_test_data.csv')\n"
   ]
  },
  {
   "cell_type": "code",
   "execution_count": 3,
   "metadata": {},
   "outputs": [],
   "source": [
    "train_stage_features=['0.7', '278', '61', '0', '0.34', '0.30', '0.5', '0.44', '0.40', '0.778',\n",
    "                        '0.24', '1.93', '0.39', '1.29', '0.43', '0.2', '0.36', '0.17', '0.20', \n",
    "                        '0.28', '0.21', '0.32.1', '0.41', '0.29', '3.756', '0.35', '0.25', '0.15', \n",
    "                        '0.64.1', '0.38', '0.45', '0.6', '0.33', '0.42', '0.14', '0.9', '0.10', \n",
    "                        '0.3', '0.13', '0.8', '0.19', '0.23', '0.18', '0.22', '0.16', '0.64.2', \n",
    "                        '0.1', '0.31', '0.27', '0.11', '0.4', '0.12', '0.26', '0.64', '0.37', '0.32', '0.96']"
   ]
  },
  {
   "cell_type": "code",
   "execution_count": 4,
   "metadata": {},
   "outputs": [],
   "source": [
    "train_X=train_data[train_stage_features]\n",
    "train_y=train_data['1']\n",
    "\n",
    "new_test_data_X=test_data[train_stage_features]\n",
    "new_test_data_y=test_data['1']"
   ]
  },
  {
   "cell_type": "code",
   "execution_count": 5,
   "metadata": {},
   "outputs": [],
   "source": [
    "ratio=train_y.value_counts()[0]/train_y.value_counts()[1]"
   ]
  },
  {
   "cell_type": "code",
   "execution_count": 6,
   "metadata": {},
   "outputs": [
    {
     "name": "stderr",
     "output_type": "stream",
     "text": [
      "\u001b[32m[I 2023-04-25 20:46:00,990]\u001b[0m A new study created in memory with name: lgb_boost_opt\u001b[0m\n",
      "/tmp/ipykernel_1041120/2141867322.py:7: FutureWarning: suggest_loguniform has been deprecated in v3.0.0. This feature will be removed in v6.0.0. See https://github.com/optuna/optuna/releases/tag/v3.0.0. Use :func:`~optuna.trial.Trial.suggest_float` instead.\n",
      "  'learning_rate':trial.suggest_loguniform('learning_rate',0.01,0.1),\n",
      "\u001b[32m[I 2023-04-25 20:46:01,512]\u001b[0m Trial 0 finished with value: 0.9885943816364184 and parameters: {'learning_rate': 0.05127846891344373, 'max_depth': 6, 'n_estimators': 128}. Best is trial 0 with value: 0.9885943816364184.\u001b[0m\n",
      "/tmp/ipykernel_1041120/2141867322.py:7: FutureWarning: suggest_loguniform has been deprecated in v3.0.0. This feature will be removed in v6.0.0. See https://github.com/optuna/optuna/releases/tag/v3.0.0. Use :func:`~optuna.trial.Trial.suggest_float` instead.\n",
      "  'learning_rate':trial.suggest_loguniform('learning_rate',0.01,0.1),\n",
      "\u001b[32m[I 2023-04-25 20:46:02,675]\u001b[0m Trial 1 finished with value: 0.9902125011735308 and parameters: {'learning_rate': 0.028155676279664976, 'max_depth': 5, 'n_estimators': 576}. Best is trial 1 with value: 0.9902125011735308.\u001b[0m\n",
      "/tmp/ipykernel_1041120/2141867322.py:7: FutureWarning: suggest_loguniform has been deprecated in v3.0.0. This feature will be removed in v6.0.0. See https://github.com/optuna/optuna/releases/tag/v3.0.0. Use :func:`~optuna.trial.Trial.suggest_float` instead.\n",
      "  'learning_rate':trial.suggest_loguniform('learning_rate',0.01,0.1),\n",
      "\u001b[32m[I 2023-04-25 20:46:03,109]\u001b[0m Trial 2 finished with value: 0.9874451838174958 and parameters: {'learning_rate': 0.040268382446243235, 'max_depth': 7, 'n_estimators': 112}. Best is trial 1 with value: 0.9902125011735308.\u001b[0m\n",
      "/tmp/ipykernel_1041120/2141867322.py:7: FutureWarning: suggest_loguniform has been deprecated in v3.0.0. This feature will be removed in v6.0.0. See https://github.com/optuna/optuna/releases/tag/v3.0.0. Use :func:`~optuna.trial.Trial.suggest_float` instead.\n",
      "  'learning_rate':trial.suggest_loguniform('learning_rate',0.01,0.1),\n",
      "\u001b[32m[I 2023-04-25 20:46:06,159]\u001b[0m Trial 3 finished with value: 0.9900506714729171 and parameters: {'learning_rate': 0.01044185736035688, 'max_depth': 9, 'n_estimators': 840}. Best is trial 1 with value: 0.9902125011735308.\u001b[0m\n",
      "/tmp/ipykernel_1041120/2141867322.py:7: FutureWarning: suggest_loguniform has been deprecated in v3.0.0. This feature will be removed in v6.0.0. See https://github.com/optuna/optuna/releases/tag/v3.0.0. Use :func:`~optuna.trial.Trial.suggest_float` instead.\n",
      "  'learning_rate':trial.suggest_loguniform('learning_rate',0.01,0.1),\n",
      "\u001b[32m[I 2023-04-25 20:46:06,374]\u001b[0m Trial 4 finished with value: 0.9815297415876956 and parameters: {'learning_rate': 0.027344808492751678, 'max_depth': 4, 'n_estimators': 104}. Best is trial 1 with value: 0.9902125011735308.\u001b[0m\n",
      "/tmp/ipykernel_1041120/2141867322.py:7: FutureWarning: suggest_loguniform has been deprecated in v3.0.0. This feature will be removed in v6.0.0. See https://github.com/optuna/optuna/releases/tag/v3.0.0. Use :func:`~optuna.trial.Trial.suggest_float` instead.\n",
      "  'learning_rate':trial.suggest_loguniform('learning_rate',0.01,0.1),\n",
      "\u001b[32m[I 2023-04-25 20:46:08,679]\u001b[0m Trial 5 finished with value: 0.9904137186335774 and parameters: {'learning_rate': 0.042143350667765034, 'max_depth': 9, 'n_estimators': 637}. Best is trial 5 with value: 0.9904137186335774.\u001b[0m\n",
      "/tmp/ipykernel_1041120/2141867322.py:7: FutureWarning: suggest_loguniform has been deprecated in v3.0.0. This feature will be removed in v6.0.0. See https://github.com/optuna/optuna/releases/tag/v3.0.0. Use :func:`~optuna.trial.Trial.suggest_float` instead.\n",
      "  'learning_rate':trial.suggest_loguniform('learning_rate',0.01,0.1),\n",
      "\u001b[32m[I 2023-04-25 20:46:09,644]\u001b[0m Trial 6 finished with value: 0.9892727741424405 and parameters: {'learning_rate': 0.021578153518354494, 'max_depth': 4, 'n_estimators': 650}. Best is trial 5 with value: 0.9904137186335774.\u001b[0m\n",
      "/tmp/ipykernel_1041120/2141867322.py:7: FutureWarning: suggest_loguniform has been deprecated in v3.0.0. This feature will be removed in v6.0.0. See https://github.com/optuna/optuna/releases/tag/v3.0.0. Use :func:`~optuna.trial.Trial.suggest_float` instead.\n",
      "  'learning_rate':trial.suggest_loguniform('learning_rate',0.01,0.1),\n",
      "\u001b[32m[I 2023-04-25 20:46:11,110]\u001b[0m Trial 7 finished with value: 0.9903512925439528 and parameters: {'learning_rate': 0.03328275849528206, 'max_depth': 7, 'n_estimators': 446}. Best is trial 5 with value: 0.9904137186335774.\u001b[0m\n",
      "/tmp/ipykernel_1041120/2141867322.py:7: FutureWarning: suggest_loguniform has been deprecated in v3.0.0. This feature will be removed in v6.0.0. See https://github.com/optuna/optuna/releases/tag/v3.0.0. Use :func:`~optuna.trial.Trial.suggest_float` instead.\n",
      "  'learning_rate':trial.suggest_loguniform('learning_rate',0.01,0.1),\n",
      "\u001b[32m[I 2023-04-25 20:46:12,178]\u001b[0m Trial 8 finished with value: 0.9899018744241651 and parameters: {'learning_rate': 0.02536674949127336, 'max_depth': 4, 'n_estimators': 740}. Best is trial 5 with value: 0.9904137186335774.\u001b[0m\n",
      "/tmp/ipykernel_1041120/2141867322.py:7: FutureWarning: suggest_loguniform has been deprecated in v3.0.0. This feature will be removed in v6.0.0. See https://github.com/optuna/optuna/releases/tag/v3.0.0. Use :func:`~optuna.trial.Trial.suggest_float` instead.\n",
      "  'learning_rate':trial.suggest_loguniform('learning_rate',0.01,0.1),\n",
      "\u001b[32m[I 2023-04-25 20:46:13,403]\u001b[0m Trial 9 finished with value: 0.9902360556923954 and parameters: {'learning_rate': 0.05696145197058883, 'max_depth': 4, 'n_estimators': 874}. Best is trial 5 with value: 0.9904137186335774.\u001b[0m\n",
      "/tmp/ipykernel_1041120/2141867322.py:7: FutureWarning: suggest_loguniform has been deprecated in v3.0.0. This feature will be removed in v6.0.0. See https://github.com/optuna/optuna/releases/tag/v3.0.0. Use :func:`~optuna.trial.Trial.suggest_float` instead.\n",
      "  'learning_rate':trial.suggest_loguniform('learning_rate',0.01,0.1),\n",
      "\u001b[32m[I 2023-04-25 20:46:14,924]\u001b[0m Trial 10 finished with value: 0.9898563520802345 and parameters: {'learning_rate': 0.08597793984352697, 'max_depth': 9, 'n_estimators': 410}. Best is trial 5 with value: 0.9904137186335774.\u001b[0m\n",
      "/tmp/ipykernel_1041120/2141867322.py:7: FutureWarning: suggest_loguniform has been deprecated in v3.0.0. This feature will be removed in v6.0.0. See https://github.com/optuna/optuna/releases/tag/v3.0.0. Use :func:`~optuna.trial.Trial.suggest_float` instead.\n",
      "  'learning_rate':trial.suggest_loguniform('learning_rate',0.01,0.1),\n",
      "\u001b[32m[I 2023-04-25 20:46:16,379]\u001b[0m Trial 11 finished with value: 0.9901394644823913 and parameters: {'learning_rate': 0.040872615374974795, 'max_depth': 8, 'n_estimators': 413}. Best is trial 5 with value: 0.9904137186335774.\u001b[0m\n",
      "/tmp/ipykernel_1041120/2141867322.py:7: FutureWarning: suggest_loguniform has been deprecated in v3.0.0. This feature will be removed in v6.0.0. See https://github.com/optuna/optuna/releases/tag/v3.0.0. Use :func:`~optuna.trial.Trial.suggest_float` instead.\n",
      "  'learning_rate':trial.suggest_loguniform('learning_rate',0.01,0.1),\n",
      "\u001b[32m[I 2023-04-25 20:46:17,625]\u001b[0m Trial 12 finished with value: 0.9901069100137045 and parameters: {'learning_rate': 0.09794528621866494, 'max_depth': 7, 'n_estimators': 409}. Best is trial 5 with value: 0.9904137186335774.\u001b[0m\n",
      "/tmp/ipykernel_1041120/2141867322.py:7: FutureWarning: suggest_loguniform has been deprecated in v3.0.0. This feature will be removed in v6.0.0. See https://github.com/optuna/optuna/releases/tag/v3.0.0. Use :func:`~optuna.trial.Trial.suggest_float` instead.\n",
      "  'learning_rate':trial.suggest_loguniform('learning_rate',0.01,0.1),\n",
      "\u001b[32m[I 2023-04-25 20:46:18,693]\u001b[0m Trial 13 finished with value: 0.9884179308992133 and parameters: {'learning_rate': 0.01849574618575935, 'max_depth': 8, 'n_estimators': 283}. Best is trial 5 with value: 0.9904137186335774.\u001b[0m\n",
      "/tmp/ipykernel_1041120/2141867322.py:7: FutureWarning: suggest_loguniform has been deprecated in v3.0.0. This feature will be removed in v6.0.0. See https://github.com/optuna/optuna/releases/tag/v3.0.0. Use :func:`~optuna.trial.Trial.suggest_float` instead.\n",
      "  'learning_rate':trial.suggest_loguniform('learning_rate',0.01,0.1),\n",
      "\u001b[32m[I 2023-04-25 20:46:20,355]\u001b[0m Trial 14 finished with value: 0.990176701110227 and parameters: {'learning_rate': 0.037478928759409634, 'max_depth': 7, 'n_estimators': 516}. Best is trial 5 with value: 0.9904137186335774.\u001b[0m\n",
      "/tmp/ipykernel_1041120/2141867322.py:7: FutureWarning: suggest_loguniform has been deprecated in v3.0.0. This feature will be removed in v6.0.0. See https://github.com/optuna/optuna/releases/tag/v3.0.0. Use :func:`~optuna.trial.Trial.suggest_float` instead.\n",
      "  'learning_rate':trial.suggest_loguniform('learning_rate',0.01,0.1),\n",
      "\u001b[32m[I 2023-04-25 20:46:22,812]\u001b[0m Trial 15 finished with value: 0.9897814355095846 and parameters: {'learning_rate': 0.06351202057889654, 'max_depth': 8, 'n_estimators': 707}. Best is trial 5 with value: 0.9904137186335774.\u001b[0m\n",
      "/tmp/ipykernel_1041120/2141867322.py:7: FutureWarning: suggest_loguniform has been deprecated in v3.0.0. This feature will be removed in v6.0.0. See https://github.com/optuna/optuna/releases/tag/v3.0.0. Use :func:`~optuna.trial.Trial.suggest_float` instead.\n",
      "  'learning_rate':trial.suggest_loguniform('learning_rate',0.01,0.1),\n",
      "\u001b[32m[I 2023-04-25 20:46:25,339]\u001b[0m Trial 16 finished with value: 0.9902797511211556 and parameters: {'learning_rate': 0.03510638191339293, 'max_depth': 6, 'n_estimators': 995}. Best is trial 5 with value: 0.9904137186335774.\u001b[0m\n",
      "/tmp/ipykernel_1041120/2141867322.py:7: FutureWarning: suggest_loguniform has been deprecated in v3.0.0. This feature will be removed in v6.0.0. See https://github.com/optuna/optuna/releases/tag/v3.0.0. Use :func:`~optuna.trial.Trial.suggest_float` instead.\n",
      "  'learning_rate':trial.suggest_loguniform('learning_rate',0.01,0.1),\n",
      "\u001b[32m[I 2023-04-25 20:46:26,429]\u001b[0m Trial 17 finished with value: 0.9901644879540971 and parameters: {'learning_rate': 0.05142837409679616, 'max_depth': 9, 'n_estimators': 285}. Best is trial 5 with value: 0.9904137186335774.\u001b[0m\n",
      "/tmp/ipykernel_1041120/2141867322.py:7: FutureWarning: suggest_loguniform has been deprecated in v3.0.0. This feature will be removed in v6.0.0. See https://github.com/optuna/optuna/releases/tag/v3.0.0. Use :func:`~optuna.trial.Trial.suggest_float` instead.\n",
      "  'learning_rate':trial.suggest_loguniform('learning_rate',0.01,0.1),\n",
      "\u001b[32m[I 2023-04-25 20:46:27,014]\u001b[0m Trial 18 finished with value: 0.989826255765404 and parameters: {'learning_rate': 0.07159901552859967, 'max_depth': 3, 'n_estimators': 541}. Best is trial 5 with value: 0.9904137186335774.\u001b[0m\n",
      "/tmp/ipykernel_1041120/2141867322.py:7: FutureWarning: suggest_loguniform has been deprecated in v3.0.0. This feature will be removed in v6.0.0. See https://github.com/optuna/optuna/releases/tag/v3.0.0. Use :func:`~optuna.trial.Trial.suggest_float` instead.\n",
      "  'learning_rate':trial.suggest_loguniform('learning_rate',0.01,0.1),\n",
      "\u001b[32m[I 2023-04-25 20:46:28,215]\u001b[0m Trial 19 finished with value: 0.9901224902206096 and parameters: {'learning_rate': 0.04858208417194395, 'max_depth': 8, 'n_estimators': 326}. Best is trial 5 with value: 0.9904137186335774.\u001b[0m\n",
      "/tmp/ipykernel_1041120/2141867322.py:7: FutureWarning: suggest_loguniform has been deprecated in v3.0.0. This feature will be removed in v6.0.0. See https://github.com/optuna/optuna/releases/tag/v3.0.0. Use :func:`~optuna.trial.Trial.suggest_float` instead.\n",
      "  'learning_rate':trial.suggest_loguniform('learning_rate',0.01,0.1),\n",
      "\u001b[32m[I 2023-04-25 20:46:30,122]\u001b[0m Trial 20 finished with value: 0.9901800924522337 and parameters: {'learning_rate': 0.03356749675518673, 'max_depth': 7, 'n_estimators': 618}. Best is trial 5 with value: 0.9904137186335774.\u001b[0m\n",
      "/tmp/ipykernel_1041120/2141867322.py:7: FutureWarning: suggest_loguniform has been deprecated in v3.0.0. This feature will be removed in v6.0.0. See https://github.com/optuna/optuna/releases/tag/v3.0.0. Use :func:`~optuna.trial.Trial.suggest_float` instead.\n",
      "  'learning_rate':trial.suggest_loguniform('learning_rate',0.01,0.1),\n",
      "\u001b[32m[I 2023-04-25 20:46:32,570]\u001b[0m Trial 21 finished with value: 0.9901892968532561 and parameters: {'learning_rate': 0.032875319860758534, 'max_depth': 6, 'n_estimators': 967}. Best is trial 5 with value: 0.9904137186335774.\u001b[0m\n",
      "/tmp/ipykernel_1041120/2141867322.py:7: FutureWarning: suggest_loguniform has been deprecated in v3.0.0. This feature will be removed in v6.0.0. See https://github.com/optuna/optuna/releases/tag/v3.0.0. Use :func:`~optuna.trial.Trial.suggest_float` instead.\n",
      "  'learning_rate':trial.suggest_loguniform('learning_rate',0.01,0.1),\n",
      "\u001b[32m[I 2023-04-25 20:46:34,479]\u001b[0m Trial 22 finished with value: 0.990095819660364 and parameters: {'learning_rate': 0.04286938843806654, 'max_depth': 5, 'n_estimators': 999}. Best is trial 5 with value: 0.9904137186335774.\u001b[0m\n",
      "/tmp/ipykernel_1041120/2141867322.py:7: FutureWarning: suggest_loguniform has been deprecated in v3.0.0. This feature will be removed in v6.0.0. See https://github.com/optuna/optuna/releases/tag/v3.0.0. Use :func:`~optuna.trial.Trial.suggest_float` instead.\n",
      "  'learning_rate':trial.suggest_loguniform('learning_rate',0.01,0.1),\n",
      "\u001b[32m[I 2023-04-25 20:46:36,019]\u001b[0m Trial 23 finished with value: 0.9902778874357997 and parameters: {'learning_rate': 0.032522435250513126, 'max_depth': 5, 'n_estimators': 801}. Best is trial 5 with value: 0.9904137186335774.\u001b[0m\n",
      "/tmp/ipykernel_1041120/2141867322.py:7: FutureWarning: suggest_loguniform has been deprecated in v3.0.0. This feature will be removed in v6.0.0. See https://github.com/optuna/optuna/releases/tag/v3.0.0. Use :func:`~optuna.trial.Trial.suggest_float` instead.\n",
      "  'learning_rate':trial.suggest_loguniform('learning_rate',0.01,0.1),\n",
      "\u001b[32m[I 2023-04-25 20:46:38,300]\u001b[0m Trial 24 finished with value: 0.9902049985163197 and parameters: {'learning_rate': 0.04265243139014852, 'max_depth': 6, 'n_estimators': 915}. Best is trial 5 with value: 0.9904137186335774.\u001b[0m\n",
      "/tmp/ipykernel_1041120/2141867322.py:7: FutureWarning: suggest_loguniform has been deprecated in v3.0.0. This feature will be removed in v6.0.0. See https://github.com/optuna/optuna/releases/tag/v3.0.0. Use :func:`~optuna.trial.Trial.suggest_float` instead.\n",
      "  'learning_rate':trial.suggest_loguniform('learning_rate',0.01,0.1),\n",
      "\u001b[32m[I 2023-04-25 20:46:39,715]\u001b[0m Trial 25 finished with value: 0.9898642636398455 and parameters: {'learning_rate': 0.06864127553107398, 'max_depth': 7, 'n_estimators': 467}. Best is trial 5 with value: 0.9904137186335774.\u001b[0m\n",
      "/tmp/ipykernel_1041120/2141867322.py:7: FutureWarning: suggest_loguniform has been deprecated in v3.0.0. This feature will be removed in v6.0.0. See https://github.com/optuna/optuna/releases/tag/v3.0.0. Use :func:`~optuna.trial.Trial.suggest_float` instead.\n",
      "  'learning_rate':trial.suggest_loguniform('learning_rate',0.01,0.1),\n",
      "\u001b[32m[I 2023-04-25 20:46:41,636]\u001b[0m Trial 26 finished with value: 0.9901085226896662 and parameters: {'learning_rate': 0.045723526344771614, 'max_depth': 6, 'n_estimators': 757}. Best is trial 5 with value: 0.9904137186335774.\u001b[0m\n",
      "/tmp/ipykernel_1041120/2141867322.py:7: FutureWarning: suggest_loguniform has been deprecated in v3.0.0. This feature will be removed in v6.0.0. See https://github.com/optuna/optuna/releases/tag/v3.0.0. Use :func:`~optuna.trial.Trial.suggest_float` instead.\n",
      "  'learning_rate':trial.suggest_loguniform('learning_rate',0.01,0.1),\n",
      "\u001b[32m[I 2023-04-25 20:46:42,396]\u001b[0m Trial 27 finished with value: 0.98943708662148 and parameters: {'learning_rate': 0.03772381564873892, 'max_depth': 9, 'n_estimators': 195}. Best is trial 5 with value: 0.9904137186335774.\u001b[0m\n",
      "/tmp/ipykernel_1041120/2141867322.py:7: FutureWarning: suggest_loguniform has been deprecated in v3.0.0. This feature will be removed in v6.0.0. See https://github.com/optuna/optuna/releases/tag/v3.0.0. Use :func:`~optuna.trial.Trial.suggest_float` instead.\n",
      "  'learning_rate':trial.suggest_loguniform('learning_rate',0.01,0.1),\n",
      "\u001b[32m[I 2023-04-25 20:46:44,576]\u001b[0m Trial 28 finished with value: 0.9897721541863289 and parameters: {'learning_rate': 0.05481002822830751, 'max_depth': 8, 'n_estimators': 653}. Best is trial 5 with value: 0.9904137186335774.\u001b[0m\n",
      "/tmp/ipykernel_1041120/2141867322.py:7: FutureWarning: suggest_loguniform has been deprecated in v3.0.0. This feature will be removed in v6.0.0. See https://github.com/optuna/optuna/releases/tag/v3.0.0. Use :func:`~optuna.trial.Trial.suggest_float` instead.\n",
      "  'learning_rate':trial.suggest_loguniform('learning_rate',0.01,0.1),\n",
      "\u001b[32m[I 2023-04-25 20:46:46,016]\u001b[0m Trial 29 finished with value: 0.9901738866849727 and parameters: {'learning_rate': 0.051646702666381265, 'max_depth': 7, 'n_estimators': 475}. Best is trial 5 with value: 0.9904137186335774.\u001b[0m\n",
      "/tmp/ipykernel_1041120/2141867322.py:7: FutureWarning: suggest_loguniform has been deprecated in v3.0.0. This feature will be removed in v6.0.0. See https://github.com/optuna/optuna/releases/tag/v3.0.0. Use :func:`~optuna.trial.Trial.suggest_float` instead.\n",
      "  'learning_rate':trial.suggest_loguniform('learning_rate',0.01,0.1),\n",
      "\u001b[32m[I 2023-04-25 20:46:46,517]\u001b[0m Trial 30 finished with value: 0.9886308949213148 and parameters: {'learning_rate': 0.036501113887382905, 'max_depth': 5, 'n_estimators': 217}. Best is trial 5 with value: 0.9904137186335774.\u001b[0m\n",
      "/tmp/ipykernel_1041120/2141867322.py:7: FutureWarning: suggest_loguniform has been deprecated in v3.0.0. This feature will be removed in v6.0.0. See https://github.com/optuna/optuna/releases/tag/v3.0.0. Use :func:`~optuna.trial.Trial.suggest_float` instead.\n",
      "  'learning_rate':trial.suggest_loguniform('learning_rate',0.01,0.1),\n",
      "\u001b[32m[I 2023-04-25 20:46:48,031]\u001b[0m Trial 31 finished with value: 0.990474135290456 and parameters: {'learning_rate': 0.032111008243406965, 'max_depth': 5, 'n_estimators': 794}. Best is trial 31 with value: 0.990474135290456.\u001b[0m\n",
      "/tmp/ipykernel_1041120/2141867322.py:7: FutureWarning: suggest_loguniform has been deprecated in v3.0.0. This feature will be removed in v6.0.0. See https://github.com/optuna/optuna/releases/tag/v3.0.0. Use :func:`~optuna.trial.Trial.suggest_float` instead.\n",
      "  'learning_rate':trial.suggest_loguniform('learning_rate',0.01,0.1),\n",
      "\u001b[32m[I 2023-04-25 20:46:49,752]\u001b[0m Trial 32 finished with value: 0.9904804625138756 and parameters: {'learning_rate': 0.030051978050068786, 'max_depth': 5, 'n_estimators': 896}. Best is trial 32 with value: 0.9904804625138756.\u001b[0m\n",
      "/tmp/ipykernel_1041120/2141867322.py:7: FutureWarning: suggest_loguniform has been deprecated in v3.0.0. This feature will be removed in v6.0.0. See https://github.com/optuna/optuna/releases/tag/v3.0.0. Use :func:`~optuna.trial.Trial.suggest_float` instead.\n",
      "  'learning_rate':trial.suggest_loguniform('learning_rate',0.01,0.1),\n",
      "\u001b[32m[I 2023-04-25 20:46:51,534]\u001b[0m Trial 33 finished with value: 0.9902779380425324 and parameters: {'learning_rate': 0.026872272782765643, 'max_depth': 5, 'n_estimators': 912}. Best is trial 32 with value: 0.9904804625138756.\u001b[0m\n",
      "/tmp/ipykernel_1041120/2141867322.py:7: FutureWarning: suggest_loguniform has been deprecated in v3.0.0. This feature will be removed in v6.0.0. See https://github.com/optuna/optuna/releases/tag/v3.0.0. Use :func:`~optuna.trial.Trial.suggest_float` instead.\n",
      "  'learning_rate':trial.suggest_loguniform('learning_rate',0.01,0.1),\n",
      "\u001b[32m[I 2023-04-25 20:46:52,357]\u001b[0m Trial 34 finished with value: 0.9895435600293861 and parameters: {'learning_rate': 0.02976039475943206, 'max_depth': 3, 'n_estimators': 808}. Best is trial 32 with value: 0.9904804625138756.\u001b[0m\n",
      "/tmp/ipykernel_1041120/2141867322.py:7: FutureWarning: suggest_loguniform has been deprecated in v3.0.0. This feature will be removed in v6.0.0. See https://github.com/optuna/optuna/releases/tag/v3.0.0. Use :func:`~optuna.trial.Trial.suggest_float` instead.\n",
      "  'learning_rate':trial.suggest_loguniform('learning_rate',0.01,0.1),\n",
      "\u001b[32m[I 2023-04-25 20:46:53,519]\u001b[0m Trial 35 finished with value: 0.9901532154165189 and parameters: {'learning_rate': 0.030029549984035973, 'max_depth': 5, 'n_estimators': 593}. Best is trial 32 with value: 0.9904804625138756.\u001b[0m\n",
      "/tmp/ipykernel_1041120/2141867322.py:7: FutureWarning: suggest_loguniform has been deprecated in v3.0.0. This feature will be removed in v6.0.0. See https://github.com/optuna/optuna/releases/tag/v3.0.0. Use :func:`~optuna.trial.Trial.suggest_float` instead.\n",
      "  'learning_rate':trial.suggest_loguniform('learning_rate',0.01,0.1),\n",
      "\u001b[32m[I 2023-04-25 20:46:55,254]\u001b[0m Trial 36 finished with value: 0.9906579533921664 and parameters: {'learning_rate': 0.024654640500232194, 'max_depth': 6, 'n_estimators': 686}. Best is trial 36 with value: 0.9906579533921664.\u001b[0m\n",
      "/tmp/ipykernel_1041120/2141867322.py:7: FutureWarning: suggest_loguniform has been deprecated in v3.0.0. This feature will be removed in v6.0.0. See https://github.com/optuna/optuna/releases/tag/v3.0.0. Use :func:`~optuna.trial.Trial.suggest_float` instead.\n",
      "  'learning_rate':trial.suggest_loguniform('learning_rate',0.01,0.1),\n",
      "\u001b[32m[I 2023-04-25 20:46:56,985]\u001b[0m Trial 37 finished with value: 0.9905971561726583 and parameters: {'learning_rate': 0.02220250736166317, 'max_depth': 6, 'n_estimators': 679}. Best is trial 36 with value: 0.9906579533921664.\u001b[0m\n",
      "/tmp/ipykernel_1041120/2141867322.py:7: FutureWarning: suggest_loguniform has been deprecated in v3.0.0. This feature will be removed in v6.0.0. See https://github.com/optuna/optuna/releases/tag/v3.0.0. Use :func:`~optuna.trial.Trial.suggest_float` instead.\n",
      "  'learning_rate':trial.suggest_loguniform('learning_rate',0.01,0.1),\n",
      "\u001b[32m[I 2023-04-25 20:46:58,751]\u001b[0m Trial 38 finished with value: 0.9905475100345698 and parameters: {'learning_rate': 0.022322177345085462, 'max_depth': 6, 'n_estimators': 698}. Best is trial 36 with value: 0.9906579533921664.\u001b[0m\n",
      "/tmp/ipykernel_1041120/2141867322.py:7: FutureWarning: suggest_loguniform has been deprecated in v3.0.0. This feature will be removed in v6.0.0. See https://github.com/optuna/optuna/releases/tag/v3.0.0. Use :func:`~optuna.trial.Trial.suggest_float` instead.\n",
      "  'learning_rate':trial.suggest_loguniform('learning_rate',0.01,0.1),\n",
      "\u001b[32m[I 2023-04-25 20:47:00,565]\u001b[0m Trial 39 finished with value: 0.9904929509706314 and parameters: {'learning_rate': 0.02253511707546087, 'max_depth': 6, 'n_estimators': 701}. Best is trial 36 with value: 0.9906579533921664.\u001b[0m\n",
      "/tmp/ipykernel_1041120/2141867322.py:7: FutureWarning: suggest_loguniform has been deprecated in v3.0.0. This feature will be removed in v6.0.0. See https://github.com/optuna/optuna/releases/tag/v3.0.0. Use :func:`~optuna.trial.Trial.suggest_float` instead.\n",
      "  'learning_rate':trial.suggest_loguniform('learning_rate',0.01,0.1),\n",
      "\u001b[32m[I 2023-04-25 20:47:02,396]\u001b[0m Trial 40 finished with value: 0.9906393624058843 and parameters: {'learning_rate': 0.019589707137524722, 'max_depth': 6, 'n_estimators': 714}. Best is trial 36 with value: 0.9906579533921664.\u001b[0m\n",
      "/tmp/ipykernel_1041120/2141867322.py:7: FutureWarning: suggest_loguniform has been deprecated in v3.0.0. This feature will be removed in v6.0.0. See https://github.com/optuna/optuna/releases/tag/v3.0.0. Use :func:`~optuna.trial.Trial.suggest_float` instead.\n",
      "  'learning_rate':trial.suggest_loguniform('learning_rate',0.01,0.1),\n",
      "\u001b[32m[I 2023-04-25 20:47:04,164]\u001b[0m Trial 41 finished with value: 0.9904882809570983 and parameters: {'learning_rate': 0.01996466890367855, 'max_depth': 6, 'n_estimators': 689}. Best is trial 36 with value: 0.9906579533921664.\u001b[0m\n",
      "/tmp/ipykernel_1041120/2141867322.py:7: FutureWarning: suggest_loguniform has been deprecated in v3.0.0. This feature will be removed in v6.0.0. See https://github.com/optuna/optuna/releases/tag/v3.0.0. Use :func:`~optuna.trial.Trial.suggest_float` instead.\n",
      "  'learning_rate':trial.suggest_loguniform('learning_rate',0.01,0.1),\n",
      "\u001b[32m[I 2023-04-25 20:47:05,942]\u001b[0m Trial 42 finished with value: 0.9905208880567873 and parameters: {'learning_rate': 0.02314694082965039, 'max_depth': 6, 'n_estimators': 699}. Best is trial 36 with value: 0.9906579533921664.\u001b[0m\n",
      "/tmp/ipykernel_1041120/2141867322.py:7: FutureWarning: suggest_loguniform has been deprecated in v3.0.0. This feature will be removed in v6.0.0. See https://github.com/optuna/optuna/releases/tag/v3.0.0. Use :func:`~optuna.trial.Trial.suggest_float` instead.\n",
      "  'learning_rate':trial.suggest_loguniform('learning_rate',0.01,0.1),\n",
      "\u001b[32m[I 2023-04-25 20:47:07,880]\u001b[0m Trial 43 finished with value: 0.9903979764851277 and parameters: {'learning_rate': 0.017363873872904362, 'max_depth': 6, 'n_estimators': 745}. Best is trial 36 with value: 0.9906579533921664.\u001b[0m\n",
      "/tmp/ipykernel_1041120/2141867322.py:7: FutureWarning: suggest_loguniform has been deprecated in v3.0.0. This feature will be removed in v6.0.0. See https://github.com/optuna/optuna/releases/tag/v3.0.0. Use :func:`~optuna.trial.Trial.suggest_float` instead.\n",
      "  'learning_rate':trial.suggest_loguniform('learning_rate',0.01,0.1),\n",
      "\u001b[32m[I 2023-04-25 20:47:09,466]\u001b[0m Trial 44 finished with value: 0.9896838972748832 and parameters: {'learning_rate': 0.016124207973880082, 'max_depth': 6, 'n_estimators': 577}. Best is trial 36 with value: 0.9906579533921664.\u001b[0m\n",
      "/tmp/ipykernel_1041120/2141867322.py:7: FutureWarning: suggest_loguniform has been deprecated in v3.0.0. This feature will be removed in v6.0.0. See https://github.com/optuna/optuna/releases/tag/v3.0.0. Use :func:`~optuna.trial.Trial.suggest_float` instead.\n",
      "  'learning_rate':trial.suggest_loguniform('learning_rate',0.01,0.1),\n",
      "\u001b[32m[I 2023-04-25 20:47:11,187]\u001b[0m Trial 45 finished with value: 0.9906564459782088 and parameters: {'learning_rate': 0.023661123139961108, 'max_depth': 6, 'n_estimators': 663}. Best is trial 36 with value: 0.9906579533921664.\u001b[0m\n",
      "/tmp/ipykernel_1041120/2141867322.py:7: FutureWarning: suggest_loguniform has been deprecated in v3.0.0. This feature will be removed in v6.0.0. See https://github.com/optuna/optuna/releases/tag/v3.0.0. Use :func:`~optuna.trial.Trial.suggest_float` instead.\n",
      "  'learning_rate':trial.suggest_loguniform('learning_rate',0.01,0.1),\n",
      "\u001b[32m[I 2023-04-25 20:47:12,811]\u001b[0m Trial 46 finished with value: 0.9903295126425945 and parameters: {'learning_rate': 0.02503285685422821, 'max_depth': 6, 'n_estimators': 639}. Best is trial 36 with value: 0.9906579533921664.\u001b[0m\n",
      "/tmp/ipykernel_1041120/2141867322.py:7: FutureWarning: suggest_loguniform has been deprecated in v3.0.0. This feature will be removed in v6.0.0. See https://github.com/optuna/optuna/releases/tag/v3.0.0. Use :func:`~optuna.trial.Trial.suggest_float` instead.\n",
      "  'learning_rate':trial.suggest_loguniform('learning_rate',0.01,0.1),\n",
      "\u001b[32m[I 2023-04-25 20:47:15,393]\u001b[0m Trial 47 finished with value: 0.9905024630605883 and parameters: {'learning_rate': 0.02056258868808112, 'max_depth': 7, 'n_estimators': 850}. Best is trial 36 with value: 0.9906579533921664.\u001b[0m\n",
      "/tmp/ipykernel_1041120/2141867322.py:7: FutureWarning: suggest_loguniform has been deprecated in v3.0.0. This feature will be removed in v6.0.0. See https://github.com/optuna/optuna/releases/tag/v3.0.0. Use :func:`~optuna.trial.Trial.suggest_float` instead.\n",
      "  'learning_rate':trial.suggest_loguniform('learning_rate',0.01,0.1),\n",
      "\u001b[32m[I 2023-04-25 20:47:17,187]\u001b[0m Trial 48 finished with value: 0.9900273133081752 and parameters: {'learning_rate': 0.015304947811221313, 'max_depth': 6, 'n_estimators': 666}. Best is trial 36 with value: 0.9906579533921664.\u001b[0m\n",
      "/tmp/ipykernel_1041120/2141867322.py:7: FutureWarning: suggest_loguniform has been deprecated in v3.0.0. This feature will be removed in v6.0.0. See https://github.com/optuna/optuna/releases/tag/v3.0.0. Use :func:`~optuna.trial.Trial.suggest_float` instead.\n",
      "  'learning_rate':trial.suggest_loguniform('learning_rate',0.01,0.1),\n",
      "\u001b[32m[I 2023-04-25 20:47:19,508]\u001b[0m Trial 49 finished with value: 0.9901708111289779 and parameters: {'learning_rate': 0.0242833812576915, 'max_depth': 7, 'n_estimators': 763}. Best is trial 36 with value: 0.9906579533921664.\u001b[0m\n"
     ]
    },
    {
     "name": "stdout",
     "output_type": "stream",
     "text": [
      "Best hyperparameters: {'learning_rate': 0.024654640500232194, 'max_depth': 6, 'n_estimators': 686}\n",
      "Best AUC: 0.9907\n"
     ]
    }
   ],
   "source": [
    "def objective(trial):\n",
    "    # Define hyperparameters to optimize \n",
    "    params={\n",
    "        'boosting_type':'gbdt',\n",
    "        'objective':'binary',\n",
    "        'metric':'binary_logloss',\n",
    "        'learning_rate':trial.suggest_loguniform('learning_rate',0.01,0.1),\n",
    "        'max_depth':trial.suggest_int('max_depth',3,9),\n",
    "        'n_estimators':trial.suggest_int(\"n_estimators\",100,1000)\n",
    "    }\n",
    "    # Train and evaluate model \n",
    "    lgb_cv=lgb.LGBMClassifier(**params, random_state=42,scale_pos_weight=ratio)\n",
    "    scores=cross_val_score(lgb_cv,train_X,train_y,cv=5,scoring='roc_auc')\n",
    "    auc=scores.mean()\n",
    "    return auc \n",
    "\n",
    "# Define study object and optimize \n",
    "\n",
    "study=optuna.create_study(direction='maximize',study_name='lgb_boost_opt',load_if_exists=True)\n",
    "study.optimize(objective, n_trials=50)\n",
    "\n",
    "# Print best hyperparameters and auc\n",
    "print(f'Best hyperparameters: {study.best_params}')\n",
    "print(f'Best AUC: {study.best_value:.4f}')"
   ]
  },
  {
   "cell_type": "code",
   "execution_count": 7,
   "metadata": {},
   "outputs": [],
   "source": [
    "lgb=lgb.LGBMClassifier(learning_rate=0.024654640500232194,max_depth=6,n_estimators=686,scale_pos_weight=ratio,random_state=42)"
   ]
  },
  {
   "cell_type": "code",
   "execution_count": 8,
   "metadata": {},
   "outputs": [
    {
     "data": {
      "text/html": [
       "<style>#sk-container-id-1 {color: black;background-color: white;}#sk-container-id-1 pre{padding: 0;}#sk-container-id-1 div.sk-toggleable {background-color: white;}#sk-container-id-1 label.sk-toggleable__label {cursor: pointer;display: block;width: 100%;margin-bottom: 0;padding: 0.3em;box-sizing: border-box;text-align: center;}#sk-container-id-1 label.sk-toggleable__label-arrow:before {content: \"▸\";float: left;margin-right: 0.25em;color: #696969;}#sk-container-id-1 label.sk-toggleable__label-arrow:hover:before {color: black;}#sk-container-id-1 div.sk-estimator:hover label.sk-toggleable__label-arrow:before {color: black;}#sk-container-id-1 div.sk-toggleable__content {max-height: 0;max-width: 0;overflow: hidden;text-align: left;background-color: #f0f8ff;}#sk-container-id-1 div.sk-toggleable__content pre {margin: 0.2em;color: black;border-radius: 0.25em;background-color: #f0f8ff;}#sk-container-id-1 input.sk-toggleable__control:checked~div.sk-toggleable__content {max-height: 200px;max-width: 100%;overflow: auto;}#sk-container-id-1 input.sk-toggleable__control:checked~label.sk-toggleable__label-arrow:before {content: \"▾\";}#sk-container-id-1 div.sk-estimator input.sk-toggleable__control:checked~label.sk-toggleable__label {background-color: #d4ebff;}#sk-container-id-1 div.sk-label input.sk-toggleable__control:checked~label.sk-toggleable__label {background-color: #d4ebff;}#sk-container-id-1 input.sk-hidden--visually {border: 0;clip: rect(1px 1px 1px 1px);clip: rect(1px, 1px, 1px, 1px);height: 1px;margin: -1px;overflow: hidden;padding: 0;position: absolute;width: 1px;}#sk-container-id-1 div.sk-estimator {font-family: monospace;background-color: #f0f8ff;border: 1px dotted black;border-radius: 0.25em;box-sizing: border-box;margin-bottom: 0.5em;}#sk-container-id-1 div.sk-estimator:hover {background-color: #d4ebff;}#sk-container-id-1 div.sk-parallel-item::after {content: \"\";width: 100%;border-bottom: 1px solid gray;flex-grow: 1;}#sk-container-id-1 div.sk-label:hover label.sk-toggleable__label {background-color: #d4ebff;}#sk-container-id-1 div.sk-serial::before {content: \"\";position: absolute;border-left: 1px solid gray;box-sizing: border-box;top: 0;bottom: 0;left: 50%;z-index: 0;}#sk-container-id-1 div.sk-serial {display: flex;flex-direction: column;align-items: center;background-color: white;padding-right: 0.2em;padding-left: 0.2em;position: relative;}#sk-container-id-1 div.sk-item {position: relative;z-index: 1;}#sk-container-id-1 div.sk-parallel {display: flex;align-items: stretch;justify-content: center;background-color: white;position: relative;}#sk-container-id-1 div.sk-item::before, #sk-container-id-1 div.sk-parallel-item::before {content: \"\";position: absolute;border-left: 1px solid gray;box-sizing: border-box;top: 0;bottom: 0;left: 50%;z-index: -1;}#sk-container-id-1 div.sk-parallel-item {display: flex;flex-direction: column;z-index: 1;position: relative;background-color: white;}#sk-container-id-1 div.sk-parallel-item:first-child::after {align-self: flex-end;width: 50%;}#sk-container-id-1 div.sk-parallel-item:last-child::after {align-self: flex-start;width: 50%;}#sk-container-id-1 div.sk-parallel-item:only-child::after {width: 0;}#sk-container-id-1 div.sk-dashed-wrapped {border: 1px dashed gray;margin: 0 0.4em 0.5em 0.4em;box-sizing: border-box;padding-bottom: 0.4em;background-color: white;}#sk-container-id-1 div.sk-label label {font-family: monospace;font-weight: bold;display: inline-block;line-height: 1.2em;}#sk-container-id-1 div.sk-label-container {text-align: center;}#sk-container-id-1 div.sk-container {/* jupyter's `normalize.less` sets `[hidden] { display: none; }` but bootstrap.min.css set `[hidden] { display: none !important; }` so we also need the `!important` here to be able to override the default hidden behavior on the sphinx rendered scikit-learn.org. See: https://github.com/scikit-learn/scikit-learn/issues/21755 */display: inline-block !important;position: relative;}#sk-container-id-1 div.sk-text-repr-fallback {display: none;}</style><div id=\"sk-container-id-1\" class=\"sk-top-container\"><div class=\"sk-text-repr-fallback\"><pre>LGBMClassifier(learning_rate=0.024654640500232194, max_depth=6,\n",
       "               n_estimators=686, random_state=42,\n",
       "               scale_pos_weight=1.5879043600562588)</pre><b>In a Jupyter environment, please rerun this cell to show the HTML representation or trust the notebook. <br />On GitHub, the HTML representation is unable to render, please try loading this page with nbviewer.org.</b></div><div class=\"sk-container\" hidden><div class=\"sk-item\"><div class=\"sk-estimator sk-toggleable\"><input class=\"sk-toggleable__control sk-hidden--visually\" id=\"sk-estimator-id-1\" type=\"checkbox\" checked><label for=\"sk-estimator-id-1\" class=\"sk-toggleable__label sk-toggleable__label-arrow\">LGBMClassifier</label><div class=\"sk-toggleable__content\"><pre>LGBMClassifier(learning_rate=0.024654640500232194, max_depth=6,\n",
       "               n_estimators=686, random_state=42,\n",
       "               scale_pos_weight=1.5879043600562588)</pre></div></div></div></div></div>"
      ],
      "text/plain": [
       "LGBMClassifier(learning_rate=0.024654640500232194, max_depth=6,\n",
       "               n_estimators=686, random_state=42,\n",
       "               scale_pos_weight=1.5879043600562588)"
      ]
     },
     "execution_count": 8,
     "metadata": {},
     "output_type": "execute_result"
    }
   ],
   "source": [
    "lgb.fit(train_X,train_y)"
   ]
  },
  {
   "cell_type": "code",
   "execution_count": 9,
   "metadata": {},
   "outputs": [],
   "source": [
    "prob=lgb.predict_proba(new_test_data_X)[:,1]"
   ]
  },
  {
   "cell_type": "code",
   "execution_count": 10,
   "metadata": {},
   "outputs": [],
   "source": [
    "from sklearn.metrics import accuracy_score, precision_score, recall_score, confusion_matrix, f1_score\n",
    "\n",
    "def get_clf_prob(y_test, probability):\n",
    "  pred=np.where(probability > 0.5,1,0)\n",
    "  confusion=confusion_matrix(y_test, pred)\n",
    "  accuracy=accuracy_score(y_test,pred)\n",
    "  precision=precision_score(y_test,pred) \n",
    "  recall=recall_score(y_test,pred) \n",
    "  # F1 스코어 추가 \n",
    "  f1=f1_score(y_test,pred,average='macro')\n",
    "  Roc_score=roc_auc_score(y_test,probability)\n",
    "  print('임계값: ', 0.5) \n",
    "  print('오차행렬')\n",
    "  print(confusion) \n",
    "  # f1 score print 추가 \n",
    "  print('정확도: {0:.4f}, 정밀도: {1:.4f}, 재현율: {2:.4f}, F1:{3:.4f}, AUC:{4: .4f}'.format(accuracy,precision,recall,f1,Roc_score))"
   ]
  },
  {
   "cell_type": "code",
   "execution_count": 11,
   "metadata": {},
   "outputs": [
    {
     "name": "stdout",
     "output_type": "stream",
     "text": [
      "임계값:  0.5\n",
      "오차행렬\n",
      "[[506  24]\n",
      " [ 32 358]]\n",
      "정확도: 0.9391, 정밀도: 0.9372, 재현율: 0.9179, F1:0.9375, AUC: 0.9829\n"
     ]
    }
   ],
   "source": [
    "get_clf_prob(new_test_data_y,prob)"
   ]
  },
  {
   "cell_type": "code",
   "execution_count": null,
   "metadata": {},
   "outputs": [],
   "source": []
  }
 ],
 "metadata": {
  "kernelspec": {
   "display_name": "Python 3",
   "language": "python",
   "name": "python3"
  },
  "language_info": {
   "codemirror_mode": {
    "name": "ipython",
    "version": 3
   },
   "file_extension": ".py",
   "mimetype": "text/x-python",
   "name": "python",
   "nbconvert_exporter": "python",
   "pygments_lexer": "ipython3",
   "version": "3.9.0"
  },
  "orig_nbformat": 4
 },
 "nbformat": 4,
 "nbformat_minor": 2
}
