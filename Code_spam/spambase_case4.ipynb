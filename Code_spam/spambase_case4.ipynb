{
 "cells": [
  {
   "cell_type": "code",
   "execution_count": 1,
   "metadata": {},
   "outputs": [],
   "source": [
    "import pandas as pd \n",
    "import numpy as np \n",
    "import matplotlib.pyplot as plt \n",
    "from sklearn.model_selection import train_test_split  \n",
    "from sklearn import preprocessing\n",
    "import optuna \n",
    "import lightgbm as lgb\n",
    "from sklearn.metrics import accuracy_score, roc_auc_score,precision_score, confusion_matrix,recall_score\n",
    "from sklearn.model_selection import cross_val_score, train_test_split\n",
    "import os "
   ]
  },
  {
   "cell_type": "code",
   "execution_count": 2,
   "metadata": {},
   "outputs": [],
   "source": [
    "train_data=pd.read_csv('/home/iai/son/lastcheck/spambase_train_data.csv')\n",
    "test_data=pd.read_csv('/home/iai/son/lastcheck/spambase_test_data.csv')"
   ]
  },
  {
   "cell_type": "code",
   "execution_count": 3,
   "metadata": {},
   "outputs": [],
   "source": [
    "train_stage_features=['0.7', '278', '61', '0', '0.34', '0.30', '0.5', '0.44', '0.40', '0.778',\n",
    "                        '0.24', '1.93', '0.39', '1.29', '0.43', '0.2', '0.36', '0.17', '0.20', \n",
    "                        '0.28', '0.21', '0.32.1', '0.41', '0.29', '3.756', '0.35', '0.25', '0.15', \n",
    "                        '0.64.1', '0.38', '0.45', '0.6', '0.33', '0.42', '0.14', '0.9', '0.10', \n",
    "                        '0.3', '0.13', '0.8', '0.19', '0.23', '0.18', '0.22', '0.16', '0.64.2', \n",
    "                        '0.1', '0.31', '0.27', '0.11', '0.4', '0.12', '0.26', '0.64', '0.37', '0.32', '0.96']\n",
    "test_stage_features=['0.7', '278', '61', '0', '0.34', '0.30', '0.5', '0.44', '0.40', '0.778',\n",
    "                        '0.24', '1.93', '0.39', '1.29', '0.43', '0.2', '0.36', '0.17', '0.20']"
   ]
  },
  {
   "cell_type": "code",
   "execution_count": 4,
   "metadata": {},
   "outputs": [],
   "source": [
    "train_X=train_data.loc[:,train_stage_features]\n",
    "train_y=train_data['1']\n",
    "new_test_data_X=test_data.loc[:,test_stage_features]\n",
    "new_test_data_y=test_data['1']"
   ]
  },
  {
   "cell_type": "code",
   "execution_count": 5,
   "metadata": {},
   "outputs": [],
   "source": [
    "ratio=train_y.value_counts()[0]/train_y.value_counts()[1]"
   ]
  },
  {
   "cell_type": "code",
   "execution_count": 6,
   "metadata": {},
   "outputs": [
    {
     "name": "stderr",
     "output_type": "stream",
     "text": [
      "\u001b[32m[I 2023-04-26 15:45:45,638]\u001b[0m A new study created in memory with name: lgb_boost_opt\u001b[0m\n",
      "/tmp/ipykernel_1394706/2141867322.py:7: FutureWarning: suggest_loguniform has been deprecated in v3.0.0. This feature will be removed in v6.0.0. See https://github.com/optuna/optuna/releases/tag/v3.0.0. Use :func:`~optuna.trial.Trial.suggest_float` instead.\n",
      "  'learning_rate':trial.suggest_loguniform('learning_rate',0.01,0.1),\n",
      "\u001b[32m[I 2023-04-26 15:45:49,201]\u001b[0m Trial 0 finished with value: 0.9900396641146182 and parameters: {'learning_rate': 0.011547025045259346, 'max_depth': 7, 'n_estimators': 892}. Best is trial 0 with value: 0.9900396641146182.\u001b[0m\n",
      "/tmp/ipykernel_1394706/2141867322.py:7: FutureWarning: suggest_loguniform has been deprecated in v3.0.0. This feature will be removed in v6.0.0. See https://github.com/optuna/optuna/releases/tag/v3.0.0. Use :func:`~optuna.trial.Trial.suggest_float` instead.\n",
      "  'learning_rate':trial.suggest_loguniform('learning_rate',0.01,0.1),\n",
      "\u001b[32m[I 2023-04-26 15:45:51,170]\u001b[0m Trial 1 finished with value: 0.9902996693614273 and parameters: {'learning_rate': 0.030935210176544516, 'max_depth': 5, 'n_estimators': 817}. Best is trial 1 with value: 0.9902996693614273.\u001b[0m\n",
      "/tmp/ipykernel_1394706/2141867322.py:7: FutureWarning: suggest_loguniform has been deprecated in v3.0.0. This feature will be removed in v6.0.0. See https://github.com/optuna/optuna/releases/tag/v3.0.0. Use :func:`~optuna.trial.Trial.suggest_float` instead.\n",
      "  'learning_rate':trial.suggest_loguniform('learning_rate',0.01,0.1),\n",
      "\u001b[32m[I 2023-04-26 15:45:54,299]\u001b[0m Trial 2 finished with value: 0.9902906269019495 and parameters: {'learning_rate': 0.03277682004729022, 'max_depth': 7, 'n_estimators': 911}. Best is trial 1 with value: 0.9902996693614273.\u001b[0m\n",
      "/tmp/ipykernel_1394706/2141867322.py:7: FutureWarning: suggest_loguniform has been deprecated in v3.0.0. This feature will be removed in v6.0.0. See https://github.com/optuna/optuna/releases/tag/v3.0.0. Use :func:`~optuna.trial.Trial.suggest_float` instead.\n",
      "  'learning_rate':trial.suggest_loguniform('learning_rate',0.01,0.1),\n",
      "\u001b[32m[I 2023-04-26 15:45:56,494]\u001b[0m Trial 3 finished with value: 0.9902763779975725 and parameters: {'learning_rate': 0.02224161086675636, 'max_depth': 5, 'n_estimators': 951}. Best is trial 1 with value: 0.9902996693614273.\u001b[0m\n",
      "/tmp/ipykernel_1394706/2141867322.py:7: FutureWarning: suggest_loguniform has been deprecated in v3.0.0. This feature will be removed in v6.0.0. See https://github.com/optuna/optuna/releases/tag/v3.0.0. Use :func:`~optuna.trial.Trial.suggest_float` instead.\n",
      "  'learning_rate':trial.suggest_loguniform('learning_rate',0.01,0.1),\n",
      "\u001b[32m[I 2023-04-26 15:45:59,217]\u001b[0m Trial 4 finished with value: 0.9907763366491447 and parameters: {'learning_rate': 0.021831885060935904, 'max_depth': 6, 'n_estimators': 904}. Best is trial 4 with value: 0.9907763366491447.\u001b[0m\n",
      "/tmp/ipykernel_1394706/2141867322.py:7: FutureWarning: suggest_loguniform has been deprecated in v3.0.0. This feature will be removed in v6.0.0. See https://github.com/optuna/optuna/releases/tag/v3.0.0. Use :func:`~optuna.trial.Trial.suggest_float` instead.\n",
      "  'learning_rate':trial.suggest_loguniform('learning_rate',0.01,0.1),\n",
      "\u001b[32m[I 2023-04-26 15:46:01,555]\u001b[0m Trial 5 finished with value: 0.9902389794281923 and parameters: {'learning_rate': 0.03873857173629165, 'max_depth': 5, 'n_estimators': 855}. Best is trial 4 with value: 0.9907763366491447.\u001b[0m\n",
      "/tmp/ipykernel_1394706/2141867322.py:7: FutureWarning: suggest_loguniform has been deprecated in v3.0.0. This feature will be removed in v6.0.0. See https://github.com/optuna/optuna/releases/tag/v3.0.0. Use :func:`~optuna.trial.Trial.suggest_float` instead.\n",
      "  'learning_rate':trial.suggest_loguniform('learning_rate',0.01,0.1),\n",
      "\u001b[32m[I 2023-04-26 15:46:04,504]\u001b[0m Trial 6 finished with value: 0.989985435006577 and parameters: {'learning_rate': 0.037242364184902246, 'max_depth': 9, 'n_estimators': 729}. Best is trial 4 with value: 0.9907763366491447.\u001b[0m\n",
      "/tmp/ipykernel_1394706/2141867322.py:7: FutureWarning: suggest_loguniform has been deprecated in v3.0.0. This feature will be removed in v6.0.0. See https://github.com/optuna/optuna/releases/tag/v3.0.0. Use :func:`~optuna.trial.Trial.suggest_float` instead.\n",
      "  'learning_rate':trial.suggest_loguniform('learning_rate',0.01,0.1),\n",
      "\u001b[32m[I 2023-04-26 15:46:06,586]\u001b[0m Trial 7 finished with value: 0.9901226622835004 and parameters: {'learning_rate': 0.057967992293427105, 'max_depth': 7, 'n_estimators': 588}. Best is trial 4 with value: 0.9907763366491447.\u001b[0m\n",
      "/tmp/ipykernel_1394706/2141867322.py:7: FutureWarning: suggest_loguniform has been deprecated in v3.0.0. This feature will be removed in v6.0.0. See https://github.com/optuna/optuna/releases/tag/v3.0.0. Use :func:`~optuna.trial.Trial.suggest_float` instead.\n",
      "  'learning_rate':trial.suggest_loguniform('learning_rate',0.01,0.1),\n",
      "\u001b[32m[I 2023-04-26 15:46:08,622]\u001b[0m Trial 8 finished with value: 0.989893554295492 and parameters: {'learning_rate': 0.09509274378588953, 'max_depth': 6, 'n_estimators': 593}. Best is trial 4 with value: 0.9907763366491447.\u001b[0m\n",
      "/tmp/ipykernel_1394706/2141867322.py:7: FutureWarning: suggest_loguniform has been deprecated in v3.0.0. This feature will be removed in v6.0.0. See https://github.com/optuna/optuna/releases/tag/v3.0.0. Use :func:`~optuna.trial.Trial.suggest_float` instead.\n",
      "  'learning_rate':trial.suggest_loguniform('learning_rate',0.01,0.1),\n",
      "\u001b[32m[I 2023-04-26 15:46:09,154]\u001b[0m Trial 9 finished with value: 0.989184577959074 and parameters: {'learning_rate': 0.04423403004244384, 'max_depth': 3, 'n_estimators': 420}. Best is trial 4 with value: 0.9907763366491447.\u001b[0m\n",
      "/tmp/ipykernel_1394706/2141867322.py:7: FutureWarning: suggest_loguniform has been deprecated in v3.0.0. This feature will be removed in v6.0.0. See https://github.com/optuna/optuna/releases/tag/v3.0.0. Use :func:`~optuna.trial.Trial.suggest_float` instead.\n",
      "  'learning_rate':trial.suggest_loguniform('learning_rate',0.01,0.1),\n",
      "\u001b[32m[I 2023-04-26 15:46:09,794]\u001b[0m Trial 10 finished with value: 0.9831874459171605 and parameters: {'learning_rate': 0.016875963879691525, 'max_depth': 9, 'n_estimators': 130}. Best is trial 4 with value: 0.9907763366491447.\u001b[0m\n",
      "/tmp/ipykernel_1394706/2141867322.py:7: FutureWarning: suggest_loguniform has been deprecated in v3.0.0. This feature will be removed in v6.0.0. See https://github.com/optuna/optuna/releases/tag/v3.0.0. Use :func:`~optuna.trial.Trial.suggest_float` instead.\n",
      "  'learning_rate':trial.suggest_loguniform('learning_rate',0.01,0.1),\n",
      "\u001b[32m[I 2023-04-26 15:46:11,234]\u001b[0m Trial 11 finished with value: 0.9898458585530016 and parameters: {'learning_rate': 0.022049236194107827, 'max_depth': 4, 'n_estimators': 786}. Best is trial 4 with value: 0.9907763366491447.\u001b[0m\n",
      "/tmp/ipykernel_1394706/2141867322.py:7: FutureWarning: suggest_loguniform has been deprecated in v3.0.0. This feature will be removed in v6.0.0. See https://github.com/optuna/optuna/releases/tag/v3.0.0. Use :func:`~optuna.trial.Trial.suggest_float` instead.\n",
      "  'learning_rate':trial.suggest_loguniform('learning_rate',0.01,0.1),\n",
      "\u001b[32m[I 2023-04-26 15:46:12,901]\u001b[0m Trial 12 finished with value: 0.9900770282714204 and parameters: {'learning_rate': 0.022193978545578953, 'max_depth': 5, 'n_estimators': 690}. Best is trial 4 with value: 0.9907763366491447.\u001b[0m\n",
      "/tmp/ipykernel_1394706/2141867322.py:7: FutureWarning: suggest_loguniform has been deprecated in v3.0.0. This feature will be removed in v6.0.0. See https://github.com/optuna/optuna/releases/tag/v3.0.0. Use :func:`~optuna.trial.Trial.suggest_float` instead.\n",
      "  'learning_rate':trial.suggest_loguniform('learning_rate',0.01,0.1),\n",
      "\u001b[32m[I 2023-04-26 15:46:15,864]\u001b[0m Trial 13 finished with value: 0.9904837445453397 and parameters: {'learning_rate': 0.026779371012640003, 'max_depth': 6, 'n_estimators': 1000}. Best is trial 4 with value: 0.9907763366491447.\u001b[0m\n",
      "/tmp/ipykernel_1394706/2141867322.py:7: FutureWarning: suggest_loguniform has been deprecated in v3.0.0. This feature will be removed in v6.0.0. See https://github.com/optuna/optuna/releases/tag/v3.0.0. Use :func:`~optuna.trial.Trial.suggest_float` instead.\n",
      "  'learning_rate':trial.suggest_loguniform('learning_rate',0.01,0.1),\n",
      "\u001b[32m[I 2023-04-26 15:46:19,675]\u001b[0m Trial 14 finished with value: 0.9900803244727696 and parameters: {'learning_rate': 0.013645207621984658, 'max_depth': 8, 'n_estimators': 981}. Best is trial 4 with value: 0.9907763366491447.\u001b[0m\n",
      "/tmp/ipykernel_1394706/2141867322.py:7: FutureWarning: suggest_loguniform has been deprecated in v3.0.0. This feature will be removed in v6.0.0. See https://github.com/optuna/optuna/releases/tag/v3.0.0. Use :func:`~optuna.trial.Trial.suggest_float` instead.\n",
      "  'learning_rate':trial.suggest_loguniform('learning_rate',0.01,0.1),\n",
      "\u001b[32m[I 2023-04-26 15:46:21,142]\u001b[0m Trial 15 finished with value: 0.9860972361349323 and parameters: {'learning_rate': 0.010034210323977963, 'max_depth': 6, 'n_estimators': 370}. Best is trial 4 with value: 0.9907763366491447.\u001b[0m\n",
      "/tmp/ipykernel_1394706/2141867322.py:7: FutureWarning: suggest_loguniform has been deprecated in v3.0.0. This feature will be removed in v6.0.0. See https://github.com/optuna/optuna/releases/tag/v3.0.0. Use :func:`~optuna.trial.Trial.suggest_float` instead.\n",
      "  'learning_rate':trial.suggest_loguniform('learning_rate',0.01,0.1),\n",
      "\u001b[32m[I 2023-04-26 15:46:22,442]\u001b[0m Trial 16 finished with value: 0.9886114682451467 and parameters: {'learning_rate': 0.016379840697429957, 'max_depth': 3, 'n_estimators': 980}. Best is trial 4 with value: 0.9907763366491447.\u001b[0m\n",
      "/tmp/ipykernel_1394706/2141867322.py:7: FutureWarning: suggest_loguniform has been deprecated in v3.0.0. This feature will be removed in v6.0.0. See https://github.com/optuna/optuna/releases/tag/v3.0.0. Use :func:`~optuna.trial.Trial.suggest_float` instead.\n",
      "  'learning_rate':trial.suggest_loguniform('learning_rate',0.01,0.1),\n",
      "\u001b[32m[I 2023-04-26 15:46:24,228]\u001b[0m Trial 17 finished with value: 0.989890306676606 and parameters: {'learning_rate': 0.024170470021537317, 'max_depth': 8, 'n_estimators': 434}. Best is trial 4 with value: 0.9907763366491447.\u001b[0m\n",
      "/tmp/ipykernel_1394706/2141867322.py:7: FutureWarning: suggest_loguniform has been deprecated in v3.0.0. This feature will be removed in v6.0.0. See https://github.com/optuna/optuna/releases/tag/v3.0.0. Use :func:`~optuna.trial.Trial.suggest_float` instead.\n",
      "  'learning_rate':trial.suggest_loguniform('learning_rate',0.01,0.1),\n",
      "\u001b[32m[I 2023-04-26 15:46:25,174]\u001b[0m Trial 18 finished with value: 0.9866945103515823 and parameters: {'learning_rate': 0.01709914401998538, 'max_depth': 6, 'n_estimators': 237}. Best is trial 4 with value: 0.9907763366491447.\u001b[0m\n",
      "/tmp/ipykernel_1394706/2141867322.py:7: FutureWarning: suggest_loguniform has been deprecated in v3.0.0. This feature will be removed in v6.0.0. See https://github.com/optuna/optuna/releases/tag/v3.0.0. Use :func:`~optuna.trial.Trial.suggest_float` instead.\n",
      "  'learning_rate':trial.suggest_loguniform('learning_rate',0.01,0.1),\n",
      "\u001b[32m[I 2023-04-26 15:46:26,435]\u001b[0m Trial 19 finished with value: 0.9899236502769849 and parameters: {'learning_rate': 0.027700150530940833, 'max_depth': 4, 'n_estimators': 725}. Best is trial 4 with value: 0.9907763366491447.\u001b[0m\n",
      "/tmp/ipykernel_1394706/2141867322.py:7: FutureWarning: suggest_loguniform has been deprecated in v3.0.0. This feature will be removed in v6.0.0. See https://github.com/optuna/optuna/releases/tag/v3.0.0. Use :func:`~optuna.trial.Trial.suggest_float` instead.\n",
      "  'learning_rate':trial.suggest_loguniform('learning_rate',0.01,0.1),\n",
      "\u001b[32m[I 2023-04-26 15:46:29,408]\u001b[0m Trial 20 finished with value: 0.9901426068392734 and parameters: {'learning_rate': 0.018979893668536422, 'max_depth': 8, 'n_estimators': 638}. Best is trial 4 with value: 0.9907763366491447.\u001b[0m\n",
      "/tmp/ipykernel_1394706/2141867322.py:7: FutureWarning: suggest_loguniform has been deprecated in v3.0.0. This feature will be removed in v6.0.0. See https://github.com/optuna/optuna/releases/tag/v3.0.0. Use :func:`~optuna.trial.Trial.suggest_float` instead.\n",
      "  'learning_rate':trial.suggest_loguniform('learning_rate',0.01,0.1),\n",
      "\u001b[32m[I 2023-04-26 15:46:32,024]\u001b[0m Trial 21 finished with value: 0.9906223193189462 and parameters: {'learning_rate': 0.029761144243180136, 'max_depth': 6, 'n_estimators': 822}. Best is trial 4 with value: 0.9907763366491447.\u001b[0m\n",
      "/tmp/ipykernel_1394706/2141867322.py:7: FutureWarning: suggest_loguniform has been deprecated in v3.0.0. This feature will be removed in v6.0.0. See https://github.com/optuna/optuna/releases/tag/v3.0.0. Use :func:`~optuna.trial.Trial.suggest_float` instead.\n",
      "  'learning_rate':trial.suggest_loguniform('learning_rate',0.01,0.1),\n",
      "\u001b[32m[I 2023-04-26 15:46:35,124]\u001b[0m Trial 22 finished with value: 0.9903513492234934 and parameters: {'learning_rate': 0.0269479069815198, 'max_depth': 7, 'n_estimators': 820}. Best is trial 4 with value: 0.9907763366491447.\u001b[0m\n",
      "/tmp/ipykernel_1394706/2141867322.py:7: FutureWarning: suggest_loguniform has been deprecated in v3.0.0. This feature will be removed in v6.0.0. See https://github.com/optuna/optuna/releases/tag/v3.0.0. Use :func:`~optuna.trial.Trial.suggest_float` instead.\n",
      "  'learning_rate':trial.suggest_loguniform('learning_rate',0.01,0.1),\n",
      "\u001b[32m[I 2023-04-26 15:46:38,094]\u001b[0m Trial 23 finished with value: 0.9904448365377323 and parameters: {'learning_rate': 0.029225934473189587, 'max_depth': 6, 'n_estimators': 897}. Best is trial 4 with value: 0.9907763366491447.\u001b[0m\n",
      "/tmp/ipykernel_1394706/2141867322.py:7: FutureWarning: suggest_loguniform has been deprecated in v3.0.0. This feature will be removed in v6.0.0. See https://github.com/optuna/optuna/releases/tag/v3.0.0. Use :func:`~optuna.trial.Trial.suggest_float` instead.\n",
      "  'learning_rate':trial.suggest_loguniform('learning_rate',0.01,0.1),\n",
      "\u001b[32m[I 2023-04-26 15:46:41,171]\u001b[0m Trial 24 finished with value: 0.9905910455460546 and parameters: {'learning_rate': 0.020466528943108252, 'max_depth': 6, 'n_estimators': 991}. Best is trial 4 with value: 0.9907763366491447.\u001b[0m\n",
      "/tmp/ipykernel_1394706/2141867322.py:7: FutureWarning: suggest_loguniform has been deprecated in v3.0.0. This feature will be removed in v6.0.0. See https://github.com/optuna/optuna/releases/tag/v3.0.0. Use :func:`~optuna.trial.Trial.suggest_float` instead.\n",
      "  'learning_rate':trial.suggest_loguniform('learning_rate',0.01,0.1),\n",
      "\u001b[32m[I 2023-04-26 15:46:42,742]\u001b[0m Trial 25 finished with value: 0.9892929859017616 and parameters: {'learning_rate': 0.019322585356530805, 'max_depth': 4, 'n_estimators': 767}. Best is trial 4 with value: 0.9907763366491447.\u001b[0m\n",
      "/tmp/ipykernel_1394706/2141867322.py:7: FutureWarning: suggest_loguniform has been deprecated in v3.0.0. This feature will be removed in v6.0.0. See https://github.com/optuna/optuna/releases/tag/v3.0.0. Use :func:`~optuna.trial.Trial.suggest_float` instead.\n",
      "  'learning_rate':trial.suggest_loguniform('learning_rate',0.01,0.1),\n",
      "\u001b[32m[I 2023-04-26 15:46:44,535]\u001b[0m Trial 26 finished with value: 0.9878788081699664 and parameters: {'learning_rate': 0.013424610030356186, 'max_depth': 5, 'n_estimators': 514}. Best is trial 4 with value: 0.9907763366491447.\u001b[0m\n",
      "/tmp/ipykernel_1394706/2141867322.py:7: FutureWarning: suggest_loguniform has been deprecated in v3.0.0. This feature will be removed in v6.0.0. See https://github.com/optuna/optuna/releases/tag/v3.0.0. Use :func:`~optuna.trial.Trial.suggest_float` instead.\n",
      "  'learning_rate':trial.suggest_loguniform('learning_rate',0.01,0.1),\n",
      "\u001b[32m[I 2023-04-26 15:46:48,091]\u001b[0m Trial 27 finished with value: 0.9904166342722972 and parameters: {'learning_rate': 0.019844674817630196, 'max_depth': 7, 'n_estimators': 866}. Best is trial 4 with value: 0.9907763366491447.\u001b[0m\n",
      "/tmp/ipykernel_1394706/2141867322.py:7: FutureWarning: suggest_loguniform has been deprecated in v3.0.0. This feature will be removed in v6.0.0. See https://github.com/optuna/optuna/releases/tag/v3.0.0. Use :func:`~optuna.trial.Trial.suggest_float` instead.\n",
      "  'learning_rate':trial.suggest_loguniform('learning_rate',0.01,0.1),\n",
      "\u001b[32m[I 2023-04-26 15:46:51,091]\u001b[0m Trial 28 finished with value: 0.9907217472211667 and parameters: {'learning_rate': 0.024193140523641844, 'max_depth': 6, 'n_estimators': 946}. Best is trial 4 with value: 0.9907763366491447.\u001b[0m\n",
      "/tmp/ipykernel_1394706/2141867322.py:7: FutureWarning: suggest_loguniform has been deprecated in v3.0.0. This feature will be removed in v6.0.0. See https://github.com/optuna/optuna/releases/tag/v3.0.0. Use :func:`~optuna.trial.Trial.suggest_float` instead.\n",
      "  'learning_rate':trial.suggest_loguniform('learning_rate',0.01,0.1),\n",
      "\u001b[32m[I 2023-04-26 15:46:53,693]\u001b[0m Trial 29 finished with value: 0.9902688024666665 and parameters: {'learning_rate': 0.023455504383442485, 'max_depth': 7, 'n_estimators': 677}. Best is trial 4 with value: 0.9907763366491447.\u001b[0m\n",
      "/tmp/ipykernel_1394706/2141867322.py:7: FutureWarning: suggest_loguniform has been deprecated in v3.0.0. This feature will be removed in v6.0.0. See https://github.com/optuna/optuna/releases/tag/v3.0.0. Use :func:`~optuna.trial.Trial.suggest_float` instead.\n",
      "  'learning_rate':trial.suggest_loguniform('learning_rate',0.01,0.1),\n",
      "\u001b[32m[I 2023-04-26 15:46:56,604]\u001b[0m Trial 30 finished with value: 0.9905895705204056 and parameters: {'learning_rate': 0.025409234590697966, 'max_depth': 6, 'n_estimators': 912}. Best is trial 4 with value: 0.9907763366491447.\u001b[0m\n",
      "/tmp/ipykernel_1394706/2141867322.py:7: FutureWarning: suggest_loguniform has been deprecated in v3.0.0. This feature will be removed in v6.0.0. See https://github.com/optuna/optuna/releases/tag/v3.0.0. Use :func:`~optuna.trial.Trial.suggest_float` instead.\n",
      "  'learning_rate':trial.suggest_loguniform('learning_rate',0.01,0.1),\n",
      "\u001b[32m[I 2023-04-26 15:46:59,699]\u001b[0m Trial 31 finished with value: 0.9904976412268575 and parameters: {'learning_rate': 0.014737462271448197, 'max_depth': 6, 'n_estimators': 935}. Best is trial 4 with value: 0.9907763366491447.\u001b[0m\n",
      "/tmp/ipykernel_1394706/2141867322.py:7: FutureWarning: suggest_loguniform has been deprecated in v3.0.0. This feature will be removed in v6.0.0. See https://github.com/optuna/optuna/releases/tag/v3.0.0. Use :func:`~optuna.trial.Trial.suggest_float` instead.\n",
      "  'learning_rate':trial.suggest_loguniform('learning_rate',0.01,0.1),\n",
      "\u001b[32m[I 2023-04-26 15:47:01,718]\u001b[0m Trial 32 finished with value: 0.9902249349750152 and parameters: {'learning_rate': 0.020320069928552578, 'max_depth': 5, 'n_estimators': 848}. Best is trial 4 with value: 0.9907763366491447.\u001b[0m\n",
      "/tmp/ipykernel_1394706/2141867322.py:7: FutureWarning: suggest_loguniform has been deprecated in v3.0.0. This feature will be removed in v6.0.0. See https://github.com/optuna/optuna/releases/tag/v3.0.0. Use :func:`~optuna.trial.Trial.suggest_float` instead.\n",
      "  'learning_rate':trial.suggest_loguniform('learning_rate',0.01,0.1),\n",
      "\u001b[32m[I 2023-04-26 15:47:04,297]\u001b[0m Trial 33 finished with value: 0.9905802770515338 and parameters: {'learning_rate': 0.029459999634365512, 'max_depth': 6, 'n_estimators': 800}. Best is trial 4 with value: 0.9907763366491447.\u001b[0m\n",
      "/tmp/ipykernel_1394706/2141867322.py:7: FutureWarning: suggest_loguniform has been deprecated in v3.0.0. This feature will be removed in v6.0.0. See https://github.com/optuna/optuna/releases/tag/v3.0.0. Use :func:`~optuna.trial.Trial.suggest_float` instead.\n",
      "  'learning_rate':trial.suggest_loguniform('learning_rate',0.01,0.1),\n",
      "\u001b[32m[I 2023-04-26 15:47:07,832]\u001b[0m Trial 34 finished with value: 0.9900025489429408 and parameters: {'learning_rate': 0.03304701646472016, 'max_depth': 7, 'n_estimators': 931}. Best is trial 4 with value: 0.9907763366491447.\u001b[0m\n",
      "/tmp/ipykernel_1394706/2141867322.py:7: FutureWarning: suggest_loguniform has been deprecated in v3.0.0. This feature will be removed in v6.0.0. See https://github.com/optuna/optuna/releases/tag/v3.0.0. Use :func:`~optuna.trial.Trial.suggest_float` instead.\n",
      "  'learning_rate':trial.suggest_loguniform('learning_rate',0.01,0.1),\n",
      "\u001b[32m[I 2023-04-26 15:47:09,992]\u001b[0m Trial 35 finished with value: 0.9903915500725121 and parameters: {'learning_rate': 0.023651121421541216, 'max_depth': 5, 'n_estimators': 889}. Best is trial 4 with value: 0.9907763366491447.\u001b[0m\n",
      "/tmp/ipykernel_1394706/2141867322.py:7: FutureWarning: suggest_loguniform has been deprecated in v3.0.0. This feature will be removed in v6.0.0. See https://github.com/optuna/optuna/releases/tag/v3.0.0. Use :func:`~optuna.trial.Trial.suggest_float` instead.\n",
      "  'learning_rate':trial.suggest_loguniform('learning_rate',0.01,0.1),\n",
      "\u001b[32m[I 2023-04-26 15:47:13,831]\u001b[0m Trial 36 finished with value: 0.9899388320361743 and parameters: {'learning_rate': 0.03259335119323725, 'max_depth': 7, 'n_estimators': 966}. Best is trial 4 with value: 0.9907763366491447.\u001b[0m\n",
      "/tmp/ipykernel_1394706/2141867322.py:7: FutureWarning: suggest_loguniform has been deprecated in v3.0.0. This feature will be removed in v6.0.0. See https://github.com/optuna/optuna/releases/tag/v3.0.0. Use :func:`~optuna.trial.Trial.suggest_float` instead.\n",
      "  'learning_rate':trial.suggest_loguniform('learning_rate',0.01,0.1),\n",
      "\u001b[32m[I 2023-04-26 15:47:15,921]\u001b[0m Trial 37 finished with value: 0.9902608200576297 and parameters: {'learning_rate': 0.020352986923584313, 'max_depth': 5, 'n_estimators': 846}. Best is trial 4 with value: 0.9907763366491447.\u001b[0m\n",
      "/tmp/ipykernel_1394706/2141867322.py:7: FutureWarning: suggest_loguniform has been deprecated in v3.0.0. This feature will be removed in v6.0.0. See https://github.com/optuna/optuna/releases/tag/v3.0.0. Use :func:`~optuna.trial.Trial.suggest_float` instead.\n",
      "  'learning_rate':trial.suggest_loguniform('learning_rate',0.01,0.1),\n",
      "\u001b[32m[I 2023-04-26 15:47:18,373]\u001b[0m Trial 38 finished with value: 0.9905038510426569 and parameters: {'learning_rate': 0.024538025878497426, 'max_depth': 6, 'n_estimators': 745}. Best is trial 4 with value: 0.9907763366491447.\u001b[0m\n",
      "/tmp/ipykernel_1394706/2141867322.py:7: FutureWarning: suggest_loguniform has been deprecated in v3.0.0. This feature will be removed in v6.0.0. See https://github.com/optuna/optuna/releases/tag/v3.0.0. Use :func:`~optuna.trial.Trial.suggest_float` instead.\n",
      "  'learning_rate':trial.suggest_loguniform('learning_rate',0.01,0.1),\n",
      "\u001b[32m[I 2023-04-26 15:47:22,598]\u001b[0m Trial 39 finished with value: 0.9900370278250629 and parameters: {'learning_rate': 0.035545333170032334, 'max_depth': 8, 'n_estimators': 943}. Best is trial 4 with value: 0.9907763366491447.\u001b[0m\n",
      "/tmp/ipykernel_1394706/2141867322.py:7: FutureWarning: suggest_loguniform has been deprecated in v3.0.0. This feature will be removed in v6.0.0. See https://github.com/optuna/optuna/releases/tag/v3.0.0. Use :func:`~optuna.trial.Trial.suggest_float` instead.\n",
      "  'learning_rate':trial.suggest_loguniform('learning_rate',0.01,0.1),\n",
      "\u001b[32m[I 2023-04-26 15:47:25,050]\u001b[0m Trial 40 finished with value: 0.9906625910173906 and parameters: {'learning_rate': 0.030944982183020164, 'max_depth': 5, 'n_estimators': 1000}. Best is trial 4 with value: 0.9907763366491447.\u001b[0m\n",
      "/tmp/ipykernel_1394706/2141867322.py:7: FutureWarning: suggest_loguniform has been deprecated in v3.0.0. This feature will be removed in v6.0.0. See https://github.com/optuna/optuna/releases/tag/v3.0.0. Use :func:`~optuna.trial.Trial.suggest_float` instead.\n",
      "  'learning_rate':trial.suggest_loguniform('learning_rate',0.01,0.1),\n",
      "\u001b[32m[I 2023-04-26 15:47:27,546]\u001b[0m Trial 41 finished with value: 0.9905256511867083 and parameters: {'learning_rate': 0.030512757280660087, 'max_depth': 5, 'n_estimators': 999}. Best is trial 4 with value: 0.9907763366491447.\u001b[0m\n",
      "/tmp/ipykernel_1394706/2141867322.py:7: FutureWarning: suggest_loguniform has been deprecated in v3.0.0. This feature will be removed in v6.0.0. See https://github.com/optuna/optuna/releases/tag/v3.0.0. Use :func:`~optuna.trial.Trial.suggest_float` instead.\n",
      "  'learning_rate':trial.suggest_loguniform('learning_rate',0.01,0.1),\n",
      "\u001b[32m[I 2023-04-26 15:47:29,211]\u001b[0m Trial 42 finished with value: 0.9902795669126487 and parameters: {'learning_rate': 0.027414916087050385, 'max_depth': 4, 'n_estimators': 892}. Best is trial 4 with value: 0.9907763366491447.\u001b[0m\n",
      "/tmp/ipykernel_1394706/2141867322.py:7: FutureWarning: suggest_loguniform has been deprecated in v3.0.0. This feature will be removed in v6.0.0. See https://github.com/optuna/optuna/releases/tag/v3.0.0. Use :func:`~optuna.trial.Trial.suggest_float` instead.\n",
      "  'learning_rate':trial.suggest_loguniform('learning_rate',0.01,0.1),\n",
      "\u001b[32m[I 2023-04-26 15:47:31,436]\u001b[0m Trial 43 finished with value: 0.9904803167664854 and parameters: {'learning_rate': 0.03980731994716076, 'max_depth': 5, 'n_estimators': 823}. Best is trial 4 with value: 0.9907763366491447.\u001b[0m\n",
      "/tmp/ipykernel_1394706/2141867322.py:7: FutureWarning: suggest_loguniform has been deprecated in v3.0.0. This feature will be removed in v6.0.0. See https://github.com/optuna/optuna/releases/tag/v3.0.0. Use :func:`~optuna.trial.Trial.suggest_float` instead.\n",
      "  'learning_rate':trial.suggest_loguniform('learning_rate',0.01,0.1),\n",
      "\u001b[32m[I 2023-04-26 15:47:34,659]\u001b[0m Trial 44 finished with value: 0.9905644660779277 and parameters: {'learning_rate': 0.021940928120652046, 'max_depth': 6, 'n_estimators': 940}. Best is trial 4 with value: 0.9907763366491447.\u001b[0m\n",
      "/tmp/ipykernel_1394706/2141867322.py:7: FutureWarning: suggest_loguniform has been deprecated in v3.0.0. This feature will be removed in v6.0.0. See https://github.com/optuna/optuna/releases/tag/v3.0.0. Use :func:`~optuna.trial.Trial.suggest_float` instead.\n",
      "  'learning_rate':trial.suggest_loguniform('learning_rate',0.01,0.1),\n",
      "\u001b[32m[I 2023-04-26 15:47:37,603]\u001b[0m Trial 45 finished with value: 0.9904135911046111 and parameters: {'learning_rate': 0.04200414615289506, 'max_depth': 6, 'n_estimators': 879}. Best is trial 4 with value: 0.9907763366491447.\u001b[0m\n",
      "/tmp/ipykernel_1394706/2141867322.py:7: FutureWarning: suggest_loguniform has been deprecated in v3.0.0. This feature will be removed in v6.0.0. See https://github.com/optuna/optuna/releases/tag/v3.0.0. Use :func:`~optuna.trial.Trial.suggest_float` instead.\n",
      "  'learning_rate':trial.suggest_loguniform('learning_rate',0.01,0.1),\n",
      "\u001b[32m[I 2023-04-26 15:47:41,597]\u001b[0m Trial 46 finished with value: 0.9899527003779216 and parameters: {'learning_rate': 0.03349391350759713, 'max_depth': 7, 'n_estimators': 1000}. Best is trial 4 with value: 0.9907763366491447.\u001b[0m\n",
      "/tmp/ipykernel_1394706/2141867322.py:7: FutureWarning: suggest_loguniform has been deprecated in v3.0.0. This feature will be removed in v6.0.0. See https://github.com/optuna/optuna/releases/tag/v3.0.0. Use :func:`~optuna.trial.Trial.suggest_float` instead.\n",
      "  'learning_rate':trial.suggest_loguniform('learning_rate',0.01,0.1),\n",
      "\u001b[32m[I 2023-04-26 15:47:43,931]\u001b[0m Trial 47 finished with value: 0.9901487235386851 and parameters: {'learning_rate': 0.03645255445989539, 'max_depth': 5, 'n_estimators': 950}. Best is trial 4 with value: 0.9907763366491447.\u001b[0m\n",
      "/tmp/ipykernel_1394706/2141867322.py:7: FutureWarning: suggest_loguniform has been deprecated in v3.0.0. This feature will be removed in v6.0.0. See https://github.com/optuna/optuna/releases/tag/v3.0.0. Use :func:`~optuna.trial.Trial.suggest_float` instead.\n",
      "  'learning_rate':trial.suggest_loguniform('learning_rate',0.01,0.1),\n",
      "\u001b[32m[I 2023-04-26 15:47:46,917]\u001b[0m Trial 48 finished with value: 0.9900539798198823 and parameters: {'learning_rate': 0.04725448330026046, 'max_depth': 6, 'n_estimators': 853}. Best is trial 4 with value: 0.9907763366491447.\u001b[0m\n",
      "/tmp/ipykernel_1394706/2141867322.py:7: FutureWarning: suggest_loguniform has been deprecated in v3.0.0. This feature will be removed in v6.0.0. See https://github.com/optuna/optuna/releases/tag/v3.0.0. Use :func:`~optuna.trial.Trial.suggest_float` instead.\n",
      "  'learning_rate':trial.suggest_loguniform('learning_rate',0.01,0.1),\n",
      "\u001b[32m[I 2023-04-26 15:47:48,507]\u001b[0m Trial 49 finished with value: 0.9902687093502784 and parameters: {'learning_rate': 0.0307503829351553, 'max_depth': 4, 'n_estimators': 919}. Best is trial 4 with value: 0.9907763366491447.\u001b[0m\n"
     ]
    },
    {
     "name": "stdout",
     "output_type": "stream",
     "text": [
      "Best hyperparameters: {'learning_rate': 0.021831885060935904, 'max_depth': 6, 'n_estimators': 904}\n",
      "Best AUC: 0.9908\n"
     ]
    }
   ],
   "source": [
    "def objective(trial):\n",
    "    # Define hyperparameters to optimize \n",
    "    params={\n",
    "        'boosting_type':'gbdt',\n",
    "        'objective':'binary',\n",
    "        'metric':'binary_logloss',\n",
    "        'learning_rate':trial.suggest_loguniform('learning_rate',0.01,0.1),\n",
    "        'max_depth':trial.suggest_int('max_depth',3,9),\n",
    "        'n_estimators':trial.suggest_int(\"n_estimators\",100,1000)\n",
    "    }\n",
    "    # Train and evaluate model \n",
    "    lgb_cv=lgb.LGBMClassifier(**params, random_state=42,scale_pos_weight=ratio)\n",
    "    scores=cross_val_score(lgb_cv,train_X,train_y,cv=5,scoring='roc_auc')\n",
    "    auc=scores.mean()\n",
    "    return auc \n",
    "\n",
    "# Define study object and optimize \n",
    "\n",
    "study=optuna.create_study(direction='maximize',study_name='lgb_boost_opt',load_if_exists=True)\n",
    "study.optimize(objective, n_trials=50)\n",
    "\n",
    "# Print best hyperparameters and auc\n",
    "print(f'Best hyperparameters: {study.best_params}')\n",
    "print(f'Best AUC: {study.best_value:.4f}')"
   ]
  },
  {
   "cell_type": "code",
   "execution_count": 7,
   "metadata": {},
   "outputs": [],
   "source": [
    "lgb=lgb.LGBMClassifier(learning_rate=  0.021831885060935904,max_depth= 6,n_estimators=904,scale_pos_weight=ratio,random_state=42)"
   ]
  },
  {
   "cell_type": "code",
   "execution_count": 8,
   "metadata": {},
   "outputs": [
    {
     "data": {
      "text/html": [
       "<style>#sk-container-id-1 {color: black;background-color: white;}#sk-container-id-1 pre{padding: 0;}#sk-container-id-1 div.sk-toggleable {background-color: white;}#sk-container-id-1 label.sk-toggleable__label {cursor: pointer;display: block;width: 100%;margin-bottom: 0;padding: 0.3em;box-sizing: border-box;text-align: center;}#sk-container-id-1 label.sk-toggleable__label-arrow:before {content: \"▸\";float: left;margin-right: 0.25em;color: #696969;}#sk-container-id-1 label.sk-toggleable__label-arrow:hover:before {color: black;}#sk-container-id-1 div.sk-estimator:hover label.sk-toggleable__label-arrow:before {color: black;}#sk-container-id-1 div.sk-toggleable__content {max-height: 0;max-width: 0;overflow: hidden;text-align: left;background-color: #f0f8ff;}#sk-container-id-1 div.sk-toggleable__content pre {margin: 0.2em;color: black;border-radius: 0.25em;background-color: #f0f8ff;}#sk-container-id-1 input.sk-toggleable__control:checked~div.sk-toggleable__content {max-height: 200px;max-width: 100%;overflow: auto;}#sk-container-id-1 input.sk-toggleable__control:checked~label.sk-toggleable__label-arrow:before {content: \"▾\";}#sk-container-id-1 div.sk-estimator input.sk-toggleable__control:checked~label.sk-toggleable__label {background-color: #d4ebff;}#sk-container-id-1 div.sk-label input.sk-toggleable__control:checked~label.sk-toggleable__label {background-color: #d4ebff;}#sk-container-id-1 input.sk-hidden--visually {border: 0;clip: rect(1px 1px 1px 1px);clip: rect(1px, 1px, 1px, 1px);height: 1px;margin: -1px;overflow: hidden;padding: 0;position: absolute;width: 1px;}#sk-container-id-1 div.sk-estimator {font-family: monospace;background-color: #f0f8ff;border: 1px dotted black;border-radius: 0.25em;box-sizing: border-box;margin-bottom: 0.5em;}#sk-container-id-1 div.sk-estimator:hover {background-color: #d4ebff;}#sk-container-id-1 div.sk-parallel-item::after {content: \"\";width: 100%;border-bottom: 1px solid gray;flex-grow: 1;}#sk-container-id-1 div.sk-label:hover label.sk-toggleable__label {background-color: #d4ebff;}#sk-container-id-1 div.sk-serial::before {content: \"\";position: absolute;border-left: 1px solid gray;box-sizing: border-box;top: 0;bottom: 0;left: 50%;z-index: 0;}#sk-container-id-1 div.sk-serial {display: flex;flex-direction: column;align-items: center;background-color: white;padding-right: 0.2em;padding-left: 0.2em;position: relative;}#sk-container-id-1 div.sk-item {position: relative;z-index: 1;}#sk-container-id-1 div.sk-parallel {display: flex;align-items: stretch;justify-content: center;background-color: white;position: relative;}#sk-container-id-1 div.sk-item::before, #sk-container-id-1 div.sk-parallel-item::before {content: \"\";position: absolute;border-left: 1px solid gray;box-sizing: border-box;top: 0;bottom: 0;left: 50%;z-index: -1;}#sk-container-id-1 div.sk-parallel-item {display: flex;flex-direction: column;z-index: 1;position: relative;background-color: white;}#sk-container-id-1 div.sk-parallel-item:first-child::after {align-self: flex-end;width: 50%;}#sk-container-id-1 div.sk-parallel-item:last-child::after {align-self: flex-start;width: 50%;}#sk-container-id-1 div.sk-parallel-item:only-child::after {width: 0;}#sk-container-id-1 div.sk-dashed-wrapped {border: 1px dashed gray;margin: 0 0.4em 0.5em 0.4em;box-sizing: border-box;padding-bottom: 0.4em;background-color: white;}#sk-container-id-1 div.sk-label label {font-family: monospace;font-weight: bold;display: inline-block;line-height: 1.2em;}#sk-container-id-1 div.sk-label-container {text-align: center;}#sk-container-id-1 div.sk-container {/* jupyter's `normalize.less` sets `[hidden] { display: none; }` but bootstrap.min.css set `[hidden] { display: none !important; }` so we also need the `!important` here to be able to override the default hidden behavior on the sphinx rendered scikit-learn.org. See: https://github.com/scikit-learn/scikit-learn/issues/21755 */display: inline-block !important;position: relative;}#sk-container-id-1 div.sk-text-repr-fallback {display: none;}</style><div id=\"sk-container-id-1\" class=\"sk-top-container\"><div class=\"sk-text-repr-fallback\"><pre>LGBMClassifier(learning_rate=0.021831885060935904, max_depth=6,\n",
       "               n_estimators=904, random_state=42,\n",
       "               scale_pos_weight=1.5879043600562588)</pre><b>In a Jupyter environment, please rerun this cell to show the HTML representation or trust the notebook. <br />On GitHub, the HTML representation is unable to render, please try loading this page with nbviewer.org.</b></div><div class=\"sk-container\" hidden><div class=\"sk-item\"><div class=\"sk-estimator sk-toggleable\"><input class=\"sk-toggleable__control sk-hidden--visually\" id=\"sk-estimator-id-1\" type=\"checkbox\" checked><label for=\"sk-estimator-id-1\" class=\"sk-toggleable__label sk-toggleable__label-arrow\">LGBMClassifier</label><div class=\"sk-toggleable__content\"><pre>LGBMClassifier(learning_rate=0.021831885060935904, max_depth=6,\n",
       "               n_estimators=904, random_state=42,\n",
       "               scale_pos_weight=1.5879043600562588)</pre></div></div></div></div></div>"
      ],
      "text/plain": [
       "LGBMClassifier(learning_rate=0.021831885060935904, max_depth=6,\n",
       "               n_estimators=904, random_state=42,\n",
       "               scale_pos_weight=1.5879043600562588)"
      ]
     },
     "execution_count": 8,
     "metadata": {},
     "output_type": "execute_result"
    }
   ],
   "source": [
    "lgb.fit(train_X,train_y)"
   ]
  },
  {
   "cell_type": "code",
   "execution_count": 9,
   "metadata": {},
   "outputs": [],
   "source": [
    "train_prob=pd.DataFrame()\n",
    "train_prob['prob']=lgb.predict_proba(train_X)[:,1]"
   ]
  },
  {
   "cell_type": "code",
   "execution_count": 10,
   "metadata": {},
   "outputs": [],
   "source": [
    "train_X_new=train_X[test_stage_features]"
   ]
  },
  {
   "cell_type": "code",
   "execution_count": 11,
   "metadata": {},
   "outputs": [
    {
     "name": "stderr",
     "output_type": "stream",
     "text": [
      "\u001b[32m[I 2023-04-26 15:49:42,078]\u001b[0m A new study created in memory with name: no-name-eee8aace-e0d7-46bc-8045-5d8a1a7a25d7\u001b[0m\n",
      "/tmp/ipykernel_1394706/739011354.py:11: FutureWarning: suggest_loguniform has been deprecated in v3.0.0. This feature will be removed in v6.0.0. See https://github.com/optuna/optuna/releases/tag/v3.0.0. Use :func:`~optuna.trial.Trial.suggest_float` instead.\n",
      "  'learning_rate': trial.suggest_loguniform('learning_rate',0.01,0.1),\n",
      "\u001b[32m[I 2023-04-26 15:49:42,807]\u001b[0m Trial 0 finished with value: 0.05789628449918529 and parameters: {'n_estimators': 568, 'max_depth': 4, 'learning_rate': 0.054002021812876215}. Best is trial 0 with value: 0.05789628449918529.\u001b[0m\n",
      "/tmp/ipykernel_1394706/739011354.py:11: FutureWarning: suggest_loguniform has been deprecated in v3.0.0. This feature will be removed in v6.0.0. See https://github.com/optuna/optuna/releases/tag/v3.0.0. Use :func:`~optuna.trial.Trial.suggest_float` instead.\n",
      "  'learning_rate': trial.suggest_loguniform('learning_rate',0.01,0.1),\n",
      "\u001b[32m[I 2023-04-26 15:49:43,250]\u001b[0m Trial 1 finished with value: 0.05960177155135919 and parameters: {'n_estimators': 460, 'max_depth': 3, 'learning_rate': 0.06849347390043496}. Best is trial 0 with value: 0.05789628449918529.\u001b[0m\n",
      "/tmp/ipykernel_1394706/739011354.py:11: FutureWarning: suggest_loguniform has been deprecated in v3.0.0. This feature will be removed in v6.0.0. See https://github.com/optuna/optuna/releases/tag/v3.0.0. Use :func:`~optuna.trial.Trial.suggest_float` instead.\n",
      "  'learning_rate': trial.suggest_loguniform('learning_rate',0.01,0.1),\n",
      "\u001b[32m[I 2023-04-26 15:49:45,199]\u001b[0m Trial 2 finished with value: 0.05736567049056558 and parameters: {'n_estimators': 818, 'max_depth': 7, 'learning_rate': 0.060350218861839014}. Best is trial 2 with value: 0.05736567049056558.\u001b[0m\n",
      "/tmp/ipykernel_1394706/739011354.py:11: FutureWarning: suggest_loguniform has been deprecated in v3.0.0. This feature will be removed in v6.0.0. See https://github.com/optuna/optuna/releases/tag/v3.0.0. Use :func:`~optuna.trial.Trial.suggest_float` instead.\n",
      "  'learning_rate': trial.suggest_loguniform('learning_rate',0.01,0.1),\n",
      "\u001b[32m[I 2023-04-26 15:49:46,257]\u001b[0m Trial 3 finished with value: 0.05725454215772889 and parameters: {'n_estimators': 678, 'max_depth': 5, 'learning_rate': 0.0489882354547128}. Best is trial 3 with value: 0.05725454215772889.\u001b[0m\n",
      "/tmp/ipykernel_1394706/739011354.py:11: FutureWarning: suggest_loguniform has been deprecated in v3.0.0. This feature will be removed in v6.0.0. See https://github.com/optuna/optuna/releases/tag/v3.0.0. Use :func:`~optuna.trial.Trial.suggest_float` instead.\n",
      "  'learning_rate': trial.suggest_loguniform('learning_rate',0.01,0.1),\n",
      "\u001b[32m[I 2023-04-26 15:49:47,909]\u001b[0m Trial 4 finished with value: 0.058006089034097465 and parameters: {'n_estimators': 569, 'max_depth': 7, 'learning_rate': 0.0127946694665211}. Best is trial 3 with value: 0.05725454215772889.\u001b[0m\n",
      "/tmp/ipykernel_1394706/739011354.py:11: FutureWarning: suggest_loguniform has been deprecated in v3.0.0. This feature will be removed in v6.0.0. See https://github.com/optuna/optuna/releases/tag/v3.0.0. Use :func:`~optuna.trial.Trial.suggest_float` instead.\n",
      "  'learning_rate': trial.suggest_loguniform('learning_rate',0.01,0.1),\n",
      "\u001b[32m[I 2023-04-26 15:49:49,012]\u001b[0m Trial 5 finished with value: 0.05810242037924886 and parameters: {'n_estimators': 662, 'max_depth': 5, 'learning_rate': 0.02218782096691756}. Best is trial 3 with value: 0.05725454215772889.\u001b[0m\n",
      "/tmp/ipykernel_1394706/739011354.py:11: FutureWarning: suggest_loguniform has been deprecated in v3.0.0. This feature will be removed in v6.0.0. See https://github.com/optuna/optuna/releases/tag/v3.0.0. Use :func:`~optuna.trial.Trial.suggest_float` instead.\n",
      "  'learning_rate': trial.suggest_loguniform('learning_rate',0.01,0.1),\n",
      "\u001b[32m[I 2023-04-26 15:49:50,162]\u001b[0m Trial 6 finished with value: 0.05667467343043192 and parameters: {'n_estimators': 613, 'max_depth': 6, 'learning_rate': 0.0773975721065412}. Best is trial 6 with value: 0.05667467343043192.\u001b[0m\n",
      "/tmp/ipykernel_1394706/739011354.py:11: FutureWarning: suggest_loguniform has been deprecated in v3.0.0. This feature will be removed in v6.0.0. See https://github.com/optuna/optuna/releases/tag/v3.0.0. Use :func:`~optuna.trial.Trial.suggest_float` instead.\n",
      "  'learning_rate': trial.suggest_loguniform('learning_rate',0.01,0.1),\n",
      "\u001b[32m[I 2023-04-26 15:49:51,799]\u001b[0m Trial 7 finished with value: 0.0574486400205665 and parameters: {'n_estimators': 928, 'max_depth': 6, 'learning_rate': 0.08357083556687406}. Best is trial 6 with value: 0.05667467343043192.\u001b[0m\n",
      "/tmp/ipykernel_1394706/739011354.py:11: FutureWarning: suggest_loguniform has been deprecated in v3.0.0. This feature will be removed in v6.0.0. See https://github.com/optuna/optuna/releases/tag/v3.0.0. Use :func:`~optuna.trial.Trial.suggest_float` instead.\n",
      "  'learning_rate': trial.suggest_loguniform('learning_rate',0.01,0.1),\n",
      "\u001b[32m[I 2023-04-26 15:49:52,384]\u001b[0m Trial 8 finished with value: 0.05655136826078887 and parameters: {'n_estimators': 277, 'max_depth': 6, 'learning_rate': 0.08243921565179745}. Best is trial 8 with value: 0.05655136826078887.\u001b[0m\n",
      "/tmp/ipykernel_1394706/739011354.py:11: FutureWarning: suggest_loguniform has been deprecated in v3.0.0. This feature will be removed in v6.0.0. See https://github.com/optuna/optuna/releases/tag/v3.0.0. Use :func:`~optuna.trial.Trial.suggest_float` instead.\n",
      "  'learning_rate': trial.suggest_loguniform('learning_rate',0.01,0.1),\n",
      "\u001b[32m[I 2023-04-26 15:49:53,005]\u001b[0m Trial 9 finished with value: 0.060208449773829144 and parameters: {'n_estimators': 256, 'max_depth': 6, 'learning_rate': 0.0193373719120044}. Best is trial 8 with value: 0.05655136826078887.\u001b[0m\n",
      "/tmp/ipykernel_1394706/739011354.py:11: FutureWarning: suggest_loguniform has been deprecated in v3.0.0. This feature will be removed in v6.0.0. See https://github.com/optuna/optuna/releases/tag/v3.0.0. Use :func:`~optuna.trial.Trial.suggest_float` instead.\n",
      "  'learning_rate': trial.suggest_loguniform('learning_rate',0.01,0.1),\n",
      "\u001b[32m[I 2023-04-26 15:49:53,574]\u001b[0m Trial 10 finished with value: 0.056099947185991705 and parameters: {'n_estimators': 167, 'max_depth': 9, 'learning_rate': 0.09731020399302072}. Best is trial 10 with value: 0.056099947185991705.\u001b[0m\n",
      "/tmp/ipykernel_1394706/739011354.py:11: FutureWarning: suggest_loguniform has been deprecated in v3.0.0. This feature will be removed in v6.0.0. See https://github.com/optuna/optuna/releases/tag/v3.0.0. Use :func:`~optuna.trial.Trial.suggest_float` instead.\n",
      "  'learning_rate': trial.suggest_loguniform('learning_rate',0.01,0.1),\n",
      "\u001b[32m[I 2023-04-26 15:49:54,010]\u001b[0m Trial 11 finished with value: 0.05595054107289514 and parameters: {'n_estimators': 141, 'max_depth': 9, 'learning_rate': 0.09511685376208572}. Best is trial 11 with value: 0.05595054107289514.\u001b[0m\n",
      "/tmp/ipykernel_1394706/739011354.py:11: FutureWarning: suggest_loguniform has been deprecated in v3.0.0. This feature will be removed in v6.0.0. See https://github.com/optuna/optuna/releases/tag/v3.0.0. Use :func:`~optuna.trial.Trial.suggest_float` instead.\n",
      "  'learning_rate': trial.suggest_loguniform('learning_rate',0.01,0.1),\n",
      "\u001b[32m[I 2023-04-26 15:49:54,369]\u001b[0m Trial 12 finished with value: 0.05683998843962982 and parameters: {'n_estimators': 120, 'max_depth': 9, 'learning_rate': 0.09995446275309584}. Best is trial 11 with value: 0.05595054107289514.\u001b[0m\n",
      "/tmp/ipykernel_1394706/739011354.py:11: FutureWarning: suggest_loguniform has been deprecated in v3.0.0. This feature will be removed in v6.0.0. See https://github.com/optuna/optuna/releases/tag/v3.0.0. Use :func:`~optuna.trial.Trial.suggest_float` instead.\n",
      "  'learning_rate': trial.suggest_loguniform('learning_rate',0.01,0.1),\n",
      "\u001b[32m[I 2023-04-26 15:49:54,744]\u001b[0m Trial 13 finished with value: 0.05834269196696359 and parameters: {'n_estimators': 103, 'max_depth': 9, 'learning_rate': 0.04021411652422201}. Best is trial 11 with value: 0.05595054107289514.\u001b[0m\n",
      "/tmp/ipykernel_1394706/739011354.py:11: FutureWarning: suggest_loguniform has been deprecated in v3.0.0. This feature will be removed in v6.0.0. See https://github.com/optuna/optuna/releases/tag/v3.0.0. Use :func:`~optuna.trial.Trial.suggest_float` instead.\n",
      "  'learning_rate': trial.suggest_loguniform('learning_rate',0.01,0.1),\n",
      "\u001b[32m[I 2023-04-26 15:49:55,564]\u001b[0m Trial 14 finished with value: 0.05657279886370446 and parameters: {'n_estimators': 334, 'max_depth': 8, 'learning_rate': 0.09796092670682578}. Best is trial 11 with value: 0.05595054107289514.\u001b[0m\n",
      "/tmp/ipykernel_1394706/739011354.py:11: FutureWarning: suggest_loguniform has been deprecated in v3.0.0. This feature will be removed in v6.0.0. See https://github.com/optuna/optuna/releases/tag/v3.0.0. Use :func:`~optuna.trial.Trial.suggest_float` instead.\n",
      "  'learning_rate': trial.suggest_loguniform('learning_rate',0.01,0.1),\n",
      "\u001b[32m[I 2023-04-26 15:49:56,646]\u001b[0m Trial 15 finished with value: 0.05605955669197411 and parameters: {'n_estimators': 405, 'max_depth': 8, 'learning_rate': 0.04011643396509574}. Best is trial 11 with value: 0.05595054107289514.\u001b[0m\n",
      "/tmp/ipykernel_1394706/739011354.py:11: FutureWarning: suggest_loguniform has been deprecated in v3.0.0. This feature will be removed in v6.0.0. See https://github.com/optuna/optuna/releases/tag/v3.0.0. Use :func:`~optuna.trial.Trial.suggest_float` instead.\n",
      "  'learning_rate': trial.suggest_loguniform('learning_rate',0.01,0.1),\n",
      "\u001b[32m[I 2023-04-26 15:49:57,666]\u001b[0m Trial 16 finished with value: 0.05634980647410577 and parameters: {'n_estimators': 371, 'max_depth': 8, 'learning_rate': 0.03561857054212865}. Best is trial 11 with value: 0.05595054107289514.\u001b[0m\n",
      "/tmp/ipykernel_1394706/739011354.py:11: FutureWarning: suggest_loguniform has been deprecated in v3.0.0. This feature will be removed in v6.0.0. See https://github.com/optuna/optuna/releases/tag/v3.0.0. Use :func:`~optuna.trial.Trial.suggest_float` instead.\n",
      "  'learning_rate': trial.suggest_loguniform('learning_rate',0.01,0.1),\n",
      "\u001b[32m[I 2023-04-26 15:49:58,837]\u001b[0m Trial 17 finished with value: 0.05625048514933537 and parameters: {'n_estimators': 453, 'max_depth': 8, 'learning_rate': 0.04619458506421507}. Best is trial 11 with value: 0.05595054107289514.\u001b[0m\n",
      "/tmp/ipykernel_1394706/739011354.py:11: FutureWarning: suggest_loguniform has been deprecated in v3.0.0. This feature will be removed in v6.0.0. See https://github.com/optuna/optuna/releases/tag/v3.0.0. Use :func:`~optuna.trial.Trial.suggest_float` instead.\n",
      "  'learning_rate': trial.suggest_loguniform('learning_rate',0.01,0.1),\n",
      "\u001b[32m[I 2023-04-26 15:49:59,459]\u001b[0m Trial 18 finished with value: 0.05670650036007563 and parameters: {'n_estimators': 215, 'max_depth': 7, 'learning_rate': 0.060670761052717424}. Best is trial 11 with value: 0.05595054107289514.\u001b[0m\n",
      "/tmp/ipykernel_1394706/739011354.py:11: FutureWarning: suggest_loguniform has been deprecated in v3.0.0. This feature will be removed in v6.0.0. See https://github.com/optuna/optuna/releases/tag/v3.0.0. Use :func:`~optuna.trial.Trial.suggest_float` instead.\n",
      "  'learning_rate': trial.suggest_loguniform('learning_rate',0.01,0.1),\n",
      "\u001b[32m[I 2023-04-26 15:50:00,648]\u001b[0m Trial 19 finished with value: 0.056524402727062203 and parameters: {'n_estimators': 431, 'max_depth': 8, 'learning_rate': 0.02761396360283432}. Best is trial 11 with value: 0.05595054107289514.\u001b[0m\n",
      "/tmp/ipykernel_1394706/739011354.py:11: FutureWarning: suggest_loguniform has been deprecated in v3.0.0. This feature will be removed in v6.0.0. See https://github.com/optuna/optuna/releases/tag/v3.0.0. Use :func:`~optuna.trial.Trial.suggest_float` instead.\n",
      "  'learning_rate': trial.suggest_loguniform('learning_rate',0.01,0.1),\n",
      "\u001b[32m[I 2023-04-26 15:50:02,713]\u001b[0m Trial 20 finished with value: 0.05617967102340086 and parameters: {'n_estimators': 761, 'max_depth': 9, 'learning_rate': 0.03945898891870344}. Best is trial 11 with value: 0.05595054107289514.\u001b[0m\n",
      "/tmp/ipykernel_1394706/739011354.py:11: FutureWarning: suggest_loguniform has been deprecated in v3.0.0. This feature will be removed in v6.0.0. See https://github.com/optuna/optuna/releases/tag/v3.0.0. Use :func:`~optuna.trial.Trial.suggest_float` instead.\n",
      "  'learning_rate': trial.suggest_loguniform('learning_rate',0.01,0.1),\n",
      "\u001b[32m[I 2023-04-26 15:50:03,465]\u001b[0m Trial 21 finished with value: 0.05634507612820442 and parameters: {'n_estimators': 175, 'max_depth': 9, 'learning_rate': 0.07568534062236448}. Best is trial 11 with value: 0.05595054107289514.\u001b[0m\n",
      "/tmp/ipykernel_1394706/739011354.py:11: FutureWarning: suggest_loguniform has been deprecated in v3.0.0. This feature will be removed in v6.0.0. See https://github.com/optuna/optuna/releases/tag/v3.0.0. Use :func:`~optuna.trial.Trial.suggest_float` instead.\n",
      "  'learning_rate': trial.suggest_loguniform('learning_rate',0.01,0.1),\n",
      "\u001b[32m[I 2023-04-26 15:50:04,435]\u001b[0m Trial 22 finished with value: 0.05601004608227454 and parameters: {'n_estimators': 346, 'max_depth': 9, 'learning_rate': 0.0634329406807761}. Best is trial 11 with value: 0.05595054107289514.\u001b[0m\n",
      "/tmp/ipykernel_1394706/739011354.py:11: FutureWarning: suggest_loguniform has been deprecated in v3.0.0. This feature will be removed in v6.0.0. See https://github.com/optuna/optuna/releases/tag/v3.0.0. Use :func:`~optuna.trial.Trial.suggest_float` instead.\n",
      "  'learning_rate': trial.suggest_loguniform('learning_rate',0.01,0.1),\n",
      "\u001b[32m[I 2023-04-26 15:50:05,486]\u001b[0m Trial 23 finished with value: 0.05614715583993209 and parameters: {'n_estimators': 336, 'max_depth': 8, 'learning_rate': 0.061636836613932426}. Best is trial 11 with value: 0.05595054107289514.\u001b[0m\n",
      "/tmp/ipykernel_1394706/739011354.py:11: FutureWarning: suggest_loguniform has been deprecated in v3.0.0. This feature will be removed in v6.0.0. See https://github.com/optuna/optuna/releases/tag/v3.0.0. Use :func:`~optuna.trial.Trial.suggest_float` instead.\n",
      "  'learning_rate': trial.suggest_loguniform('learning_rate',0.01,0.1),\n",
      "\u001b[32m[I 2023-04-26 15:50:06,891]\u001b[0m Trial 24 finished with value: 0.05615001137586734 and parameters: {'n_estimators': 495, 'max_depth': 9, 'learning_rate': 0.049995139356741186}. Best is trial 11 with value: 0.05595054107289514.\u001b[0m\n",
      "/tmp/ipykernel_1394706/739011354.py:11: FutureWarning: suggest_loguniform has been deprecated in v3.0.0. This feature will be removed in v6.0.0. See https://github.com/optuna/optuna/releases/tag/v3.0.0. Use :func:`~optuna.trial.Trial.suggest_float` instead.\n",
      "  'learning_rate': trial.suggest_loguniform('learning_rate',0.01,0.1),\n",
      "\u001b[32m[I 2023-04-26 15:50:08,003]\u001b[0m Trial 25 finished with value: 0.05594523608196818 and parameters: {'n_estimators': 392, 'max_depth': 8, 'learning_rate': 0.06953329397213064}. Best is trial 25 with value: 0.05594523608196818.\u001b[0m\n",
      "/tmp/ipykernel_1394706/739011354.py:11: FutureWarning: suggest_loguniform has been deprecated in v3.0.0. This feature will be removed in v6.0.0. See https://github.com/optuna/optuna/releases/tag/v3.0.0. Use :func:`~optuna.trial.Trial.suggest_float` instead.\n",
      "  'learning_rate': trial.suggest_loguniform('learning_rate',0.01,0.1),\n",
      "\u001b[32m[I 2023-04-26 15:50:08,677]\u001b[0m Trial 26 finished with value: 0.05680991498194243 and parameters: {'n_estimators': 246, 'max_depth': 7, 'learning_rate': 0.07005648940779169}. Best is trial 25 with value: 0.05594523608196818.\u001b[0m\n",
      "/tmp/ipykernel_1394706/739011354.py:11: FutureWarning: suggest_loguniform has been deprecated in v3.0.0. This feature will be removed in v6.0.0. See https://github.com/optuna/optuna/releases/tag/v3.0.0. Use :func:`~optuna.trial.Trial.suggest_float` instead.\n",
      "  'learning_rate': trial.suggest_loguniform('learning_rate',0.01,0.1),\n",
      "\u001b[32m[I 2023-04-26 15:50:09,749]\u001b[0m Trial 27 finished with value: 0.05621217263256593 and parameters: {'n_estimators': 307, 'max_depth': 9, 'learning_rate': 0.08485251989134392}. Best is trial 25 with value: 0.05594523608196818.\u001b[0m\n",
      "/tmp/ipykernel_1394706/739011354.py:11: FutureWarning: suggest_loguniform has been deprecated in v3.0.0. This feature will be removed in v6.0.0. See https://github.com/optuna/optuna/releases/tag/v3.0.0. Use :func:`~optuna.trial.Trial.suggest_float` instead.\n",
      "  'learning_rate': trial.suggest_loguniform('learning_rate',0.01,0.1),\n",
      "\u001b[32m[I 2023-04-26 15:50:10,994]\u001b[0m Trial 28 finished with value: 0.05607881053807653 and parameters: {'n_estimators': 498, 'max_depth': 8, 'learning_rate': 0.0660029457733341}. Best is trial 25 with value: 0.05594523608196818.\u001b[0m\n",
      "/tmp/ipykernel_1394706/739011354.py:11: FutureWarning: suggest_loguniform has been deprecated in v3.0.0. This feature will be removed in v6.0.0. See https://github.com/optuna/optuna/releases/tag/v3.0.0. Use :func:`~optuna.trial.Trial.suggest_float` instead.\n",
      "  'learning_rate': trial.suggest_loguniform('learning_rate',0.01,0.1),\n",
      "\u001b[32m[I 2023-04-26 15:50:11,186]\u001b[0m Trial 29 finished with value: 0.06273071982329143 and parameters: {'n_estimators': 177, 'max_depth': 3, 'learning_rate': 0.0533853591832283}. Best is trial 25 with value: 0.05594523608196818.\u001b[0m\n",
      "/tmp/ipykernel_1394706/739011354.py:11: FutureWarning: suggest_loguniform has been deprecated in v3.0.0. This feature will be removed in v6.0.0. See https://github.com/optuna/optuna/releases/tag/v3.0.0. Use :func:`~optuna.trial.Trial.suggest_float` instead.\n",
      "  'learning_rate': trial.suggest_loguniform('learning_rate',0.01,0.1),\n",
      "\u001b[32m[I 2023-04-26 15:50:12,386]\u001b[0m Trial 30 finished with value: 0.05604221137026487 and parameters: {'n_estimators': 374, 'max_depth': 9, 'learning_rate': 0.058719770235796276}. Best is trial 25 with value: 0.05594523608196818.\u001b[0m\n",
      "/tmp/ipykernel_1394706/739011354.py:11: FutureWarning: suggest_loguniform has been deprecated in v3.0.0. This feature will be removed in v6.0.0. See https://github.com/optuna/optuna/releases/tag/v3.0.0. Use :func:`~optuna.trial.Trial.suggest_float` instead.\n",
      "  'learning_rate': trial.suggest_loguniform('learning_rate',0.01,0.1),\n",
      "\u001b[32m[I 2023-04-26 15:50:13,464]\u001b[0m Trial 31 finished with value: 0.05594952649479005 and parameters: {'n_estimators': 376, 'max_depth': 9, 'learning_rate': 0.059171611922542784}. Best is trial 25 with value: 0.05594523608196818.\u001b[0m\n",
      "/tmp/ipykernel_1394706/739011354.py:11: FutureWarning: suggest_loguniform has been deprecated in v3.0.0. This feature will be removed in v6.0.0. See https://github.com/optuna/optuna/releases/tag/v3.0.0. Use :func:`~optuna.trial.Trial.suggest_float` instead.\n",
      "  'learning_rate': trial.suggest_loguniform('learning_rate',0.01,0.1),\n",
      "\u001b[32m[I 2023-04-26 15:50:14,937]\u001b[0m Trial 32 finished with value: 0.05696138579600731 and parameters: {'n_estimators': 522, 'max_depth': 9, 'learning_rate': 0.06748587784808009}. Best is trial 25 with value: 0.05594523608196818.\u001b[0m\n",
      "/tmp/ipykernel_1394706/739011354.py:11: FutureWarning: suggest_loguniform has been deprecated in v3.0.0. This feature will be removed in v6.0.0. See https://github.com/optuna/optuna/releases/tag/v3.0.0. Use :func:`~optuna.trial.Trial.suggest_float` instead.\n",
      "  'learning_rate': trial.suggest_loguniform('learning_rate',0.01,0.1),\n",
      "\u001b[32m[I 2023-04-26 15:50:15,970]\u001b[0m Trial 33 finished with value: 0.0564198950737342 and parameters: {'n_estimators': 389, 'max_depth': 8, 'learning_rate': 0.05670734408177204}. Best is trial 25 with value: 0.05594523608196818.\u001b[0m\n",
      "/tmp/ipykernel_1394706/739011354.py:11: FutureWarning: suggest_loguniform has been deprecated in v3.0.0. This feature will be removed in v6.0.0. See https://github.com/optuna/optuna/releases/tag/v3.0.0. Use :func:`~optuna.trial.Trial.suggest_float` instead.\n",
      "  'learning_rate': trial.suggest_loguniform('learning_rate',0.01,0.1),\n",
      "\u001b[32m[I 2023-04-26 15:50:16,728]\u001b[0m Trial 34 finished with value: 0.0565970664896963 and parameters: {'n_estimators': 309, 'max_depth': 7, 'learning_rate': 0.07180479618991577}. Best is trial 25 with value: 0.05594523608196818.\u001b[0m\n",
      "/tmp/ipykernel_1394706/739011354.py:11: FutureWarning: suggest_loguniform has been deprecated in v3.0.0. This feature will be removed in v6.0.0. See https://github.com/optuna/optuna/releases/tag/v3.0.0. Use :func:`~optuna.trial.Trial.suggest_float` instead.\n",
      "  'learning_rate': trial.suggest_loguniform('learning_rate',0.01,0.1),\n",
      "\u001b[32m[I 2023-04-26 15:50:18,382]\u001b[0m Trial 35 finished with value: 0.056570889024208856 and parameters: {'n_estimators': 587, 'max_depth': 9, 'learning_rate': 0.08543912251593855}. Best is trial 25 with value: 0.05594523608196818.\u001b[0m\n",
      "/tmp/ipykernel_1394706/739011354.py:11: FutureWarning: suggest_loguniform has been deprecated in v3.0.0. This feature will be removed in v6.0.0. See https://github.com/optuna/optuna/releases/tag/v3.0.0. Use :func:`~optuna.trial.Trial.suggest_float` instead.\n",
      "  'learning_rate': trial.suggest_loguniform('learning_rate',0.01,0.1),\n",
      "\u001b[32m[I 2023-04-26 15:50:19,598]\u001b[0m Trial 36 finished with value: 0.05650319278571769 and parameters: {'n_estimators': 463, 'max_depth': 8, 'learning_rate': 0.050965340356917826}. Best is trial 25 with value: 0.05594523608196818.\u001b[0m\n",
      "/tmp/ipykernel_1394706/739011354.py:11: FutureWarning: suggest_loguniform has been deprecated in v3.0.0. This feature will be removed in v6.0.0. See https://github.com/optuna/optuna/releases/tag/v3.0.0. Use :func:`~optuna.trial.Trial.suggest_float` instead.\n",
      "  'learning_rate': trial.suggest_loguniform('learning_rate',0.01,0.1),\n",
      "\u001b[32m[I 2023-04-26 15:50:19,967]\u001b[0m Trial 37 finished with value: 0.059380015667737096 and parameters: {'n_estimators': 221, 'max_depth': 4, 'learning_rate': 0.06477229854964343}. Best is trial 25 with value: 0.05594523608196818.\u001b[0m\n",
      "/tmp/ipykernel_1394706/739011354.py:11: FutureWarning: suggest_loguniform has been deprecated in v3.0.0. This feature will be removed in v6.0.0. See https://github.com/optuna/optuna/releases/tag/v3.0.0. Use :func:`~optuna.trial.Trial.suggest_float` instead.\n",
      "  'learning_rate': trial.suggest_loguniform('learning_rate',0.01,0.1),\n",
      "\u001b[32m[I 2023-04-26 15:50:22,220]\u001b[0m Trial 38 finished with value: 0.057354968997182135 and parameters: {'n_estimators': 994, 'max_depth': 7, 'learning_rate': 0.07555529641694828}. Best is trial 25 with value: 0.05594523608196818.\u001b[0m\n",
      "/tmp/ipykernel_1394706/739011354.py:11: FutureWarning: suggest_loguniform has been deprecated in v3.0.0. This feature will be removed in v6.0.0. See https://github.com/optuna/optuna/releases/tag/v3.0.0. Use :func:`~optuna.trial.Trial.suggest_float` instead.\n",
      "  'learning_rate': trial.suggest_loguniform('learning_rate',0.01,0.1),\n",
      "\u001b[32m[I 2023-04-26 15:50:24,370]\u001b[0m Trial 39 finished with value: 0.05641783783329283 and parameters: {'n_estimators': 730, 'max_depth': 9, 'learning_rate': 0.04591444648415997}. Best is trial 25 with value: 0.05594523608196818.\u001b[0m\n",
      "/tmp/ipykernel_1394706/739011354.py:11: FutureWarning: suggest_loguniform has been deprecated in v3.0.0. This feature will be removed in v6.0.0. See https://github.com/optuna/optuna/releases/tag/v3.0.0. Use :func:`~optuna.trial.Trial.suggest_float` instead.\n",
      "  'learning_rate': trial.suggest_loguniform('learning_rate',0.01,0.1),\n",
      "\u001b[32m[I 2023-04-26 15:50:26,253]\u001b[0m Trial 40 finished with value: 0.05674450020335122 and parameters: {'n_estimators': 635, 'max_depth': 9, 'learning_rate': 0.08331531138922306}. Best is trial 25 with value: 0.05594523608196818.\u001b[0m\n",
      "/tmp/ipykernel_1394706/739011354.py:11: FutureWarning: suggest_loguniform has been deprecated in v3.0.0. This feature will be removed in v6.0.0. See https://github.com/optuna/optuna/releases/tag/v3.0.0. Use :func:`~optuna.trial.Trial.suggest_float` instead.\n",
      "  'learning_rate': trial.suggest_loguniform('learning_rate',0.01,0.1),\n",
      "\u001b[32m[I 2023-04-26 15:50:27,301]\u001b[0m Trial 41 finished with value: 0.056072284190913334 and parameters: {'n_estimators': 360, 'max_depth': 9, 'learning_rate': 0.0557719565964137}. Best is trial 25 with value: 0.05594523608196818.\u001b[0m\n",
      "/tmp/ipykernel_1394706/739011354.py:11: FutureWarning: suggest_loguniform has been deprecated in v3.0.0. This feature will be removed in v6.0.0. See https://github.com/optuna/optuna/releases/tag/v3.0.0. Use :func:`~optuna.trial.Trial.suggest_float` instead.\n",
      "  'learning_rate': trial.suggest_loguniform('learning_rate',0.01,0.1),\n",
      "\u001b[32m[I 2023-04-26 15:50:28,524]\u001b[0m Trial 42 finished with value: 0.056212431736625455 and parameters: {'n_estimators': 407, 'max_depth': 9, 'learning_rate': 0.061314018841016366}. Best is trial 25 with value: 0.05594523608196818.\u001b[0m\n",
      "/tmp/ipykernel_1394706/739011354.py:11: FutureWarning: suggest_loguniform has been deprecated in v3.0.0. This feature will be removed in v6.0.0. See https://github.com/optuna/optuna/releases/tag/v3.0.0. Use :func:`~optuna.trial.Trial.suggest_float` instead.\n",
      "  'learning_rate': trial.suggest_loguniform('learning_rate',0.01,0.1),\n",
      "\u001b[32m[I 2023-04-26 15:50:29,333]\u001b[0m Trial 43 finished with value: 0.0562072413660899 and parameters: {'n_estimators': 289, 'max_depth': 8, 'learning_rate': 0.05797411236539897}. Best is trial 25 with value: 0.05594523608196818.\u001b[0m\n",
      "/tmp/ipykernel_1394706/739011354.py:11: FutureWarning: suggest_loguniform has been deprecated in v3.0.0. This feature will be removed in v6.0.0. See https://github.com/optuna/optuna/releases/tag/v3.0.0. Use :func:`~optuna.trial.Trial.suggest_float` instead.\n",
      "  'learning_rate': trial.suggest_loguniform('learning_rate',0.01,0.1),\n",
      "\u001b[32m[I 2023-04-26 15:50:30,112]\u001b[0m Trial 44 finished with value: 0.05690450899449726 and parameters: {'n_estimators': 459, 'max_depth': 5, 'learning_rate': 0.07118114551348806}. Best is trial 25 with value: 0.05594523608196818.\u001b[0m\n",
      "/tmp/ipykernel_1394706/739011354.py:11: FutureWarning: suggest_loguniform has been deprecated in v3.0.0. This feature will be removed in v6.0.0. See https://github.com/optuna/optuna/releases/tag/v3.0.0. Use :func:`~optuna.trial.Trial.suggest_float` instead.\n",
      "  'learning_rate': trial.suggest_loguniform('learning_rate',0.01,0.1),\n",
      "\u001b[32m[I 2023-04-26 15:50:30,859]\u001b[0m Trial 45 finished with value: 0.056330866041965647 and parameters: {'n_estimators': 255, 'max_depth': 9, 'learning_rate': 0.09048367282671609}. Best is trial 25 with value: 0.05594523608196818.\u001b[0m\n",
      "/tmp/ipykernel_1394706/739011354.py:11: FutureWarning: suggest_loguniform has been deprecated in v3.0.0. This feature will be removed in v6.0.0. See https://github.com/optuna/optuna/releases/tag/v3.0.0. Use :func:`~optuna.trial.Trial.suggest_float` instead.\n",
      "  'learning_rate': trial.suggest_loguniform('learning_rate',0.01,0.1),\n",
      "\u001b[32m[I 2023-04-26 15:50:32,197]\u001b[0m Trial 46 finished with value: 0.05699755675645133 and parameters: {'n_estimators': 526, 'max_depth': 8, 'learning_rate': 0.07994583416203382}. Best is trial 25 with value: 0.05594523608196818.\u001b[0m\n",
      "/tmp/ipykernel_1394706/739011354.py:11: FutureWarning: suggest_loguniform has been deprecated in v3.0.0. This feature will be removed in v6.0.0. See https://github.com/optuna/optuna/releases/tag/v3.0.0. Use :func:`~optuna.trial.Trial.suggest_float` instead.\n",
      "  'learning_rate': trial.suggest_loguniform('learning_rate',0.01,0.1),\n",
      "\u001b[32m[I 2023-04-26 15:50:33,170]\u001b[0m Trial 47 finished with value: 0.055974127760355354 and parameters: {'n_estimators': 354, 'max_depth': 9, 'learning_rate': 0.08758949547352883}. Best is trial 25 with value: 0.05594523608196818.\u001b[0m\n",
      "/tmp/ipykernel_1394706/739011354.py:11: FutureWarning: suggest_loguniform has been deprecated in v3.0.0. This feature will be removed in v6.0.0. See https://github.com/optuna/optuna/releases/tag/v3.0.0. Use :func:`~optuna.trial.Trial.suggest_float` instead.\n",
      "  'learning_rate': trial.suggest_loguniform('learning_rate',0.01,0.1),\n",
      "\u001b[32m[I 2023-04-26 15:50:33,599]\u001b[0m Trial 48 finished with value: 0.05680211239840409 and parameters: {'n_estimators': 125, 'max_depth': 8, 'learning_rate': 0.09209110238783721}. Best is trial 25 with value: 0.05594523608196818.\u001b[0m\n",
      "/tmp/ipykernel_1394706/739011354.py:11: FutureWarning: suggest_loguniform has been deprecated in v3.0.0. This feature will be removed in v6.0.0. See https://github.com/optuna/optuna/releases/tag/v3.0.0. Use :func:`~optuna.trial.Trial.suggest_float` instead.\n",
      "  'learning_rate': trial.suggest_loguniform('learning_rate',0.01,0.1),\n",
      "\u001b[32m[I 2023-04-26 15:50:34,577]\u001b[0m Trial 49 finished with value: 0.056646323706010616 and parameters: {'n_estimators': 338, 'max_depth': 9, 'learning_rate': 0.09910319052727982}. Best is trial 25 with value: 0.05594523608196818.\u001b[0m\n"
     ]
    },
    {
     "name": "stdout",
     "output_type": "stream",
     "text": [
      "{'n_estimators': 392, 'max_depth': 8, 'learning_rate': 0.06953329397213064}\n"
     ]
    }
   ],
   "source": [
    "import optuna\n",
    "from lightgbm import LGBMRegressor\n",
    "\n",
    "# Objective 함수 정의\n",
    "def objective(trial):\n",
    "    \n",
    "    # 하이퍼파라미터 탐색할 공간 정의\n",
    "    params = {\n",
    "        'n_estimators': trial.suggest_int('n_estimators',100,1000),\n",
    "        'max_depth': trial.suggest_int('max_depth',3,9),\n",
    "        'learning_rate': trial.suggest_loguniform('learning_rate',0.01,0.1),\n",
    "    }\n",
    "    \n",
    "    # LGBMRegressor 모델 객체 생성\n",
    "    model = LGBMRegressor(**params, random_state=42)\n",
    "    \n",
    "    # 교차검증 수행하여 모델 성능 측정\n",
    "    scores = -1 * cross_val_score(model, train_X_new, train_prob['prob'],\n",
    "                                  cv=5, scoring='neg_mean_squared_error')\n",
    "    \n",
    "    # 교차검증 평균 점수 리턴\n",
    "    return np.mean(scores)\n",
    "\n",
    "\n",
    "# Optuna study 생성\n",
    "study = optuna.create_study(direction='minimize')\n",
    "\n",
    "# study 실행 (n_trials는 시도 횟수)\n",
    "study.optimize(objective, n_trials=50)\n",
    "\n",
    "# 최적화된 하이퍼파라미터 값 출력\n",
    "print(study.best_params)"
   ]
  },
  {
   "cell_type": "code",
   "execution_count": 12,
   "metadata": {},
   "outputs": [
    {
     "name": "stdout",
     "output_type": "stream",
     "text": [
      "Best hyperparameters: {'n_estimators': 392, 'max_depth': 8, 'learning_rate': 0.06953329397213064}\n",
      "Best RMSE: 0.0559\n"
     ]
    }
   ],
   "source": [
    "# Print best hyperparameters and auc\n",
    "\n",
    "print(f'Best hyperparameters: {study.best_params}')\n",
    "print(f'Best RMSE: {study.best_value:.4f}')"
   ]
  },
  {
   "cell_type": "code",
   "execution_count": 13,
   "metadata": {},
   "outputs": [],
   "source": [
    "model = LGBMRegressor(n_estimators=392,max_depth= 8,learning_rate= 0.06953329397213064)"
   ]
  },
  {
   "cell_type": "code",
   "execution_count": 14,
   "metadata": {},
   "outputs": [
    {
     "data": {
      "text/html": [
       "<style>#sk-container-id-2 {color: black;background-color: white;}#sk-container-id-2 pre{padding: 0;}#sk-container-id-2 div.sk-toggleable {background-color: white;}#sk-container-id-2 label.sk-toggleable__label {cursor: pointer;display: block;width: 100%;margin-bottom: 0;padding: 0.3em;box-sizing: border-box;text-align: center;}#sk-container-id-2 label.sk-toggleable__label-arrow:before {content: \"▸\";float: left;margin-right: 0.25em;color: #696969;}#sk-container-id-2 label.sk-toggleable__label-arrow:hover:before {color: black;}#sk-container-id-2 div.sk-estimator:hover label.sk-toggleable__label-arrow:before {color: black;}#sk-container-id-2 div.sk-toggleable__content {max-height: 0;max-width: 0;overflow: hidden;text-align: left;background-color: #f0f8ff;}#sk-container-id-2 div.sk-toggleable__content pre {margin: 0.2em;color: black;border-radius: 0.25em;background-color: #f0f8ff;}#sk-container-id-2 input.sk-toggleable__control:checked~div.sk-toggleable__content {max-height: 200px;max-width: 100%;overflow: auto;}#sk-container-id-2 input.sk-toggleable__control:checked~label.sk-toggleable__label-arrow:before {content: \"▾\";}#sk-container-id-2 div.sk-estimator input.sk-toggleable__control:checked~label.sk-toggleable__label {background-color: #d4ebff;}#sk-container-id-2 div.sk-label input.sk-toggleable__control:checked~label.sk-toggleable__label {background-color: #d4ebff;}#sk-container-id-2 input.sk-hidden--visually {border: 0;clip: rect(1px 1px 1px 1px);clip: rect(1px, 1px, 1px, 1px);height: 1px;margin: -1px;overflow: hidden;padding: 0;position: absolute;width: 1px;}#sk-container-id-2 div.sk-estimator {font-family: monospace;background-color: #f0f8ff;border: 1px dotted black;border-radius: 0.25em;box-sizing: border-box;margin-bottom: 0.5em;}#sk-container-id-2 div.sk-estimator:hover {background-color: #d4ebff;}#sk-container-id-2 div.sk-parallel-item::after {content: \"\";width: 100%;border-bottom: 1px solid gray;flex-grow: 1;}#sk-container-id-2 div.sk-label:hover label.sk-toggleable__label {background-color: #d4ebff;}#sk-container-id-2 div.sk-serial::before {content: \"\";position: absolute;border-left: 1px solid gray;box-sizing: border-box;top: 0;bottom: 0;left: 50%;z-index: 0;}#sk-container-id-2 div.sk-serial {display: flex;flex-direction: column;align-items: center;background-color: white;padding-right: 0.2em;padding-left: 0.2em;position: relative;}#sk-container-id-2 div.sk-item {position: relative;z-index: 1;}#sk-container-id-2 div.sk-parallel {display: flex;align-items: stretch;justify-content: center;background-color: white;position: relative;}#sk-container-id-2 div.sk-item::before, #sk-container-id-2 div.sk-parallel-item::before {content: \"\";position: absolute;border-left: 1px solid gray;box-sizing: border-box;top: 0;bottom: 0;left: 50%;z-index: -1;}#sk-container-id-2 div.sk-parallel-item {display: flex;flex-direction: column;z-index: 1;position: relative;background-color: white;}#sk-container-id-2 div.sk-parallel-item:first-child::after {align-self: flex-end;width: 50%;}#sk-container-id-2 div.sk-parallel-item:last-child::after {align-self: flex-start;width: 50%;}#sk-container-id-2 div.sk-parallel-item:only-child::after {width: 0;}#sk-container-id-2 div.sk-dashed-wrapped {border: 1px dashed gray;margin: 0 0.4em 0.5em 0.4em;box-sizing: border-box;padding-bottom: 0.4em;background-color: white;}#sk-container-id-2 div.sk-label label {font-family: monospace;font-weight: bold;display: inline-block;line-height: 1.2em;}#sk-container-id-2 div.sk-label-container {text-align: center;}#sk-container-id-2 div.sk-container {/* jupyter's `normalize.less` sets `[hidden] { display: none; }` but bootstrap.min.css set `[hidden] { display: none !important; }` so we also need the `!important` here to be able to override the default hidden behavior on the sphinx rendered scikit-learn.org. See: https://github.com/scikit-learn/scikit-learn/issues/21755 */display: inline-block !important;position: relative;}#sk-container-id-2 div.sk-text-repr-fallback {display: none;}</style><div id=\"sk-container-id-2\" class=\"sk-top-container\"><div class=\"sk-text-repr-fallback\"><pre>LGBMRegressor(learning_rate=0.06953329397213064, max_depth=8, n_estimators=392)</pre><b>In a Jupyter environment, please rerun this cell to show the HTML representation or trust the notebook. <br />On GitHub, the HTML representation is unable to render, please try loading this page with nbviewer.org.</b></div><div class=\"sk-container\" hidden><div class=\"sk-item\"><div class=\"sk-estimator sk-toggleable\"><input class=\"sk-toggleable__control sk-hidden--visually\" id=\"sk-estimator-id-2\" type=\"checkbox\" checked><label for=\"sk-estimator-id-2\" class=\"sk-toggleable__label sk-toggleable__label-arrow\">LGBMRegressor</label><div class=\"sk-toggleable__content\"><pre>LGBMRegressor(learning_rate=0.06953329397213064, max_depth=8, n_estimators=392)</pre></div></div></div></div></div>"
      ],
      "text/plain": [
       "LGBMRegressor(learning_rate=0.06953329397213064, max_depth=8, n_estimators=392)"
      ]
     },
     "execution_count": 14,
     "metadata": {},
     "output_type": "execute_result"
    }
   ],
   "source": [
    "model.fit(train_X_new,train_prob['prob'])"
   ]
  },
  {
   "cell_type": "code",
   "execution_count": 15,
   "metadata": {},
   "outputs": [],
   "source": [
    "test_data=pd.DataFrame()\n",
    "test_data['prob']=model.predict(new_test_data_X)"
   ]
  },
  {
   "cell_type": "code",
   "execution_count": 16,
   "metadata": {},
   "outputs": [],
   "source": [
    "from sklearn.metrics import accuracy_score, precision_score, recall_score, confusion_matrix, f1_score\n",
    "\n",
    "def get_clf_prob(y_test, probability):\n",
    "  pred=np.where(probability > 0.50,1,0)\n",
    "  confusion=confusion_matrix(y_test, pred)\n",
    "  accuracy=accuracy_score(y_test,pred)\n",
    "  precision=precision_score(y_test,pred) \n",
    "  recall=recall_score(y_test,pred) \n",
    "  # F1 스코어 추가 \n",
    "  f1=f1_score(y_test,pred,average='macro')\n",
    "  Roc_score=roc_auc_score(y_test,probability)\n",
    "  print('임계값: ', 0.5) \n",
    "  print('오차행렬')\n",
    "  print(confusion) \n",
    "  # f1 score print 추가 \n",
    "  print('정확도: {0:.4f}, 정밀도: {1:.4f}, 재현율: {2:.4f}, F1:{3:.4f}, AUC:{4: .4f}'.format(accuracy,precision,recall,f1,Roc_score))"
   ]
  },
  {
   "cell_type": "code",
   "execution_count": 17,
   "metadata": {},
   "outputs": [
    {
     "name": "stdout",
     "output_type": "stream",
     "text": [
      "임계값:  0.5\n",
      "오차행렬\n",
      "[[500  30]\n",
      " [ 69 321]]\n",
      "정확도: 0.8924, 정밀도: 0.9145, 재현율: 0.8231, F1:0.8882, AUC: 0.9489\n"
     ]
    }
   ],
   "source": [
    "get_clf_prob(new_test_data_y,test_data['prob'])"
   ]
  },
  {
   "cell_type": "code",
   "execution_count": null,
   "metadata": {},
   "outputs": [],
   "source": []
  }
 ],
 "metadata": {
  "kernelspec": {
   "display_name": "Python 3",
   "language": "python",
   "name": "python3"
  },
  "language_info": {
   "codemirror_mode": {
    "name": "ipython",
    "version": 3
   },
   "file_extension": ".py",
   "mimetype": "text/x-python",
   "name": "python",
   "nbconvert_exporter": "python",
   "pygments_lexer": "ipython3",
   "version": "3.9.0"
  },
  "orig_nbformat": 4
 },
 "nbformat": 4,
 "nbformat_minor": 2
}
