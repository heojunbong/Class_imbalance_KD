{
 "cells": [
  {
   "cell_type": "code",
   "execution_count": 1,
   "metadata": {},
   "outputs": [],
   "source": [
    "import pandas as pd \n",
    "import numpy as np \n",
    "import matplotlib.pyplot as plt \n",
    "from sklearn.model_selection import train_test_split  \n",
    "from sklearn import preprocessing\n",
    "import optuna \n",
    "import lightgbm as lgb\n",
    "from sklearn.metrics import accuracy_score, roc_auc_score,precision_score, confusion_matrix,recall_score\n",
    "from sklearn.model_selection import cross_val_score, train_test_split\n",
    "import os "
   ]
  },
  {
   "cell_type": "code",
   "execution_count": 2,
   "metadata": {},
   "outputs": [],
   "source": [
    "train_data=pd.read_csv('/home/iai/son/lastcheck/spambase_train_data.csv')\n",
    "test_data=pd.read_csv('/home/iai/son/lastcheck/spambase_test_data.csv')"
   ]
  },
  {
   "cell_type": "code",
   "execution_count": 3,
   "metadata": {},
   "outputs": [],
   "source": [
    "train_stage_features=['0.7', '278', '61', '0', '0.34', '0.30', '0.5', '0.44', '0.40', '0.778',\n",
    "                        '0.24', '1.93', '0.39', '1.29', '0.43', '0.2', '0.36', '0.17', '0.20', \n",
    "                        '0.28', '0.21', '0.32.1', '0.41', '0.29', '3.756', '0.35', '0.25', '0.15', \n",
    "                        '0.64.1', '0.38', '0.45', '0.6', '0.33', '0.42', '0.14', '0.9', '0.10', \n",
    "                        '0.3', '0.13', '0.8', '0.19', '0.23', '0.18', '0.22', '0.16', '0.64.2', \n",
    "                        '0.1', '0.31', '0.27', '0.11', '0.4', '0.12', '0.26', '0.64', '0.37', '0.32', '0.96']\n",
    "test_stage_features=['0.7', '278', '61', '0', '0.34', '0.30', '0.5', '0.44', '0.40', '0.778',\n",
    "                        '0.24', '1.93', '0.39', '1.29', '0.43', '0.2', '0.36', '0.17', '0.20']"
   ]
  },
  {
   "cell_type": "code",
   "execution_count": 4,
   "metadata": {},
   "outputs": [],
   "source": [
    "train_X=train_data.loc[:,train_stage_features]\n",
    "train_y=train_data['1']\n",
    "new_test_data_X=test_data.loc[:,test_stage_features]\n",
    "new_test_data_y=test_data['1']"
   ]
  },
  {
   "cell_type": "code",
   "execution_count": 5,
   "metadata": {},
   "outputs": [],
   "source": [
    "ratio=train_y.value_counts()[0]/train_y.value_counts()[1]"
   ]
  },
  {
   "cell_type": "code",
   "execution_count": 6,
   "metadata": {},
   "outputs": [
    {
     "name": "stderr",
     "output_type": "stream",
     "text": [
      "\u001b[32m[I 2023-04-26 16:03:27,053]\u001b[0m A new study created in memory with name: lgb_boost_opt\u001b[0m\n",
      "/tmp/ipykernel_1366309/2141867322.py:7: FutureWarning: suggest_loguniform has been deprecated in v3.0.0. This feature will be removed in v6.0.0. See https://github.com/optuna/optuna/releases/tag/v3.0.0. Use :func:`~optuna.trial.Trial.suggest_float` instead.\n",
      "  'learning_rate':trial.suggest_loguniform('learning_rate',0.01,0.1),\n",
      "\u001b[32m[I 2023-04-26 16:03:30,585]\u001b[0m Trial 0 finished with value: 0.9901069525233599 and parameters: {'learning_rate': 0.027578140510599508, 'max_depth': 7, 'n_estimators': 995}. Best is trial 0 with value: 0.9901069525233599.\u001b[0m\n",
      "/tmp/ipykernel_1366309/2141867322.py:7: FutureWarning: suggest_loguniform has been deprecated in v3.0.0. This feature will be removed in v6.0.0. See https://github.com/optuna/optuna/releases/tag/v3.0.0. Use :func:`~optuna.trial.Trial.suggest_float` instead.\n",
      "  'learning_rate':trial.suggest_loguniform('learning_rate',0.01,0.1),\n",
      "\u001b[32m[I 2023-04-26 16:03:31,035]\u001b[0m Trial 1 finished with value: 0.9878408704661539 and parameters: {'learning_rate': 0.048525500267962214, 'max_depth': 8, 'n_estimators': 102}. Best is trial 0 with value: 0.9901069525233599.\u001b[0m\n",
      "/tmp/ipykernel_1366309/2141867322.py:7: FutureWarning: suggest_loguniform has been deprecated in v3.0.0. This feature will be removed in v6.0.0. See https://github.com/optuna/optuna/releases/tag/v3.0.0. Use :func:`~optuna.trial.Trial.suggest_float` instead.\n",
      "  'learning_rate':trial.suggest_loguniform('learning_rate',0.01,0.1),\n",
      "\u001b[32m[I 2023-04-26 16:03:31,600]\u001b[0m Trial 2 finished with value: 0.9847602229369727 and parameters: {'learning_rate': 0.012116446627433261, 'max_depth': 3, 'n_estimators': 461}. Best is trial 0 with value: 0.9901069525233599.\u001b[0m\n",
      "/tmp/ipykernel_1366309/2141867322.py:7: FutureWarning: suggest_loguniform has been deprecated in v3.0.0. This feature will be removed in v6.0.0. See https://github.com/optuna/optuna/releases/tag/v3.0.0. Use :func:`~optuna.trial.Trial.suggest_float` instead.\n",
      "  'learning_rate':trial.suggest_loguniform('learning_rate',0.01,0.1),\n",
      "\u001b[32m[I 2023-04-26 16:03:34,254]\u001b[0m Trial 3 finished with value: 0.9901739636072066 and parameters: {'learning_rate': 0.03243243626017961, 'max_depth': 7, 'n_estimators': 758}. Best is trial 3 with value: 0.9901739636072066.\u001b[0m\n",
      "/tmp/ipykernel_1366309/2141867322.py:7: FutureWarning: suggest_loguniform has been deprecated in v3.0.0. This feature will be removed in v6.0.0. See https://github.com/optuna/optuna/releases/tag/v3.0.0. Use :func:`~optuna.trial.Trial.suggest_float` instead.\n",
      "  'learning_rate':trial.suggest_loguniform('learning_rate',0.01,0.1),\n",
      "\u001b[32m[I 2023-04-26 16:03:34,733]\u001b[0m Trial 4 finished with value: 0.9863892364733028 and parameters: {'learning_rate': 0.03361665787265621, 'max_depth': 8, 'n_estimators': 104}. Best is trial 3 with value: 0.9901739636072066.\u001b[0m\n",
      "/tmp/ipykernel_1366309/2141867322.py:7: FutureWarning: suggest_loguniform has been deprecated in v3.0.0. This feature will be removed in v6.0.0. See https://github.com/optuna/optuna/releases/tag/v3.0.0. Use :func:`~optuna.trial.Trial.suggest_float` instead.\n",
      "  'learning_rate':trial.suggest_loguniform('learning_rate',0.01,0.1),\n",
      "\u001b[32m[I 2023-04-26 16:03:36,886]\u001b[0m Trial 5 finished with value: 0.9903904090512988 and parameters: {'learning_rate': 0.05686021518568242, 'max_depth': 6, 'n_estimators': 737}. Best is trial 5 with value: 0.9903904090512988.\u001b[0m\n",
      "/tmp/ipykernel_1366309/2141867322.py:7: FutureWarning: suggest_loguniform has been deprecated in v3.0.0. This feature will be removed in v6.0.0. See https://github.com/optuna/optuna/releases/tag/v3.0.0. Use :func:`~optuna.trial.Trial.suggest_float` instead.\n",
      "  'learning_rate':trial.suggest_loguniform('learning_rate',0.01,0.1),\n",
      "\u001b[32m[I 2023-04-26 16:03:39,081]\u001b[0m Trial 6 finished with value: 0.9899885247324569 and parameters: {'learning_rate': 0.05333153636934511, 'max_depth': 7, 'n_estimators': 635}. Best is trial 5 with value: 0.9903904090512988.\u001b[0m\n",
      "/tmp/ipykernel_1366309/2141867322.py:7: FutureWarning: suggest_loguniform has been deprecated in v3.0.0. This feature will be removed in v6.0.0. See https://github.com/optuna/optuna/releases/tag/v3.0.0. Use :func:`~optuna.trial.Trial.suggest_float` instead.\n",
      "  'learning_rate':trial.suggest_loguniform('learning_rate',0.01,0.1),\n",
      "\u001b[32m[I 2023-04-26 16:03:39,305]\u001b[0m Trial 7 finished with value: 0.981052298326037 and parameters: {'learning_rate': 0.023235726165332416, 'max_depth': 3, 'n_estimators': 149}. Best is trial 5 with value: 0.9903904090512988.\u001b[0m\n",
      "/tmp/ipykernel_1366309/2141867322.py:7: FutureWarning: suggest_loguniform has been deprecated in v3.0.0. This feature will be removed in v6.0.0. See https://github.com/optuna/optuna/releases/tag/v3.0.0. Use :func:`~optuna.trial.Trial.suggest_float` instead.\n",
      "  'learning_rate':trial.suggest_loguniform('learning_rate',0.01,0.1),\n",
      "\u001b[32m[I 2023-04-26 16:03:39,597]\u001b[0m Trial 8 finished with value: 0.9820832859630073 and parameters: {'learning_rate': 0.02132655738018381, 'max_depth': 4, 'n_estimators': 143}. Best is trial 5 with value: 0.9903904090512988.\u001b[0m\n",
      "/tmp/ipykernel_1366309/2141867322.py:7: FutureWarning: suggest_loguniform has been deprecated in v3.0.0. This feature will be removed in v6.0.0. See https://github.com/optuna/optuna/releases/tag/v3.0.0. Use :func:`~optuna.trial.Trial.suggest_float` instead.\n",
      "  'learning_rate':trial.suggest_loguniform('learning_rate',0.01,0.1),\n",
      "\u001b[32m[I 2023-04-26 16:03:40,506]\u001b[0m Trial 9 finished with value: 0.9890072611679436 and parameters: {'learning_rate': 0.023607871697119438, 'max_depth': 4, 'n_estimators': 506}. Best is trial 5 with value: 0.9903904090512988.\u001b[0m\n",
      "/tmp/ipykernel_1366309/2141867322.py:7: FutureWarning: suggest_loguniform has been deprecated in v3.0.0. This feature will be removed in v6.0.0. See https://github.com/optuna/optuna/releases/tag/v3.0.0. Use :func:`~optuna.trial.Trial.suggest_float` instead.\n",
      "  'learning_rate':trial.suggest_loguniform('learning_rate',0.01,0.1),\n",
      "\u001b[32m[I 2023-04-26 16:03:42,330]\u001b[0m Trial 10 finished with value: 0.9901425218199625 and parameters: {'learning_rate': 0.08395564607176807, 'max_depth': 5, 'n_estimators': 833}. Best is trial 5 with value: 0.9903904090512988.\u001b[0m\n",
      "/tmp/ipykernel_1366309/2141867322.py:7: FutureWarning: suggest_loguniform has been deprecated in v3.0.0. This feature will be removed in v6.0.0. See https://github.com/optuna/optuna/releases/tag/v3.0.0. Use :func:`~optuna.trial.Trial.suggest_float` instead.\n",
      "  'learning_rate':trial.suggest_loguniform('learning_rate',0.01,0.1),\n",
      "\u001b[32m[I 2023-04-26 16:03:44,336]\u001b[0m Trial 11 finished with value: 0.9898685186781705 and parameters: {'learning_rate': 0.09975906911025079, 'max_depth': 6, 'n_estimators': 728}. Best is trial 5 with value: 0.9903904090512988.\u001b[0m\n",
      "/tmp/ipykernel_1366309/2141867322.py:7: FutureWarning: suggest_loguniform has been deprecated in v3.0.0. This feature will be removed in v6.0.0. See https://github.com/optuna/optuna/releases/tag/v3.0.0. Use :func:`~optuna.trial.Trial.suggest_float` instead.\n",
      "  'learning_rate':trial.suggest_loguniform('learning_rate',0.01,0.1),\n",
      "\u001b[32m[I 2023-04-26 16:03:48,002]\u001b[0m Trial 12 finished with value: 0.9898562792065393 and parameters: {'learning_rate': 0.047651017120614814, 'max_depth': 9, 'n_estimators': 860}. Best is trial 5 with value: 0.9903904090512988.\u001b[0m\n",
      "/tmp/ipykernel_1366309/2141867322.py:7: FutureWarning: suggest_loguniform has been deprecated in v3.0.0. This feature will be removed in v6.0.0. See https://github.com/optuna/optuna/releases/tag/v3.0.0. Use :func:`~optuna.trial.Trial.suggest_float` instead.\n",
      "  'learning_rate':trial.suggest_loguniform('learning_rate',0.01,0.1),\n",
      "\u001b[32m[I 2023-04-26 16:03:49,170]\u001b[0m Trial 13 finished with value: 0.9903995223602025 and parameters: {'learning_rate': 0.07239074121362556, 'max_depth': 6, 'n_estimators': 390}. Best is trial 13 with value: 0.9903995223602025.\u001b[0m\n",
      "/tmp/ipykernel_1366309/2141867322.py:7: FutureWarning: suggest_loguniform has been deprecated in v3.0.0. This feature will be removed in v6.0.0. See https://github.com/optuna/optuna/releases/tag/v3.0.0. Use :func:`~optuna.trial.Trial.suggest_float` instead.\n",
      "  'learning_rate':trial.suggest_loguniform('learning_rate',0.01,0.1),\n",
      "\u001b[32m[I 2023-04-26 16:03:50,228]\u001b[0m Trial 14 finished with value: 0.9901910147912218 and parameters: {'learning_rate': 0.07141648680003584, 'max_depth': 6, 'n_estimators': 379}. Best is trial 13 with value: 0.9903995223602025.\u001b[0m\n",
      "/tmp/ipykernel_1366309/2141867322.py:7: FutureWarning: suggest_loguniform has been deprecated in v3.0.0. This feature will be removed in v6.0.0. See https://github.com/optuna/optuna/releases/tag/v3.0.0. Use :func:`~optuna.trial.Trial.suggest_float` instead.\n",
      "  'learning_rate':trial.suggest_loguniform('learning_rate',0.01,0.1),\n",
      "\u001b[32m[I 2023-04-26 16:03:51,013]\u001b[0m Trial 15 finished with value: 0.990318349415559 and parameters: {'learning_rate': 0.06741465755182845, 'max_depth': 5, 'n_estimators': 291}. Best is trial 13 with value: 0.9903995223602025.\u001b[0m\n",
      "/tmp/ipykernel_1366309/2141867322.py:7: FutureWarning: suggest_loguniform has been deprecated in v3.0.0. This feature will be removed in v6.0.0. See https://github.com/optuna/optuna/releases/tag/v3.0.0. Use :func:`~optuna.trial.Trial.suggest_float` instead.\n",
      "  'learning_rate':trial.suggest_loguniform('learning_rate',0.01,0.1),\n",
      "\u001b[32m[I 2023-04-26 16:03:52,372]\u001b[0m Trial 16 finished with value: 0.9903030262908559 and parameters: {'learning_rate': 0.06181206563376486, 'max_depth': 5, 'n_estimators': 610}. Best is trial 13 with value: 0.9903995223602025.\u001b[0m\n",
      "/tmp/ipykernel_1366309/2141867322.py:7: FutureWarning: suggest_loguniform has been deprecated in v3.0.0. This feature will be removed in v6.0.0. See https://github.com/optuna/optuna/releases/tag/v3.0.0. Use :func:`~optuna.trial.Trial.suggest_float` instead.\n",
      "  'learning_rate':trial.suggest_loguniform('learning_rate',0.01,0.1),\n",
      "\u001b[32m[I 2023-04-26 16:03:53,255]\u001b[0m Trial 17 finished with value: 0.9902783854060491 and parameters: {'learning_rate': 0.09637625271574547, 'max_depth': 6, 'n_estimators': 299}. Best is trial 13 with value: 0.9903995223602025.\u001b[0m\n",
      "/tmp/ipykernel_1366309/2141867322.py:7: FutureWarning: suggest_loguniform has been deprecated in v3.0.0. This feature will be removed in v6.0.0. See https://github.com/optuna/optuna/releases/tag/v3.0.0. Use :func:`~optuna.trial.Trial.suggest_float` instead.\n",
      "  'learning_rate':trial.suggest_loguniform('learning_rate',0.01,0.1),\n",
      "\u001b[32m[I 2023-04-26 16:03:54,502]\u001b[0m Trial 18 finished with value: 0.990343374911534 and parameters: {'learning_rate': 0.041662203922232584, 'max_depth': 6, 'n_estimators': 412}. Best is trial 13 with value: 0.9903995223602025.\u001b[0m\n",
      "/tmp/ipykernel_1366309/2141867322.py:7: FutureWarning: suggest_loguniform has been deprecated in v3.0.0. This feature will be removed in v6.0.0. See https://github.com/optuna/optuna/releases/tag/v3.0.0. Use :func:`~optuna.trial.Trial.suggest_float` instead.\n",
      "  'learning_rate':trial.suggest_loguniform('learning_rate',0.01,0.1),\n",
      "\u001b[32m[I 2023-04-26 16:03:56,808]\u001b[0m Trial 19 finished with value: 0.9899932311828374 and parameters: {'learning_rate': 0.07933305674382064, 'max_depth': 8, 'n_estimators': 603}. Best is trial 13 with value: 0.9903995223602025.\u001b[0m\n",
      "/tmp/ipykernel_1366309/2141867322.py:7: FutureWarning: suggest_loguniform has been deprecated in v3.0.0. This feature will be removed in v6.0.0. See https://github.com/optuna/optuna/releases/tag/v3.0.0. Use :func:`~optuna.trial.Trial.suggest_float` instead.\n",
      "  'learning_rate':trial.suggest_loguniform('learning_rate',0.01,0.1),\n",
      "\u001b[32m[I 2023-04-26 16:03:58,437]\u001b[0m Trial 20 finished with value: 0.9899042681347414 and parameters: {'learning_rate': 0.06290930896448683, 'max_depth': 4, 'n_estimators': 989}. Best is trial 13 with value: 0.9903995223602025.\u001b[0m\n",
      "/tmp/ipykernel_1366309/2141867322.py:7: FutureWarning: suggest_loguniform has been deprecated in v3.0.0. This feature will be removed in v6.0.0. See https://github.com/optuna/optuna/releases/tag/v3.0.0. Use :func:`~optuna.trial.Trial.suggest_float` instead.\n",
      "  'learning_rate':trial.suggest_loguniform('learning_rate',0.01,0.1),\n",
      "\u001b[32m[I 2023-04-26 16:03:59,622]\u001b[0m Trial 21 finished with value: 0.9905288481988617 and parameters: {'learning_rate': 0.041730054277719246, 'max_depth': 6, 'n_estimators': 416}. Best is trial 21 with value: 0.9905288481988617.\u001b[0m\n",
      "/tmp/ipykernel_1366309/2141867322.py:7: FutureWarning: suggest_loguniform has been deprecated in v3.0.0. This feature will be removed in v6.0.0. See https://github.com/optuna/optuna/releases/tag/v3.0.0. Use :func:`~optuna.trial.Trial.suggest_float` instead.\n",
      "  'learning_rate':trial.suggest_loguniform('learning_rate',0.01,0.1),\n",
      "\u001b[32m[I 2023-04-26 16:04:00,689]\u001b[0m Trial 22 finished with value: 0.9900772266498123 and parameters: {'learning_rate': 0.04222912780743226, 'max_depth': 7, 'n_estimators': 297}. Best is trial 21 with value: 0.9905288481988617.\u001b[0m\n",
      "/tmp/ipykernel_1366309/2141867322.py:7: FutureWarning: suggest_loguniform has been deprecated in v3.0.0. This feature will be removed in v6.0.0. See https://github.com/optuna/optuna/releases/tag/v3.0.0. Use :func:`~optuna.trial.Trial.suggest_float` instead.\n",
      "  'learning_rate':trial.suggest_loguniform('learning_rate',0.01,0.1),\n",
      "\u001b[32m[I 2023-04-26 16:04:01,620]\u001b[0m Trial 23 finished with value: 0.9901766646733796 and parameters: {'learning_rate': 0.060771944873626624, 'max_depth': 5, 'n_estimators': 388}. Best is trial 21 with value: 0.9905288481988617.\u001b[0m\n",
      "/tmp/ipykernel_1366309/2141867322.py:7: FutureWarning: suggest_loguniform has been deprecated in v3.0.0. This feature will be removed in v6.0.0. See https://github.com/optuna/optuna/releases/tag/v3.0.0. Use :func:`~optuna.trial.Trial.suggest_float` instead.\n",
      "  'learning_rate':trial.suggest_loguniform('learning_rate',0.01,0.1),\n",
      "\u001b[32m[I 2023-04-26 16:04:03,157]\u001b[0m Trial 24 finished with value: 0.9900975234284445 and parameters: {'learning_rate': 0.05524404991208543, 'max_depth': 6, 'n_estimators': 545}. Best is trial 21 with value: 0.9905288481988617.\u001b[0m\n",
      "/tmp/ipykernel_1366309/2141867322.py:7: FutureWarning: suggest_loguniform has been deprecated in v3.0.0. This feature will be removed in v6.0.0. See https://github.com/optuna/optuna/releases/tag/v3.0.0. Use :func:`~optuna.trial.Trial.suggest_float` instead.\n",
      "  'learning_rate':trial.suggest_loguniform('learning_rate',0.01,0.1),\n",
      "\u001b[32m[I 2023-04-26 16:04:05,560]\u001b[0m Trial 25 finished with value: 0.9896757977915644 and parameters: {'learning_rate': 0.07590053946745677, 'max_depth': 7, 'n_estimators': 704}. Best is trial 21 with value: 0.9905288481988617.\u001b[0m\n",
      "/tmp/ipykernel_1366309/2141867322.py:7: FutureWarning: suggest_loguniform has been deprecated in v3.0.0. This feature will be removed in v6.0.0. See https://github.com/optuna/optuna/releases/tag/v3.0.0. Use :func:`~optuna.trial.Trial.suggest_float` instead.\n",
      "  'learning_rate':trial.suggest_loguniform('learning_rate',0.01,0.1),\n",
      "\u001b[32m[I 2023-04-26 16:04:06,183]\u001b[0m Trial 26 finished with value: 0.9892967493759832 and parameters: {'learning_rate': 0.03888903558467103, 'max_depth': 5, 'n_estimators': 256}. Best is trial 21 with value: 0.9905288481988617.\u001b[0m\n",
      "/tmp/ipykernel_1366309/2141867322.py:7: FutureWarning: suggest_loguniform has been deprecated in v3.0.0. This feature will be removed in v6.0.0. See https://github.com/optuna/optuna/releases/tag/v3.0.0. Use :func:`~optuna.trial.Trial.suggest_float` instead.\n",
      "  'learning_rate':trial.suggest_loguniform('learning_rate',0.01,0.1),\n",
      "\u001b[32m[I 2023-04-26 16:04:07,876]\u001b[0m Trial 27 finished with value: 0.9904058212438516 and parameters: {'learning_rate': 0.05143325829604721, 'max_depth': 6, 'n_estimators': 492}. Best is trial 21 with value: 0.9905288481988617.\u001b[0m\n",
      "/tmp/ipykernel_1366309/2141867322.py:7: FutureWarning: suggest_loguniform has been deprecated in v3.0.0. This feature will be removed in v6.0.0. See https://github.com/optuna/optuna/releases/tag/v3.0.0. Use :func:`~optuna.trial.Trial.suggest_float` instead.\n",
      "  'learning_rate':trial.suggest_loguniform('learning_rate',0.01,0.1),\n",
      "\u001b[32m[I 2023-04-26 16:04:09,752]\u001b[0m Trial 28 finished with value: 0.9903372622606609 and parameters: {'learning_rate': 0.04721400659522318, 'max_depth': 9, 'n_estimators': 452}. Best is trial 21 with value: 0.9905288481988617.\u001b[0m\n",
      "/tmp/ipykernel_1366309/2141867322.py:7: FutureWarning: suggest_loguniform has been deprecated in v3.0.0. This feature will be removed in v6.0.0. See https://github.com/optuna/optuna/releases/tag/v3.0.0. Use :func:`~optuna.trial.Trial.suggest_float` instead.\n",
      "  'learning_rate':trial.suggest_loguniform('learning_rate',0.01,0.1),\n",
      "\u001b[32m[I 2023-04-26 16:04:10,637]\u001b[0m Trial 29 finished with value: 0.989859186748182 and parameters: {'learning_rate': 0.07048099153779391, 'max_depth': 7, 'n_estimators': 227}. Best is trial 21 with value: 0.9905288481988617.\u001b[0m\n",
      "/tmp/ipykernel_1366309/2141867322.py:7: FutureWarning: suggest_loguniform has been deprecated in v3.0.0. This feature will be removed in v6.0.0. See https://github.com/optuna/optuna/releases/tag/v3.0.0. Use :func:`~optuna.trial.Trial.suggest_float` instead.\n",
      "  'learning_rate':trial.suggest_loguniform('learning_rate',0.01,0.1),\n",
      "\u001b[32m[I 2023-04-26 16:04:11,876]\u001b[0m Trial 30 finished with value: 0.9901627882345551 and parameters: {'learning_rate': 0.035784801348433044, 'max_depth': 6, 'n_estimators': 349}. Best is trial 21 with value: 0.9905288481988617.\u001b[0m\n",
      "/tmp/ipykernel_1366309/2141867322.py:7: FutureWarning: suggest_loguniform has been deprecated in v3.0.0. This feature will be removed in v6.0.0. See https://github.com/optuna/optuna/releases/tag/v3.0.0. Use :func:`~optuna.trial.Trial.suggest_float` instead.\n",
      "  'learning_rate':trial.suggest_loguniform('learning_rate',0.01,0.1),\n",
      "\u001b[32m[I 2023-04-26 16:04:13,407]\u001b[0m Trial 31 finished with value: 0.9902625987236748 and parameters: {'learning_rate': 0.05670894756317871, 'max_depth': 6, 'n_estimators': 497}. Best is trial 21 with value: 0.9905288481988617.\u001b[0m\n",
      "/tmp/ipykernel_1366309/2141867322.py:7: FutureWarning: suggest_loguniform has been deprecated in v3.0.0. This feature will be removed in v6.0.0. See https://github.com/optuna/optuna/releases/tag/v3.0.0. Use :func:`~optuna.trial.Trial.suggest_float` instead.\n",
      "  'learning_rate':trial.suggest_loguniform('learning_rate',0.01,0.1),\n",
      "\u001b[32m[I 2023-04-26 16:04:15,256]\u001b[0m Trial 32 finished with value: 0.9902548855424558 and parameters: {'learning_rate': 0.05052839482630368, 'max_depth': 6, 'n_estimators': 578}. Best is trial 21 with value: 0.9905288481988617.\u001b[0m\n",
      "/tmp/ipykernel_1366309/2141867322.py:7: FutureWarning: suggest_loguniform has been deprecated in v3.0.0. This feature will be removed in v6.0.0. See https://github.com/optuna/optuna/releases/tag/v3.0.0. Use :func:`~optuna.trial.Trial.suggest_float` instead.\n",
      "  'learning_rate':trial.suggest_loguniform('learning_rate',0.01,0.1),\n",
      "\u001b[32m[I 2023-04-26 16:04:16,293]\u001b[0m Trial 33 finished with value: 0.9905472104427122 and parameters: {'learning_rate': 0.04540383995657198, 'max_depth': 5, 'n_estimators': 443}. Best is trial 33 with value: 0.9905472104427122.\u001b[0m\n",
      "/tmp/ipykernel_1366309/2141867322.py:7: FutureWarning: suggest_loguniform has been deprecated in v3.0.0. This feature will be removed in v6.0.0. See https://github.com/optuna/optuna/releases/tag/v3.0.0. Use :func:`~optuna.trial.Trial.suggest_float` instead.\n",
      "  'learning_rate':trial.suggest_loguniform('learning_rate',0.01,0.1),\n",
      "\u001b[32m[I 2023-04-26 16:04:17,432]\u001b[0m Trial 34 finished with value: 0.99021874135337 and parameters: {'learning_rate': 0.04501231935542033, 'max_depth': 5, 'n_estimators': 444}. Best is trial 33 with value: 0.9905472104427122.\u001b[0m\n",
      "/tmp/ipykernel_1366309/2141867322.py:7: FutureWarning: suggest_loguniform has been deprecated in v3.0.0. This feature will be removed in v6.0.0. See https://github.com/optuna/optuna/releases/tag/v3.0.0. Use :func:`~optuna.trial.Trial.suggest_float` instead.\n",
      "  'learning_rate':trial.suggest_loguniform('learning_rate',0.01,0.1),\n",
      "\u001b[32m[I 2023-04-26 16:04:18,324]\u001b[0m Trial 35 finished with value: 0.9898270408485569 and parameters: {'learning_rate': 0.03906702556125875, 'max_depth': 4, 'n_estimators': 508}. Best is trial 33 with value: 0.9905472104427122.\u001b[0m\n",
      "/tmp/ipykernel_1366309/2141867322.py:7: FutureWarning: suggest_loguniform has been deprecated in v3.0.0. This feature will be removed in v6.0.0. See https://github.com/optuna/optuna/releases/tag/v3.0.0. Use :func:`~optuna.trial.Trial.suggest_float` instead.\n",
      "  'learning_rate':trial.suggest_loguniform('learning_rate',0.01,0.1),\n",
      "\u001b[32m[I 2023-04-26 16:04:19,780]\u001b[0m Trial 36 finished with value: 0.989856084876686 and parameters: {'learning_rate': 0.029550933106626442, 'max_depth': 8, 'n_estimators': 349}. Best is trial 33 with value: 0.9905472104427122.\u001b[0m\n",
      "/tmp/ipykernel_1366309/2141867322.py:7: FutureWarning: suggest_loguniform has been deprecated in v3.0.0. This feature will be removed in v6.0.0. See https://github.com/optuna/optuna/releases/tag/v3.0.0. Use :func:`~optuna.trial.Trial.suggest_float` instead.\n",
      "  'learning_rate':trial.suggest_loguniform('learning_rate',0.01,0.1),\n",
      "\u001b[32m[I 2023-04-26 16:04:20,740]\u001b[0m Trial 37 finished with value: 0.9903605090905911 and parameters: {'learning_rate': 0.04957661571648481, 'max_depth': 5, 'n_estimators': 437}. Best is trial 33 with value: 0.9905472104427122.\u001b[0m\n",
      "/tmp/ipykernel_1366309/2141867322.py:7: FutureWarning: suggest_loguniform has been deprecated in v3.0.0. This feature will be removed in v6.0.0. See https://github.com/optuna/optuna/releases/tag/v3.0.0. Use :func:`~optuna.trial.Trial.suggest_float` instead.\n",
      "  'learning_rate':trial.suggest_loguniform('learning_rate',0.01,0.1),\n",
      "\u001b[32m[I 2023-04-26 16:04:22,779]\u001b[0m Trial 38 finished with value: 0.9902702916622005 and parameters: {'learning_rate': 0.03534929512380159, 'max_depth': 7, 'n_estimators': 539}. Best is trial 33 with value: 0.9905472104427122.\u001b[0m\n",
      "/tmp/ipykernel_1366309/2141867322.py:7: FutureWarning: suggest_loguniform has been deprecated in v3.0.0. This feature will be removed in v6.0.0. See https://github.com/optuna/optuna/releases/tag/v3.0.0. Use :func:`~optuna.trial.Trial.suggest_float` instead.\n",
      "  'learning_rate':trial.suggest_loguniform('learning_rate',0.01,0.1),\n",
      "\u001b[32m[I 2023-04-26 16:04:23,653]\u001b[0m Trial 39 finished with value: 0.9898528190393762 and parameters: {'learning_rate': 0.053648489072174066, 'max_depth': 3, 'n_estimators': 676}. Best is trial 33 with value: 0.9905472104427122.\u001b[0m\n",
      "/tmp/ipykernel_1366309/2141867322.py:7: FutureWarning: suggest_loguniform has been deprecated in v3.0.0. This feature will be removed in v6.0.0. See https://github.com/optuna/optuna/releases/tag/v3.0.0. Use :func:`~optuna.trial.Trial.suggest_float` instead.\n",
      "  'learning_rate':trial.suggest_loguniform('learning_rate',0.01,0.1),\n",
      "\u001b[32m[I 2023-04-26 16:04:24,124]\u001b[0m Trial 40 finished with value: 0.9873405848950887 and parameters: {'learning_rate': 0.03114221377615858, 'max_depth': 4, 'n_estimators': 233}. Best is trial 33 with value: 0.9905472104427122.\u001b[0m\n",
      "/tmp/ipykernel_1366309/2141867322.py:7: FutureWarning: suggest_loguniform has been deprecated in v3.0.0. This feature will be removed in v6.0.0. See https://github.com/optuna/optuna/releases/tag/v3.0.0. Use :func:`~optuna.trial.Trial.suggest_float` instead.\n",
      "  'learning_rate':trial.suggest_loguniform('learning_rate',0.01,0.1),\n",
      "\u001b[32m[I 2023-04-26 16:04:25,929]\u001b[0m Trial 41 finished with value: 0.9900696288519437 and parameters: {'learning_rate': 0.05668784933386395, 'max_depth': 7, 'n_estimators': 478}. Best is trial 33 with value: 0.9905472104427122.\u001b[0m\n",
      "/tmp/ipykernel_1366309/2141867322.py:7: FutureWarning: suggest_loguniform has been deprecated in v3.0.0. This feature will be removed in v6.0.0. See https://github.com/optuna/optuna/releases/tag/v3.0.0. Use :func:`~optuna.trial.Trial.suggest_float` instead.\n",
      "  'learning_rate':trial.suggest_loguniform('learning_rate',0.01,0.1),\n",
      "\u001b[32m[I 2023-04-26 16:04:27,769]\u001b[0m Trial 42 finished with value: 0.9906705430623877 and parameters: {'learning_rate': 0.042576943826442545, 'max_depth': 6, 'n_estimators': 644}. Best is trial 42 with value: 0.9906705430623877.\u001b[0m\n",
      "/tmp/ipykernel_1366309/2141867322.py:7: FutureWarning: suggest_loguniform has been deprecated in v3.0.0. This feature will be removed in v6.0.0. See https://github.com/optuna/optuna/releases/tag/v3.0.0. Use :func:`~optuna.trial.Trial.suggest_float` instead.\n",
      "  'learning_rate':trial.suggest_loguniform('learning_rate',0.01,0.1),\n",
      "\u001b[32m[I 2023-04-26 16:04:29,654]\u001b[0m Trial 43 finished with value: 0.9903701709764766 and parameters: {'learning_rate': 0.04155590592693307, 'max_depth': 6, 'n_estimators': 659}. Best is trial 42 with value: 0.9906705430623877.\u001b[0m\n",
      "/tmp/ipykernel_1366309/2141867322.py:7: FutureWarning: suggest_loguniform has been deprecated in v3.0.0. This feature will be removed in v6.0.0. See https://github.com/optuna/optuna/releases/tag/v3.0.0. Use :func:`~optuna.trial.Trial.suggest_float` instead.\n",
      "  'learning_rate':trial.suggest_loguniform('learning_rate',0.01,0.1),\n",
      "\u001b[32m[I 2023-04-26 16:04:31,318]\u001b[0m Trial 44 finished with value: 0.990617410441635 and parameters: {'learning_rate': 0.04711953837056352, 'max_depth': 5, 'n_estimators': 571}. Best is trial 42 with value: 0.9906705430623877.\u001b[0m\n",
      "/tmp/ipykernel_1366309/2141867322.py:7: FutureWarning: suggest_loguniform has been deprecated in v3.0.0. This feature will be removed in v6.0.0. See https://github.com/optuna/optuna/releases/tag/v3.0.0. Use :func:`~optuna.trial.Trial.suggest_float` instead.\n",
      "  'learning_rate':trial.suggest_loguniform('learning_rate',0.01,0.1),\n",
      "\u001b[32m[I 2023-04-26 16:04:32,732]\u001b[0m Trial 45 finished with value: 0.9907762030473704 and parameters: {'learning_rate': 0.04515243459735279, 'max_depth': 5, 'n_estimators': 578}. Best is trial 45 with value: 0.9907762030473704.\u001b[0m\n",
      "/tmp/ipykernel_1366309/2141867322.py:7: FutureWarning: suggest_loguniform has been deprecated in v3.0.0. This feature will be removed in v6.0.0. See https://github.com/optuna/optuna/releases/tag/v3.0.0. Use :func:`~optuna.trial.Trial.suggest_float` instead.\n",
      "  'learning_rate':trial.suggest_loguniform('learning_rate',0.01,0.1),\n",
      "\u001b[32m[I 2023-04-26 16:04:34,001]\u001b[0m Trial 46 finished with value: 0.9904257698481629 and parameters: {'learning_rate': 0.034030402080739916, 'max_depth': 5, 'n_estimators': 573}. Best is trial 45 with value: 0.9907762030473704.\u001b[0m\n",
      "/tmp/ipykernel_1366309/2141867322.py:7: FutureWarning: suggest_loguniform has been deprecated in v3.0.0. This feature will be removed in v6.0.0. See https://github.com/optuna/optuna/releases/tag/v3.0.0. Use :func:`~optuna.trial.Trial.suggest_float` instead.\n",
      "  'learning_rate':trial.suggest_loguniform('learning_rate',0.01,0.1),\n",
      "\u001b[32m[I 2023-04-26 16:04:35,375]\u001b[0m Trial 47 finished with value: 0.9904057827827348 and parameters: {'learning_rate': 0.044959929335109845, 'max_depth': 4, 'n_estimators': 798}. Best is trial 45 with value: 0.9907762030473704.\u001b[0m\n",
      "/tmp/ipykernel_1366309/2141867322.py:7: FutureWarning: suggest_loguniform has been deprecated in v3.0.0. This feature will be removed in v6.0.0. See https://github.com/optuna/optuna/releases/tag/v3.0.0. Use :func:`~optuna.trial.Trial.suggest_float` instead.\n",
      "  'learning_rate':trial.suggest_loguniform('learning_rate',0.01,0.1),\n",
      "\u001b[32m[I 2023-04-26 16:04:37,272]\u001b[0m Trial 48 finished with value: 0.9902825048183306 and parameters: {'learning_rate': 0.027694603660021175, 'max_depth': 5, 'n_estimators': 773}. Best is trial 45 with value: 0.9907762030473704.\u001b[0m\n",
      "/tmp/ipykernel_1366309/2141867322.py:7: FutureWarning: suggest_loguniform has been deprecated in v3.0.0. This feature will be removed in v6.0.0. See https://github.com/optuna/optuna/releases/tag/v3.0.0. Use :func:`~optuna.trial.Trial.suggest_float` instead.\n",
      "  'learning_rate':trial.suggest_loguniform('learning_rate',0.01,0.1),\n",
      "\u001b[32m[I 2023-04-26 16:04:38,672]\u001b[0m Trial 49 finished with value: 0.990285669442175 and parameters: {'learning_rate': 0.03628875077676774, 'max_depth': 5, 'n_estimators': 637}. Best is trial 45 with value: 0.9907762030473704.\u001b[0m\n"
     ]
    },
    {
     "name": "stdout",
     "output_type": "stream",
     "text": [
      "Best hyperparameters: {'learning_rate': 0.04515243459735279, 'max_depth': 5, 'n_estimators': 578}\n",
      "Best AUC: 0.9908\n"
     ]
    }
   ],
   "source": [
    "def objective(trial):\n",
    "    # Define hyperparameters to optimize \n",
    "    params={\n",
    "        'boosting_type':'gbdt',\n",
    "        'objective':'binary',\n",
    "        'metric':'binary_logloss',\n",
    "        'learning_rate':trial.suggest_loguniform('learning_rate',0.01,0.1),\n",
    "        'max_depth':trial.suggest_int('max_depth',3,9),\n",
    "        'n_estimators':trial.suggest_int(\"n_estimators\",100,1000)\n",
    "    }\n",
    "    # Train and evaluate model \n",
    "    lgb_cv=lgb.LGBMClassifier(**params, random_state=42,scale_pos_weight=ratio)\n",
    "    scores=cross_val_score(lgb_cv,train_X,train_y,cv=5,scoring='roc_auc')\n",
    "    auc=scores.mean()\n",
    "    return auc \n",
    "\n",
    "# Define study object and optimize \n",
    "\n",
    "study=optuna.create_study(direction='maximize',study_name='lgb_boost_opt',load_if_exists=True)\n",
    "study.optimize(objective, n_trials=50)\n",
    "\n",
    "# Print best hyperparameters and auc\n",
    "print(f'Best hyperparameters: {study.best_params}')\n",
    "print(f'Best AUC: {study.best_value:.4f}')"
   ]
  },
  {
   "cell_type": "code",
   "execution_count": 7,
   "metadata": {},
   "outputs": [],
   "source": [
    "lgb=lgb.LGBMClassifier(learning_rate= 0.04515243459735279,max_depth= 5,n_estimators=578,scale_pos_weight=ratio,random_state=42)"
   ]
  },
  {
   "cell_type": "code",
   "execution_count": 8,
   "metadata": {},
   "outputs": [
    {
     "data": {
      "text/html": [
       "<style>#sk-container-id-1 {color: black;background-color: white;}#sk-container-id-1 pre{padding: 0;}#sk-container-id-1 div.sk-toggleable {background-color: white;}#sk-container-id-1 label.sk-toggleable__label {cursor: pointer;display: block;width: 100%;margin-bottom: 0;padding: 0.3em;box-sizing: border-box;text-align: center;}#sk-container-id-1 label.sk-toggleable__label-arrow:before {content: \"▸\";float: left;margin-right: 0.25em;color: #696969;}#sk-container-id-1 label.sk-toggleable__label-arrow:hover:before {color: black;}#sk-container-id-1 div.sk-estimator:hover label.sk-toggleable__label-arrow:before {color: black;}#sk-container-id-1 div.sk-toggleable__content {max-height: 0;max-width: 0;overflow: hidden;text-align: left;background-color: #f0f8ff;}#sk-container-id-1 div.sk-toggleable__content pre {margin: 0.2em;color: black;border-radius: 0.25em;background-color: #f0f8ff;}#sk-container-id-1 input.sk-toggleable__control:checked~div.sk-toggleable__content {max-height: 200px;max-width: 100%;overflow: auto;}#sk-container-id-1 input.sk-toggleable__control:checked~label.sk-toggleable__label-arrow:before {content: \"▾\";}#sk-container-id-1 div.sk-estimator input.sk-toggleable__control:checked~label.sk-toggleable__label {background-color: #d4ebff;}#sk-container-id-1 div.sk-label input.sk-toggleable__control:checked~label.sk-toggleable__label {background-color: #d4ebff;}#sk-container-id-1 input.sk-hidden--visually {border: 0;clip: rect(1px 1px 1px 1px);clip: rect(1px, 1px, 1px, 1px);height: 1px;margin: -1px;overflow: hidden;padding: 0;position: absolute;width: 1px;}#sk-container-id-1 div.sk-estimator {font-family: monospace;background-color: #f0f8ff;border: 1px dotted black;border-radius: 0.25em;box-sizing: border-box;margin-bottom: 0.5em;}#sk-container-id-1 div.sk-estimator:hover {background-color: #d4ebff;}#sk-container-id-1 div.sk-parallel-item::after {content: \"\";width: 100%;border-bottom: 1px solid gray;flex-grow: 1;}#sk-container-id-1 div.sk-label:hover label.sk-toggleable__label {background-color: #d4ebff;}#sk-container-id-1 div.sk-serial::before {content: \"\";position: absolute;border-left: 1px solid gray;box-sizing: border-box;top: 0;bottom: 0;left: 50%;z-index: 0;}#sk-container-id-1 div.sk-serial {display: flex;flex-direction: column;align-items: center;background-color: white;padding-right: 0.2em;padding-left: 0.2em;position: relative;}#sk-container-id-1 div.sk-item {position: relative;z-index: 1;}#sk-container-id-1 div.sk-parallel {display: flex;align-items: stretch;justify-content: center;background-color: white;position: relative;}#sk-container-id-1 div.sk-item::before, #sk-container-id-1 div.sk-parallel-item::before {content: \"\";position: absolute;border-left: 1px solid gray;box-sizing: border-box;top: 0;bottom: 0;left: 50%;z-index: -1;}#sk-container-id-1 div.sk-parallel-item {display: flex;flex-direction: column;z-index: 1;position: relative;background-color: white;}#sk-container-id-1 div.sk-parallel-item:first-child::after {align-self: flex-end;width: 50%;}#sk-container-id-1 div.sk-parallel-item:last-child::after {align-self: flex-start;width: 50%;}#sk-container-id-1 div.sk-parallel-item:only-child::after {width: 0;}#sk-container-id-1 div.sk-dashed-wrapped {border: 1px dashed gray;margin: 0 0.4em 0.5em 0.4em;box-sizing: border-box;padding-bottom: 0.4em;background-color: white;}#sk-container-id-1 div.sk-label label {font-family: monospace;font-weight: bold;display: inline-block;line-height: 1.2em;}#sk-container-id-1 div.sk-label-container {text-align: center;}#sk-container-id-1 div.sk-container {/* jupyter's `normalize.less` sets `[hidden] { display: none; }` but bootstrap.min.css set `[hidden] { display: none !important; }` so we also need the `!important` here to be able to override the default hidden behavior on the sphinx rendered scikit-learn.org. See: https://github.com/scikit-learn/scikit-learn/issues/21755 */display: inline-block !important;position: relative;}#sk-container-id-1 div.sk-text-repr-fallback {display: none;}</style><div id=\"sk-container-id-1\" class=\"sk-top-container\"><div class=\"sk-text-repr-fallback\"><pre>LGBMClassifier(learning_rate=0.04515243459735279, max_depth=5, n_estimators=578,\n",
       "               random_state=42, scale_pos_weight=1.5879043600562588)</pre><b>In a Jupyter environment, please rerun this cell to show the HTML representation or trust the notebook. <br />On GitHub, the HTML representation is unable to render, please try loading this page with nbviewer.org.</b></div><div class=\"sk-container\" hidden><div class=\"sk-item\"><div class=\"sk-estimator sk-toggleable\"><input class=\"sk-toggleable__control sk-hidden--visually\" id=\"sk-estimator-id-1\" type=\"checkbox\" checked><label for=\"sk-estimator-id-1\" class=\"sk-toggleable__label sk-toggleable__label-arrow\">LGBMClassifier</label><div class=\"sk-toggleable__content\"><pre>LGBMClassifier(learning_rate=0.04515243459735279, max_depth=5, n_estimators=578,\n",
       "               random_state=42, scale_pos_weight=1.5879043600562588)</pre></div></div></div></div></div>"
      ],
      "text/plain": [
       "LGBMClassifier(learning_rate=0.04515243459735279, max_depth=5, n_estimators=578,\n",
       "               random_state=42, scale_pos_weight=1.5879043600562588)"
      ]
     },
     "execution_count": 8,
     "metadata": {},
     "output_type": "execute_result"
    }
   ],
   "source": [
    "lgb.fit(train_X,train_y)"
   ]
  },
  {
   "cell_type": "code",
   "execution_count": 9,
   "metadata": {},
   "outputs": [],
   "source": [
    "train_prob=pd.DataFrame()\n",
    "train_prob['prob']=lgb.predict_proba(train_X)[:,1]"
   ]
  },
  {
   "cell_type": "code",
   "execution_count": 10,
   "metadata": {},
   "outputs": [],
   "source": [
    "train_prob['1_prob']=1-train_prob['prob']\n",
    "train_prob['odds']=train_prob['prob']/train_prob['1_prob']"
   ]
  },
  {
   "cell_type": "code",
   "execution_count": 11,
   "metadata": {},
   "outputs": [],
   "source": [
    "train_prob['loogits']=np.log(train_prob['odds'])\n",
    "train_X_new=train_X[test_stage_features]"
   ]
  },
  {
   "cell_type": "code",
   "execution_count": 12,
   "metadata": {},
   "outputs": [
    {
     "name": "stderr",
     "output_type": "stream",
     "text": [
      "\u001b[32m[I 2023-04-26 16:06:07,175]\u001b[0m A new study created in memory with name: no-name-c8fdcc4a-3ff2-4d69-ab2f-63a61c6e7a40\u001b[0m\n",
      "/tmp/ipykernel_1366309/4075368247.py:11: FutureWarning: suggest_loguniform has been deprecated in v3.0.0. This feature will be removed in v6.0.0. See https://github.com/optuna/optuna/releases/tag/v3.0.0. Use :func:`~optuna.trial.Trial.suggest_float` instead.\n",
      "  'learning_rate': trial.suggest_loguniform('learning_rate',0.01,0.1),\n",
      "\u001b[32m[I 2023-04-26 16:06:07,707]\u001b[0m Trial 0 finished with value: 8.216450031806591 and parameters: {'n_estimators': 347, 'max_depth': 5, 'learning_rate': 0.04424599490223671}. Best is trial 0 with value: 8.216450031806591.\u001b[0m\n",
      "/tmp/ipykernel_1366309/4075368247.py:11: FutureWarning: suggest_loguniform has been deprecated in v3.0.0. This feature will be removed in v6.0.0. See https://github.com/optuna/optuna/releases/tag/v3.0.0. Use :func:`~optuna.trial.Trial.suggest_float` instead.\n",
      "  'learning_rate': trial.suggest_loguniform('learning_rate',0.01,0.1),\n",
      "\u001b[32m[I 2023-04-26 16:06:08,312]\u001b[0m Trial 1 finished with value: 8.18703921462996 and parameters: {'n_estimators': 213, 'max_depth': 9, 'learning_rate': 0.039198337629624415}. Best is trial 1 with value: 8.18703921462996.\u001b[0m\n",
      "/tmp/ipykernel_1366309/4075368247.py:11: FutureWarning: suggest_loguniform has been deprecated in v3.0.0. This feature will be removed in v6.0.0. See https://github.com/optuna/optuna/releases/tag/v3.0.0. Use :func:`~optuna.trial.Trial.suggest_float` instead.\n",
      "  'learning_rate': trial.suggest_loguniform('learning_rate',0.01,0.1),\n",
      "\u001b[32m[I 2023-04-26 16:06:09,355]\u001b[0m Trial 2 finished with value: 8.084373106886657 and parameters: {'n_estimators': 995, 'max_depth': 4, 'learning_rate': 0.05998628915465198}. Best is trial 2 with value: 8.084373106886657.\u001b[0m\n",
      "/tmp/ipykernel_1366309/4075368247.py:11: FutureWarning: suggest_loguniform has been deprecated in v3.0.0. This feature will be removed in v6.0.0. See https://github.com/optuna/optuna/releases/tag/v3.0.0. Use :func:`~optuna.trial.Trial.suggest_float` instead.\n",
      "  'learning_rate': trial.suggest_loguniform('learning_rate',0.01,0.1),\n",
      "\u001b[32m[I 2023-04-26 16:06:10,410]\u001b[0m Trial 3 finished with value: 8.315736201920286 and parameters: {'n_estimators': 377, 'max_depth': 8, 'learning_rate': 0.016042214435664195}. Best is trial 2 with value: 8.084373106886657.\u001b[0m\n",
      "/tmp/ipykernel_1366309/4075368247.py:11: FutureWarning: suggest_loguniform has been deprecated in v3.0.0. This feature will be removed in v6.0.0. See https://github.com/optuna/optuna/releases/tag/v3.0.0. Use :func:`~optuna.trial.Trial.suggest_float` instead.\n",
      "  'learning_rate': trial.suggest_loguniform('learning_rate',0.01,0.1),\n",
      "\u001b[32m[I 2023-04-26 16:06:11,619]\u001b[0m Trial 4 finished with value: 8.405176273103605 and parameters: {'n_estimators': 414, 'max_depth': 9, 'learning_rate': 0.013151169783341618}. Best is trial 2 with value: 8.084373106886657.\u001b[0m\n",
      "/tmp/ipykernel_1366309/4075368247.py:11: FutureWarning: suggest_loguniform has been deprecated in v3.0.0. This feature will be removed in v6.0.0. See https://github.com/optuna/optuna/releases/tag/v3.0.0. Use :func:`~optuna.trial.Trial.suggest_float` instead.\n",
      "  'learning_rate': trial.suggest_loguniform('learning_rate',0.01,0.1),\n",
      "\u001b[32m[I 2023-04-26 16:06:12,108]\u001b[0m Trial 5 finished with value: 8.447439539808153 and parameters: {'n_estimators': 114, 'max_depth': 7, 'learning_rate': 0.04599413993438187}. Best is trial 2 with value: 8.084373106886657.\u001b[0m\n",
      "/tmp/ipykernel_1366309/4075368247.py:11: FutureWarning: suggest_loguniform has been deprecated in v3.0.0. This feature will be removed in v6.0.0. See https://github.com/optuna/optuna/releases/tag/v3.0.0. Use :func:`~optuna.trial.Trial.suggest_float` instead.\n",
      "  'learning_rate': trial.suggest_loguniform('learning_rate',0.01,0.1),\n",
      "\u001b[32m[I 2023-04-26 16:06:13,369]\u001b[0m Trial 6 finished with value: 7.906514185497921 and parameters: {'n_estimators': 711, 'max_depth': 5, 'learning_rate': 0.05649307103563566}. Best is trial 6 with value: 7.906514185497921.\u001b[0m\n",
      "/tmp/ipykernel_1366309/4075368247.py:11: FutureWarning: suggest_loguniform has been deprecated in v3.0.0. This feature will be removed in v6.0.0. See https://github.com/optuna/optuna/releases/tag/v3.0.0. Use :func:`~optuna.trial.Trial.suggest_float` instead.\n",
      "  'learning_rate': trial.suggest_loguniform('learning_rate',0.01,0.1),\n",
      "\u001b[32m[I 2023-04-26 16:06:13,911]\u001b[0m Trial 7 finished with value: 9.68259962347486 and parameters: {'n_estimators': 623, 'max_depth': 3, 'learning_rate': 0.0109152316836895}. Best is trial 6 with value: 7.906514185497921.\u001b[0m\n",
      "/tmp/ipykernel_1366309/4075368247.py:11: FutureWarning: suggest_loguniform has been deprecated in v3.0.0. This feature will be removed in v6.0.0. See https://github.com/optuna/optuna/releases/tag/v3.0.0. Use :func:`~optuna.trial.Trial.suggest_float` instead.\n",
      "  'learning_rate': trial.suggest_loguniform('learning_rate',0.01,0.1),\n",
      "\u001b[32m[I 2023-04-26 16:06:14,962]\u001b[0m Trial 8 finished with value: 8.657143817644698 and parameters: {'n_estimators': 430, 'max_depth': 6, 'learning_rate': 0.010748043751895215}. Best is trial 6 with value: 7.906514185497921.\u001b[0m\n",
      "/tmp/ipykernel_1366309/4075368247.py:11: FutureWarning: suggest_loguniform has been deprecated in v3.0.0. This feature will be removed in v6.0.0. See https://github.com/optuna/optuna/releases/tag/v3.0.0. Use :func:`~optuna.trial.Trial.suggest_float` instead.\n",
      "  'learning_rate': trial.suggest_loguniform('learning_rate',0.01,0.1),\n",
      "\u001b[32m[I 2023-04-26 16:06:17,284]\u001b[0m Trial 9 finished with value: 7.936362729301559 and parameters: {'n_estimators': 903, 'max_depth': 8, 'learning_rate': 0.027199946715400297}. Best is trial 6 with value: 7.906514185497921.\u001b[0m\n",
      "/tmp/ipykernel_1366309/4075368247.py:11: FutureWarning: suggest_loguniform has been deprecated in v3.0.0. This feature will be removed in v6.0.0. See https://github.com/optuna/optuna/releases/tag/v3.0.0. Use :func:`~optuna.trial.Trial.suggest_float` instead.\n",
      "  'learning_rate': trial.suggest_loguniform('learning_rate',0.01,0.1),\n",
      "\u001b[32m[I 2023-04-26 16:06:18,452]\u001b[0m Trial 10 finished with value: 7.9907921286122185 and parameters: {'n_estimators': 712, 'max_depth': 5, 'learning_rate': 0.08989338024063619}. Best is trial 6 with value: 7.906514185497921.\u001b[0m\n",
      "/tmp/ipykernel_1366309/4075368247.py:11: FutureWarning: suggest_loguniform has been deprecated in v3.0.0. This feature will be removed in v6.0.0. See https://github.com/optuna/optuna/releases/tag/v3.0.0. Use :func:`~optuna.trial.Trial.suggest_float` instead.\n",
      "  'learning_rate': trial.suggest_loguniform('learning_rate',0.01,0.1),\n",
      "\u001b[32m[I 2023-04-26 16:06:20,550]\u001b[0m Trial 11 finished with value: 7.8858962350334725 and parameters: {'n_estimators': 859, 'max_depth': 7, 'learning_rate': 0.025759861252908623}. Best is trial 11 with value: 7.8858962350334725.\u001b[0m\n",
      "/tmp/ipykernel_1366309/4075368247.py:11: FutureWarning: suggest_loguniform has been deprecated in v3.0.0. This feature will be removed in v6.0.0. See https://github.com/optuna/optuna/releases/tag/v3.0.0. Use :func:`~optuna.trial.Trial.suggest_float` instead.\n",
      "  'learning_rate': trial.suggest_loguniform('learning_rate',0.01,0.1),\n",
      "\u001b[32m[I 2023-04-26 16:06:22,232]\u001b[0m Trial 12 finished with value: 8.02932668478946 and parameters: {'n_estimators': 795, 'max_depth': 6, 'learning_rate': 0.027183073530668712}. Best is trial 11 with value: 7.8858962350334725.\u001b[0m\n",
      "/tmp/ipykernel_1366309/4075368247.py:11: FutureWarning: suggest_loguniform has been deprecated in v3.0.0. This feature will be removed in v6.0.0. See https://github.com/optuna/optuna/releases/tag/v3.0.0. Use :func:`~optuna.trial.Trial.suggest_float` instead.\n",
      "  'learning_rate': trial.suggest_loguniform('learning_rate',0.01,0.1),\n",
      "\u001b[32m[I 2023-04-26 16:06:24,278]\u001b[0m Trial 13 finished with value: 7.973077924093948 and parameters: {'n_estimators': 806, 'max_depth': 7, 'learning_rate': 0.020560531285834495}. Best is trial 11 with value: 7.8858962350334725.\u001b[0m\n",
      "/tmp/ipykernel_1366309/4075368247.py:11: FutureWarning: suggest_loguniform has been deprecated in v3.0.0. This feature will be removed in v6.0.0. See https://github.com/optuna/optuna/releases/tag/v3.0.0. Use :func:`~optuna.trial.Trial.suggest_float` instead.\n",
      "  'learning_rate': trial.suggest_loguniform('learning_rate',0.01,0.1),\n",
      "\u001b[32m[I 2023-04-26 16:06:25,260]\u001b[0m Trial 14 finished with value: 8.268906557850894 and parameters: {'n_estimators': 574, 'max_depth': 5, 'learning_rate': 0.02231337136377361}. Best is trial 11 with value: 7.8858962350334725.\u001b[0m\n",
      "/tmp/ipykernel_1366309/4075368247.py:11: FutureWarning: suggest_loguniform has been deprecated in v3.0.0. This feature will be removed in v6.0.0. See https://github.com/optuna/optuna/releases/tag/v3.0.0. Use :func:`~optuna.trial.Trial.suggest_float` instead.\n",
      "  'learning_rate': trial.suggest_loguniform('learning_rate',0.01,0.1),\n",
      "\u001b[32m[I 2023-04-26 16:06:25,911]\u001b[0m Trial 15 finished with value: 8.510797520377462 and parameters: {'n_estimators': 702, 'max_depth': 3, 'learning_rate': 0.06398579864158646}. Best is trial 11 with value: 7.8858962350334725.\u001b[0m\n",
      "/tmp/ipykernel_1366309/4075368247.py:11: FutureWarning: suggest_loguniform has been deprecated in v3.0.0. This feature will be removed in v6.0.0. See https://github.com/optuna/optuna/releases/tag/v3.0.0. Use :func:`~optuna.trial.Trial.suggest_float` instead.\n",
      "  'learning_rate': trial.suggest_loguniform('learning_rate',0.01,0.1),\n",
      "\u001b[32m[I 2023-04-26 16:06:27,960]\u001b[0m Trial 16 finished with value: 7.849504176962529 and parameters: {'n_estimators': 901, 'max_depth': 7, 'learning_rate': 0.03266036761567178}. Best is trial 16 with value: 7.849504176962529.\u001b[0m\n",
      "/tmp/ipykernel_1366309/4075368247.py:11: FutureWarning: suggest_loguniform has been deprecated in v3.0.0. This feature will be removed in v6.0.0. See https://github.com/optuna/optuna/releases/tag/v3.0.0. Use :func:`~optuna.trial.Trial.suggest_float` instead.\n",
      "  'learning_rate': trial.suggest_loguniform('learning_rate',0.01,0.1),\n",
      "\u001b[32m[I 2023-04-26 16:06:30,234]\u001b[0m Trial 17 finished with value: 7.853052149844752 and parameters: {'n_estimators': 966, 'max_depth': 7, 'learning_rate': 0.036276153348982446}. Best is trial 16 with value: 7.849504176962529.\u001b[0m\n",
      "/tmp/ipykernel_1366309/4075368247.py:11: FutureWarning: suggest_loguniform has been deprecated in v3.0.0. This feature will be removed in v6.0.0. See https://github.com/optuna/optuna/releases/tag/v3.0.0. Use :func:`~optuna.trial.Trial.suggest_float` instead.\n",
      "  'learning_rate': trial.suggest_loguniform('learning_rate',0.01,0.1),\n",
      "\u001b[32m[I 2023-04-26 16:06:32,848]\u001b[0m Trial 18 finished with value: 7.913654725692583 and parameters: {'n_estimators': 981, 'max_depth': 8, 'learning_rate': 0.036975029300212015}. Best is trial 16 with value: 7.849504176962529.\u001b[0m\n",
      "/tmp/ipykernel_1366309/4075368247.py:11: FutureWarning: suggest_loguniform has been deprecated in v3.0.0. This feature will be removed in v6.0.0. See https://github.com/optuna/optuna/releases/tag/v3.0.0. Use :func:`~optuna.trial.Trial.suggest_float` instead.\n",
      "  'learning_rate': trial.suggest_loguniform('learning_rate',0.01,0.1),\n",
      "\u001b[32m[I 2023-04-26 16:06:34,919]\u001b[0m Trial 19 finished with value: 7.892151557315621 and parameters: {'n_estimators': 909, 'max_depth': 7, 'learning_rate': 0.034571961204880694}. Best is trial 16 with value: 7.849504176962529.\u001b[0m\n",
      "/tmp/ipykernel_1366309/4075368247.py:11: FutureWarning: suggest_loguniform has been deprecated in v3.0.0. This feature will be removed in v6.0.0. See https://github.com/optuna/optuna/releases/tag/v3.0.0. Use :func:`~optuna.trial.Trial.suggest_float` instead.\n",
      "  'learning_rate': trial.suggest_loguniform('learning_rate',0.01,0.1),\n",
      "\u001b[32m[I 2023-04-26 16:06:35,999]\u001b[0m Trial 20 finished with value: 8.07361724736675 and parameters: {'n_estimators': 511, 'max_depth': 6, 'learning_rate': 0.03170119552439173}. Best is trial 16 with value: 7.849504176962529.\u001b[0m\n",
      "/tmp/ipykernel_1366309/4075368247.py:11: FutureWarning: suggest_loguniform has been deprecated in v3.0.0. This feature will be removed in v6.0.0. See https://github.com/optuna/optuna/releases/tag/v3.0.0. Use :func:`~optuna.trial.Trial.suggest_float` instead.\n",
      "  'learning_rate': trial.suggest_loguniform('learning_rate',0.01,0.1),\n",
      "\u001b[32m[I 2023-04-26 16:06:38,038]\u001b[0m Trial 21 finished with value: 7.850598434439936 and parameters: {'n_estimators': 881, 'max_depth': 7, 'learning_rate': 0.0291878832119093}. Best is trial 16 with value: 7.849504176962529.\u001b[0m\n",
      "/tmp/ipykernel_1366309/4075368247.py:11: FutureWarning: suggest_loguniform has been deprecated in v3.0.0. This feature will be removed in v6.0.0. See https://github.com/optuna/optuna/releases/tag/v3.0.0. Use :func:`~optuna.trial.Trial.suggest_float` instead.\n",
      "  'learning_rate': trial.suggest_loguniform('learning_rate',0.01,0.1),\n",
      "\u001b[32m[I 2023-04-26 16:06:40,312]\u001b[0m Trial 22 finished with value: 7.971561360784827 and parameters: {'n_estimators': 935, 'max_depth': 8, 'learning_rate': 0.02890848744004333}. Best is trial 16 with value: 7.849504176962529.\u001b[0m\n",
      "/tmp/ipykernel_1366309/4075368247.py:11: FutureWarning: suggest_loguniform has been deprecated in v3.0.0. This feature will be removed in v6.0.0. See https://github.com/optuna/optuna/releases/tag/v3.0.0. Use :func:`~optuna.trial.Trial.suggest_float` instead.\n",
      "  'learning_rate': trial.suggest_loguniform('learning_rate',0.01,0.1),\n",
      "\u001b[32m[I 2023-04-26 16:06:42,238]\u001b[0m Trial 23 finished with value: 7.956863466106483 and parameters: {'n_estimators': 804, 'max_depth': 7, 'learning_rate': 0.020999705435785138}. Best is trial 16 with value: 7.849504176962529.\u001b[0m\n",
      "/tmp/ipykernel_1366309/4075368247.py:11: FutureWarning: suggest_loguniform has been deprecated in v3.0.0. This feature will be removed in v6.0.0. See https://github.com/optuna/optuna/releases/tag/v3.0.0. Use :func:`~optuna.trial.Trial.suggest_float` instead.\n",
      "  'learning_rate': trial.suggest_loguniform('learning_rate',0.01,0.1),\n",
      "\u001b[32m[I 2023-04-26 16:06:43,992]\u001b[0m Trial 24 finished with value: 7.921371643730647 and parameters: {'n_estimators': 849, 'max_depth': 6, 'learning_rate': 0.03274339593169444}. Best is trial 16 with value: 7.849504176962529.\u001b[0m\n",
      "/tmp/ipykernel_1366309/4075368247.py:11: FutureWarning: suggest_loguniform has been deprecated in v3.0.0. This feature will be removed in v6.0.0. See https://github.com/optuna/optuna/releases/tag/v3.0.0. Use :func:`~optuna.trial.Trial.suggest_float` instead.\n",
      "  'learning_rate': trial.suggest_loguniform('learning_rate',0.01,0.1),\n",
      "\u001b[32m[I 2023-04-26 16:06:46,508]\u001b[0m Trial 25 finished with value: 7.864568118945629 and parameters: {'n_estimators': 998, 'max_depth': 8, 'learning_rate': 0.03811657752976548}. Best is trial 16 with value: 7.849504176962529.\u001b[0m\n",
      "/tmp/ipykernel_1366309/4075368247.py:11: FutureWarning: suggest_loguniform has been deprecated in v3.0.0. This feature will be removed in v6.0.0. See https://github.com/optuna/optuna/releases/tag/v3.0.0. Use :func:`~optuna.trial.Trial.suggest_float` instead.\n",
      "  'learning_rate': trial.suggest_loguniform('learning_rate',0.01,0.1),\n",
      "\u001b[32m[I 2023-04-26 16:06:48,187]\u001b[0m Trial 26 finished with value: 8.060326389858714 and parameters: {'n_estimators': 764, 'max_depth': 6, 'learning_rate': 0.023397777269556358}. Best is trial 16 with value: 7.849504176962529.\u001b[0m\n",
      "/tmp/ipykernel_1366309/4075368247.py:11: FutureWarning: suggest_loguniform has been deprecated in v3.0.0. This feature will be removed in v6.0.0. See https://github.com/optuna/optuna/releases/tag/v3.0.0. Use :func:`~optuna.trial.Trial.suggest_float` instead.\n",
      "  'learning_rate': trial.suggest_loguniform('learning_rate',0.01,0.1),\n",
      "\u001b[32m[I 2023-04-26 16:06:49,892]\u001b[0m Trial 27 finished with value: 8.035424222075198 and parameters: {'n_estimators': 638, 'max_depth': 7, 'learning_rate': 0.019151260636941073}. Best is trial 16 with value: 7.849504176962529.\u001b[0m\n",
      "/tmp/ipykernel_1366309/4075368247.py:11: FutureWarning: suggest_loguniform has been deprecated in v3.0.0. This feature will be removed in v6.0.0. See https://github.com/optuna/optuna/releases/tag/v3.0.0. Use :func:`~optuna.trial.Trial.suggest_float` instead.\n",
      "  'learning_rate': trial.suggest_loguniform('learning_rate',0.01,0.1),\n",
      "\u001b[32m[I 2023-04-26 16:06:52,326]\u001b[0m Trial 28 finished with value: 7.907185983537675 and parameters: {'n_estimators': 883, 'max_depth': 9, 'learning_rate': 0.032054190178418915}. Best is trial 16 with value: 7.849504176962529.\u001b[0m\n",
      "/tmp/ipykernel_1366309/4075368247.py:11: FutureWarning: suggest_loguniform has been deprecated in v3.0.0. This feature will be removed in v6.0.0. See https://github.com/optuna/optuna/releases/tag/v3.0.0. Use :func:`~optuna.trial.Trial.suggest_float` instead.\n",
      "  'learning_rate': trial.suggest_loguniform('learning_rate',0.01,0.1),\n",
      "\u001b[32m[I 2023-04-26 16:06:53,582]\u001b[0m Trial 29 finished with value: 8.148112991381222 and parameters: {'n_estimators': 955, 'max_depth': 4, 'learning_rate': 0.047044121038674516}. Best is trial 16 with value: 7.849504176962529.\u001b[0m\n",
      "/tmp/ipykernel_1366309/4075368247.py:11: FutureWarning: suggest_loguniform has been deprecated in v3.0.0. This feature will be removed in v6.0.0. See https://github.com/optuna/optuna/releases/tag/v3.0.0. Use :func:`~optuna.trial.Trial.suggest_float` instead.\n",
      "  'learning_rate': trial.suggest_loguniform('learning_rate',0.01,0.1),\n",
      "\u001b[32m[I 2023-04-26 16:06:55,095]\u001b[0m Trial 30 finished with value: 7.917260747764139 and parameters: {'n_estimators': 741, 'max_depth': 6, 'learning_rate': 0.04015915269697503}. Best is trial 16 with value: 7.849504176962529.\u001b[0m\n",
      "/tmp/ipykernel_1366309/4075368247.py:11: FutureWarning: suggest_loguniform has been deprecated in v3.0.0. This feature will be removed in v6.0.0. See https://github.com/optuna/optuna/releases/tag/v3.0.0. Use :func:`~optuna.trial.Trial.suggest_float` instead.\n",
      "  'learning_rate': trial.suggest_loguniform('learning_rate',0.01,0.1),\n",
      "\u001b[32m[I 2023-04-26 16:06:57,623]\u001b[0m Trial 31 finished with value: 7.89039116263185 and parameters: {'n_estimators': 948, 'max_depth': 8, 'learning_rate': 0.03813027004938835}. Best is trial 16 with value: 7.849504176962529.\u001b[0m\n",
      "/tmp/ipykernel_1366309/4075368247.py:11: FutureWarning: suggest_loguniform has been deprecated in v3.0.0. This feature will be removed in v6.0.0. See https://github.com/optuna/optuna/releases/tag/v3.0.0. Use :func:`~optuna.trial.Trial.suggest_float` instead.\n",
      "  'learning_rate': trial.suggest_loguniform('learning_rate',0.01,0.1),\n",
      "\u001b[32m[I 2023-04-26 16:07:00,088]\u001b[0m Trial 32 finished with value: 7.94450069386497 and parameters: {'n_estimators': 998, 'max_depth': 8, 'learning_rate': 0.04220324029063124}. Best is trial 16 with value: 7.849504176962529.\u001b[0m\n",
      "/tmp/ipykernel_1366309/4075368247.py:11: FutureWarning: suggest_loguniform has been deprecated in v3.0.0. This feature will be removed in v6.0.0. See https://github.com/optuna/optuna/releases/tag/v3.0.0. Use :func:`~optuna.trial.Trial.suggest_float` instead.\n",
      "  'learning_rate': trial.suggest_loguniform('learning_rate',0.01,0.1),\n",
      "\u001b[32m[I 2023-04-26 16:07:00,934]\u001b[0m Trial 33 finished with value: 8.188948468635022 and parameters: {'n_estimators': 275, 'max_depth': 9, 'learning_rate': 0.029347032839180734}. Best is trial 16 with value: 7.849504176962529.\u001b[0m\n",
      "/tmp/ipykernel_1366309/4075368247.py:11: FutureWarning: suggest_loguniform has been deprecated in v3.0.0. This feature will be removed in v6.0.0. See https://github.com/optuna/optuna/releases/tag/v3.0.0. Use :func:`~optuna.trial.Trial.suggest_float` instead.\n",
      "  'learning_rate': trial.suggest_loguniform('learning_rate',0.01,0.1),\n",
      "\u001b[32m[I 2023-04-26 16:07:02,889]\u001b[0m Trial 34 finished with value: 7.87554321124877 and parameters: {'n_estimators': 855, 'max_depth': 7, 'learning_rate': 0.034926737317706784}. Best is trial 16 with value: 7.849504176962529.\u001b[0m\n",
      "/tmp/ipykernel_1366309/4075368247.py:11: FutureWarning: suggest_loguniform has been deprecated in v3.0.0. This feature will be removed in v6.0.0. See https://github.com/optuna/optuna/releases/tag/v3.0.0. Use :func:`~optuna.trial.Trial.suggest_float` instead.\n",
      "  'learning_rate': trial.suggest_loguniform('learning_rate',0.01,0.1),\n",
      "\u001b[32m[I 2023-04-26 16:07:05,415]\u001b[0m Trial 35 finished with value: 7.917179016736647 and parameters: {'n_estimators': 997, 'max_depth': 8, 'learning_rate': 0.02431915107083681}. Best is trial 16 with value: 7.849504176962529.\u001b[0m\n",
      "/tmp/ipykernel_1366309/4075368247.py:11: FutureWarning: suggest_loguniform has been deprecated in v3.0.0. This feature will be removed in v6.0.0. See https://github.com/optuna/optuna/releases/tag/v3.0.0. Use :func:`~optuna.trial.Trial.suggest_float` instead.\n",
      "  'learning_rate': trial.suggest_loguniform('learning_rate',0.01,0.1),\n",
      "\u001b[32m[I 2023-04-26 16:07:07,532]\u001b[0m Trial 36 finished with value: 7.868811329565365 and parameters: {'n_estimators': 921, 'max_depth': 7, 'learning_rate': 0.030291482894763792}. Best is trial 16 with value: 7.849504176962529.\u001b[0m\n",
      "/tmp/ipykernel_1366309/4075368247.py:11: FutureWarning: suggest_loguniform has been deprecated in v3.0.0. This feature will be removed in v6.0.0. See https://github.com/optuna/optuna/releases/tag/v3.0.0. Use :func:`~optuna.trial.Trial.suggest_float` instead.\n",
      "  'learning_rate': trial.suggest_loguniform('learning_rate',0.01,0.1),\n",
      "\u001b[32m[I 2023-04-26 16:07:09,716]\u001b[0m Trial 37 finished with value: 8.00444223161421 and parameters: {'n_estimators': 849, 'max_depth': 9, 'learning_rate': 0.0482380279388152}. Best is trial 16 with value: 7.849504176962529.\u001b[0m\n",
      "/tmp/ipykernel_1366309/4075368247.py:11: FutureWarning: suggest_loguniform has been deprecated in v3.0.0. This feature will be removed in v6.0.0. See https://github.com/optuna/optuna/releases/tag/v3.0.0. Use :func:`~optuna.trial.Trial.suggest_float` instead.\n",
      "  'learning_rate': trial.suggest_loguniform('learning_rate',0.01,0.1),\n",
      "\u001b[32m[I 2023-04-26 16:07:12,064]\u001b[0m Trial 38 finished with value: 7.871283839195269 and parameters: {'n_estimators': 948, 'max_depth': 8, 'learning_rate': 0.04153265925880582}. Best is trial 16 with value: 7.849504176962529.\u001b[0m\n",
      "/tmp/ipykernel_1366309/4075368247.py:11: FutureWarning: suggest_loguniform has been deprecated in v3.0.0. This feature will be removed in v6.0.0. See https://github.com/optuna/optuna/releases/tag/v3.0.0. Use :func:`~optuna.trial.Trial.suggest_float` instead.\n",
      "  'learning_rate': trial.suggest_loguniform('learning_rate',0.01,0.1),\n",
      "\u001b[32m[I 2023-04-26 16:07:13,596]\u001b[0m Trial 39 finished with value: 7.868256593943895 and parameters: {'n_estimators': 661, 'max_depth': 7, 'learning_rate': 0.034108036187229844}. Best is trial 16 with value: 7.849504176962529.\u001b[0m\n",
      "/tmp/ipykernel_1366309/4075368247.py:11: FutureWarning: suggest_loguniform has been deprecated in v3.0.0. This feature will be removed in v6.0.0. See https://github.com/optuna/optuna/releases/tag/v3.0.0. Use :func:`~optuna.trial.Trial.suggest_float` instead.\n",
      "  'learning_rate': trial.suggest_loguniform('learning_rate',0.01,0.1),\n",
      "\u001b[32m[I 2023-04-26 16:07:14,026]\u001b[0m Trial 40 finished with value: 9.128685269008553 and parameters: {'n_estimators': 113, 'max_depth': 8, 'learning_rate': 0.025409388674470925}. Best is trial 16 with value: 7.849504176962529.\u001b[0m\n",
      "/tmp/ipykernel_1366309/4075368247.py:11: FutureWarning: suggest_loguniform has been deprecated in v3.0.0. This feature will be removed in v6.0.0. See https://github.com/optuna/optuna/releases/tag/v3.0.0. Use :func:`~optuna.trial.Trial.suggest_float` instead.\n",
      "  'learning_rate': trial.suggest_loguniform('learning_rate',0.01,0.1),\n",
      "\u001b[32m[I 2023-04-26 16:07:15,226]\u001b[0m Trial 41 finished with value: 7.906173145449989 and parameters: {'n_estimators': 506, 'max_depth': 7, 'learning_rate': 0.03752129556228059}. Best is trial 16 with value: 7.849504176962529.\u001b[0m\n",
      "/tmp/ipykernel_1366309/4075368247.py:11: FutureWarning: suggest_loguniform has been deprecated in v3.0.0. This feature will be removed in v6.0.0. See https://github.com/optuna/optuna/releases/tag/v3.0.0. Use :func:`~optuna.trial.Trial.suggest_float` instead.\n",
      "  'learning_rate': trial.suggest_loguniform('learning_rate',0.01,0.1),\n",
      "\u001b[32m[I 2023-04-26 16:07:17,334]\u001b[0m Trial 42 finished with value: 7.885342509425245 and parameters: {'n_estimators': 882, 'max_depth': 7, 'learning_rate': 0.032629709960019064}. Best is trial 16 with value: 7.849504176962529.\u001b[0m\n",
      "/tmp/ipykernel_1366309/4075368247.py:11: FutureWarning: suggest_loguniform has been deprecated in v3.0.0. This feature will be removed in v6.0.0. See https://github.com/optuna/optuna/releases/tag/v3.0.0. Use :func:`~optuna.trial.Trial.suggest_float` instead.\n",
      "  'learning_rate': trial.suggest_loguniform('learning_rate',0.01,0.1),\n",
      "\u001b[32m[I 2023-04-26 16:07:18,678]\u001b[0m Trial 43 finished with value: 7.990668417896773 and parameters: {'n_estimators': 648, 'max_depth': 6, 'learning_rate': 0.028302804165297266}. Best is trial 16 with value: 7.849504176962529.\u001b[0m\n",
      "/tmp/ipykernel_1366309/4075368247.py:11: FutureWarning: suggest_loguniform has been deprecated in v3.0.0. This feature will be removed in v6.0.0. See https://github.com/optuna/optuna/releases/tag/v3.0.0. Use :func:`~optuna.trial.Trial.suggest_float` instead.\n",
      "  'learning_rate': trial.suggest_loguniform('learning_rate',0.01,0.1),\n",
      "\u001b[32m[I 2023-04-26 16:07:20,441]\u001b[0m Trial 44 finished with value: 7.878022969432472 and parameters: {'n_estimators': 819, 'max_depth': 7, 'learning_rate': 0.035989650197485824}. Best is trial 16 with value: 7.849504176962529.\u001b[0m\n",
      "/tmp/ipykernel_1366309/4075368247.py:11: FutureWarning: suggest_loguniform has been deprecated in v3.0.0. This feature will be removed in v6.0.0. See https://github.com/optuna/optuna/releases/tag/v3.0.0. Use :func:`~optuna.trial.Trial.suggest_float` instead.\n",
      "  'learning_rate': trial.suggest_loguniform('learning_rate',0.01,0.1),\n",
      "\u001b[32m[I 2023-04-26 16:07:22,466]\u001b[0m Trial 45 finished with value: 7.973999504444886 and parameters: {'n_estimators': 766, 'max_depth': 8, 'learning_rate': 0.044888522145412106}. Best is trial 16 with value: 7.849504176962529.\u001b[0m\n",
      "/tmp/ipykernel_1366309/4075368247.py:11: FutureWarning: suggest_loguniform has been deprecated in v3.0.0. This feature will be removed in v6.0.0. See https://github.com/optuna/optuna/releases/tag/v3.0.0. Use :func:`~optuna.trial.Trial.suggest_float` instead.\n",
      "  'learning_rate': trial.suggest_loguniform('learning_rate',0.01,0.1),\n",
      "\u001b[32m[I 2023-04-26 16:07:25,160]\u001b[0m Trial 46 finished with value: 7.887057191327966 and parameters: {'n_estimators': 904, 'max_depth': 7, 'learning_rate': 0.026601906781294597}. Best is trial 16 with value: 7.849504176962529.\u001b[0m\n",
      "/tmp/ipykernel_1366309/4075368247.py:11: FutureWarning: suggest_loguniform has been deprecated in v3.0.0. This feature will be removed in v6.0.0. See https://github.com/optuna/optuna/releases/tag/v3.0.0. Use :func:`~optuna.trial.Trial.suggest_float` instead.\n",
      "  'learning_rate': trial.suggest_loguniform('learning_rate',0.01,0.1),\n",
      "\u001b[32m[I 2023-04-26 16:07:26,232]\u001b[0m Trial 47 finished with value: 8.225295041807522 and parameters: {'n_estimators': 347, 'max_depth': 6, 'learning_rate': 0.029847700536842003}. Best is trial 16 with value: 7.849504176962529.\u001b[0m\n",
      "/tmp/ipykernel_1366309/4075368247.py:11: FutureWarning: suggest_loguniform has been deprecated in v3.0.0. This feature will be removed in v6.0.0. See https://github.com/optuna/optuna/releases/tag/v3.0.0. Use :func:`~optuna.trial.Trial.suggest_float` instead.\n",
      "  'learning_rate': trial.suggest_loguniform('learning_rate',0.01,0.1),\n",
      "\u001b[32m[I 2023-04-26 16:07:26,870]\u001b[0m Trial 48 finished with value: 8.149964994925492 and parameters: {'n_estimators': 178, 'max_depth': 9, 'learning_rate': 0.05136880338337694}. Best is trial 16 with value: 7.849504176962529.\u001b[0m\n",
      "/tmp/ipykernel_1366309/4075368247.py:11: FutureWarning: suggest_loguniform has been deprecated in v3.0.0. This feature will be removed in v6.0.0. See https://github.com/optuna/optuna/releases/tag/v3.0.0. Use :func:`~optuna.trial.Trial.suggest_float` instead.\n",
      "  'learning_rate': trial.suggest_loguniform('learning_rate',0.01,0.1),\n",
      "\u001b[32m[I 2023-04-26 16:07:28,469]\u001b[0m Trial 49 finished with value: 7.831604518222226 and parameters: {'n_estimators': 581, 'max_depth': 8, 'learning_rate': 0.04151307819139772}. Best is trial 49 with value: 7.831604518222226.\u001b[0m\n"
     ]
    },
    {
     "name": "stdout",
     "output_type": "stream",
     "text": [
      "{'n_estimators': 581, 'max_depth': 8, 'learning_rate': 0.04151307819139772}\n"
     ]
    }
   ],
   "source": [
    "import optuna\n",
    "from lightgbm import LGBMRegressor\n",
    "\n",
    "# Objective 함수 정의\n",
    "def objective(trial):\n",
    "    \n",
    "    # 하이퍼파라미터 탐색할 공간 정의\n",
    "    params = {\n",
    "        'n_estimators': trial.suggest_int('n_estimators',100,1000),\n",
    "        'max_depth': trial.suggest_int('max_depth',3,9),\n",
    "        'learning_rate': trial.suggest_loguniform('learning_rate',0.01,0.1),\n",
    "    }\n",
    "    \n",
    "    # LGBMRegressor 모델 객체 생성\n",
    "    model = LGBMRegressor(**params, random_state=42)\n",
    "    \n",
    "    # 교차검증 수행하여 모델 성능 측정\n",
    "    scores = -1 * cross_val_score(model, train_X_new, train_prob['loogits'],\n",
    "                                  cv=5, scoring='neg_mean_squared_error')\n",
    "    \n",
    "    # 교차검증 평균 점수 리턴\n",
    "    return np.mean(scores)\n",
    "\n",
    "\n",
    "# Optuna study 생성\n",
    "study = optuna.create_study(direction='minimize')\n",
    "\n",
    "# study 실행 (n_trials는 시도 횟수)\n",
    "study.optimize(objective, n_trials=50)\n",
    "\n",
    "# 최적화된 하이퍼파라미터 값 출력\n",
    "print(study.best_params)"
   ]
  },
  {
   "cell_type": "code",
   "execution_count": 13,
   "metadata": {},
   "outputs": [
    {
     "name": "stdout",
     "output_type": "stream",
     "text": [
      "Best hyperparameters: {'n_estimators': 581, 'max_depth': 8, 'learning_rate': 0.04151307819139772}\n",
      "Best RMSE: 7.8316\n"
     ]
    }
   ],
   "source": [
    "# Print best hyperparameters and auc\n",
    "\n",
    "print(f'Best hyperparameters: {study.best_params}')\n",
    "print(f'Best RMSE: {study.best_value:.4f}')"
   ]
  },
  {
   "cell_type": "code",
   "execution_count": 14,
   "metadata": {},
   "outputs": [],
   "source": [
    "model = LGBMRegressor(n_estimators=581,max_depth=8,learning_rate=0.04151307819139772)"
   ]
  },
  {
   "cell_type": "code",
   "execution_count": 15,
   "metadata": {},
   "outputs": [
    {
     "data": {
      "text/html": [
       "<style>#sk-container-id-2 {color: black;background-color: white;}#sk-container-id-2 pre{padding: 0;}#sk-container-id-2 div.sk-toggleable {background-color: white;}#sk-container-id-2 label.sk-toggleable__label {cursor: pointer;display: block;width: 100%;margin-bottom: 0;padding: 0.3em;box-sizing: border-box;text-align: center;}#sk-container-id-2 label.sk-toggleable__label-arrow:before {content: \"▸\";float: left;margin-right: 0.25em;color: #696969;}#sk-container-id-2 label.sk-toggleable__label-arrow:hover:before {color: black;}#sk-container-id-2 div.sk-estimator:hover label.sk-toggleable__label-arrow:before {color: black;}#sk-container-id-2 div.sk-toggleable__content {max-height: 0;max-width: 0;overflow: hidden;text-align: left;background-color: #f0f8ff;}#sk-container-id-2 div.sk-toggleable__content pre {margin: 0.2em;color: black;border-radius: 0.25em;background-color: #f0f8ff;}#sk-container-id-2 input.sk-toggleable__control:checked~div.sk-toggleable__content {max-height: 200px;max-width: 100%;overflow: auto;}#sk-container-id-2 input.sk-toggleable__control:checked~label.sk-toggleable__label-arrow:before {content: \"▾\";}#sk-container-id-2 div.sk-estimator input.sk-toggleable__control:checked~label.sk-toggleable__label {background-color: #d4ebff;}#sk-container-id-2 div.sk-label input.sk-toggleable__control:checked~label.sk-toggleable__label {background-color: #d4ebff;}#sk-container-id-2 input.sk-hidden--visually {border: 0;clip: rect(1px 1px 1px 1px);clip: rect(1px, 1px, 1px, 1px);height: 1px;margin: -1px;overflow: hidden;padding: 0;position: absolute;width: 1px;}#sk-container-id-2 div.sk-estimator {font-family: monospace;background-color: #f0f8ff;border: 1px dotted black;border-radius: 0.25em;box-sizing: border-box;margin-bottom: 0.5em;}#sk-container-id-2 div.sk-estimator:hover {background-color: #d4ebff;}#sk-container-id-2 div.sk-parallel-item::after {content: \"\";width: 100%;border-bottom: 1px solid gray;flex-grow: 1;}#sk-container-id-2 div.sk-label:hover label.sk-toggleable__label {background-color: #d4ebff;}#sk-container-id-2 div.sk-serial::before {content: \"\";position: absolute;border-left: 1px solid gray;box-sizing: border-box;top: 0;bottom: 0;left: 50%;z-index: 0;}#sk-container-id-2 div.sk-serial {display: flex;flex-direction: column;align-items: center;background-color: white;padding-right: 0.2em;padding-left: 0.2em;position: relative;}#sk-container-id-2 div.sk-item {position: relative;z-index: 1;}#sk-container-id-2 div.sk-parallel {display: flex;align-items: stretch;justify-content: center;background-color: white;position: relative;}#sk-container-id-2 div.sk-item::before, #sk-container-id-2 div.sk-parallel-item::before {content: \"\";position: absolute;border-left: 1px solid gray;box-sizing: border-box;top: 0;bottom: 0;left: 50%;z-index: -1;}#sk-container-id-2 div.sk-parallel-item {display: flex;flex-direction: column;z-index: 1;position: relative;background-color: white;}#sk-container-id-2 div.sk-parallel-item:first-child::after {align-self: flex-end;width: 50%;}#sk-container-id-2 div.sk-parallel-item:last-child::after {align-self: flex-start;width: 50%;}#sk-container-id-2 div.sk-parallel-item:only-child::after {width: 0;}#sk-container-id-2 div.sk-dashed-wrapped {border: 1px dashed gray;margin: 0 0.4em 0.5em 0.4em;box-sizing: border-box;padding-bottom: 0.4em;background-color: white;}#sk-container-id-2 div.sk-label label {font-family: monospace;font-weight: bold;display: inline-block;line-height: 1.2em;}#sk-container-id-2 div.sk-label-container {text-align: center;}#sk-container-id-2 div.sk-container {/* jupyter's `normalize.less` sets `[hidden] { display: none; }` but bootstrap.min.css set `[hidden] { display: none !important; }` so we also need the `!important` here to be able to override the default hidden behavior on the sphinx rendered scikit-learn.org. See: https://github.com/scikit-learn/scikit-learn/issues/21755 */display: inline-block !important;position: relative;}#sk-container-id-2 div.sk-text-repr-fallback {display: none;}</style><div id=\"sk-container-id-2\" class=\"sk-top-container\"><div class=\"sk-text-repr-fallback\"><pre>LGBMRegressor(learning_rate=0.04151307819139772, max_depth=8, n_estimators=581)</pre><b>In a Jupyter environment, please rerun this cell to show the HTML representation or trust the notebook. <br />On GitHub, the HTML representation is unable to render, please try loading this page with nbviewer.org.</b></div><div class=\"sk-container\" hidden><div class=\"sk-item\"><div class=\"sk-estimator sk-toggleable\"><input class=\"sk-toggleable__control sk-hidden--visually\" id=\"sk-estimator-id-2\" type=\"checkbox\" checked><label for=\"sk-estimator-id-2\" class=\"sk-toggleable__label sk-toggleable__label-arrow\">LGBMRegressor</label><div class=\"sk-toggleable__content\"><pre>LGBMRegressor(learning_rate=0.04151307819139772, max_depth=8, n_estimators=581)</pre></div></div></div></div></div>"
      ],
      "text/plain": [
       "LGBMRegressor(learning_rate=0.04151307819139772, max_depth=8, n_estimators=581)"
      ]
     },
     "execution_count": 15,
     "metadata": {},
     "output_type": "execute_result"
    }
   ],
   "source": [
    "model.fit(train_X_new,train_prob['loogits'])"
   ]
  },
  {
   "cell_type": "code",
   "execution_count": 16,
   "metadata": {},
   "outputs": [],
   "source": [
    "test_data=pd.DataFrame()\n",
    "test_data['loogits']=model.predict(new_test_data_X)"
   ]
  },
  {
   "cell_type": "code",
   "execution_count": 17,
   "metadata": {},
   "outputs": [],
   "source": [
    "test_data['new_prob']=1/(1+np.exp(-test_data['loogits']))"
   ]
  },
  {
   "cell_type": "code",
   "execution_count": 18,
   "metadata": {},
   "outputs": [],
   "source": [
    "from sklearn.metrics import accuracy_score, precision_score, recall_score, confusion_matrix, f1_score\n",
    "\n",
    "def get_clf_prob(y_test, probability):\n",
    "  pred=np.where(probability > 0.5,1,0)\n",
    "  confusion=confusion_matrix(y_test, pred)\n",
    "  accuracy=accuracy_score(y_test,pred)\n",
    "  precision=precision_score(y_test,pred) \n",
    "  recall=recall_score(y_test,pred) \n",
    "  # F1 스코어 추가 \n",
    "  f1=f1_score(y_test,pred,average='macro')\n",
    "  Roc_score=roc_auc_score(y_test,probability)\n",
    "  print('임계값: ', 0.5) \n",
    "  print('오차행렬')\n",
    "  print(confusion) \n",
    "  # f1 score print 추가 \n",
    "  print('정확도: {0:.4f}, 정밀도: {1:.4f}, 재현율: {2:.4f}, F1:{3:.4f}, AUC:{4: .4f}'.format(accuracy,precision,recall,f1,Roc_score))"
   ]
  },
  {
   "cell_type": "code",
   "execution_count": 19,
   "metadata": {},
   "outputs": [
    {
     "name": "stdout",
     "output_type": "stream",
     "text": [
      "임계값:  0.5\n",
      "오차행렬\n",
      "[[502  28]\n",
      " [ 73 317]]\n",
      "정확도: 0.8902, 정밀도: 0.9188, 재현율: 0.8128, F1:0.8856, AUC: 0.9515\n"
     ]
    }
   ],
   "source": [
    "get_clf_prob(new_test_data_y,test_data['new_prob'])"
   ]
  },
  {
   "cell_type": "code",
   "execution_count": null,
   "metadata": {},
   "outputs": [],
   "source": []
  }
 ],
 "metadata": {
  "kernelspec": {
   "display_name": "Python 3",
   "language": "python",
   "name": "python3"
  },
  "language_info": {
   "codemirror_mode": {
    "name": "ipython",
    "version": 3
   },
   "file_extension": ".py",
   "mimetype": "text/x-python",
   "name": "python",
   "nbconvert_exporter": "python",
   "pygments_lexer": "ipython3",
   "version": "3.9.0"
  },
  "orig_nbformat": 4
 },
 "nbformat": 4,
 "nbformat_minor": 2
}
