{
 "cells": [
  {
   "cell_type": "code",
   "execution_count": 1,
   "metadata": {},
   "outputs": [],
   "source": [
    "import pandas as pd \n",
    "import numpy as np \n",
    "import matplotlib.pyplot as plt \n",
    "from sklearn.model_selection import train_test_split  \n",
    "from sklearn import preprocessing\n",
    "import optuna \n",
    "import lightgbm as lgb\n",
    "from sklearn.metrics import accuracy_score, roc_auc_score,precision_score, confusion_matrix,recall_score\n",
    "from sklearn.model_selection import cross_val_score, train_test_split\n",
    "import os "
   ]
  },
  {
   "cell_type": "code",
   "execution_count": 2,
   "metadata": {},
   "outputs": [],
   "source": [
    "train_data=pd.read_csv('/home/iai/son/lastcheck/spambase_train_data.csv')\n",
    "test_data=pd.read_csv('/home/iai/son/lastcheck/spambase_test_data.csv')"
   ]
  },
  {
   "cell_type": "code",
   "execution_count": 3,
   "metadata": {},
   "outputs": [],
   "source": [
    "train_stage_features=['0.7', '278', '61', '0', '0.34', '0.30', '0.5', '0.44', '0.40', '0.778',\n",
    "                        '0.24', '1.93', '0.39', '1.29', '0.43', '0.2', '0.36', '0.17', '0.20', \n",
    "                        '0.28', '0.21', '0.32.1', '0.41', '0.29', '3.756', '0.35', '0.25', '0.15', \n",
    "                        '0.64.1', '0.38', '0.45', '0.6', '0.33', '0.42', '0.14', '0.9', '0.10', \n",
    "                        '0.3', '0.13', '0.8', '0.19', '0.23', '0.18', '0.22', '0.16', '0.64.2', \n",
    "                        '0.1', '0.31', '0.27', '0.11', '0.4', '0.12', '0.26', '0.64', '0.37', '0.32', '0.96']\n",
    "test_stage_features=['0.7', '278', '61', '0', '0.34', '0.30', '0.5', '0.44', '0.40', '0.778',\n",
    "                        '0.24', '1.93', '0.39', '1.29', '0.43', '0.2', '0.36', '0.17', '0.20']"
   ]
  },
  {
   "cell_type": "code",
   "execution_count": 4,
   "metadata": {},
   "outputs": [],
   "source": [
    "train_X=train_data.loc[:,train_stage_features]\n",
    "train_y=train_data['1']\n",
    "new_test_data_X=test_data.loc[:,test_stage_features]\n",
    "new_test_data_y=test_data['1']"
   ]
  },
  {
   "cell_type": "code",
   "execution_count": 5,
   "metadata": {},
   "outputs": [],
   "source": [
    "ratio=train_y.value_counts()[0]/train_y.value_counts()[1]"
   ]
  },
  {
   "cell_type": "code",
   "execution_count": 6,
   "metadata": {},
   "outputs": [],
   "source": [
    "onlytrain_X=train_X.loc[:,[ '0.28', '0.21', '0.32.1', '0.41', '0.29', '3.756', '0.35', '0.25', '0.15', \n",
    "                        '0.64.1', '0.38', '0.45', '0.6', '0.33', '0.42', '0.14', '0.9', '0.10', \n",
    "                        '0.3', '0.13', '0.8', '0.19', '0.23', '0.18', '0.22', '0.16', '0.64.2', \n",
    "                        '0.1', '0.31', '0.27', '0.11', '0.4', '0.12', '0.26', '0.64', '0.37', '0.32', '0.96']]"
   ]
  },
  {
   "cell_type": "code",
   "execution_count": 7,
   "metadata": {},
   "outputs": [],
   "source": [
    "from sklearn.decomposition import PCA \n",
    "pca=PCA()\n",
    "pca.fit(onlytrain_X)\n",
    "X_pca=pca.transform(onlytrain_X)"
   ]
  },
  {
   "cell_type": "code",
   "execution_count": 8,
   "metadata": {},
   "outputs": [
    {
     "data": {
      "text/plain": [
       "[<matplotlib.lines.Line2D at 0x7f2a623726a0>]"
      ]
     },
     "execution_count": 8,
     "metadata": {},
     "output_type": "execute_result"
    },
    {
     "data": {
      "image/png": "[encoded data removed]",
      "text/plain": [
       "<Figure size 640x480 with 1 Axes>"
      ]
     },
     "metadata": {},
     "output_type": "display_data"
    }
   ],
   "source": [
    "# Scree plot 그리기\n",
    "\n",
    "plt.plot(range(1,len(pca.explained_variance_ratio_)+1),pca.explained_variance_ratio_,marker='o')"
   ]
  },
  {
   "cell_type": "code",
   "execution_count": 9,
   "metadata": {},
   "outputs": [],
   "source": [
    "from sklearn.decomposition import PCA \n",
    "pca=PCA(n_components=4)\n",
    "pca.fit(onlytrain_X)\n",
    "X_pca=pca.transform(onlytrain_X)"
   ]
  },
  {
   "cell_type": "code",
   "execution_count": 10,
   "metadata": {},
   "outputs": [],
   "source": [
    "pca_columns=['pca_component1','pca_component2','pca_component3','pca_component4']\n",
    "onlytrain_pca=pd.DataFrame(X_pca,columns=pca_columns)"
   ]
  },
  {
   "cell_type": "code",
   "execution_count": 11,
   "metadata": {},
   "outputs": [
    {
     "data": {
      "text/html": [
       "<div>\n",
       "<style scoped>\n",
       "    .dataframe tbody tr th:only-of-type {\n",
       "        vertical-align: middle;\n",
       "    }\n",
       "\n",
       "    .dataframe tbody tr th {\n",
       "        vertical-align: top;\n",
       "    }\n",
       "\n",
       "    .dataframe thead th {\n",
       "        text-align: right;\n",
       "    }\n",
       "</style>\n",
       "<table border=\"1\" class=\"dataframe\">\n",
       "  <thead>\n",
       "    <tr style=\"text-align: right;\">\n",
       "      <th></th>\n",
       "      <th>pca_component1</th>\n",
       "      <th>pca_component2</th>\n",
       "      <th>pca_component3</th>\n",
       "      <th>pca_component4</th>\n",
       "    </tr>\n",
       "  </thead>\n",
       "  <tbody>\n",
       "    <tr>\n",
       "      <th>0</th>\n",
       "      <td>0.478035</td>\n",
       "      <td>-0.773962</td>\n",
       "      <td>-0.453098</td>\n",
       "      <td>-0.152162</td>\n",
       "    </tr>\n",
       "    <tr>\n",
       "      <th>1</th>\n",
       "      <td>-1.067603</td>\n",
       "      <td>-0.707938</td>\n",
       "      <td>-0.361943</td>\n",
       "      <td>-0.075671</td>\n",
       "    </tr>\n",
       "    <tr>\n",
       "      <th>2</th>\n",
       "      <td>-3.495102</td>\n",
       "      <td>0.659180</td>\n",
       "      <td>-0.398420</td>\n",
       "      <td>-0.052525</td>\n",
       "    </tr>\n",
       "    <tr>\n",
       "      <th>3</th>\n",
       "      <td>-0.792114</td>\n",
       "      <td>-0.736706</td>\n",
       "      <td>1.777176</td>\n",
       "      <td>-0.021672</td>\n",
       "    </tr>\n",
       "    <tr>\n",
       "      <th>4</th>\n",
       "      <td>0.558370</td>\n",
       "      <td>-0.763537</td>\n",
       "      <td>-0.629529</td>\n",
       "      <td>-0.071074</td>\n",
       "    </tr>\n",
       "    <tr>\n",
       "      <th>...</th>\n",
       "      <td>...</td>\n",
       "      <td>...</td>\n",
       "      <td>...</td>\n",
       "      <td>...</td>\n",
       "    </tr>\n",
       "    <tr>\n",
       "      <th>3675</th>\n",
       "      <td>0.142169</td>\n",
       "      <td>-0.831408</td>\n",
       "      <td>-1.115872</td>\n",
       "      <td>-0.081175</td>\n",
       "    </tr>\n",
       "    <tr>\n",
       "      <th>3676</th>\n",
       "      <td>2.260771</td>\n",
       "      <td>-0.807889</td>\n",
       "      <td>-0.713248</td>\n",
       "      <td>-0.102740</td>\n",
       "    </tr>\n",
       "    <tr>\n",
       "      <th>3677</th>\n",
       "      <td>-3.217072</td>\n",
       "      <td>-0.862624</td>\n",
       "      <td>-1.020785</td>\n",
       "      <td>-0.379617</td>\n",
       "    </tr>\n",
       "    <tr>\n",
       "      <th>3678</th>\n",
       "      <td>-3.961853</td>\n",
       "      <td>0.501745</td>\n",
       "      <td>-0.381293</td>\n",
       "      <td>-0.077506</td>\n",
       "    </tr>\n",
       "    <tr>\n",
       "      <th>3679</th>\n",
       "      <td>-3.148760</td>\n",
       "      <td>-0.739007</td>\n",
       "      <td>-0.434856</td>\n",
       "      <td>-0.073095</td>\n",
       "    </tr>\n",
       "  </tbody>\n",
       "</table>\n",
       "<p>3680 rows × 4 columns</p>\n",
       "</div>"
      ],
      "text/plain": [
       "      pca_component1  pca_component2  pca_component3  pca_component4\n",
       "0           0.478035       -0.773962       -0.453098       -0.152162\n",
       "1          -1.067603       -0.707938       -0.361943       -0.075671\n",
       "2          -3.495102        0.659180       -0.398420       -0.052525\n",
       "3          -0.792114       -0.736706        1.777176       -0.021672\n",
       "4           0.558370       -0.763537       -0.629529       -0.071074\n",
       "...              ...             ...             ...             ...\n",
       "3675        0.142169       -0.831408       -1.115872       -0.081175\n",
       "3676        2.260771       -0.807889       -0.713248       -0.102740\n",
       "3677       -3.217072       -0.862624       -1.020785       -0.379617\n",
       "3678       -3.961853        0.501745       -0.381293       -0.077506\n",
       "3679       -3.148760       -0.739007       -0.434856       -0.073095\n",
       "\n",
       "[3680 rows x 4 columns]"
      ]
     },
     "execution_count": 11,
     "metadata": {},
     "output_type": "execute_result"
    }
   ],
   "source": [
    "onlytrain_pca"
   ]
  },
  {
   "cell_type": "code",
   "execution_count": 12,
   "metadata": {},
   "outputs": [],
   "source": [
    "train_X=train_data[test_stage_features] "
   ]
  },
  {
   "cell_type": "code",
   "execution_count": 13,
   "metadata": {},
   "outputs": [],
   "source": [
    "new_train_X=pd.concat([train_X,onlytrain_pca],axis=1)"
   ]
  },
  {
   "cell_type": "code",
   "execution_count": 14,
   "metadata": {},
   "outputs": [
    {
     "name": "stderr",
     "output_type": "stream",
     "text": [
      "\u001b[32m[I 2023-04-26 15:52:38,679]\u001b[0m A new study created in memory with name: lgb_boost_opt\u001b[0m\n",
      "/tmp/ipykernel_1373733/14971935.py:7: FutureWarning: suggest_loguniform has been deprecated in v3.0.0. This feature will be removed in v6.0.0. See https://github.com/optuna/optuna/releases/tag/v3.0.0. Use :func:`~optuna.trial.Trial.suggest_float` instead.\n",
      "  'learning_rate':trial.suggest_loguniform('learning_rate',0.01,0.1),\n",
      "\u001b[32m[I 2023-04-26 15:52:39,420]\u001b[0m Trial 0 finished with value: 0.9759106397539019 and parameters: {'learning_rate': 0.026465460877371054, 'max_depth': 3, 'n_estimators': 364}. Best is trial 0 with value: 0.9759106397539019.\u001b[0m\n",
      "/tmp/ipykernel_1373733/14971935.py:7: FutureWarning: suggest_loguniform has been deprecated in v3.0.0. This feature will be removed in v6.0.0. See https://github.com/optuna/optuna/releases/tag/v3.0.0. Use :func:`~optuna.trial.Trial.suggest_float` instead.\n",
      "  'learning_rate':trial.suggest_loguniform('learning_rate',0.01,0.1),\n",
      "\u001b[32m[I 2023-04-26 15:52:40,150]\u001b[0m Trial 1 finished with value: 0.9814003172386372 and parameters: {'learning_rate': 0.05997335266240229, 'max_depth': 6, 'n_estimators': 268}. Best is trial 1 with value: 0.9814003172386372.\u001b[0m\n",
      "/tmp/ipykernel_1373733/14971935.py:7: FutureWarning: suggest_loguniform has been deprecated in v3.0.0. This feature will be removed in v6.0.0. See https://github.com/optuna/optuna/releases/tag/v3.0.0. Use :func:`~optuna.trial.Trial.suggest_float` instead.\n",
      "  'learning_rate':trial.suggest_loguniform('learning_rate',0.01,0.1),\n",
      "\u001b[32m[I 2023-04-26 15:52:40,778]\u001b[0m Trial 2 finished with value: 0.9811827874528719 and parameters: {'learning_rate': 0.06853020224301401, 'max_depth': 5, 'n_estimators': 352}. Best is trial 1 with value: 0.9814003172386372.\u001b[0m\n",
      "/tmp/ipykernel_1373733/14971935.py:7: FutureWarning: suggest_loguniform has been deprecated in v3.0.0. This feature will be removed in v6.0.0. See https://github.com/optuna/optuna/releases/tag/v3.0.0. Use :func:`~optuna.trial.Trial.suggest_float` instead.\n",
      "  'learning_rate':trial.suggest_loguniform('learning_rate',0.01,0.1),\n",
      "\u001b[32m[I 2023-04-26 15:52:43,754]\u001b[0m Trial 3 finished with value: 0.981040353731049 and parameters: {'learning_rate': 0.01149146301999881, 'max_depth': 7, 'n_estimators': 955}. Best is trial 1 with value: 0.9814003172386372.\u001b[0m\n",
      "/tmp/ipykernel_1373733/14971935.py:7: FutureWarning: suggest_loguniform has been deprecated in v3.0.0. This feature will be removed in v6.0.0. See https://github.com/optuna/optuna/releases/tag/v3.0.0. Use :func:`~optuna.trial.Trial.suggest_float` instead.\n",
      "  'learning_rate':trial.suggest_loguniform('learning_rate',0.01,0.1),\n",
      "\u001b[32m[I 2023-04-26 15:52:46,478]\u001b[0m Trial 4 finished with value: 0.9823318294030582 and parameters: {'learning_rate': 0.031062337972206446, 'max_depth': 9, 'n_estimators': 824}. Best is trial 4 with value: 0.9823318294030582.\u001b[0m\n",
      "/tmp/ipykernel_1373733/14971935.py:7: FutureWarning: suggest_loguniform has been deprecated in v3.0.0. This feature will be removed in v6.0.0. See https://github.com/optuna/optuna/releases/tag/v3.0.0. Use :func:`~optuna.trial.Trial.suggest_float` instead.\n",
      "  'learning_rate':trial.suggest_loguniform('learning_rate',0.01,0.1),\n",
      "\u001b[32m[I 2023-04-26 15:52:47,983]\u001b[0m Trial 5 finished with value: 0.9804283754827658 and parameters: {'learning_rate': 0.014277000710212063, 'max_depth': 8, 'n_estimators': 481}. Best is trial 4 with value: 0.9823318294030582.\u001b[0m\n",
      "/tmp/ipykernel_1373733/14971935.py:7: FutureWarning: suggest_loguniform has been deprecated in v3.0.0. This feature will be removed in v6.0.0. See https://github.com/optuna/optuna/releases/tag/v3.0.0. Use :func:`~optuna.trial.Trial.suggest_float` instead.\n",
      "  'learning_rate':trial.suggest_loguniform('learning_rate',0.01,0.1),\n",
      "\u001b[32m[I 2023-04-26 15:52:48,160]\u001b[0m Trial 6 finished with value: 0.9777922415779379 and parameters: {'learning_rate': 0.08152264087809794, 'max_depth': 4, 'n_estimators': 106}. Best is trial 4 with value: 0.9823318294030582.\u001b[0m\n",
      "/tmp/ipykernel_1373733/14971935.py:7: FutureWarning: suggest_loguniform has been deprecated in v3.0.0. This feature will be removed in v6.0.0. See https://github.com/optuna/optuna/releases/tag/v3.0.0. Use :func:`~optuna.trial.Trial.suggest_float` instead.\n",
      "  'learning_rate':trial.suggest_loguniform('learning_rate',0.01,0.1),\n",
      "\u001b[32m[I 2023-04-26 15:52:49,370]\u001b[0m Trial 7 finished with value: 0.9814118306642629 and parameters: {'learning_rate': 0.07580761813896798, 'max_depth': 4, 'n_estimators': 874}. Best is trial 4 with value: 0.9823318294030582.\u001b[0m\n",
      "/tmp/ipykernel_1373733/14971935.py:7: FutureWarning: suggest_loguniform has been deprecated in v3.0.0. This feature will be removed in v6.0.0. See https://github.com/optuna/optuna/releases/tag/v3.0.0. Use :func:`~optuna.trial.Trial.suggest_float` instead.\n",
      "  'learning_rate':trial.suggest_loguniform('learning_rate',0.01,0.1),\n",
      "\u001b[32m[I 2023-04-26 15:52:52,487]\u001b[0m Trial 8 finished with value: 0.9820997754122903 and parameters: {'learning_rate': 0.01612608514805702, 'max_depth': 9, 'n_estimators': 909}. Best is trial 4 with value: 0.9823318294030582.\u001b[0m\n",
      "/tmp/ipykernel_1373733/14971935.py:7: FutureWarning: suggest_loguniform has been deprecated in v3.0.0. This feature will be removed in v6.0.0. See https://github.com/optuna/optuna/releases/tag/v3.0.0. Use :func:`~optuna.trial.Trial.suggest_float` instead.\n",
      "  'learning_rate':trial.suggest_loguniform('learning_rate',0.01,0.1),\n",
      "\u001b[32m[I 2023-04-26 15:52:53,119]\u001b[0m Trial 9 finished with value: 0.9763377617836584 and parameters: {'learning_rate': 0.0159908219587057, 'max_depth': 9, 'n_estimators': 180}. Best is trial 4 with value: 0.9823318294030582.\u001b[0m\n",
      "/tmp/ipykernel_1373733/14971935.py:7: FutureWarning: suggest_loguniform has been deprecated in v3.0.0. This feature will be removed in v6.0.0. See https://github.com/optuna/optuna/releases/tag/v3.0.0. Use :func:`~optuna.trial.Trial.suggest_float` instead.\n",
      "  'learning_rate':trial.suggest_loguniform('learning_rate',0.01,0.1),\n",
      "\u001b[32m[I 2023-04-26 15:52:55,448]\u001b[0m Trial 10 finished with value: 0.9821278845613373 and parameters: {'learning_rate': 0.033879279568162474, 'max_depth': 7, 'n_estimators': 707}. Best is trial 4 with value: 0.9823318294030582.\u001b[0m\n",
      "/tmp/ipykernel_1373733/14971935.py:7: FutureWarning: suggest_loguniform has been deprecated in v3.0.0. This feature will be removed in v6.0.0. See https://github.com/optuna/optuna/releases/tag/v3.0.0. Use :func:`~optuna.trial.Trial.suggest_float` instead.\n",
      "  'learning_rate':trial.suggest_loguniform('learning_rate',0.01,0.1),\n",
      "\u001b[32m[I 2023-04-26 15:52:57,726]\u001b[0m Trial 11 finished with value: 0.9823302896007913 and parameters: {'learning_rate': 0.03581316271443184, 'max_depth': 7, 'n_estimators': 703}. Best is trial 4 with value: 0.9823318294030582.\u001b[0m\n",
      "/tmp/ipykernel_1373733/14971935.py:7: FutureWarning: suggest_loguniform has been deprecated in v3.0.0. This feature will be removed in v6.0.0. See https://github.com/optuna/optuna/releases/tag/v3.0.0. Use :func:`~optuna.trial.Trial.suggest_float` instead.\n",
      "  'learning_rate':trial.suggest_loguniform('learning_rate',0.01,0.1),\n",
      "\u001b[32m[I 2023-04-26 15:53:00,019]\u001b[0m Trial 12 finished with value: 0.9821948551597977 and parameters: {'learning_rate': 0.03777408948447482, 'max_depth': 8, 'n_estimators': 694}. Best is trial 4 with value: 0.9823318294030582.\u001b[0m\n",
      "/tmp/ipykernel_1373733/14971935.py:7: FutureWarning: suggest_loguniform has been deprecated in v3.0.0. This feature will be removed in v6.0.0. See https://github.com/optuna/optuna/releases/tag/v3.0.0. Use :func:`~optuna.trial.Trial.suggest_float` instead.\n",
      "  'learning_rate':trial.suggest_loguniform('learning_rate',0.01,0.1),\n",
      "\u001b[32m[I 2023-04-26 15:53:02,052]\u001b[0m Trial 13 finished with value: 0.9823986218658195 and parameters: {'learning_rate': 0.0460815410504705, 'max_depth': 7, 'n_estimators': 672}. Best is trial 13 with value: 0.9823986218658195.\u001b[0m\n",
      "/tmp/ipykernel_1373733/14971935.py:7: FutureWarning: suggest_loguniform has been deprecated in v3.0.0. This feature will be removed in v6.0.0. See https://github.com/optuna/optuna/releases/tag/v3.0.0. Use :func:`~optuna.trial.Trial.suggest_float` instead.\n",
      "  'learning_rate':trial.suggest_loguniform('learning_rate',0.01,0.1),\n",
      "\u001b[32m[I 2023-04-26 15:53:04,005]\u001b[0m Trial 14 finished with value: 0.9827167455329262 and parameters: {'learning_rate': 0.050488504997169385, 'max_depth': 8, 'n_estimators': 553}. Best is trial 14 with value: 0.9827167455329262.\u001b[0m\n",
      "/tmp/ipykernel_1373733/14971935.py:7: FutureWarning: suggest_loguniform has been deprecated in v3.0.0. This feature will be removed in v6.0.0. See https://github.com/optuna/optuna/releases/tag/v3.0.0. Use :func:`~optuna.trial.Trial.suggest_float` instead.\n",
      "  'learning_rate':trial.suggest_loguniform('learning_rate',0.01,0.1),\n",
      "\u001b[32m[I 2023-04-26 15:53:05,299]\u001b[0m Trial 15 finished with value: 0.9823194624024607 and parameters: {'learning_rate': 0.05267927791651291, 'max_depth': 6, 'n_estimators': 534}. Best is trial 14 with value: 0.9827167455329262.\u001b[0m\n",
      "/tmp/ipykernel_1373733/14971935.py:7: FutureWarning: suggest_loguniform has been deprecated in v3.0.0. This feature will be removed in v6.0.0. See https://github.com/optuna/optuna/releases/tag/v3.0.0. Use :func:`~optuna.trial.Trial.suggest_float` instead.\n",
      "  'learning_rate':trial.suggest_loguniform('learning_rate',0.01,0.1),\n",
      "\u001b[32m[I 2023-04-26 15:53:07,248]\u001b[0m Trial 16 finished with value: 0.9824971293921815 and parameters: {'learning_rate': 0.053137449553624136, 'max_depth': 8, 'n_estimators': 615}. Best is trial 14 with value: 0.9827167455329262.\u001b[0m\n",
      "/tmp/ipykernel_1373733/14971935.py:7: FutureWarning: suggest_loguniform has been deprecated in v3.0.0. This feature will be removed in v6.0.0. See https://github.com/optuna/optuna/releases/tag/v3.0.0. Use :func:`~optuna.trial.Trial.suggest_float` instead.\n",
      "  'learning_rate':trial.suggest_loguniform('learning_rate',0.01,0.1),\n",
      "\u001b[32m[I 2023-04-26 15:53:09,304]\u001b[0m Trial 17 finished with value: 0.9823727670861044 and parameters: {'learning_rate': 0.09947146055942298, 'max_depth': 8, 'n_estimators': 591}. Best is trial 14 with value: 0.9827167455329262.\u001b[0m\n",
      "/tmp/ipykernel_1373733/14971935.py:7: FutureWarning: suggest_loguniform has been deprecated in v3.0.0. This feature will be removed in v6.0.0. See https://github.com/optuna/optuna/releases/tag/v3.0.0. Use :func:`~optuna.trial.Trial.suggest_float` instead.\n",
      "  'learning_rate':trial.suggest_loguniform('learning_rate',0.01,0.1),\n",
      "\u001b[32m[I 2023-04-26 15:53:10,652]\u001b[0m Trial 18 finished with value: 0.9818489016928084 and parameters: {'learning_rate': 0.046198751928917786, 'max_depth': 8, 'n_estimators': 446}. Best is trial 14 with value: 0.9827167455329262.\u001b[0m\n",
      "/tmp/ipykernel_1373733/14971935.py:7: FutureWarning: suggest_loguniform has been deprecated in v3.0.0. This feature will be removed in v6.0.0. See https://github.com/optuna/optuna/releases/tag/v3.0.0. Use :func:`~optuna.trial.Trial.suggest_float` instead.\n",
      "  'learning_rate':trial.suggest_loguniform('learning_rate',0.01,0.1),\n",
      "\u001b[32m[I 2023-04-26 15:53:12,132]\u001b[0m Trial 19 finished with value: 0.9826887618885761 and parameters: {'learning_rate': 0.05996150555567974, 'max_depth': 6, 'n_estimators': 594}. Best is trial 14 with value: 0.9827167455329262.\u001b[0m\n",
      "/tmp/ipykernel_1373733/14971935.py:7: FutureWarning: suggest_loguniform has been deprecated in v3.0.0. This feature will be removed in v6.0.0. See https://github.com/optuna/optuna/releases/tag/v3.0.0. Use :func:`~optuna.trial.Trial.suggest_float` instead.\n",
      "  'learning_rate':trial.suggest_loguniform('learning_rate',0.01,0.1),\n",
      "\u001b[32m[I 2023-04-26 15:53:14,272]\u001b[0m Trial 20 finished with value: 0.982151354060891 and parameters: {'learning_rate': 0.06513250792827209, 'max_depth': 6, 'n_estimators': 782}. Best is trial 14 with value: 0.9827167455329262.\u001b[0m\n",
      "/tmp/ipykernel_1373733/14971935.py:7: FutureWarning: suggest_loguniform has been deprecated in v3.0.0. This feature will be removed in v6.0.0. See https://github.com/optuna/optuna/releases/tag/v3.0.0. Use :func:`~optuna.trial.Trial.suggest_float` instead.\n",
      "  'learning_rate':trial.suggest_loguniform('learning_rate',0.01,0.1),\n",
      "\u001b[32m[I 2023-04-26 15:53:15,277]\u001b[0m Trial 21 finished with value: 0.9814819679108368 and parameters: {'learning_rate': 0.054722360441248154, 'max_depth': 5, 'n_estimators': 584}. Best is trial 14 with value: 0.9827167455329262.\u001b[0m\n",
      "/tmp/ipykernel_1373733/14971935.py:7: FutureWarning: suggest_loguniform has been deprecated in v3.0.0. This feature will be removed in v6.0.0. See https://github.com/optuna/optuna/releases/tag/v3.0.0. Use :func:`~optuna.trial.Trial.suggest_float` instead.\n",
      "  'learning_rate':trial.suggest_loguniform('learning_rate',0.01,0.1),\n",
      "\u001b[32m[I 2023-04-26 15:53:16,875]\u001b[0m Trial 22 finished with value: 0.9818786316148944 and parameters: {'learning_rate': 0.04602334385187124, 'max_depth': 6, 'n_estimators': 606}. Best is trial 14 with value: 0.9827167455329262.\u001b[0m\n",
      "/tmp/ipykernel_1373733/14971935.py:7: FutureWarning: suggest_loguniform has been deprecated in v3.0.0. This feature will be removed in v6.0.0. See https://github.com/optuna/optuna/releases/tag/v3.0.0. Use :func:`~optuna.trial.Trial.suggest_float` instead.\n",
      "  'learning_rate':trial.suggest_loguniform('learning_rate',0.01,0.1),\n",
      "\u001b[32m[I 2023-04-26 15:53:17,659]\u001b[0m Trial 23 finished with value: 0.9820487939231348 and parameters: {'learning_rate': 0.08569461582433201, 'max_depth': 5, 'n_estimators': 452}. Best is trial 14 with value: 0.9827167455329262.\u001b[0m\n",
      "/tmp/ipykernel_1373733/14971935.py:7: FutureWarning: suggest_loguniform has been deprecated in v3.0.0. This feature will be removed in v6.0.0. See https://github.com/optuna/optuna/releases/tag/v3.0.0. Use :func:`~optuna.trial.Trial.suggest_float` instead.\n",
      "  'learning_rate':trial.suggest_loguniform('learning_rate',0.01,0.1),\n",
      "\u001b[32m[I 2023-04-26 15:53:19,227]\u001b[0m Trial 24 finished with value: 0.9825594502198018 and parameters: {'learning_rate': 0.06389694208771558, 'max_depth': 8, 'n_estimators': 534}. Best is trial 14 with value: 0.9827167455329262.\u001b[0m\n",
      "/tmp/ipykernel_1373733/14971935.py:7: FutureWarning: suggest_loguniform has been deprecated in v3.0.0. This feature will be removed in v6.0.0. See https://github.com/optuna/optuna/releases/tag/v3.0.0. Use :func:`~optuna.trial.Trial.suggest_float` instead.\n",
      "  'learning_rate':trial.suggest_loguniform('learning_rate',0.01,0.1),\n",
      "\u001b[32m[I 2023-04-26 15:53:20,735]\u001b[0m Trial 25 finished with value: 0.9824269739271834 and parameters: {'learning_rate': 0.06810241945873612, 'max_depth': 7, 'n_estimators': 515}. Best is trial 14 with value: 0.9827167455329262.\u001b[0m\n",
      "/tmp/ipykernel_1373733/14971935.py:7: FutureWarning: suggest_loguniform has been deprecated in v3.0.0. This feature will be removed in v6.0.0. See https://github.com/optuna/optuna/releases/tag/v3.0.0. Use :func:`~optuna.trial.Trial.suggest_float` instead.\n",
      "  'learning_rate':trial.suggest_loguniform('learning_rate',0.01,0.1),\n",
      "\u001b[32m[I 2023-04-26 15:53:23,011]\u001b[0m Trial 26 finished with value: 0.9819056402281143 and parameters: {'learning_rate': 0.09309518836655802, 'max_depth': 9, 'n_estimators': 777}. Best is trial 14 with value: 0.9827167455329262.\u001b[0m\n",
      "/tmp/ipykernel_1373733/14971935.py:7: FutureWarning: suggest_loguniform has been deprecated in v3.0.0. This feature will be removed in v6.0.0. See https://github.com/optuna/optuna/releases/tag/v3.0.0. Use :func:`~optuna.trial.Trial.suggest_float` instead.\n",
      "  'learning_rate':trial.suggest_loguniform('learning_rate',0.01,0.1),\n",
      "\u001b[32m[I 2023-04-26 15:53:23,988]\u001b[0m Trial 27 finished with value: 0.9820000256512497 and parameters: {'learning_rate': 0.0743924899473358, 'max_depth': 6, 'n_estimators': 382}. Best is trial 14 with value: 0.9827167455329262.\u001b[0m\n",
      "/tmp/ipykernel_1373733/14971935.py:7: FutureWarning: suggest_loguniform has been deprecated in v3.0.0. This feature will be removed in v6.0.0. See https://github.com/optuna/optuna/releases/tag/v3.0.0. Use :func:`~optuna.trial.Trial.suggest_float` instead.\n",
      "  'learning_rate':trial.suggest_loguniform('learning_rate',0.01,0.1),\n",
      "\u001b[32m[I 2023-04-26 15:53:25,097]\u001b[0m Trial 28 finished with value: 0.9816869768515375 and parameters: {'learning_rate': 0.0614681531880926, 'max_depth': 8, 'n_estimators': 285}. Best is trial 14 with value: 0.9827167455329262.\u001b[0m\n",
      "/tmp/ipykernel_1373733/14971935.py:7: FutureWarning: suggest_loguniform has been deprecated in v3.0.0. This feature will be removed in v6.0.0. See https://github.com/optuna/optuna/releases/tag/v3.0.0. Use :func:`~optuna.trial.Trial.suggest_float` instead.\n",
      "  'learning_rate':trial.suggest_loguniform('learning_rate',0.01,0.1),\n",
      "\u001b[32m[I 2023-04-26 15:53:25,635]\u001b[0m Trial 29 finished with value: 0.9781924626140853 and parameters: {'learning_rate': 0.025290403810630118, 'max_depth': 4, 'n_estimators': 399}. Best is trial 14 with value: 0.9827167455329262.\u001b[0m\n",
      "/tmp/ipykernel_1373733/14971935.py:7: FutureWarning: suggest_loguniform has been deprecated in v3.0.0. This feature will be removed in v6.0.0. See https://github.com/optuna/optuna/releases/tag/v3.0.0. Use :func:`~optuna.trial.Trial.suggest_float` instead.\n",
      "  'learning_rate':trial.suggest_loguniform('learning_rate',0.01,0.1),\n",
      "\u001b[32m[I 2023-04-26 15:53:27,455]\u001b[0m Trial 30 finished with value: 0.9830221216368056 and parameters: {'learning_rate': 0.08237179316845265, 'max_depth': 7, 'n_estimators': 655}. Best is trial 30 with value: 0.9830221216368056.\u001b[0m\n",
      "/tmp/ipykernel_1373733/14971935.py:7: FutureWarning: suggest_loguniform has been deprecated in v3.0.0. This feature will be removed in v6.0.0. See https://github.com/optuna/optuna/releases/tag/v3.0.0. Use :func:`~optuna.trial.Trial.suggest_float` instead.\n",
      "  'learning_rate':trial.suggest_loguniform('learning_rate',0.01,0.1),\n",
      "\u001b[32m[I 2023-04-26 15:53:29,314]\u001b[0m Trial 31 finished with value: 0.9824460628837152 and parameters: {'learning_rate': 0.08034317502189588, 'max_depth': 7, 'n_estimators': 658}. Best is trial 30 with value: 0.9830221216368056.\u001b[0m\n",
      "/tmp/ipykernel_1373733/14971935.py:7: FutureWarning: suggest_loguniform has been deprecated in v3.0.0. This feature will be removed in v6.0.0. See https://github.com/optuna/optuna/releases/tag/v3.0.0. Use :func:`~optuna.trial.Trial.suggest_float` instead.\n",
      "  'learning_rate':trial.suggest_loguniform('learning_rate',0.01,0.1),\n",
      "\u001b[32m[I 2023-04-26 15:53:30,823]\u001b[0m Trial 32 finished with value: 0.982493938452836 and parameters: {'learning_rate': 0.09892621099216616, 'max_depth': 7, 'n_estimators': 542}. Best is trial 30 with value: 0.9830221216368056.\u001b[0m\n",
      "/tmp/ipykernel_1373733/14971935.py:7: FutureWarning: suggest_loguniform has been deprecated in v3.0.0. This feature will be removed in v6.0.0. See https://github.com/optuna/optuna/releases/tag/v3.0.0. Use :func:`~optuna.trial.Trial.suggest_float` instead.\n",
      "  'learning_rate':trial.suggest_loguniform('learning_rate',0.01,0.1),\n",
      "\u001b[32m[I 2023-04-26 15:53:33,273]\u001b[0m Trial 33 finished with value: 0.982684361102861 and parameters: {'learning_rate': 0.06087404195630938, 'max_depth': 8, 'n_estimators': 757}. Best is trial 30 with value: 0.9830221216368056.\u001b[0m\n",
      "/tmp/ipykernel_1373733/14971935.py:7: FutureWarning: suggest_loguniform has been deprecated in v3.0.0. This feature will be removed in v6.0.0. See https://github.com/optuna/optuna/releases/tag/v3.0.0. Use :func:`~optuna.trial.Trial.suggest_float` instead.\n",
      "  'learning_rate':trial.suggest_loguniform('learning_rate',0.01,0.1),\n",
      "\u001b[32m[I 2023-04-26 15:53:34,137]\u001b[0m Trial 34 finished with value: 0.9801440795497399 and parameters: {'learning_rate': 0.07030524015145857, 'max_depth': 3, 'n_estimators': 804}. Best is trial 30 with value: 0.9830221216368056.\u001b[0m\n",
      "/tmp/ipykernel_1373733/14971935.py:7: FutureWarning: suggest_loguniform has been deprecated in v3.0.0. This feature will be removed in v6.0.0. See https://github.com/optuna/optuna/releases/tag/v3.0.0. Use :func:`~optuna.trial.Trial.suggest_float` instead.\n",
      "  'learning_rate':trial.suggest_loguniform('learning_rate',0.01,0.1),\n",
      "\u001b[32m[I 2023-04-26 15:53:35,937]\u001b[0m Trial 35 finished with value: 0.9823928270252278 and parameters: {'learning_rate': 0.057152728506213536, 'max_depth': 6, 'n_estimators': 756}. Best is trial 30 with value: 0.9830221216368056.\u001b[0m\n",
      "/tmp/ipykernel_1373733/14971935.py:7: FutureWarning: suggest_loguniform has been deprecated in v3.0.0. This feature will be removed in v6.0.0. See https://github.com/optuna/optuna/releases/tag/v3.0.0. Use :func:`~optuna.trial.Trial.suggest_float` instead.\n",
      "  'learning_rate':trial.suggest_loguniform('learning_rate',0.01,0.1),\n",
      "\u001b[32m[I 2023-04-26 15:53:38,448]\u001b[0m Trial 36 finished with value: 0.9823621240962807 and parameters: {'learning_rate': 0.08412012267481511, 'max_depth': 7, 'n_estimators': 851}. Best is trial 30 with value: 0.9830221216368056.\u001b[0m\n",
      "/tmp/ipykernel_1373733/14971935.py:7: FutureWarning: suggest_loguniform has been deprecated in v3.0.0. This feature will be removed in v6.0.0. See https://github.com/optuna/optuna/releases/tag/v3.0.0. Use :func:`~optuna.trial.Trial.suggest_float` instead.\n",
      "  'learning_rate':trial.suggest_loguniform('learning_rate',0.01,0.1),\n",
      "\u001b[32m[I 2023-04-26 15:53:40,509]\u001b[0m Trial 37 finished with value: 0.9823743493980267 and parameters: {'learning_rate': 0.07227378906183887, 'max_depth': 8, 'n_estimators': 639}. Best is trial 30 with value: 0.9830221216368056.\u001b[0m\n",
      "/tmp/ipykernel_1373733/14971935.py:7: FutureWarning: suggest_loguniform has been deprecated in v3.0.0. This feature will be removed in v6.0.0. See https://github.com/optuna/optuna/releases/tag/v3.0.0. Use :func:`~optuna.trial.Trial.suggest_float` instead.\n",
      "  'learning_rate':trial.suggest_loguniform('learning_rate',0.01,0.1),\n",
      "\u001b[32m[I 2023-04-26 15:53:44,223]\u001b[0m Trial 38 finished with value: 0.9822559418498168 and parameters: {'learning_rate': 0.060919662182973004, 'max_depth': 9, 'n_estimators': 998}. Best is trial 30 with value: 0.9830221216368056.\u001b[0m\n",
      "/tmp/ipykernel_1373733/14971935.py:7: FutureWarning: suggest_loguniform has been deprecated in v3.0.0. This feature will be removed in v6.0.0. See https://github.com/optuna/optuna/releases/tag/v3.0.0. Use :func:`~optuna.trial.Trial.suggest_float` instead.\n",
      "  'learning_rate':trial.suggest_loguniform('learning_rate',0.01,0.1),\n",
      "\u001b[32m[I 2023-04-26 15:53:45,678]\u001b[0m Trial 39 finished with value: 0.9826078824629821 and parameters: {'learning_rate': 0.08561163012235333, 'max_depth': 5, 'n_estimators': 739}. Best is trial 30 with value: 0.9830221216368056.\u001b[0m\n",
      "/tmp/ipykernel_1373733/14971935.py:7: FutureWarning: suggest_loguniform has been deprecated in v3.0.0. This feature will be removed in v6.0.0. See https://github.com/optuna/optuna/releases/tag/v3.0.0. Use :func:`~optuna.trial.Trial.suggest_float` instead.\n",
      "  'learning_rate':trial.suggest_loguniform('learning_rate',0.01,0.1),\n",
      "\u001b[32m[I 2023-04-26 15:53:47,134]\u001b[0m Trial 40 finished with value: 0.9822355377849116 and parameters: {'learning_rate': 0.07420744102765536, 'max_depth': 7, 'n_estimators': 487}. Best is trial 30 with value: 0.9830221216368056.\u001b[0m\n",
      "/tmp/ipykernel_1373733/14971935.py:7: FutureWarning: suggest_loguniform has been deprecated in v3.0.0. This feature will be removed in v6.0.0. See https://github.com/optuna/optuna/releases/tag/v3.0.0. Use :func:`~optuna.trial.Trial.suggest_float` instead.\n",
      "  'learning_rate':trial.suggest_loguniform('learning_rate',0.01,0.1),\n",
      "\u001b[32m[I 2023-04-26 15:53:48,618]\u001b[0m Trial 41 finished with value: 0.9824072135799176 and parameters: {'learning_rate': 0.08866540550202781, 'max_depth': 5, 'n_estimators': 758}. Best is trial 30 with value: 0.9830221216368056.\u001b[0m\n",
      "/tmp/ipykernel_1373733/14971935.py:7: FutureWarning: suggest_loguniform has been deprecated in v3.0.0. This feature will be removed in v6.0.0. See https://github.com/optuna/optuna/releases/tag/v3.0.0. Use :func:`~optuna.trial.Trial.suggest_float` instead.\n",
      "  'learning_rate':trial.suggest_loguniform('learning_rate',0.01,0.1),\n",
      "\u001b[32m[I 2023-04-26 15:53:50,258]\u001b[0m Trial 42 finished with value: 0.9823788999796707 and parameters: {'learning_rate': 0.07981703335517788, 'max_depth': 5, 'n_estimators': 734}. Best is trial 30 with value: 0.9830221216368056.\u001b[0m\n",
      "/tmp/ipykernel_1373733/14971935.py:7: FutureWarning: suggest_loguniform has been deprecated in v3.0.0. This feature will be removed in v6.0.0. See https://github.com/optuna/optuna/releases/tag/v3.0.0. Use :func:`~optuna.trial.Trial.suggest_float` instead.\n",
      "  'learning_rate':trial.suggest_loguniform('learning_rate',0.01,0.1),\n",
      "\u001b[32m[I 2023-04-26 15:53:51,505]\u001b[0m Trial 43 finished with value: 0.9813764172363968 and parameters: {'learning_rate': 0.09005609449108858, 'max_depth': 4, 'n_estimators': 878}. Best is trial 30 with value: 0.9830221216368056.\u001b[0m\n",
      "/tmp/ipykernel_1373733/14971935.py:7: FutureWarning: suggest_loguniform has been deprecated in v3.0.0. This feature will be removed in v6.0.0. See https://github.com/optuna/optuna/releases/tag/v3.0.0. Use :func:`~optuna.trial.Trial.suggest_float` instead.\n",
      "  'learning_rate':trial.suggest_loguniform('learning_rate',0.01,0.1),\n",
      "\u001b[32m[I 2023-04-26 15:53:53,364]\u001b[0m Trial 44 finished with value: 0.9820938996009261 and parameters: {'learning_rate': 0.072514716411161, 'max_depth': 6, 'n_estimators': 718}. Best is trial 30 with value: 0.9830221216368056.\u001b[0m\n",
      "/tmp/ipykernel_1373733/14971935.py:7: FutureWarning: suggest_loguniform has been deprecated in v3.0.0. This feature will be removed in v6.0.0. See https://github.com/optuna/optuna/releases/tag/v3.0.0. Use :func:`~optuna.trial.Trial.suggest_float` instead.\n",
      "  'learning_rate':trial.suggest_loguniform('learning_rate',0.01,0.1),\n",
      "\u001b[32m[I 2023-04-26 15:53:55,004]\u001b[0m Trial 45 finished with value: 0.9826573484411025 and parameters: {'learning_rate': 0.06620270065193506, 'max_depth': 6, 'n_estimators': 571}. Best is trial 30 with value: 0.9830221216368056.\u001b[0m\n",
      "/tmp/ipykernel_1373733/14971935.py:7: FutureWarning: suggest_loguniform has been deprecated in v3.0.0. This feature will be removed in v6.0.0. See https://github.com/optuna/optuna/releases/tag/v3.0.0. Use :func:`~optuna.trial.Trial.suggest_float` instead.\n",
      "  'learning_rate':trial.suggest_loguniform('learning_rate',0.01,0.1),\n",
      "\u001b[32m[I 2023-04-26 15:53:56,631]\u001b[0m Trial 46 finished with value: 0.9825560932903734 and parameters: {'learning_rate': 0.06605014944062479, 'max_depth': 6, 'n_estimators': 573}. Best is trial 30 with value: 0.9830221216368056.\u001b[0m\n",
      "/tmp/ipykernel_1373733/14971935.py:7: FutureWarning: suggest_loguniform has been deprecated in v3.0.0. This feature will be removed in v6.0.0. See https://github.com/optuna/optuna/releases/tag/v3.0.0. Use :func:`~optuna.trial.Trial.suggest_float` instead.\n",
      "  'learning_rate':trial.suggest_loguniform('learning_rate',0.01,0.1),\n",
      "\u001b[32m[I 2023-04-26 15:53:58,682]\u001b[0m Trial 47 finished with value: 0.9823131331547719 and parameters: {'learning_rate': 0.050195807123037096, 'max_depth': 7, 'n_estimators': 627}. Best is trial 30 with value: 0.9830221216368056.\u001b[0m\n",
      "/tmp/ipykernel_1373733/14971935.py:7: FutureWarning: suggest_loguniform has been deprecated in v3.0.0. This feature will be removed in v6.0.0. See https://github.com/optuna/optuna/releases/tag/v3.0.0. Use :func:`~optuna.trial.Trial.suggest_float` instead.\n",
      "  'learning_rate':trial.suggest_loguniform('learning_rate',0.01,0.1),\n",
      "\u001b[32m[I 2023-04-26 15:54:01,002]\u001b[0m Trial 48 finished with value: 0.9824971273679122 and parameters: {'learning_rate': 0.057986810532676424, 'max_depth': 9, 'n_estimators': 670}. Best is trial 30 with value: 0.9830221216368056.\u001b[0m\n",
      "/tmp/ipykernel_1373733/14971935.py:7: FutureWarning: suggest_loguniform has been deprecated in v3.0.0. This feature will be removed in v6.0.0. See https://github.com/optuna/optuna/releases/tag/v3.0.0. Use :func:`~optuna.trial.Trial.suggest_float` instead.\n",
      "  'learning_rate':trial.suggest_loguniform('learning_rate',0.01,0.1),\n",
      "\u001b[32m[I 2023-04-26 15:54:03,003]\u001b[0m Trial 49 finished with value: 0.9822587846148416 and parameters: {'learning_rate': 0.061181803526417736, 'max_depth': 8, 'n_estimators': 561}. Best is trial 30 with value: 0.9830221216368056.\u001b[0m\n"
     ]
    },
    {
     "name": "stdout",
     "output_type": "stream",
     "text": [
      "Best hyperparameters: {'learning_rate': 0.08237179316845265, 'max_depth': 7, 'n_estimators': 655}\n",
      "Best AUC: 0.9830\n"
     ]
    }
   ],
   "source": [
    "def objective(trial):\n",
    "    # Define hyperparameters to optimize \n",
    "    params={\n",
    "        'boosting_type':'gbdt',\n",
    "        'objective':'binary',\n",
    "        'metric':'binary_logloss',\n",
    "        'learning_rate':trial.suggest_loguniform('learning_rate',0.01,0.1),\n",
    "        'max_depth':trial.suggest_int('max_depth',3,9),\n",
    "        'n_estimators':trial.suggest_int(\"n_estimators\",100,1000)\n",
    "    }\n",
    "    # Train and evaluate model \n",
    "    lgb_cv=lgb.LGBMClassifier(**params, random_state=42,scale_pos_weight=ratio)\n",
    "    scores=cross_val_score(lgb_cv,new_train_X,train_y,cv=5,scoring='roc_auc')\n",
    "    auc=scores.mean()\n",
    "    return auc \n",
    "\n",
    "# Define study object and optimize \n",
    "\n",
    "study=optuna.create_study(direction='maximize',study_name='lgb_boost_opt',load_if_exists=True)\n",
    "study.optimize(objective, n_trials=50)\n",
    "\n",
    "# Print best hyperparameters and auc\n",
    "print(f'Best hyperparameters: {study.best_params}')\n",
    "print(f'Best AUC: {study.best_value:.4f}')"
   ]
  },
  {
   "cell_type": "code",
   "execution_count": 15,
   "metadata": {},
   "outputs": [],
   "source": [
    "lgb=lgb.LGBMClassifier(learning_rate= 0.08237179316845265,max_depth= 7,n_estimators=655,scale_pos_weight=ratio,random_state=42)"
   ]
  },
  {
   "cell_type": "code",
   "execution_count": 16,
   "metadata": {},
   "outputs": [
    {
     "data": {
      "text/html": [
       "<style>#sk-container-id-1 {color: black;background-color: white;}#sk-container-id-1 pre{padding: 0;}#sk-container-id-1 div.sk-toggleable {background-color: white;}#sk-container-id-1 label.sk-toggleable__label {cursor: pointer;display: block;width: 100%;margin-bottom: 0;padding: 0.3em;box-sizing: border-box;text-align: center;}#sk-container-id-1 label.sk-toggleable__label-arrow:before {content: \"▸\";float: left;margin-right: 0.25em;color: #696969;}#sk-container-id-1 label.sk-toggleable__label-arrow:hover:before {color: black;}#sk-container-id-1 div.sk-estimator:hover label.sk-toggleable__label-arrow:before {color: black;}#sk-container-id-1 div.sk-toggleable__content {max-height: 0;max-width: 0;overflow: hidden;text-align: left;background-color: #f0f8ff;}#sk-container-id-1 div.sk-toggleable__content pre {margin: 0.2em;color: black;border-radius: 0.25em;background-color: #f0f8ff;}#sk-container-id-1 input.sk-toggleable__control:checked~div.sk-toggleable__content {max-height: 200px;max-width: 100%;overflow: auto;}#sk-container-id-1 input.sk-toggleable__control:checked~label.sk-toggleable__label-arrow:before {content: \"▾\";}#sk-container-id-1 div.sk-estimator input.sk-toggleable__control:checked~label.sk-toggleable__label {background-color: #d4ebff;}#sk-container-id-1 div.sk-label input.sk-toggleable__control:checked~label.sk-toggleable__label {background-color: #d4ebff;}#sk-container-id-1 input.sk-hidden--visually {border: 0;clip: rect(1px 1px 1px 1px);clip: rect(1px, 1px, 1px, 1px);height: 1px;margin: -1px;overflow: hidden;padding: 0;position: absolute;width: 1px;}#sk-container-id-1 div.sk-estimator {font-family: monospace;background-color: #f0f8ff;border: 1px dotted black;border-radius: 0.25em;box-sizing: border-box;margin-bottom: 0.5em;}#sk-container-id-1 div.sk-estimator:hover {background-color: #d4ebff;}#sk-container-id-1 div.sk-parallel-item::after {content: \"\";width: 100%;border-bottom: 1px solid gray;flex-grow: 1;}#sk-container-id-1 div.sk-label:hover label.sk-toggleable__label {background-color: #d4ebff;}#sk-container-id-1 div.sk-serial::before {content: \"\";position: absolute;border-left: 1px solid gray;box-sizing: border-box;top: 0;bottom: 0;left: 50%;z-index: 0;}#sk-container-id-1 div.sk-serial {display: flex;flex-direction: column;align-items: center;background-color: white;padding-right: 0.2em;padding-left: 0.2em;position: relative;}#sk-container-id-1 div.sk-item {position: relative;z-index: 1;}#sk-container-id-1 div.sk-parallel {display: flex;align-items: stretch;justify-content: center;background-color: white;position: relative;}#sk-container-id-1 div.sk-item::before, #sk-container-id-1 div.sk-parallel-item::before {content: \"\";position: absolute;border-left: 1px solid gray;box-sizing: border-box;top: 0;bottom: 0;left: 50%;z-index: -1;}#sk-container-id-1 div.sk-parallel-item {display: flex;flex-direction: column;z-index: 1;position: relative;background-color: white;}#sk-container-id-1 div.sk-parallel-item:first-child::after {align-self: flex-end;width: 50%;}#sk-container-id-1 div.sk-parallel-item:last-child::after {align-self: flex-start;width: 50%;}#sk-container-id-1 div.sk-parallel-item:only-child::after {width: 0;}#sk-container-id-1 div.sk-dashed-wrapped {border: 1px dashed gray;margin: 0 0.4em 0.5em 0.4em;box-sizing: border-box;padding-bottom: 0.4em;background-color: white;}#sk-container-id-1 div.sk-label label {font-family: monospace;font-weight: bold;display: inline-block;line-height: 1.2em;}#sk-container-id-1 div.sk-label-container {text-align: center;}#sk-container-id-1 div.sk-container {/* jupyter's `normalize.less` sets `[hidden] { display: none; }` but bootstrap.min.css set `[hidden] { display: none !important; }` so we also need the `!important` here to be able to override the default hidden behavior on the sphinx rendered scikit-learn.org. See: https://github.com/scikit-learn/scikit-learn/issues/21755 */display: inline-block !important;position: relative;}#sk-container-id-1 div.sk-text-repr-fallback {display: none;}</style><div id=\"sk-container-id-1\" class=\"sk-top-container\"><div class=\"sk-text-repr-fallback\"><pre>LGBMClassifier(learning_rate=0.08237179316845265, max_depth=7, n_estimators=655,\n",
       "               random_state=42, scale_pos_weight=1.5879043600562588)</pre><b>In a Jupyter environment, please rerun this cell to show the HTML representation or trust the notebook. <br />On GitHub, the HTML representation is unable to render, please try loading this page with nbviewer.org.</b></div><div class=\"sk-container\" hidden><div class=\"sk-item\"><div class=\"sk-estimator sk-toggleable\"><input class=\"sk-toggleable__control sk-hidden--visually\" id=\"sk-estimator-id-1\" type=\"checkbox\" checked><label for=\"sk-estimator-id-1\" class=\"sk-toggleable__label sk-toggleable__label-arrow\">LGBMClassifier</label><div class=\"sk-toggleable__content\"><pre>LGBMClassifier(learning_rate=0.08237179316845265, max_depth=7, n_estimators=655,\n",
       "               random_state=42, scale_pos_weight=1.5879043600562588)</pre></div></div></div></div></div>"
      ],
      "text/plain": [
       "LGBMClassifier(learning_rate=0.08237179316845265, max_depth=7, n_estimators=655,\n",
       "               random_state=42, scale_pos_weight=1.5879043600562588)"
      ]
     },
     "execution_count": 16,
     "metadata": {},
     "output_type": "execute_result"
    }
   ],
   "source": [
    "lgb.fit(new_train_X,train_y)"
   ]
  },
  {
   "cell_type": "code",
   "execution_count": 17,
   "metadata": {},
   "outputs": [],
   "source": [
    "train_prob=pd.DataFrame()\n",
    "train_prob['prob']=lgb.predict_proba(new_train_X)[:,1]"
   ]
  },
  {
   "cell_type": "code",
   "execution_count": 18,
   "metadata": {},
   "outputs": [],
   "source": [
    "train_prob['1_prob']=1-train_prob['prob']\n",
    "train_prob['odds']=train_prob['prob']/train_prob['1_prob']"
   ]
  },
  {
   "cell_type": "code",
   "execution_count": 19,
   "metadata": {},
   "outputs": [],
   "source": [
    "train_prob['loogits']=np.log(train_prob['odds'])\n",
    "train_X_new=new_train_X[test_stage_features]"
   ]
  },
  {
   "cell_type": "code",
   "execution_count": 20,
   "metadata": {},
   "outputs": [
    {
     "name": "stderr",
     "output_type": "stream",
     "text": [
      "\u001b[32m[I 2023-04-26 15:56:52,366]\u001b[0m A new study created in memory with name: no-name-66803dc7-7155-4b04-ac87-22caab6ad936\u001b[0m\n",
      "/tmp/ipykernel_1373733/4075368247.py:11: FutureWarning: suggest_loguniform has been deprecated in v3.0.0. This feature will be removed in v6.0.0. See https://github.com/optuna/optuna/releases/tag/v3.0.0. Use :func:`~optuna.trial.Trial.suggest_float` instead.\n",
      "  'learning_rate': trial.suggest_loguniform('learning_rate',0.01,0.1),\n",
      "\u001b[32m[I 2023-04-26 15:56:53,853]\u001b[0m Trial 0 finished with value: 29.864091175456462 and parameters: {'n_estimators': 451, 'max_depth': 9, 'learning_rate': 0.010908242189178848}. Best is trial 0 with value: 29.864091175456462.\u001b[0m\n",
      "/tmp/ipykernel_1373733/4075368247.py:11: FutureWarning: suggest_loguniform has been deprecated in v3.0.0. This feature will be removed in v6.0.0. See https://github.com/optuna/optuna/releases/tag/v3.0.0. Use :func:`~optuna.trial.Trial.suggest_float` instead.\n",
      "  'learning_rate': trial.suggest_loguniform('learning_rate',0.01,0.1),\n",
      "\u001b[32m[I 2023-04-26 15:56:56,273]\u001b[0m Trial 1 finished with value: 27.88427908930766 and parameters: {'n_estimators': 966, 'max_depth': 7, 'learning_rate': 0.017665682775992717}. Best is trial 1 with value: 27.88427908930766.\u001b[0m\n",
      "/tmp/ipykernel_1373733/4075368247.py:11: FutureWarning: suggest_loguniform has been deprecated in v3.0.0. This feature will be removed in v6.0.0. See https://github.com/optuna/optuna/releases/tag/v3.0.0. Use :func:`~optuna.trial.Trial.suggest_float` instead.\n",
      "  'learning_rate': trial.suggest_loguniform('learning_rate',0.01,0.1),\n",
      "\u001b[32m[I 2023-04-26 15:56:57,483]\u001b[0m Trial 2 finished with value: 27.550361498492673 and parameters: {'n_estimators': 401, 'max_depth': 9, 'learning_rate': 0.03928349847996277}. Best is trial 2 with value: 27.550361498492673.\u001b[0m\n",
      "/tmp/ipykernel_1373733/4075368247.py:11: FutureWarning: suggest_loguniform has been deprecated in v3.0.0. This feature will be removed in v6.0.0. See https://github.com/optuna/optuna/releases/tag/v3.0.0. Use :func:`~optuna.trial.Trial.suggest_float` instead.\n",
      "  'learning_rate': trial.suggest_loguniform('learning_rate',0.01,0.1),\n",
      "\u001b[32m[I 2023-04-26 15:56:58,838]\u001b[0m Trial 3 finished with value: 30.753573522149782 and parameters: {'n_estimators': 989, 'max_depth': 4, 'learning_rate': 0.012411146300252819}. Best is trial 2 with value: 27.550361498492673.\u001b[0m\n",
      "/tmp/ipykernel_1373733/4075368247.py:11: FutureWarning: suggest_loguniform has been deprecated in v3.0.0. This feature will be removed in v6.0.0. See https://github.com/optuna/optuna/releases/tag/v3.0.0. Use :func:`~optuna.trial.Trial.suggest_float` instead.\n",
      "  'learning_rate': trial.suggest_loguniform('learning_rate',0.01,0.1),\n",
      "\u001b[32m[I 2023-04-26 15:57:00,651]\u001b[0m Trial 4 finished with value: 27.808869119571067 and parameters: {'n_estimators': 896, 'max_depth': 7, 'learning_rate': 0.058833683725146406}. Best is trial 2 with value: 27.550361498492673.\u001b[0m\n",
      "/tmp/ipykernel_1373733/4075368247.py:11: FutureWarning: suggest_loguniform has been deprecated in v3.0.0. This feature will be removed in v6.0.0. See https://github.com/optuna/optuna/releases/tag/v3.0.0. Use :func:`~optuna.trial.Trial.suggest_float` instead.\n",
      "  'learning_rate': trial.suggest_loguniform('learning_rate',0.01,0.1),\n",
      "\u001b[32m[I 2023-04-26 15:57:01,138]\u001b[0m Trial 5 finished with value: 29.1477377823401 and parameters: {'n_estimators': 390, 'max_depth': 4, 'learning_rate': 0.055816067129601264}. Best is trial 2 with value: 27.550361498492673.\u001b[0m\n",
      "/tmp/ipykernel_1373733/4075368247.py:11: FutureWarning: suggest_loguniform has been deprecated in v3.0.0. This feature will be removed in v6.0.0. See https://github.com/optuna/optuna/releases/tag/v3.0.0. Use :func:`~optuna.trial.Trial.suggest_float` instead.\n",
      "  'learning_rate': trial.suggest_loguniform('learning_rate',0.01,0.1),\n",
      "\u001b[32m[I 2023-04-26 15:57:02,609]\u001b[0m Trial 6 finished with value: 28.12383570753167 and parameters: {'n_estimators': 521, 'max_depth': 8, 'learning_rate': 0.023936209422026032}. Best is trial 2 with value: 27.550361498492673.\u001b[0m\n",
      "/tmp/ipykernel_1373733/4075368247.py:11: FutureWarning: suggest_loguniform has been deprecated in v3.0.0. This feature will be removed in v6.0.0. See https://github.com/optuna/optuna/releases/tag/v3.0.0. Use :func:`~optuna.trial.Trial.suggest_float` instead.\n",
      "  'learning_rate': trial.suggest_loguniform('learning_rate',0.01,0.1),\n",
      "\u001b[32m[I 2023-04-26 15:57:03,589]\u001b[0m Trial 7 finished with value: 27.899275068868217 and parameters: {'n_estimators': 498, 'max_depth': 5, 'learning_rate': 0.0725286569819846}. Best is trial 2 with value: 27.550361498492673.\u001b[0m\n",
      "/tmp/ipykernel_1373733/4075368247.py:11: FutureWarning: suggest_loguniform has been deprecated in v3.0.0. This feature will be removed in v6.0.0. See https://github.com/optuna/optuna/releases/tag/v3.0.0. Use :func:`~optuna.trial.Trial.suggest_float` instead.\n",
      "  'learning_rate': trial.suggest_loguniform('learning_rate',0.01,0.1),\n",
      "\u001b[32m[I 2023-04-26 15:57:05,213]\u001b[0m Trial 8 finished with value: 27.870539243253415 and parameters: {'n_estimators': 713, 'max_depth': 7, 'learning_rate': 0.02534247074523821}. Best is trial 2 with value: 27.550361498492673.\u001b[0m\n",
      "/tmp/ipykernel_1373733/4075368247.py:11: FutureWarning: suggest_loguniform has been deprecated in v3.0.0. This feature will be removed in v6.0.0. See https://github.com/optuna/optuna/releases/tag/v3.0.0. Use :func:`~optuna.trial.Trial.suggest_float` instead.\n",
      "  'learning_rate': trial.suggest_loguniform('learning_rate',0.01,0.1),\n",
      "\u001b[32m[I 2023-04-26 15:57:05,944]\u001b[0m Trial 9 finished with value: 29.249244828876993 and parameters: {'n_estimators': 843, 'max_depth': 3, 'learning_rate': 0.0522569512696405}. Best is trial 2 with value: 27.550361498492673.\u001b[0m\n",
      "/tmp/ipykernel_1373733/4075368247.py:11: FutureWarning: suggest_loguniform has been deprecated in v3.0.0. This feature will be removed in v6.0.0. See https://github.com/optuna/optuna/releases/tag/v3.0.0. Use :func:`~optuna.trial.Trial.suggest_float` instead.\n",
      "  'learning_rate': trial.suggest_loguniform('learning_rate',0.01,0.1),\n",
      "\u001b[32m[I 2023-04-26 15:57:06,466]\u001b[0m Trial 10 finished with value: 29.712652935487124 and parameters: {'n_estimators': 132, 'max_depth': 9, 'learning_rate': 0.03830325940586629}. Best is trial 2 with value: 27.550361498492673.\u001b[0m\n",
      "/tmp/ipykernel_1373733/4075368247.py:11: FutureWarning: suggest_loguniform has been deprecated in v3.0.0. This feature will be removed in v6.0.0. See https://github.com/optuna/optuna/releases/tag/v3.0.0. Use :func:`~optuna.trial.Trial.suggest_float` instead.\n",
      "  'learning_rate': trial.suggest_loguniform('learning_rate',0.01,0.1),\n",
      "\u001b[32m[I 2023-04-26 15:57:07,162]\u001b[0m Trial 11 finished with value: 29.075471551659586 and parameters: {'n_estimators': 228, 'max_depth': 7, 'learning_rate': 0.03925586055641113}. Best is trial 2 with value: 27.550361498492673.\u001b[0m\n",
      "/tmp/ipykernel_1373733/4075368247.py:11: FutureWarning: suggest_loguniform has been deprecated in v3.0.0. This feature will be removed in v6.0.0. See https://github.com/optuna/optuna/releases/tag/v3.0.0. Use :func:`~optuna.trial.Trial.suggest_float` instead.\n",
      "  'learning_rate': trial.suggest_loguniform('learning_rate',0.01,0.1),\n",
      "\u001b[32m[I 2023-04-26 15:57:08,411]\u001b[0m Trial 12 finished with value: 27.973459911255826 and parameters: {'n_estimators': 679, 'max_depth': 6, 'learning_rate': 0.09027650927415068}. Best is trial 2 with value: 27.550361498492673.\u001b[0m\n",
      "/tmp/ipykernel_1373733/4075368247.py:11: FutureWarning: suggest_loguniform has been deprecated in v3.0.0. This feature will be removed in v6.0.0. See https://github.com/optuna/optuna/releases/tag/v3.0.0. Use :func:`~optuna.trial.Trial.suggest_float` instead.\n",
      "  'learning_rate': trial.suggest_loguniform('learning_rate',0.01,0.1),\n",
      "\u001b[32m[I 2023-04-26 15:57:09,196]\u001b[0m Trial 13 finished with value: 27.636314540265182 and parameters: {'n_estimators': 324, 'max_depth': 8, 'learning_rate': 0.09774245389530277}. Best is trial 2 with value: 27.550361498492673.\u001b[0m\n",
      "/tmp/ipykernel_1373733/4075368247.py:11: FutureWarning: suggest_loguniform has been deprecated in v3.0.0. This feature will be removed in v6.0.0. See https://github.com/optuna/optuna/releases/tag/v3.0.0. Use :func:`~optuna.trial.Trial.suggest_float` instead.\n",
      "  'learning_rate': trial.suggest_loguniform('learning_rate',0.01,0.1),\n",
      "\u001b[32m[I 2023-04-26 15:57:10,052]\u001b[0m Trial 14 finished with value: 27.557347580617254 and parameters: {'n_estimators': 308, 'max_depth': 9, 'learning_rate': 0.09612600397821545}. Best is trial 2 with value: 27.550361498492673.\u001b[0m\n",
      "/tmp/ipykernel_1373733/4075368247.py:11: FutureWarning: suggest_loguniform has been deprecated in v3.0.0. This feature will be removed in v6.0.0. See https://github.com/optuna/optuna/releases/tag/v3.0.0. Use :func:`~optuna.trial.Trial.suggest_float` instead.\n",
      "  'learning_rate': trial.suggest_loguniform('learning_rate',0.01,0.1),\n",
      "\u001b[32m[I 2023-04-26 15:57:11,056]\u001b[0m Trial 15 finished with value: 27.737593477133704 and parameters: {'n_estimators': 283, 'max_depth': 9, 'learning_rate': 0.07241508893120767}. Best is trial 2 with value: 27.550361498492673.\u001b[0m\n",
      "/tmp/ipykernel_1373733/4075368247.py:11: FutureWarning: suggest_loguniform has been deprecated in v3.0.0. This feature will be removed in v6.0.0. See https://github.com/optuna/optuna/releases/tag/v3.0.0. Use :func:`~optuna.trial.Trial.suggest_float` instead.\n",
      "  'learning_rate': trial.suggest_loguniform('learning_rate',0.01,0.1),\n",
      "\u001b[32m[I 2023-04-26 15:57:11,409]\u001b[0m Trial 16 finished with value: 30.317875034150404 and parameters: {'n_estimators': 108, 'max_depth': 8, 'learning_rate': 0.04137922137284111}. Best is trial 2 with value: 27.550361498492673.\u001b[0m\n",
      "/tmp/ipykernel_1373733/4075368247.py:11: FutureWarning: suggest_loguniform has been deprecated in v3.0.0. This feature will be removed in v6.0.0. See https://github.com/optuna/optuna/releases/tag/v3.0.0. Use :func:`~optuna.trial.Trial.suggest_float` instead.\n",
      "  'learning_rate': trial.suggest_loguniform('learning_rate',0.01,0.1),\n",
      "\u001b[32m[I 2023-04-26 15:57:13,286]\u001b[0m Trial 17 finished with value: 27.393757863084552 and parameters: {'n_estimators': 636, 'max_depth': 9, 'learning_rate': 0.030078644939576574}. Best is trial 17 with value: 27.393757863084552.\u001b[0m\n",
      "/tmp/ipykernel_1373733/4075368247.py:11: FutureWarning: suggest_loguniform has been deprecated in v3.0.0. This feature will be removed in v6.0.0. See https://github.com/optuna/optuna/releases/tag/v3.0.0. Use :func:`~optuna.trial.Trial.suggest_float` instead.\n",
      "  'learning_rate': trial.suggest_loguniform('learning_rate',0.01,0.1),\n",
      "\u001b[32m[I 2023-04-26 15:57:14,745]\u001b[0m Trial 18 finished with value: 27.93098957512013 and parameters: {'n_estimators': 637, 'max_depth': 6, 'learning_rate': 0.02943044704061605}. Best is trial 17 with value: 27.393757863084552.\u001b[0m\n",
      "/tmp/ipykernel_1373733/4075368247.py:11: FutureWarning: suggest_loguniform has been deprecated in v3.0.0. This feature will be removed in v6.0.0. See https://github.com/optuna/optuna/releases/tag/v3.0.0. Use :func:`~optuna.trial.Trial.suggest_float` instead.\n",
      "  'learning_rate': trial.suggest_loguniform('learning_rate',0.01,0.1),\n",
      "\u001b[32m[I 2023-04-26 15:57:16,448]\u001b[0m Trial 19 finished with value: 27.70865703446383 and parameters: {'n_estimators': 607, 'max_depth': 8, 'learning_rate': 0.03223598038883833}. Best is trial 17 with value: 27.393757863084552.\u001b[0m\n",
      "/tmp/ipykernel_1373733/4075368247.py:11: FutureWarning: suggest_loguniform has been deprecated in v3.0.0. This feature will be removed in v6.0.0. See https://github.com/optuna/optuna/releases/tag/v3.0.0. Use :func:`~optuna.trial.Trial.suggest_float` instead.\n",
      "  'learning_rate': trial.suggest_loguniform('learning_rate',0.01,0.1),\n",
      "\u001b[32m[I 2023-04-26 15:57:18,630]\u001b[0m Trial 20 finished with value: 27.81995791894112 and parameters: {'n_estimators': 720, 'max_depth': 9, 'learning_rate': 0.020156763245367307}. Best is trial 17 with value: 27.393757863084552.\u001b[0m\n",
      "/tmp/ipykernel_1373733/4075368247.py:11: FutureWarning: suggest_loguniform has been deprecated in v3.0.0. This feature will be removed in v6.0.0. See https://github.com/optuna/optuna/releases/tag/v3.0.0. Use :func:`~optuna.trial.Trial.suggest_float` instead.\n",
      "  'learning_rate': trial.suggest_loguniform('learning_rate',0.01,0.1),\n",
      "\u001b[32m[I 2023-04-26 15:57:19,736]\u001b[0m Trial 21 finished with value: 27.616896504552482 and parameters: {'n_estimators': 398, 'max_depth': 9, 'learning_rate': 0.047923717966240315}. Best is trial 17 with value: 27.393757863084552.\u001b[0m\n",
      "/tmp/ipykernel_1373733/4075368247.py:11: FutureWarning: suggest_loguniform has been deprecated in v3.0.0. This feature will be removed in v6.0.0. See https://github.com/optuna/optuna/releases/tag/v3.0.0. Use :func:`~optuna.trial.Trial.suggest_float` instead.\n",
      "  'learning_rate': trial.suggest_loguniform('learning_rate',0.01,0.1),\n",
      "\u001b[32m[I 2023-04-26 15:57:20,424]\u001b[0m Trial 22 finished with value: 28.89826115556425 and parameters: {'n_estimators': 232, 'max_depth': 8, 'learning_rate': 0.03366978908005594}. Best is trial 17 with value: 27.393757863084552.\u001b[0m\n",
      "/tmp/ipykernel_1373733/4075368247.py:11: FutureWarning: suggest_loguniform has been deprecated in v3.0.0. This feature will be removed in v6.0.0. See https://github.com/optuna/optuna/releases/tag/v3.0.0. Use :func:`~optuna.trial.Trial.suggest_float` instead.\n",
      "  'learning_rate': trial.suggest_loguniform('learning_rate',0.01,0.1),\n",
      "\u001b[32m[I 2023-04-26 15:57:22,121]\u001b[0m Trial 23 finished with value: 27.431205149537096 and parameters: {'n_estimators': 568, 'max_depth': 9, 'learning_rate': 0.04463122823416923}. Best is trial 17 with value: 27.393757863084552.\u001b[0m\n",
      "/tmp/ipykernel_1373733/4075368247.py:11: FutureWarning: suggest_loguniform has been deprecated in v3.0.0. This feature will be removed in v6.0.0. See https://github.com/optuna/optuna/releases/tag/v3.0.0. Use :func:`~optuna.trial.Trial.suggest_float` instead.\n",
      "  'learning_rate': trial.suggest_loguniform('learning_rate',0.01,0.1),\n",
      "\u001b[32m[I 2023-04-26 15:57:23,614]\u001b[0m Trial 24 finished with value: 27.711619735534043 and parameters: {'n_estimators': 583, 'max_depth': 8, 'learning_rate': 0.0432954592045103}. Best is trial 17 with value: 27.393757863084552.\u001b[0m\n",
      "/tmp/ipykernel_1373733/4075368247.py:11: FutureWarning: suggest_loguniform has been deprecated in v3.0.0. This feature will be removed in v6.0.0. See https://github.com/optuna/optuna/releases/tag/v3.0.0. Use :func:`~optuna.trial.Trial.suggest_float` instead.\n",
      "  'learning_rate': trial.suggest_loguniform('learning_rate',0.01,0.1),\n",
      "\u001b[32m[I 2023-04-26 15:57:25,683]\u001b[0m Trial 25 finished with value: 27.311949744526043 and parameters: {'n_estimators': 790, 'max_depth': 9, 'learning_rate': 0.034392642354376286}. Best is trial 25 with value: 27.311949744526043.\u001b[0m\n",
      "/tmp/ipykernel_1373733/4075368247.py:11: FutureWarning: suggest_loguniform has been deprecated in v3.0.0. This feature will be removed in v6.0.0. See https://github.com/optuna/optuna/releases/tag/v3.0.0. Use :func:`~optuna.trial.Trial.suggest_float` instead.\n",
      "  'learning_rate': trial.suggest_loguniform('learning_rate',0.01,0.1),\n",
      "\u001b[32m[I 2023-04-26 15:57:27,800]\u001b[0m Trial 26 finished with value: 27.748011583226855 and parameters: {'n_estimators': 791, 'max_depth': 8, 'learning_rate': 0.027647941459407552}. Best is trial 25 with value: 27.311949744526043.\u001b[0m\n",
      "/tmp/ipykernel_1373733/4075368247.py:11: FutureWarning: suggest_loguniform has been deprecated in v3.0.0. This feature will be removed in v6.0.0. See https://github.com/optuna/optuna/releases/tag/v3.0.0. Use :func:`~optuna.trial.Trial.suggest_float` instead.\n",
      "  'learning_rate': trial.suggest_loguniform('learning_rate',0.01,0.1),\n",
      "\u001b[32m[I 2023-04-26 15:57:29,641]\u001b[0m Trial 27 finished with value: 27.468152507472894 and parameters: {'n_estimators': 775, 'max_depth': 7, 'learning_rate': 0.033476025060871654}. Best is trial 25 with value: 27.311949744526043.\u001b[0m\n",
      "/tmp/ipykernel_1373733/4075368247.py:11: FutureWarning: suggest_loguniform has been deprecated in v3.0.0. This feature will be removed in v6.0.0. See https://github.com/optuna/optuna/releases/tag/v3.0.0. Use :func:`~optuna.trial.Trial.suggest_float` instead.\n",
      "  'learning_rate': trial.suggest_loguniform('learning_rate',0.01,0.1),\n",
      "\u001b[32m[I 2023-04-26 15:57:30,690]\u001b[0m Trial 28 finished with value: 28.287224176799903 and parameters: {'n_estimators': 551, 'max_depth': 5, 'learning_rate': 0.04660765413865268}. Best is trial 25 with value: 27.311949744526043.\u001b[0m\n",
      "/tmp/ipykernel_1373733/4075368247.py:11: FutureWarning: suggest_loguniform has been deprecated in v3.0.0. This feature will be removed in v6.0.0. See https://github.com/optuna/optuna/releases/tag/v3.0.0. Use :func:`~optuna.trial.Trial.suggest_float` instead.\n",
      "  'learning_rate': trial.suggest_loguniform('learning_rate',0.01,0.1),\n",
      "\u001b[32m[I 2023-04-26 15:57:33,183]\u001b[0m Trial 29 finished with value: 27.505030649609033 and parameters: {'n_estimators': 896, 'max_depth': 9, 'learning_rate': 0.03575334031189651}. Best is trial 25 with value: 27.311949744526043.\u001b[0m\n",
      "/tmp/ipykernel_1373733/4075368247.py:11: FutureWarning: suggest_loguniform has been deprecated in v3.0.0. This feature will be removed in v6.0.0. See https://github.com/optuna/optuna/releases/tag/v3.0.0. Use :func:`~optuna.trial.Trial.suggest_float` instead.\n",
      "  'learning_rate': trial.suggest_loguniform('learning_rate',0.01,0.1),\n",
      "\u001b[32m[I 2023-04-26 15:57:34,818]\u001b[0m Trial 30 finished with value: 27.859642594713527 and parameters: {'n_estimators': 469, 'max_depth': 9, 'learning_rate': 0.03166303581903589}. Best is trial 25 with value: 27.311949744526043.\u001b[0m\n",
      "/tmp/ipykernel_1373733/4075368247.py:11: FutureWarning: suggest_loguniform has been deprecated in v3.0.0. This feature will be removed in v6.0.0. See https://github.com/optuna/optuna/releases/tag/v3.0.0. Use :func:`~optuna.trial.Trial.suggest_float` instead.\n",
      "  'learning_rate': trial.suggest_loguniform('learning_rate',0.01,0.1),\n",
      "\u001b[32m[I 2023-04-26 15:57:36,668]\u001b[0m Trial 31 finished with value: 27.55345597455833 and parameters: {'n_estimators': 778, 'max_depth': 7, 'learning_rate': 0.03441677939865335}. Best is trial 25 with value: 27.311949744526043.\u001b[0m\n",
      "/tmp/ipykernel_1373733/4075368247.py:11: FutureWarning: suggest_loguniform has been deprecated in v3.0.0. This feature will be removed in v6.0.0. See https://github.com/optuna/optuna/releases/tag/v3.0.0. Use :func:`~optuna.trial.Trial.suggest_float` instead.\n",
      "  'learning_rate': trial.suggest_loguniform('learning_rate',0.01,0.1),\n",
      "\u001b[32m[I 2023-04-26 15:57:38,608]\u001b[0m Trial 32 finished with value: 27.622634371774513 and parameters: {'n_estimators': 776, 'max_depth': 8, 'learning_rate': 0.027810751678401628}. Best is trial 25 with value: 27.311949744526043.\u001b[0m\n",
      "/tmp/ipykernel_1373733/4075368247.py:11: FutureWarning: suggest_loguniform has been deprecated in v3.0.0. This feature will be removed in v6.0.0. See https://github.com/optuna/optuna/releases/tag/v3.0.0. Use :func:`~optuna.trial.Trial.suggest_float` instead.\n",
      "  'learning_rate': trial.suggest_loguniform('learning_rate',0.01,0.1),\n",
      "\u001b[32m[I 2023-04-26 15:57:40,423]\u001b[0m Trial 33 finished with value: 27.51217366591904 and parameters: {'n_estimators': 669, 'max_depth': 9, 'learning_rate': 0.03666162706262392}. Best is trial 25 with value: 27.311949744526043.\u001b[0m\n",
      "/tmp/ipykernel_1373733/4075368247.py:11: FutureWarning: suggest_loguniform has been deprecated in v3.0.0. This feature will be removed in v6.0.0. See https://github.com/optuna/optuna/releases/tag/v3.0.0. Use :func:`~optuna.trial.Trial.suggest_float` instead.\n",
      "  'learning_rate': trial.suggest_loguniform('learning_rate',0.01,0.1),\n",
      "\u001b[32m[I 2023-04-26 15:57:42,452]\u001b[0m Trial 34 finished with value: 27.657494138051923 and parameters: {'n_estimators': 877, 'max_depth': 7, 'learning_rate': 0.023983106272630724}. Best is trial 25 with value: 27.311949744526043.\u001b[0m\n",
      "/tmp/ipykernel_1373733/4075368247.py:11: FutureWarning: suggest_loguniform has been deprecated in v3.0.0. This feature will be removed in v6.0.0. See https://github.com/optuna/optuna/releases/tag/v3.0.0. Use :func:`~optuna.trial.Trial.suggest_float` instead.\n",
      "  'learning_rate': trial.suggest_loguniform('learning_rate',0.01,0.1),\n",
      "\u001b[32m[I 2023-04-26 15:57:44,109]\u001b[0m Trial 35 finished with value: 27.694400066350653 and parameters: {'n_estimators': 829, 'max_depth': 6, 'learning_rate': 0.04467000988976697}. Best is trial 25 with value: 27.311949744526043.\u001b[0m\n",
      "/tmp/ipykernel_1373733/4075368247.py:11: FutureWarning: suggest_loguniform has been deprecated in v3.0.0. This feature will be removed in v6.0.0. See https://github.com/optuna/optuna/releases/tag/v3.0.0. Use :func:`~optuna.trial.Trial.suggest_float` instead.\n",
      "  'learning_rate': trial.suggest_loguniform('learning_rate',0.01,0.1),\n",
      "\u001b[32m[I 2023-04-26 15:57:45,594]\u001b[0m Trial 36 finished with value: 28.59062121668773 and parameters: {'n_estimators': 941, 'max_depth': 5, 'learning_rate': 0.021111911831638314}. Best is trial 25 with value: 27.311949744526043.\u001b[0m\n",
      "/tmp/ipykernel_1373733/4075368247.py:11: FutureWarning: suggest_loguniform has been deprecated in v3.0.0. This feature will be removed in v6.0.0. See https://github.com/optuna/optuna/releases/tag/v3.0.0. Use :func:`~optuna.trial.Trial.suggest_float` instead.\n",
      "  'learning_rate': trial.suggest_loguniform('learning_rate',0.01,0.1),\n",
      "\u001b[32m[I 2023-04-26 15:57:47,730]\u001b[0m Trial 37 finished with value: 27.52607694939068 and parameters: {'n_estimators': 717, 'max_depth': 9, 'learning_rate': 0.029595591467570997}. Best is trial 25 with value: 27.311949744526043.\u001b[0m\n",
      "/tmp/ipykernel_1373733/4075368247.py:11: FutureWarning: suggest_loguniform has been deprecated in v3.0.0. This feature will be removed in v6.0.0. See https://github.com/optuna/optuna/releases/tag/v3.0.0. Use :func:`~optuna.trial.Trial.suggest_float` instead.\n",
      "  'learning_rate': trial.suggest_loguniform('learning_rate',0.01,0.1),\n",
      "\u001b[32m[I 2023-04-26 15:57:49,250]\u001b[0m Trial 38 finished with value: 28.93155984249924 and parameters: {'n_estimators': 572, 'max_depth': 7, 'learning_rate': 0.016403648820718254}. Best is trial 25 with value: 27.311949744526043.\u001b[0m\n",
      "/tmp/ipykernel_1373733/4075368247.py:11: FutureWarning: suggest_loguniform has been deprecated in v3.0.0. This feature will be removed in v6.0.0. See https://github.com/optuna/optuna/releases/tag/v3.0.0. Use :func:`~optuna.trial.Trial.suggest_float` instead.\n",
      "  'learning_rate': trial.suggest_loguniform('learning_rate',0.01,0.1),\n",
      "\u001b[32m[I 2023-04-26 15:57:50,794]\u001b[0m Trial 39 finished with value: 27.633730316348977 and parameters: {'n_estimators': 627, 'max_depth': 8, 'learning_rate': 0.03942282952615665}. Best is trial 25 with value: 27.311949744526043.\u001b[0m\n",
      "/tmp/ipykernel_1373733/4075368247.py:11: FutureWarning: suggest_loguniform has been deprecated in v3.0.0. This feature will be removed in v6.0.0. See https://github.com/optuna/optuna/releases/tag/v3.0.0. Use :func:`~optuna.trial.Trial.suggest_float` instead.\n",
      "  'learning_rate': trial.suggest_loguniform('learning_rate',0.01,0.1),\n",
      "\u001b[32m[I 2023-04-26 15:57:51,403]\u001b[0m Trial 40 finished with value: 28.685840141349168 and parameters: {'n_estimators': 516, 'max_depth': 4, 'learning_rate': 0.052176032798510026}. Best is trial 25 with value: 27.311949744526043.\u001b[0m\n",
      "/tmp/ipykernel_1373733/4075368247.py:11: FutureWarning: suggest_loguniform has been deprecated in v3.0.0. This feature will be removed in v6.0.0. See https://github.com/optuna/optuna/releases/tag/v3.0.0. Use :func:`~optuna.trial.Trial.suggest_float` instead.\n",
      "  'learning_rate': trial.suggest_loguniform('learning_rate',0.01,0.1),\n",
      "\u001b[32m[I 2023-04-26 15:57:53,857]\u001b[0m Trial 41 finished with value: 27.599013505983244 and parameters: {'n_estimators': 931, 'max_depth': 9, 'learning_rate': 0.03521141947837733}. Best is trial 25 with value: 27.311949744526043.\u001b[0m\n",
      "/tmp/ipykernel_1373733/4075368247.py:11: FutureWarning: suggest_loguniform has been deprecated in v3.0.0. This feature will be removed in v6.0.0. See https://github.com/optuna/optuna/releases/tag/v3.0.0. Use :func:`~optuna.trial.Trial.suggest_float` instead.\n",
      "  'learning_rate': trial.suggest_loguniform('learning_rate',0.01,0.1),\n",
      "\u001b[32m[I 2023-04-26 15:57:56,438]\u001b[0m Trial 42 finished with value: 27.525054630210537 and parameters: {'n_estimators': 999, 'max_depth': 9, 'learning_rate': 0.03167734567205415}. Best is trial 25 with value: 27.311949744526043.\u001b[0m\n",
      "/tmp/ipykernel_1373733/4075368247.py:11: FutureWarning: suggest_loguniform has been deprecated in v3.0.0. This feature will be removed in v6.0.0. See https://github.com/optuna/optuna/releases/tag/v3.0.0. Use :func:`~optuna.trial.Trial.suggest_float` instead.\n",
      "  'learning_rate': trial.suggest_loguniform('learning_rate',0.01,0.1),\n",
      "\u001b[32m[I 2023-04-26 15:57:58,892]\u001b[0m Trial 43 finished with value: 27.563448285393427 and parameters: {'n_estimators': 861, 'max_depth': 9, 'learning_rate': 0.036316552113216494}. Best is trial 25 with value: 27.311949744526043.\u001b[0m\n",
      "/tmp/ipykernel_1373733/4075368247.py:11: FutureWarning: suggest_loguniform has been deprecated in v3.0.0. This feature will be removed in v6.0.0. See https://github.com/optuna/optuna/releases/tag/v3.0.0. Use :func:`~optuna.trial.Trial.suggest_float` instead.\n",
      "  'learning_rate': trial.suggest_loguniform('learning_rate',0.01,0.1),\n",
      "\u001b[32m[I 2023-04-26 15:58:00,911]\u001b[0m Trial 44 finished with value: 27.690231593617312 and parameters: {'n_estimators': 751, 'max_depth': 8, 'learning_rate': 0.026395085909985194}. Best is trial 25 with value: 27.311949744526043.\u001b[0m\n",
      "/tmp/ipykernel_1373733/4075368247.py:11: FutureWarning: suggest_loguniform has been deprecated in v3.0.0. This feature will be removed in v6.0.0. See https://github.com/optuna/optuna/releases/tag/v3.0.0. Use :func:`~optuna.trial.Trial.suggest_float` instead.\n",
      "  'learning_rate': trial.suggest_loguniform('learning_rate',0.01,0.1),\n",
      "\u001b[32m[I 2023-04-26 15:58:03,136]\u001b[0m Trial 45 finished with value: 27.633226411201036 and parameters: {'n_estimators': 831, 'max_depth': 9, 'learning_rate': 0.04165006057521582}. Best is trial 25 with value: 27.311949744526043.\u001b[0m\n",
      "/tmp/ipykernel_1373733/4075368247.py:11: FutureWarning: suggest_loguniform has been deprecated in v3.0.0. This feature will be removed in v6.0.0. See https://github.com/optuna/optuna/releases/tag/v3.0.0. Use :func:`~optuna.trial.Trial.suggest_float` instead.\n",
      "  'learning_rate': trial.suggest_loguniform('learning_rate',0.01,0.1),\n",
      "\u001b[32m[I 2023-04-26 15:58:05,586]\u001b[0m Trial 46 finished with value: 27.657582346852962 and parameters: {'n_estimators': 920, 'max_depth': 9, 'learning_rate': 0.03760527166285747}. Best is trial 25 with value: 27.311949744526043.\u001b[0m\n",
      "/tmp/ipykernel_1373733/4075368247.py:11: FutureWarning: suggest_loguniform has been deprecated in v3.0.0. This feature will be removed in v6.0.0. See https://github.com/optuna/optuna/releases/tag/v3.0.0. Use :func:`~optuna.trial.Trial.suggest_float` instead.\n",
      "  'learning_rate': trial.suggest_loguniform('learning_rate',0.01,0.1),\n",
      "\u001b[32m[I 2023-04-26 15:58:06,814]\u001b[0m Trial 47 finished with value: 28.067847516017746 and parameters: {'n_estimators': 458, 'max_depth': 8, 'learning_rate': 0.029927589173585994}. Best is trial 25 with value: 27.311949744526043.\u001b[0m\n",
      "/tmp/ipykernel_1373733/4075368247.py:11: FutureWarning: suggest_loguniform has been deprecated in v3.0.0. This feature will be removed in v6.0.0. See https://github.com/optuna/optuna/releases/tag/v3.0.0. Use :func:`~optuna.trial.Trial.suggest_float` instead.\n",
      "  'learning_rate': trial.suggest_loguniform('learning_rate',0.01,0.1),\n",
      "\u001b[32m[I 2023-04-26 15:58:07,381]\u001b[0m Trial 48 finished with value: 29.83741045253077 and parameters: {'n_estimators': 686, 'max_depth': 3, 'learning_rate': 0.048636744340890624}. Best is trial 25 with value: 27.311949744526043.\u001b[0m\n",
      "/tmp/ipykernel_1373733/4075368247.py:11: FutureWarning: suggest_loguniform has been deprecated in v3.0.0. This feature will be removed in v6.0.0. See https://github.com/optuna/optuna/releases/tag/v3.0.0. Use :func:`~optuna.trial.Trial.suggest_float` instead.\n",
      "  'learning_rate': trial.suggest_loguniform('learning_rate',0.01,0.1),\n",
      "\u001b[32m[I 2023-04-26 15:58:09,135]\u001b[0m Trial 49 finished with value: 27.619967263440316 and parameters: {'n_estimators': 743, 'max_depth': 7, 'learning_rate': 0.05870712364868769}. Best is trial 25 with value: 27.311949744526043.\u001b[0m\n"
     ]
    },
    {
     "name": "stdout",
     "output_type": "stream",
     "text": [
      "{'n_estimators': 790, 'max_depth': 9, 'learning_rate': 0.034392642354376286}\n"
     ]
    }
   ],
   "source": [
    "import optuna\n",
    "from lightgbm import LGBMRegressor\n",
    "\n",
    "# Objective 함수 정의\n",
    "def objective(trial):\n",
    "    \n",
    "    # 하이퍼파라미터 탐색할 공간 정의\n",
    "    params = {\n",
    "        'n_estimators': trial.suggest_int('n_estimators',100,1000),\n",
    "        'max_depth': trial.suggest_int('max_depth',3,9),\n",
    "        'learning_rate': trial.suggest_loguniform('learning_rate',0.01,0.1),\n",
    "    }\n",
    "    \n",
    "    # LGBMRegressor 모델 객체 생성\n",
    "    model = LGBMRegressor(**params, random_state=42)\n",
    "    \n",
    "    # 교차검증 수행하여 모델 성능 측정\n",
    "    scores = -1 * cross_val_score(model, train_X_new, train_prob['loogits'],\n",
    "                                  cv=5, scoring='neg_mean_squared_error')\n",
    "    \n",
    "    # 교차검증 평균 점수 리턴\n",
    "    return np.mean(scores)\n",
    "\n",
    "\n",
    "# Optuna study 생성\n",
    "study = optuna.create_study(direction='minimize')\n",
    "\n",
    "# study 실행 (n_trials는 시도 횟수)\n",
    "study.optimize(objective, n_trials=50)\n",
    "\n",
    "# 최적화된 하이퍼파라미터 값 출력\n",
    "print(study.best_params)"
   ]
  },
  {
   "cell_type": "code",
   "execution_count": 21,
   "metadata": {},
   "outputs": [
    {
     "name": "stdout",
     "output_type": "stream",
     "text": [
      "Best hyperparameters: {'n_estimators': 790, 'max_depth': 9, 'learning_rate': 0.034392642354376286}\n",
      "Best RMSE: 27.3119\n"
     ]
    }
   ],
   "source": [
    "# Print best hyperparameters and auc\n",
    "\n",
    "print(f'Best hyperparameters: {study.best_params}')\n",
    "print(f'Best RMSE: {study.best_value:.4f}')"
   ]
  },
  {
   "cell_type": "code",
   "execution_count": 22,
   "metadata": {},
   "outputs": [],
   "source": [
    "model = LGBMRegressor(n_estimators=790,max_depth= 9,learning_rate= 0.034392642354376286)"
   ]
  },
  {
   "cell_type": "code",
   "execution_count": 23,
   "metadata": {},
   "outputs": [
    {
     "data": {
      "text/html": [
       "<style>#sk-container-id-2 {color: black;background-color: white;}#sk-container-id-2 pre{padding: 0;}#sk-container-id-2 div.sk-toggleable {background-color: white;}#sk-container-id-2 label.sk-toggleable__label {cursor: pointer;display: block;width: 100%;margin-bottom: 0;padding: 0.3em;box-sizing: border-box;text-align: center;}#sk-container-id-2 label.sk-toggleable__label-arrow:before {content: \"▸\";float: left;margin-right: 0.25em;color: #696969;}#sk-container-id-2 label.sk-toggleable__label-arrow:hover:before {color: black;}#sk-container-id-2 div.sk-estimator:hover label.sk-toggleable__label-arrow:before {color: black;}#sk-container-id-2 div.sk-toggleable__content {max-height: 0;max-width: 0;overflow: hidden;text-align: left;background-color: #f0f8ff;}#sk-container-id-2 div.sk-toggleable__content pre {margin: 0.2em;color: black;border-radius: 0.25em;background-color: #f0f8ff;}#sk-container-id-2 input.sk-toggleable__control:checked~div.sk-toggleable__content {max-height: 200px;max-width: 100%;overflow: auto;}#sk-container-id-2 input.sk-toggleable__control:checked~label.sk-toggleable__label-arrow:before {content: \"▾\";}#sk-container-id-2 div.sk-estimator input.sk-toggleable__control:checked~label.sk-toggleable__label {background-color: #d4ebff;}#sk-container-id-2 div.sk-label input.sk-toggleable__control:checked~label.sk-toggleable__label {background-color: #d4ebff;}#sk-container-id-2 input.sk-hidden--visually {border: 0;clip: rect(1px 1px 1px 1px);clip: rect(1px, 1px, 1px, 1px);height: 1px;margin: -1px;overflow: hidden;padding: 0;position: absolute;width: 1px;}#sk-container-id-2 div.sk-estimator {font-family: monospace;background-color: #f0f8ff;border: 1px dotted black;border-radius: 0.25em;box-sizing: border-box;margin-bottom: 0.5em;}#sk-container-id-2 div.sk-estimator:hover {background-color: #d4ebff;}#sk-container-id-2 div.sk-parallel-item::after {content: \"\";width: 100%;border-bottom: 1px solid gray;flex-grow: 1;}#sk-container-id-2 div.sk-label:hover label.sk-toggleable__label {background-color: #d4ebff;}#sk-container-id-2 div.sk-serial::before {content: \"\";position: absolute;border-left: 1px solid gray;box-sizing: border-box;top: 0;bottom: 0;left: 50%;z-index: 0;}#sk-container-id-2 div.sk-serial {display: flex;flex-direction: column;align-items: center;background-color: white;padding-right: 0.2em;padding-left: 0.2em;position: relative;}#sk-container-id-2 div.sk-item {position: relative;z-index: 1;}#sk-container-id-2 div.sk-parallel {display: flex;align-items: stretch;justify-content: center;background-color: white;position: relative;}#sk-container-id-2 div.sk-item::before, #sk-container-id-2 div.sk-parallel-item::before {content: \"\";position: absolute;border-left: 1px solid gray;box-sizing: border-box;top: 0;bottom: 0;left: 50%;z-index: -1;}#sk-container-id-2 div.sk-parallel-item {display: flex;flex-direction: column;z-index: 1;position: relative;background-color: white;}#sk-container-id-2 div.sk-parallel-item:first-child::after {align-self: flex-end;width: 50%;}#sk-container-id-2 div.sk-parallel-item:last-child::after {align-self: flex-start;width: 50%;}#sk-container-id-2 div.sk-parallel-item:only-child::after {width: 0;}#sk-container-id-2 div.sk-dashed-wrapped {border: 1px dashed gray;margin: 0 0.4em 0.5em 0.4em;box-sizing: border-box;padding-bottom: 0.4em;background-color: white;}#sk-container-id-2 div.sk-label label {font-family: monospace;font-weight: bold;display: inline-block;line-height: 1.2em;}#sk-container-id-2 div.sk-label-container {text-align: center;}#sk-container-id-2 div.sk-container {/* jupyter's `normalize.less` sets `[hidden] { display: none; }` but bootstrap.min.css set `[hidden] { display: none !important; }` so we also need the `!important` here to be able to override the default hidden behavior on the sphinx rendered scikit-learn.org. See: https://github.com/scikit-learn/scikit-learn/issues/21755 */display: inline-block !important;position: relative;}#sk-container-id-2 div.sk-text-repr-fallback {display: none;}</style><div id=\"sk-container-id-2\" class=\"sk-top-container\"><div class=\"sk-text-repr-fallback\"><pre>LGBMRegressor(learning_rate=0.034392642354376286, max_depth=9, n_estimators=790)</pre><b>In a Jupyter environment, please rerun this cell to show the HTML representation or trust the notebook. <br />On GitHub, the HTML representation is unable to render, please try loading this page with nbviewer.org.</b></div><div class=\"sk-container\" hidden><div class=\"sk-item\"><div class=\"sk-estimator sk-toggleable\"><input class=\"sk-toggleable__control sk-hidden--visually\" id=\"sk-estimator-id-2\" type=\"checkbox\" checked><label for=\"sk-estimator-id-2\" class=\"sk-toggleable__label sk-toggleable__label-arrow\">LGBMRegressor</label><div class=\"sk-toggleable__content\"><pre>LGBMRegressor(learning_rate=0.034392642354376286, max_depth=9, n_estimators=790)</pre></div></div></div></div></div>"
      ],
      "text/plain": [
       "LGBMRegressor(learning_rate=0.034392642354376286, max_depth=9, n_estimators=790)"
      ]
     },
     "execution_count": 23,
     "metadata": {},
     "output_type": "execute_result"
    }
   ],
   "source": [
    "model.fit(train_X_new,train_prob['loogits'])"
   ]
  },
  {
   "cell_type": "code",
   "execution_count": 24,
   "metadata": {},
   "outputs": [],
   "source": [
    "test_data=pd.DataFrame()\n",
    "test_data['loogits']=model.predict(new_test_data_X)"
   ]
  },
  {
   "cell_type": "code",
   "execution_count": 25,
   "metadata": {},
   "outputs": [],
   "source": [
    "test_data['new_prob']=1/(1+np.exp(-test_data['loogits']))"
   ]
  },
  {
   "cell_type": "code",
   "execution_count": 26,
   "metadata": {},
   "outputs": [],
   "source": [
    "from sklearn.metrics import accuracy_score, precision_score, recall_score, confusion_matrix, f1_score\n",
    "\n",
    "def get_clf_prob(y_test, probability):\n",
    "  pred=np.where(probability > 0.5,1,0)\n",
    "  confusion=confusion_matrix(y_test, pred)\n",
    "  accuracy=accuracy_score(y_test,pred)\n",
    "  precision=precision_score(y_test,pred) \n",
    "  recall=recall_score(y_test,pred) \n",
    "  # F1 스코어 추가 \n",
    "  f1=f1_score(y_test,pred,average='macro')\n",
    "  Roc_score=roc_auc_score(y_test,probability)\n",
    "  print('임계값: ', 0.5) \n",
    "  print('오차행렬')\n",
    "  print(confusion) \n",
    "  # f1 score print 추가 \n",
    "  print('정확도: {0:.4f}, 정밀도: {1:.4f}, 재현율: {2:.4f}, F1:{3:.4f}, AUC:{4: .4f}'.format(accuracy,precision,recall,f1,Roc_score))"
   ]
  },
  {
   "cell_type": "code",
   "execution_count": 27,
   "metadata": {},
   "outputs": [
    {
     "name": "stdout",
     "output_type": "stream",
     "text": [
      "임계값:  0.5\n",
      "오차행렬\n",
      "[[507  23]\n",
      " [ 77 313]]\n",
      "정확도: 0.8913, 정밀도: 0.9315, 재현율: 0.8026, F1:0.8862, AUC: 0.9522\n"
     ]
    }
   ],
   "source": [
    "get_clf_prob(new_test_data_y,test_data['new_prob'])"
   ]
  },
  {
   "cell_type": "code",
   "execution_count": null,
   "metadata": {},
   "outputs": [],
   "source": []
  }
 ],
 "metadata": {
  "kernelspec": {
   "display_name": "Python 3",
   "language": "python",
   "name": "python3"
  },
  "language_info": {
   "codemirror_mode": {
    "name": "ipython",
    "version": 3
   },
   "file_extension": ".py",
   "mimetype": "text/x-python",
   "name": "python",
   "nbconvert_exporter": "python",
   "pygments_lexer": "ipython3",
   "version": "3.9.0"
  },
  "orig_nbformat": 4
 },
 "nbformat": 4,
 "nbformat_minor": 2
}
