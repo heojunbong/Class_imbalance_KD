{
 "cells": [
  {
   "cell_type": "code",
   "execution_count": 1,
   "metadata": {},
   "outputs": [],
   "source": [
    "import pandas as pd\n",
    "from sklearn.model_selection import train_test_split\n",
    "\n",
    "# 데이터셋 불러오기 (예: 'data.csv' 파일)\n",
    "data = pd.read_csv('spambase.data')\n",
    "\n",
    "# 데이터셋을 훈련 셋과 테스트 셋으로 8:2 비율로 나누기\n",
    "train_data, test_data = train_test_split(data, test_size=0.2, random_state=42)\n",
    "\n",
    "# 훈련 셋과 테스트 셋을 각각 'train_data.csv'와 'test_data.csv'로 저장하기\n",
    "train_data.to_csv('spambase_train_data.csv', index=False)\n",
    "test_data.to_csv('spambase_test_data.csv', index=False)\n",
    "\n"
   ]
  },
  {
   "cell_type": "code",
   "execution_count": 3,
   "metadata": {},
   "outputs": [
    {
     "name": "stdout",
     "output_type": "stream",
     "text": [
      "Sorted feature names (ascending order of importance):\n",
      "['0.7', '278', '61', '0', '0.34', '0.30', '0.5', '0.44', '0.40', '0.778', '0.24', '1.93', '0.39', '1.29', '0.43', '0.2', '0.36', '0.17', '0.20', '0.28', '0.21', '0.32.1', '0.41', '0.29', '3.756', '0.35', '0.25', '0.15', '0.64.1', '0.38', '0.45', '0.6', '0.33', '0.42', '0.14', '0.9', '0.10', '0.3', '0.13', '0.8', '0.19', '0.23', '0.18', '0.22', '0.16', '0.64.2', '0.1', '0.31', '0.27', '0.11', '0.4', '0.12', '0.26', '0.64', '0.37', '0.32', '0.96']\n"
     ]
    }
   ],
   "source": [
    "import numpy as np\n",
    "import pandas as pd\n",
    "from sklearn.ensemble import RandomForestRegressor\n",
    "from sklearn.datasets import make_regression\n",
    "\n",
    "# 데이터 로드 (예시 데이터셋 사용)\n",
    "X, y = make_regression(n_samples=100, n_features=57, random_state=42)\n",
    "\n",
    "# 주어진 feature 이름 리스트\n",
    "train_stage_features = ['0', '0.64', '0.64.1', '0.1', '0.32', '0.2', '0.3', '0.4', '0.5', '0.6',\n",
    "                        '0.7', '0.64.2', '0.8', '0.9', '0.10', '0.32.1', '0.11', '1.29', '1.93',\n",
    "                        '0.12', '0.96', '0.13', '0.14', '0.15', '0.16', '0.17', '0.18', '0.19',\n",
    "                        '0.20', '0.21', '0.22', '0.23', '0.24', '0.25', '0.26', '0.27', '0.28',\n",
    "                        '0.29', '0.30', '0.31', '0.33', '0.34', '0.35', '0.36', '0.37', '0.38',\n",
    "                        '0.39', '0.40', '0.41', '0.42', '0.43', '0.778', '0.44', '0.45',\n",
    "                        '3.756', '61', '278']\n",
    "\n",
    "# DataFrame으로 변환\n",
    "X_df = pd.DataFrame(X, columns=train_stage_features)\n",
    "\n",
    "# RandomForest 모델 생성 및 학습\n",
    "model = RandomForestRegressor(random_state=42)\n",
    "model.fit(X_df, y)\n",
    "\n",
    "# 변수 중요도(feature importance) 추출 및 순서대로 정렬\n",
    "importances = model.feature_importances_\n",
    "indices = np.argsort(importances)\n",
    "\n",
    "# 오름차순으로 정렬된 feature 인덱스를 리스트로 변환\n",
    "sorted_feature_indices = list(indices)\n",
    "\n",
    "# 정렬된 인덱스를 사용하여 원래 feature 이름들을 오름차순으로 정렬\n",
    "sorted_feature_names = [train_stage_features[i] for i in sorted_feature_indices]\n",
    "\n",
    "# 결과 출력\n",
    "print(\"Sorted feature names (ascending order of importance):\")\n",
    "print(sorted_feature_names)\n"
   ]
  }
 ],
 "metadata": {
  "kernelspec": {
   "display_name": "son",
   "language": "python",
   "name": "python3"
  },
  "language_info": {
   "codemirror_mode": {
    "name": "ipython",
    "version": 3
   },
   "file_extension": ".py",
   "mimetype": "text/x-python",
   "name": "python",
   "nbconvert_exporter": "python",
   "pygments_lexer": "ipython3",
   "version": "3.9.0"
  },
  "orig_nbformat": 4
 },
 "nbformat": 4,
 "nbformat_minor": 2
}
